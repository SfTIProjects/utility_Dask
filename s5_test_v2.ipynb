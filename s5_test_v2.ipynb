{
 "cells": [
  {
   "cell_type": "code",
   "execution_count": 1,
   "id": "33c8b54b-973b-402a-b54e-f656b8eba1c1",
   "metadata": {},
   "outputs": [],
   "source": [
    "import time\n",
    "from datetime import timedelta\n",
    "\n",
    "import html\n",
    "import re\n",
    "\n",
    "import os\n",
    "import ntpath\n",
    "\n",
    "import subprocess as sp\n",
    "\n",
    "import numpy as np\n",
    "import pandas as pd\n",
    "import xml.etree.ElementTree as et\n"
   ]
  },
  {
   "cell_type": "markdown",
   "id": "ea2b6b62-e8e9-40ad-96c8-d46086c18f35",
   "metadata": {},
   "source": [
    "## Enter full path to CSV file"
   ]
  },
  {
   "cell_type": "code",
   "execution_count": 2,
   "id": "ef936572-c4f2-4a3f-b471-0b8f774b1e42",
   "metadata": {},
   "outputs": [],
   "source": [
    "## Enter full path to CSV file\n",
    "\n",
    "#common_path = '../../../../stackexchange_v2/workspace/input'\n",
    "common_path = '../SO_data_dump'\n",
    "\n",
    "## Enter Relative Path to csv file\n",
    "relative_path = 'javarawcodes_csv/JavaRawCodes0386.csv'\n",
    "\n",
    "filepath_javaanswers = '{}/{}'.format(common_path, relative_path)"
   ]
  },
  {
   "cell_type": "markdown",
   "id": "5f7c663e-ba81-4bb4-8f0a-3f7e2421c3fd",
   "metadata": {
    "tags": []
   },
   "source": [
    "## Read Java Raw Codes csv files "
   ]
  },
  {
   "cell_type": "code",
   "execution_count": 3,
   "id": "f3e75e32-6993-447b-aab5-3b29be803c5f",
   "metadata": {},
   "outputs": [],
   "source": [
    "ddf_javarawcodes = pd.read_csv(filepath_javaanswers, engine='python', error_bad_lines=False, warn_bad_lines=False, dtype=object)"
   ]
  },
  {
   "cell_type": "code",
   "execution_count": 4,
   "id": "dcc87bb9-30d2-4aba-bc42-84707f8d0722",
   "metadata": {},
   "outputs": [],
   "source": [
    "# Keep a copy\n",
    "javarawcodes_temp_df = ddf_javarawcodes.copy()"
   ]
  },
  {
   "cell_type": "markdown",
   "id": "26da9136-e389-41b6-956a-b14ef13954d2",
   "metadata": {},
   "source": [
    "## Numbere of Posts Containing Code Tags"
   ]
  },
  {
   "cell_type": "code",
   "execution_count": 5,
   "id": "ffebec63-7bec-4154-95fd-9f2ca63b29f5",
   "metadata": {},
   "outputs": [],
   "source": [
    "# Check the length of the dataframe WITHOUT dropped records\n",
    "#javarawcodes_len = len(ddf_javarawcodes.index)\n",
    "#javarawcodes_len"
   ]
  },
  {
   "cell_type": "markdown",
   "id": "1bcdde4e-d4c4-4387-bc6a-b945e6ff6209",
   "metadata": {},
   "source": [
    "## Drop all row with any column having a NaN value"
   ]
  },
  {
   "cell_type": "code",
   "execution_count": 6,
   "id": "15b79af3-b2bd-4d93-b1a4-e53c0ffe52b6",
   "metadata": {},
   "outputs": [],
   "source": [
    "# Drop all row with any column having a NaN value\n",
    "#ddf_javarawcodes = ddf_javarawcodes.dropna()\n",
    "ddf_javarawcodes = ddf_javarawcodes[~ddf_javarawcodes.Code.isna()] # Drop rows that have NaN in the Code column"
   ]
  },
  {
   "cell_type": "code",
   "execution_count": 7,
   "id": "4b9f7f98-a39b-4b77-9feb-b1ce513dc6a9",
   "metadata": {},
   "outputs": [],
   "source": [
    "# Get all the dropped rows with NA\n",
    "javarawcodes_na_df = javarawcodes_temp_df[~javarawcodes_temp_df.Idx.isin(ddf_javarawcodes.Idx)]"
   ]
  },
  {
   "cell_type": "code",
   "execution_count": 8,
   "id": "79884f1e-f749-4808-95e8-1b85a51d685b",
   "metadata": {},
   "outputs": [
    {
     "data": {
      "text/plain": [
       "0"
      ]
     },
     "execution_count": 8,
     "metadata": {},
     "output_type": "execute_result"
    }
   ],
   "source": [
    "# Number of dropped records\n",
    "javarawcodes_na_len = javarawcodes_na_df.index.shape[0]\n",
    "javarawcodes_na_len"
   ]
  },
  {
   "cell_type": "code",
   "execution_count": 9,
   "id": "bef2fea2-c9e4-4a71-a27b-81e7b069d402",
   "metadata": {},
   "outputs": [
    {
     "data": {
      "text/plain": [
       "624"
      ]
     },
     "execution_count": 9,
     "metadata": {},
     "output_type": "execute_result"
    }
   ],
   "source": [
    "# Number of records left\n",
    "javarawcodes_notna_len = ddf_javarawcodes.index.shape[0]\n",
    "javarawcodes_notna_len"
   ]
  },
  {
   "cell_type": "raw",
   "id": "e61364eb-8fa2-4e7f-8f91-d502de533053",
   "metadata": {
    "tags": []
   },
   "source": [
    "# Verify that the lengths are equal to the initial length\n",
    "javarawcodes_notna_len + javarawcodes_na_len"
   ]
  },
  {
   "cell_type": "markdown",
   "id": "e0641303-adff-452f-9ad9-6528b01860e0",
   "metadata": {},
   "source": [
    "## Remove Codes that have any form of html or xml tags"
   ]
  },
  {
   "cell_type": "markdown",
   "id": "3e9a5610-3e68-48ae-aec1-ceb5a76f0b78",
   "metadata": {},
   "source": [
    "#### Convert all the unicode strings into actual symbol"
   ]
  },
  {
   "cell_type": "code",
   "execution_count": 10,
   "id": "31deeb6e-f4cb-4bc5-a48d-30dd2c77c89a",
   "metadata": {
    "tags": []
   },
   "outputs": [],
   "source": [
    "#https://stackoverflow.com/questions/60088353/convert-html-characters-to-strings-in-pandas-dataframe\n",
    "ddf_javarawcodes = ddf_javarawcodes.applymap(html.unescape)"
   ]
  },
  {
   "cell_type": "code",
   "execution_count": 11,
   "id": "985ffb9d-5c05-4637-9428-94b47065b00a",
   "metadata": {},
   "outputs": [
    {
     "data": {
      "text/plain": [
       "624"
      ]
     },
     "execution_count": 11,
     "metadata": {},
     "output_type": "execute_result"
    }
   ],
   "source": [
    "ddf_javarawcodes.index.shape[0]"
   ]
  },
  {
   "cell_type": "code",
   "execution_count": 12,
   "id": "6ac1f99f-c7f3-44bc-bca8-0e2bfa32a374",
   "metadata": {
    "tags": []
   },
   "outputs": [],
   "source": [
    "# keep a copy\n",
    "javarawcodes_temp_df = ddf_javarawcodes.copy()"
   ]
  },
  {
   "cell_type": "code",
   "execution_count": 13,
   "id": "b26b475e-94b1-4a0b-a66b-8b6e319a33a3",
   "metadata": {},
   "outputs": [],
   "source": [
    "#@Anyi some rows contain null\n",
    "ddf_javarawcodes = ddf_javarawcodes.dropna(how='any',axis=0) "
   ]
  },
  {
   "cell_type": "code",
   "execution_count": 14,
   "id": "03959c62-b3bc-4546-bcf5-f3b8dcd96ef3",
   "metadata": {},
   "outputs": [
    {
     "data": {
      "text/plain": [
       "624"
      ]
     },
     "execution_count": 14,
     "metadata": {},
     "output_type": "execute_result"
    }
   ],
   "source": [
    "ddf_javarawcodes.index.shape[0]"
   ]
  },
  {
   "cell_type": "code",
   "execution_count": 15,
   "id": "8a1accf6-7784-41ba-ac2d-74c0c88a8021",
   "metadata": {},
   "outputs": [],
   "source": [
    "#@Anyi some rows contain null string\n",
    "ddf_javarawcodes = ddf_javarawcodes[ddf_javarawcodes[\"Code\"].str.contains(\"null\", regex=True)==False]"
   ]
  },
  {
   "cell_type": "code",
   "execution_count": 16,
   "id": "8c63c190-66a3-471f-a83a-11a9ec781139",
   "metadata": {},
   "outputs": [],
   "source": [
    "ddf_javarawcodes.reset_index(inplace=True)"
   ]
  },
  {
   "cell_type": "code",
   "execution_count": 17,
   "id": "16c6c8ce-b503-4f21-a416-02e461972f9e",
   "metadata": {},
   "outputs": [
    {
     "data": {
      "text/plain": [
       "600"
      ]
     },
     "execution_count": 17,
     "metadata": {},
     "output_type": "execute_result"
    }
   ],
   "source": [
    "ddf_javarawcodes.index.shape[0]"
   ]
  },
  {
   "cell_type": "code",
   "execution_count": 18,
   "id": "e041a617-761a-4e04-b44e-2a6cebc90e0e",
   "metadata": {},
   "outputs": [],
   "source": [
    "#@Anyi some rows contain null string\n",
    "#ddf_javarawcodes = ddf_javarawcodes[ddf_javarawcodes[\"Code\"].str.contains(\"((.|\\n|\\r\\n)*)?null\", regex=True)==False]"
   ]
  },
  {
   "cell_type": "code",
   "execution_count": 19,
   "id": "e013894a-31b4-473e-acb2-3a4d23605e2b",
   "metadata": {},
   "outputs": [
    {
     "data": {
      "text/plain": [
       "600"
      ]
     },
     "execution_count": 19,
     "metadata": {},
     "output_type": "execute_result"
    }
   ],
   "source": [
    "ddf_javarawcodes.index.shape[0]"
   ]
  },
  {
   "cell_type": "raw",
   "id": "15b869eb-723a-4990-8492-92f56f46b91d",
   "metadata": {},
   "source": [
    "for row in ddf_javarawcodes[\"Idx\"].to_list():\n",
    "    print(row)"
   ]
  },
  {
   "cell_type": "code",
   "execution_count": 20,
   "id": "c0c766e8-5429-4cd9-8c29-099b8bc8989e",
   "metadata": {},
   "outputs": [
    {
     "name": "stdout",
     "output_type": "stream",
     "text": [
      "12133763_12133655_96\n",
      "12133763_12133655_96\n",
      "12133763_12133655_96\n",
      "12133763_12133655_96\n"
     ]
    }
   ],
   "source": [
    "for row in ddf_javarawcodes[\"Idx\"].to_list():\n",
    "    if row == \"12133763_12133655_96\":\n",
    "        print(row)"
   ]
  },
  {
   "cell_type": "raw",
   "id": "2c469c0d-8f6c-4d5e-b5fb-d824c50f05aa",
   "metadata": {},
   "source": [
    "for row in ddf_javarawcodes[\"Code\"].to_list():\n",
    "    print(row)"
   ]
  },
  {
   "cell_type": "code",
   "execution_count": 21,
   "id": "8aa2703a-67e6-4e73-8068-d765b469f477",
   "metadata": {},
   "outputs": [
    {
     "name": "stdout",
     "output_type": "stream",
     "text": [
      "12133763_12133655_96 WhileStatement:\n",
      "    while ( Expression ) Statement\n",
      "\n",
      "12133763_12133655_96 Expression:\n",
      "    AssignmentExpression\n",
      "\n",
      "12133763_12133655_96 AssignmentExpression:\n",
      "    ConditionalExpression\n",
      "    Assignment\n",
      "\n",
      "Assignment:\n",
      "    LeftHandSide AssignmentOperator AssignmentExpression\n",
      "\n",
      "LeftHandSide:\n",
      "    ExpressionName\n",
      "    FieldAccess\n",
      "    ArrayAccess\n",
      "\n",
      "12133763_12133655_96 LeftHandSide\n"
     ]
    }
   ],
   "source": [
    "#itertool.zip_longest(list1, list2)\n",
    "for row_col1, row_col2 in zip(ddf_javarawcodes[\"Idx\"].to_list(), ddf_javarawcodes[\"Code\"].to_list()):\n",
    "    if row_col1 == \"12133763_12133655_96\":\n",
    "        print(row_col1, row_col2)"
   ]
  },
  {
   "cell_type": "code",
   "execution_count": 22,
   "id": "bddee7ba-a54d-442c-b725-ec60acc017d1",
   "metadata": {},
   "outputs": [
    {
     "name": "stdout",
     "output_type": "stream",
     "text": [
      "600\n"
     ]
    }
   ],
   "source": [
    "count = 0\n",
    "for row in ddf_javarawcodes[\"Code\"].to_list():\n",
    "    count=count+1\n",
    "print(count)"
   ]
  },
  {
   "cell_type": "code",
   "execution_count": 23,
   "id": "4e453acf-90cb-488f-9f4c-716cb66badfa",
   "metadata": {},
   "outputs": [],
   "source": [
    "#for i in range(len(ddf_javarawcodes)):\n",
    "     #print(ddf_javarawcodes[\"Idx\"][i])\n",
    "    #if ddf_javarawcodes.loc[i, \"Idx\"] == \"12133760_12133655_95\":\n",
    "        #print(ddf_javarawcodes.loc[i, \"Idx\"], ddf_javarawcodes.loc[i, \"Code\"])\n",
    "       "
   ]
  },
  {
   "cell_type": "raw",
   "id": "dd863559-0d93-4d11-a427-471dbd98386e",
   "metadata": {},
   "source": [
    "pattern = re.compile(\"<.*>(.|\\n|\\r\\n)*?<\\/.*>\")\n",
    "\n",
    "for i in range(len(ddf_javarawcodes)):\n",
    "    \n",
    "    print(ddf_javarawcodes.loc[i, \"Idx\"], pattern.match(ddf_javarawcodes.loc[i, \"Code\"]))"
   ]
  },
  {
   "cell_type": "code",
   "execution_count": 24,
   "id": "a86ea79c-f064-4230-9d88-39dba9bb68db",
   "metadata": {},
   "outputs": [
    {
     "name": "stderr",
     "output_type": "stream",
     "text": [
      "/opt/nesi/CS400_centos7_bdw/Python/3.9.5-gimkl-2020a/lib/python3.9/site-packages/pandas/core/strings/accessor.py:101: UserWarning: This pattern has match groups. To actually get the groups, use str.extract.\n",
      "  return func(self, *args, **kwargs)\n"
     ]
    },
    {
     "data": {
      "text/plain": [
       "0      False\n",
       "1      False\n",
       "2      False\n",
       "3      False\n",
       "4      False\n",
       "       ...  \n",
       "595    False\n",
       "596     True\n",
       "597     True\n",
       "598    False\n",
       "599    False\n",
       "Name: Code, Length: 600, dtype: bool"
      ]
     },
     "execution_count": 24,
     "metadata": {},
     "output_type": "execute_result"
    }
   ],
   "source": [
    "ddf_javarawcodes[\"Code\"].str.contains('<.*>(.|\\n|\\r\\n)<\\/.*>*?')"
   ]
  },
  {
   "cell_type": "markdown",
   "id": "fbfcad60-d37a-4ee1-9ae1-cd205e1755e6",
   "metadata": {},
   "source": [
    "#### Remove code with any form of HTML/XML"
   ]
  },
  {
   "cell_type": "code",
   "execution_count": 25,
   "id": "7bfc5bf8-d7c0-4644-9f83-06cea51766ca",
   "metadata": {
    "tags": []
   },
   "outputs": [],
   "source": [
    "#Replace all the single line html tags <.../> with empty string\n",
    "#javarawcodes_html_df1 = ddf_javarawcodes[ddf_javarawcodes.Code.str.contains('^(//.*|\\'|\\n|\\r|\\s|\\r\\n)*<(.|\\n|\\r\\n)*?>(.|\\n|\\r\\n)*?<\\/(.|\\n|\\r\\n)*?(>|\\'|\\n|\\r\\n)$', regex=True)]\n",
    "#ddf_javarawcodes_htmlxml = ddf_javarawcodes[ddf_javarawcodes.Code.str.contains('<.*>(.|\\n|\\r\\n)*?<\\/.*>', regex=True, na=False)]\n",
    "ddf_javarawcodes_htmlxml = ddf_javarawcodes[ddf_javarawcodes.Code.str.contains('<.*>(.|\\n|\\r\\n)<\\/.*>*?', regex=True, na=False)]\n",
    "\n",
    "#ddf_javarawcodes_htmlxml =ddf_javarawcodes[ddf_javarawcodes.map_partitions(lambda df : df.Code.str.contains('<.*>(.|\\n|\\r\\n)*?<\\/.*>', regex=True))]"
   ]
  },
  {
   "cell_type": "code",
   "execution_count": 26,
   "id": "5fe461c0-bc21-4412-830e-34c6240eeae0",
   "metadata": {},
   "outputs": [
    {
     "data": {
      "text/html": [
       "<div>\n",
       "<style scoped>\n",
       "    .dataframe tbody tr th:only-of-type {\n",
       "        vertical-align: middle;\n",
       "    }\n",
       "\n",
       "    .dataframe tbody tr th {\n",
       "        vertical-align: top;\n",
       "    }\n",
       "\n",
       "    .dataframe thead th {\n",
       "        text-align: right;\n",
       "    }\n",
       "</style>\n",
       "<table border=\"1\" class=\"dataframe\">\n",
       "  <thead>\n",
       "    <tr style=\"text-align: right;\">\n",
       "      <th></th>\n",
       "      <th>index</th>\n",
       "      <th>Idx</th>\n",
       "      <th>match</th>\n",
       "      <th>Code</th>\n",
       "    </tr>\n",
       "  </thead>\n",
       "  <tbody>\n",
       "    <tr>\n",
       "      <th>169</th>\n",
       "      <td>179</td>\n",
       "      <td>12134913_12130723_157</td>\n",
       "      <td>16</td>\n",
       "      <td>CREATE TABLE some_table (id integer primary ke...</td>\n",
       "    </tr>\n",
       "    <tr>\n",
       "      <th>476</th>\n",
       "      <td>502</td>\n",
       "      <td>12138235_12137892_320</td>\n",
       "      <td>0</td>\n",
       "      <td>&lt;activity\\n        android:name=\".Activityone\"...</td>\n",
       "    </tr>\n",
       "    <tr>\n",
       "      <th>477</th>\n",
       "      <td>503</td>\n",
       "      <td>12138287_12090406_321</td>\n",
       "      <td>0</td>\n",
       "      <td>&lt;bean id=\"dataSource\" class=\"someProject.DbCon...</td>\n",
       "    </tr>\n",
       "    <tr>\n",
       "      <th>525</th>\n",
       "      <td>551</td>\n",
       "      <td>12138635_12138537_341</td>\n",
       "      <td>0</td>\n",
       "      <td>&lt;context-param&gt;\\n&lt;param-name&gt;contextConfigLoca...</td>\n",
       "    </tr>\n",
       "    <tr>\n",
       "      <th>550</th>\n",
       "      <td>576</td>\n",
       "      <td>12138989_12138905_350</td>\n",
       "      <td>0</td>\n",
       "      <td>&lt;error-page&gt;\\n    &lt;error-code&gt;404&lt;/error-code&gt;...</td>\n",
       "    </tr>\n",
       "  </tbody>\n",
       "</table>\n",
       "</div>"
      ],
      "text/plain": [
       "     index                    Idx match  \\\n",
       "169    179  12134913_12130723_157    16   \n",
       "476    502  12138235_12137892_320     0   \n",
       "477    503  12138287_12090406_321     0   \n",
       "525    551  12138635_12138537_341     0   \n",
       "550    576  12138989_12138905_350     0   \n",
       "\n",
       "                                                  Code  \n",
       "169  CREATE TABLE some_table (id integer primary ke...  \n",
       "476  <activity\\n        android:name=\".Activityone\"...  \n",
       "477  <bean id=\"dataSource\" class=\"someProject.DbCon...  \n",
       "525  <context-param>\\n<param-name>contextConfigLoca...  \n",
       "550  <error-page>\\n    <error-code>404</error-code>...  "
      ]
     },
     "execution_count": 26,
     "metadata": {},
     "output_type": "execute_result"
    }
   ],
   "source": [
    "ddf_javarawcodes_htmlxml.head()"
   ]
  },
  {
   "cell_type": "code",
   "execution_count": 27,
   "id": "16179535-a583-4ee7-86de-2d13d55948c0",
   "metadata": {},
   "outputs": [
    {
     "ename": "AttributeError",
     "evalue": "'int' object has no attribute 'compute'",
     "output_type": "error",
     "traceback": [
      "\u001b[0;31m---------------------------------------------------------------------------\u001b[0m",
      "\u001b[0;31mAttributeError\u001b[0m                            Traceback (most recent call last)",
      "\u001b[0;32m<ipython-input-27-c0c3b8ceed86>\u001b[0m in \u001b[0;36m<module>\u001b[0;34m\u001b[0m\n\u001b[1;32m      1\u001b[0m \u001b[0;31m# Number of records that dropped\u001b[0m\u001b[0;34m\u001b[0m\u001b[0;34m\u001b[0m\u001b[0;34m\u001b[0m\u001b[0m\n\u001b[1;32m      2\u001b[0m \u001b[0;31m#javarawcodes_htmlxml_len = ddf_javarawcodes_htmlxml.index.shape[0].compute()\u001b[0m\u001b[0;34m\u001b[0m\u001b[0;34m\u001b[0m\u001b[0;34m\u001b[0m\u001b[0m\n\u001b[0;32m----> 3\u001b[0;31m \u001b[0mjavarawcodes_htmlxml_len\u001b[0m \u001b[0;34m=\u001b[0m \u001b[0mddf_javarawcodes_htmlxml\u001b[0m\u001b[0;34m.\u001b[0m\u001b[0mIdx\u001b[0m\u001b[0;34m.\u001b[0m\u001b[0mshape\u001b[0m\u001b[0;34m[\u001b[0m\u001b[0;36m0\u001b[0m\u001b[0;34m]\u001b[0m\u001b[0;34m.\u001b[0m\u001b[0mcompute\u001b[0m\u001b[0;34m(\u001b[0m\u001b[0;34m)\u001b[0m\u001b[0;34m\u001b[0m\u001b[0;34m\u001b[0m\u001b[0m\n\u001b[0m\u001b[1;32m      4\u001b[0m \u001b[0mjavarawcodes_htmlxml_len\u001b[0m\u001b[0;34m\u001b[0m\u001b[0;34m\u001b[0m\u001b[0m\n",
      "\u001b[0;31mAttributeError\u001b[0m: 'int' object has no attribute 'compute'"
     ]
    }
   ],
   "source": [
    "# Number of records that dropped\n",
    "#javarawcodes_htmlxml_len = ddf_javarawcodes_htmlxml.index.shape[0].compute()\n",
    "javarawcodes_htmlxml_len = ddf_javarawcodes_htmlxml.Idx.shape[0].compute()\n",
    "javarawcodes_htmlxml_len"
   ]
  },
  {
   "cell_type": "code",
   "execution_count": null,
   "id": "d0ec3d7f-a053-4792-8c44-f5e75dbabc4c",
   "metadata": {
    "tags": []
   },
   "outputs": [],
   "source": [
    "# Get all the records that DO NOT contains html tags regex\n",
    "ddf_javarawcodes = ddf_javarawcodes[~ddf_javarawcodes.Idx.isin(ddf_javarawcodes_htmlxml.Idx.compute())]"
   ]
  },
  {
   "cell_type": "code",
   "execution_count": null,
   "id": "5250c61a-fdf9-41c5-94c4-a5e75546c7da",
   "metadata": {
    "tags": []
   },
   "outputs": [],
   "source": [
    "# Number of records left\n",
    "javarawcodes_len = ddf_javarawcodes.index.shape[0].compute()\n",
    "javarawcodes_len"
   ]
  },
  {
   "cell_type": "code",
   "execution_count": null,
   "id": "c4818b8e-b72b-4baa-90e1-a04ba398238a",
   "metadata": {
    "tags": []
   },
   "outputs": [],
   "source": [
    "#Verify lengths\n",
    "#javarawcodes_len + javarawcodes_htmlxml_len"
   ]
  },
  {
   "cell_type": "markdown",
   "id": "d3f603c8-9459-4ba4-a45f-8e52b7b323af",
   "metadata": {},
   "source": [
    "## Drop java code with one line of code"
   ]
  },
  {
   "cell_type": "code",
   "execution_count": null,
   "id": "4a4f125e-eb6f-44e8-8de3-b79eeffddd8a",
   "metadata": {},
   "outputs": [],
   "source": [
    "# Keep a copy\n",
    "javarawcodes_temp_df = ddf_javarawcodes.copy()"
   ]
  },
  {
   "cell_type": "code",
   "execution_count": null,
   "id": "c823b232-9875-4727-9d21-a6b8b4dfd620",
   "metadata": {},
   "outputs": [],
   "source": [
    "# Get df contains more than one line of java code\n",
    "ddf_javarawcodes = ddf_javarawcodes[ddf_javarawcodes.Code.str.contains('\\n')]"
   ]
  },
  {
   "cell_type": "code",
   "execution_count": null,
   "id": "2c74976d-fee6-44af-81b2-d7f553e4d514",
   "metadata": {},
   "outputs": [],
   "source": [
    "# Number of rows that contains more than one line of java code\n",
    "javarawcodes_len = ddf_javarawcodes.index.shape[0].compute()\n",
    "javarawcodes_len"
   ]
  },
  {
   "cell_type": "code",
   "execution_count": null,
   "id": "fbf71cdb-345a-44e5-baba-24dbd6bd3879",
   "metadata": {
    "tags": []
   },
   "outputs": [],
   "source": [
    "# Get the dataframe that contains one line of java code\n",
    "javarawcodes_oneline_df = javarawcodes_temp_df[~javarawcodes_temp_df.Idx.isin(ddf_javarawcodes.Idx.compute())]"
   ]
  },
  {
   "cell_type": "code",
   "execution_count": null,
   "id": "9fc5094e-06db-4bf2-9319-aa9b4d18dd33",
   "metadata": {},
   "outputs": [],
   "source": [
    "# Number of rows that contains one line of java code\n",
    "javarawcodes_oneline_len = javarawcodes_oneline_df.index.shape[0].compute()\n",
    "javarawcodes_oneline_len"
   ]
  },
  {
   "cell_type": "code",
   "execution_count": null,
   "id": "c478487e-e3c2-4c3d-b627-9e754ee1c6c0",
   "metadata": {
    "tags": []
   },
   "outputs": [],
   "source": [
    "# Verify that the lengths are equal to the javarawcodes_html_len1\n",
    "javarawcodes_len + javarawcodes_oneline_len"
   ]
  },
  {
   "cell_type": "markdown",
   "id": "acd44b1b-0b3f-4846-aa78-0c67f0b7ffc0",
   "metadata": {},
   "source": [
    "## Get complete java code snippet"
   ]
  },
  {
   "cell_type": "code",
   "execution_count": null,
   "id": "a8f5da84-5e32-4aff-92a6-894d97ed280c",
   "metadata": {
    "tags": []
   },
   "outputs": [],
   "source": [
    "# Get the rows that contain import, package or class\n",
    "# using regex to search for text that contain import, package or class\n",
    "ddf_complete_javacodes = ddf_javarawcodes[(ddf_javarawcodes['Code'].str.contains('^import\\s+\\w+(\\.+\\w+)*', case=False, regex=True))|\n",
    "         (ddf_javarawcodes['Code'].str.contains('^package\\s+\\w+(\\.+\\w+)*', case=False, regex=True))|\n",
    "         (ddf_javarawcodes['Code'].str.contains('(class|interface)(\\s+\\w+)(\\s+\\w+)*(\\s*{)', case=False, regex=True))]"
   ]
  },
  {
   "cell_type": "code",
   "execution_count": null,
   "id": "e2a7487f-3dc0-4ad2-a5f3-4126ced66279",
   "metadata": {},
   "outputs": [],
   "source": [
    "# Check lenght of complete java code snippet\n",
    "complete_javacodes_len = ddf_complete_javacodes.index.shape[0].compute()\n",
    "complete_javacodes_len"
   ]
  },
  {
   "cell_type": "markdown",
   "id": "66288ef3-d066-488b-87f5-e46b8a88fc1b",
   "metadata": {},
   "source": [
    "## Get incomplete java code snippet"
   ]
  },
  {
   "cell_type": "code",
   "execution_count": null,
   "id": "2461f9e7-0af0-4736-8a17-cc42d6d0834a",
   "metadata": {},
   "outputs": [],
   "source": [
    "# Get all rows not contained in ddf_complete_javacodes\n",
    "ddf_incomplete_javacodes = ddf_javarawcodes[~ddf_javarawcodes.Idx.isin(ddf_complete_javacodes.Idx.compute())]"
   ]
  },
  {
   "cell_type": "code",
   "execution_count": null,
   "id": "22f945ac-57f0-4fbc-8d87-598db3bb8ed7",
   "metadata": {},
   "outputs": [],
   "source": [
    "# Check lenght of incomplete java code snippet\n",
    "ddf_incomplete_javacodes.index.shape[0].compute()"
   ]
  },
  {
   "cell_type": "code",
   "execution_count": null,
   "id": "cee92098-7811-4464-a2ee-b54229caa100",
   "metadata": {},
   "outputs": [],
   "source": [
    "# Total lenght of both complete and incomplete equals javarawcodes_len\n",
    "ddf_complete_javacodes.index.shape[0].compute() + ddf_incomplete_javacodes.index.shape[0].compute()"
   ]
  },
  {
   "cell_type": "markdown",
   "id": "e2c70e1c-f9d6-4f72-bf44-b67e4c69066c",
   "metadata": {},
   "source": [
    "## Furthermore drop codes that starts with $, WARNING:, >java, java, >javac, javac or contain some build, src directories"
   ]
  },
  {
   "cell_type": "code",
   "execution_count": null,
   "id": "b40808f0-8446-427e-9eab-c53401a99c40",
   "metadata": {
    "tags": []
   },
   "outputs": [],
   "source": [
    "# Furthermore drop codes that starts with $, WARNING:, >java, java, >javac, javac, <xml and html tags> and directories\n",
    "\n",
    "ddf_non_codes = ddf_incomplete_javacodes[\n",
    "    (ddf_incomplete_javacodes.Code.str.contains('^\\$.*', case=False, regex=True))|\n",
    "    (ddf_incomplete_javacodes.Code.str.contains('^WARNING:(\\s*\\w*)*', case=False, regex=True))|\n",
    "    (ddf_incomplete_javacodes.Code.str.contains('^($|>|java|javac|jar|javacc)(\\s*\\w*\\.*)*', case=False, regex=True))|\n",
    "    (ddf_incomplete_javacodes.Code.str.contains('(\\\\n)*\\s*\\.+\\/+.*\\s*\\.*\\/*(build|src)', case=False, regex=True))\n",
    "]"
   ]
  },
  {
   "cell_type": "code",
   "execution_count": null,
   "id": "ab78ed2a-a540-40de-b804-a602f2485a6e",
   "metadata": {},
   "outputs": [],
   "source": [
    "# Check lenght of the non codes java code snippet \n",
    "non_codes_len = ddf_non_codes.index.shape[0].compute()\n",
    "non_codes_len"
   ]
  },
  {
   "cell_type": "code",
   "execution_count": null,
   "id": "a089af20-4e92-4e34-8a4c-37ab44c097e9",
   "metadata": {},
   "outputs": [],
   "source": [
    "# get all the dropped rows that starts with $, WARNING:, >java, java, >javac, javac or directory\n",
    "ddf_incomplete_javacodes = ddf_incomplete_javacodes[~ddf_incomplete_javacodes.Idx.isin(ddf_non_codes.Idx.compute())]"
   ]
  },
  {
   "cell_type": "code",
   "execution_count": null,
   "id": "50e47b19-edfa-40ef-8372-49e873597fab",
   "metadata": {},
   "outputs": [],
   "source": [
    "# Check lenght of incomplete java code snippet after html tags are dropped\n",
    "incomplete_javacodes_len = ddf_incomplete_javacodes.index.shape[0].compute()\n",
    "incomplete_javacodes_len"
   ]
  },
  {
   "cell_type": "code",
   "execution_count": null,
   "id": "4cbc08af-3dbd-41f9-a159-91d85714e6e4",
   "metadata": {},
   "outputs": [],
   "source": [
    "# Verify that the length is equals to combination of complete_javarawcodes_len and incomplete_javarawcodes_len above\n",
    "incomplete_javacodes_len + non_codes_len"
   ]
  },
  {
   "cell_type": "code",
   "execution_count": null,
   "id": "8898b56b-ddd9-4a09-963f-c1fb57af9417",
   "metadata": {},
   "outputs": [],
   "source": [
    "nnn"
   ]
  },
  {
   "cell_type": "markdown",
   "id": "09aec736-86a9-4072-9b5a-c31620fb2f25",
   "metadata": {},
   "source": [
    "### Make a complete codes folder in that directory"
   ]
  },
  {
   "cell_type": "code",
   "execution_count": null,
   "id": "b54e9eee-c77f-4d14-8388-5ec50857463d",
   "metadata": {},
   "outputs": [],
   "source": [
    "## Make a folder in that directory\n",
    "folder = '{}/javacompletecodesnippets_csv'.format(common_path)\n",
    "# output: path/to/Post.csv => path/to\n",
    "mkdir_cmd = 'mkdir {}'.format(folder)\n",
    "cmd = sp.run(\n",
    "    mkdir_cmd, # command\n",
    "    capture_output=True,\n",
    "    text=True,\n",
    "    shell=True\n",
    ")"
   ]
  },
  {
   "cell_type": "code",
   "execution_count": null,
   "id": "ec455588-c8b3-4f66-81b1-20910d4da5c5",
   "metadata": {},
   "outputs": [],
   "source": [
    "print(folder)"
   ]
  },
  {
   "cell_type": "markdown",
   "id": "d42dc21b-35db-4bf2-b6d0-d6846e458731",
   "metadata": {},
   "source": [
    "### Save Java complete codes csv files in that directory"
   ]
  },
  {
   "cell_type": "code",
   "execution_count": null,
   "id": "2556dfb8-95b0-4435-9186-b81a33df8741",
   "metadata": {},
   "outputs": [],
   "source": [
    "## Save files in that directory\n",
    "filename = 'JavaCompleteCodeSnippets'\n",
    "file = '{}/{}*.csv'.format(folder, filename)\n",
    "_ = ddf_complete_javacodes.to_csv(file, sep=',', index=False)"
   ]
  },
  {
   "cell_type": "markdown",
   "id": "a594f052-6d1a-4d39-bfaa-f5fc01ede9ea",
   "metadata": {},
   "source": [
    "### Make a incomplete codes folder in that directory"
   ]
  },
  {
   "cell_type": "code",
   "execution_count": null,
   "id": "5c384488-36e1-46cc-b335-173f9ff35d3e",
   "metadata": {},
   "outputs": [],
   "source": [
    "## Make a folder in that directory\n",
    "folder = '{}/javaincompletecodesnippets_csv'.format(common_path)\n",
    "# output: path/to/Post.csv => path/to\n",
    "mkdir_cmd = 'mkdir {}'.format(folder)\n",
    "cmd = sp.run(\n",
    "    mkdir_cmd, # command\n",
    "    capture_output=True,\n",
    "    text=True,\n",
    "    shell=True\n",
    ")"
   ]
  },
  {
   "cell_type": "code",
   "execution_count": null,
   "id": "aea63905-cad3-4933-8078-2f7b16ccb2d0",
   "metadata": {},
   "outputs": [],
   "source": [
    "print(folder)"
   ]
  },
  {
   "cell_type": "markdown",
   "id": "67342b54-b84e-4d66-9c4b-a2657e544f3f",
   "metadata": {},
   "source": [
    "### Save Java incomplete codes csv files in that directory"
   ]
  },
  {
   "cell_type": "code",
   "execution_count": null,
   "id": "1c920bde-709f-4a85-a89f-aa7b830a34a3",
   "metadata": {},
   "outputs": [],
   "source": [
    "## Save files in that directory\n",
    "filename = 'JavaIncompleteCodeSnippets'\n",
    "file = '{}/{}*.csv'.format(folder, filename)\n",
    "_ = ddf_incomplete_javacodes.to_csv(file, sep=',', index=False)"
   ]
  },
  {
   "cell_type": "markdown",
   "id": "8309e540-a405-4dd4-b880-2cfb25fe0117",
   "metadata": {},
   "source": [
    "### Make a code that contains HTML/XML folder in that directory "
   ]
  },
  {
   "cell_type": "code",
   "execution_count": null,
   "id": "5de20817-8dfe-4519-8a29-8d390278b18e",
   "metadata": {},
   "outputs": [],
   "source": [
    "## Make a folder in that directory\n",
    "folder = '{}/javahtmlxmltags_csv'.format(common_path)\n",
    "# output: path/to/Post.csv => path/to\n",
    "mkdir_cmd = 'mkdir {}'.format(folder)\n",
    "cmd = sp.run(\n",
    "    mkdir_cmd, # command\n",
    "    capture_output=True,\n",
    "    text=True,\n",
    "    shell=True\n",
    ")"
   ]
  },
  {
   "cell_type": "markdown",
   "id": "329dbbd0-0485-4281-9ea1-8c2c7d4a792c",
   "metadata": {},
   "source": [
    "### Save Java codes that contains HTML/XML csv files in that directory"
   ]
  },
  {
   "cell_type": "code",
   "execution_count": null,
   "id": "3f202001-a5e5-48e9-bf71-1c230c79af74",
   "metadata": {},
   "outputs": [],
   "source": [
    "## Save files in that directory\n",
    "filename = 'JavaCodeHtmlXmlTags'\n",
    "file = '{}/{}*.csv'.format(folder, filename)\n",
    "_ = ddf_javarawcodes_htmlxml.to_csv(file, sep=',', index=False)"
   ]
  },
  {
   "cell_type": "markdown",
   "id": "a759c6ec-8862-47f4-9f2f-d5425531ef3a",
   "metadata": {},
   "source": [
    "### Make a noncode folder in that directory "
   ]
  },
  {
   "cell_type": "code",
   "execution_count": null,
   "id": "0116a506-6a56-4136-8a50-1d6123369720",
   "metadata": {},
   "outputs": [],
   "source": [
    "## Make a folder in that directory\n",
    "folder = '{}/noncode_csv'.format(common_path)\n",
    "# output: path/to/Post.csv => path/to\n",
    "mkdir_cmd = 'mkdir {}'.format(folder)\n",
    "cmd = sp.run(\n",
    "    mkdir_cmd, # command\n",
    "    capture_output=True,\n",
    "    text=True,\n",
    "    shell=True\n",
    ")"
   ]
  },
  {
   "cell_type": "code",
   "execution_count": null,
   "id": "15788c45-9390-4b4b-92a9-4deada9537a9",
   "metadata": {},
   "outputs": [],
   "source": [
    "print(folder)"
   ]
  },
  {
   "cell_type": "markdown",
   "id": "f0cdb7cb-8591-48ec-9c0e-1f0ad05aeabc",
   "metadata": {},
   "source": [
    "### Save non codes csv files in that directory"
   ]
  },
  {
   "cell_type": "code",
   "execution_count": null,
   "id": "d6672edf-19b6-4284-9557-4cedf12f9514",
   "metadata": {},
   "outputs": [],
   "source": [
    "## Save files in that directory\n",
    "filename = 'NonCodes'\n",
    "file = '{}/{}*.csv'.format(folder, filename)\n",
    "_ = ddf_non_codes.to_csv(file, sep=',', index=False)"
   ]
  },
  {
   "cell_type": "markdown",
   "id": "809af07b-f577-48e7-a481-271bce55ac9e",
   "metadata": {},
   "source": [
    "## Replace all the interface and class names to all have a common name (e.g. Code) in the ddf_complete_javacodes"
   ]
  },
  {
   "cell_type": "code",
   "execution_count": null,
   "id": "f735057e-719e-495b-9496-595374c0b633",
   "metadata": {},
   "outputs": [],
   "source": [
    "# Replace all the class with the class to all have a common name, say Code\n",
    "ddf_complete_javacodes = ddf_complete_javacodes.replace(to_replace = 'class\\s+\\w+', value = 'class Code', regex=True)"
   ]
  },
  {
   "cell_type": "code",
   "execution_count": null,
   "id": "eb3f44cb-0180-400d-9f14-ab3feb45d1c8",
   "metadata": {},
   "outputs": [],
   "source": [
    "# Also Replace interface with the interface Code\n",
    "ddf_complete_javacodes = ddf_complete_javacodes.replace(to_replace = 'interface\\s+\\w+', value = 'interface Code', regex=True)"
   ]
  },
  {
   "cell_type": "markdown",
   "id": "82a93ac8-5177-4e20-9d13-05674b1910f6",
   "metadata": {},
   "source": [
    "## Encapsulate incomplete written java program with public Code { ... }"
   ]
  },
  {
   "cell_type": "code",
   "execution_count": null,
   "id": "afc7d00b-4d20-4ded-9ae4-db94962d5e08",
   "metadata": {},
   "outputs": [],
   "source": [
    "# Copy the code to Code2\n",
    "#ddf_incomplete_javacodes['Code2'] = ddf_incomplete_javacodes['Code']"
   ]
  },
  {
   "cell_type": "code",
   "execution_count": null,
   "id": "e2a3ef6c-1934-4128-99f9-7aff768d8c6e",
   "metadata": {},
   "outputs": [],
   "source": [
    "# Encapsulate incomplete written java program with public Code {  }\n",
    "ddf_incomplete_javacodes['Code'] = 'public class Code {\\n'+ ddf_incomplete_javacodes['Code'].astype(str) +'\\n}'"
   ]
  },
  {
   "cell_type": "code",
   "execution_count": null,
   "id": "c8d8a19a-4a7b-46e6-a9c2-d3a7bccf9a37",
   "metadata": {},
   "outputs": [],
   "source": [
    "ddf_complete_javacodes.columns"
   ]
  },
  {
   "cell_type": "code",
   "execution_count": null,
   "id": "751bae88-3313-4ca3-bc75-7254a1c8f05c",
   "metadata": {},
   "outputs": [],
   "source": [
    "ddf_incomplete_javacodes.columns"
   ]
  },
  {
   "cell_type": "markdown",
   "id": "27162058-72c5-4924-aa96-10d4afa40d91",
   "metadata": {},
   "source": [
    "## Merge the data frame containing the completed java codes with the data frame containing the incomplete code (encapsulated with public Code {})"
   ]
  },
  {
   "cell_type": "code",
   "execution_count": null,
   "id": "3ece67c3-244d-45f2-a826-d5444272930c",
   "metadata": {},
   "outputs": [],
   "source": [
    "# merge complete and incomplete into one dataframe\n",
    "df = dd.concat([ddf_complete_javacodes, ddf_incomplete_javacodes])"
   ]
  },
  {
   "cell_type": "code",
   "execution_count": null,
   "id": "969c6d25-e329-4be1-887a-eb8dd869fbeb",
   "metadata": {},
   "outputs": [],
   "source": [
    "df..index.shape[0].compute()"
   ]
  },
  {
   "cell_type": "code",
   "execution_count": null,
   "id": "19076ba7-d844-4217-b308-364d4a74799b",
   "metadata": {},
   "outputs": [],
   "source": [
    "# Verify that the combination of the lengths is same as merged len\n",
    "complete_javacodes_len + incomplete_javacodes_len"
   ]
  },
  {
   "cell_type": "code",
   "execution_count": null,
   "id": "da7b0ee5-a542-4d0e-b30c-8b9993b52db3",
   "metadata": {},
   "outputs": [],
   "source": [
    "df.columns"
   ]
  },
  {
   "cell_type": "markdown",
   "id": "7f31509d-6341-44af-9fe8-6d207a7b7d41",
   "metadata": {},
   "source": [
    "## Replace all cases where three dots ... appeared at the begining of a line within the code with comment i.e. //..."
   ]
  },
  {
   "cell_type": "code",
   "execution_count": null,
   "id": "a8d14f6c-a5f8-436c-b74d-1ef1378f6ab7",
   "metadata": {},
   "outputs": [],
   "source": [
    "df['Code'] = df.Code.replace(to_replace ='(\\\\n)+\\s*\\.{2,}', value = '\\n\\n//...\\n\\n', regex=True)\n",
    "df['Code'] = df.Code.replace(to_replace ='(\\\\n)+\\s*\\.{2,}', value = '\\n\\n//...\\n\\n', regex=True)\n",
    "df['Code'] = df.Code.replace(to_replace ='(\\\\n\\.)+', value = '\\n\\n//...\\n\\n', regex=True)\n",
    "df['Code'] = df.Code.replace(to_replace ='\\{(\\\\n)+\\s*\\.{2,}', value = '{\\n\\n//...\\n\\n', regex=True)\n",
    "df['Code'] = df.Code.replace(to_replace ='\\[(\\\\n)+\\s*\\.{2,}', value = '[\\n\\n//...\\n\\n', regex=True)\n",
    "df['Code'] = df.Code.replace(to_replace ='\\{\\s*\\.{2,}', value = '{\\n\\n//...\\n\\n', regex=True)\n",
    "df['Code'] = df.Code.replace(to_replace ='\\[\\s*\\.{2,}', value = '[\\n\\n//...\\n\\n', regex=True)"
   ]
  },
  {
   "cell_type": "markdown",
   "id": "813dd5b5-6f83-4c70-8722-ea23ea9329b6",
   "metadata": {},
   "source": [
    "#### To verify if the Regex works"
   ]
  },
  {
   "cell_type": "code",
   "execution_count": null,
   "id": "80b05846-9ee8-44f2-966a-be3b9996ac42",
   "metadata": {
    "tags": []
   },
   "outputs": [],
   "source": [
    "#@@ This is supposed tp capture anywhere 2 or more dots occured anywhere in the code \n",
    "doted_df1 = df[df.Code.str.contains('((\\.\\s){2,}|\\.{2,})', case=False, regex=True)] #works"
   ]
  },
  {
   "cell_type": "code",
   "execution_count": null,
   "id": "ed326cc0-acae-4cfb-839a-ce7ff64f72c5",
   "metadata": {
    "tags": []
   },
   "outputs": [],
   "source": [
    "doted_df1.index.shape[0].compute()"
   ]
  },
  {
   "cell_type": "code",
   "execution_count": null,
   "id": "7814bcbe-e40f-45c9-a40e-82c543753454",
   "metadata": {
    "tags": []
   },
   "outputs": [],
   "source": [
    "#this is ment to capture anywhere we have three dots without comment //\n",
    "doted_df2 = doted_df1[doted_df1.Code.str.contains('((\\[|{)(\\\\n)*\\s*|(\\\\n)+\\s*)\\.{2,}|(\\\\n\\.)+', case=False, regex=True)]"
   ]
  },
  {
   "cell_type": "code",
   "execution_count": null,
   "id": "2829ffe7-f58b-4cdc-bd4d-f1138c98758c",
   "metadata": {
    "tags": []
   },
   "outputs": [],
   "source": [
    "doted_df2.index.shape[0].compute()"
   ]
  },
  {
   "cell_type": "code",
   "execution_count": null,
   "id": "4d2af71e-0e5a-48ec-9fe3-bfda7f1fa4f2",
   "metadata": {},
   "outputs": [],
   "source": [
    "doted_df3=doted_df1[~doted_df1.Idx.isin(doted_df2.Idx.compute())]"
   ]
  },
  {
   "cell_type": "code",
   "execution_count": null,
   "id": "bac3df2a-6906-4e62-b380-ddf04e8ece9f",
   "metadata": {
    "tags": []
   },
   "outputs": [],
   "source": [
    "doted_df3.index.shape[0].compute()"
   ]
  },
  {
   "cell_type": "markdown",
   "id": "992631d0-f706-4945-8c2f-589eb5e4ddc7",
   "metadata": {},
   "source": [
    "## Uniquely identify each class name by appending the index_questionid to the end of the class name"
   ]
  },
  {
   "cell_type": "code",
   "execution_count": null,
   "id": "c9d00456-3f4f-43f7-bad3-8b0e255ad3bd",
   "metadata": {
    "tags": []
   },
   "outputs": [],
   "source": [
    "# To uniquely identify each class, append the index number of each row to Classname\n",
    "\n",
    "# e.g. \n",
    "# Code_44671882_44671797_3688_0 \n",
    "# Code_44671882_44671797_3688_2\n",
    "# Code_44671809_32500182_1042_0\n",
    "# ...\n",
    "\n",
    "# Explanation:\n",
    "# e.g. Code0_44671882_44671797_3688_0\n",
    "# CodeUniqueIndex_PostID_ParentID_GroupID_MatchCaseNumber\n",
    "# Code0_44671882_44671797_3688_1 did not appear becous it could have been removed while preprocessing\n",
    "\n",
    "# Importing re package for using regular expressions \n",
    "import re \n",
    "\n",
    "#def appendIndexToClassNames(index, questionIdx, match, javacode): \n",
    "def appendIndexToClassNames(questionIdx, match, javacode): \n",
    "    \n",
    "    # Search for class ClassName \n",
    "    # i.e. class then any characters repeated any number of times \n",
    "    if re.search('(class|interface)\\s+\\w+', javacode): \n",
    "  \n",
    "        # Extract the position of end of pattern \n",
    "        #start = re.search('(class|interface)\\s+\\w+', javacode).start()\n",
    "        end = re.search('(class|interface)\\s+\\w+', javacode).end()\n",
    "  \n",
    "        # return the cleaned name \n",
    "        # return javacode[ : pos]+str(javacode.index)+javacode[pos:]\n",
    "        return javacode[ : end]+'_'+str(questionIdx)+'_'+str(match)+javacode[end: ]\n",
    "  \n",
    "    else: \n",
    "        # if clean up needed return the same name \n",
    "        return javacode \n",
    "          \n",
    " "
   ]
  },
  {
   "cell_type": "code",
   "execution_count": null,
   "id": "257987cf-ae19-4a6a-aa7e-22d9f2736531",
   "metadata": {
    "tags": []
   },
   "outputs": [],
   "source": [
    "# Updated the Java Code answers column  \n",
    "df['Code'] = df.apply(\n",
    "         #lambda row: appendIndexToClassNames(row.name, row['Idx'], row['match'], row['Code']),axis=1)\n",
    "    lambda row: appendIndexToClassNames(row['Idx'], row['match'], row['Code']),\n",
    "         axis=1)\n",
    "# Print the updated dataframe \n",
    "#print(df)"
   ]
  },
  {
   "cell_type": "markdown",
   "id": "291e3e0a-6edc-49c3-a6fe-874cba5914ce",
   "metadata": {},
   "source": [
    "### Make a folder in that directory"
   ]
  },
  {
   "cell_type": "code",
   "execution_count": null,
   "id": "7eb5d7f9-e5bf-4e89-8ecc-4c1660888a9e",
   "metadata": {},
   "outputs": [],
   "source": [
    "## Make a folder in that directory\n",
    "folder = '{}/codesnippets_csv'.format(common_path)\n",
    "# output: path/to/Post.csv => path/to\n",
    "mkdir_cmd = 'mkdir {}'.format(folder)\n",
    "cmd = sp.run(\n",
    "    mkdir_cmd, # command\n",
    "    capture_output=True,\n",
    "    text=True,\n",
    "    shell=True\n",
    ")"
   ]
  },
  {
   "cell_type": "code",
   "execution_count": null,
   "id": "8e175ace-c4ef-4f6a-8323-9268f5308c1d",
   "metadata": {},
   "outputs": [],
   "source": [
    "print(folder)"
   ]
  },
  {
   "cell_type": "markdown",
   "id": "39fe550a-aa83-41a6-b145-02c36c4385a9",
   "metadata": {},
   "source": [
    "### Save files in that directory"
   ]
  },
  {
   "cell_type": "code",
   "execution_count": null,
   "id": "a1125c42-0074-49bc-8f44-f7e716bbe96c",
   "metadata": {},
   "outputs": [],
   "source": [
    "## Save files in that directory\n",
    "filename = 'JavaCodeSnippets'\n",
    "file = '{}/{}*.csv'.format(folder, filename)\n",
    "_ = df.to_csv(file, sep=',', index=False)"
   ]
  },
  {
   "cell_type": "raw",
   "id": "d4bc9e79-0e49-4f82-9ba2-3ed74b2d718a",
   "metadata": {},
   "source": [
    "# write the Java code Answers into saparate files\n",
    "for index, row in df.iterrows():\n",
    "    #open('javaclasses/Code'+str(index)+'_'+str(row['Idx'])+'_'+str(row['match'])+'.java', 'w').write(row['Code'])\n",
    "    open('codesnippets_java/Code'+'_'+str(row['Idx'])+'_'+str(row['match'])+'.java', 'w').write(row['Code'])\n",
    "   \n",
    "   "
   ]
  },
  {
   "cell_type": "code",
   "execution_count": null,
   "id": "cb8d92f7-f089-47fb-ad35-84382cf7d4bf",
   "metadata": {},
   "outputs": [],
   "source": []
  },
  {
   "cell_type": "code",
   "execution_count": null,
   "id": "5efc4942-2203-4b8a-8f85-1708bb15f758",
   "metadata": {},
   "outputs": [],
   "source": []
  },
  {
   "cell_type": "code",
   "execution_count": null,
   "id": "1563eacc-94f3-4fe4-941e-1033de6f5d00",
   "metadata": {},
   "outputs": [],
   "source": []
  }
 ],
 "metadata": {
  "kernelspec": {
   "display_name": "Python 3.9.5 (gimkl-2020a)",
   "language": "python",
   "name": "python395-gimkl-2020a"
  },
  "language_info": {
   "codemirror_mode": {
    "name": "ipython",
    "version": 3
   },
   "file_extension": ".py",
   "mimetype": "text/x-python",
   "name": "python",
   "nbconvert_exporter": "python",
   "pygments_lexer": "ipython3",
   "version": "3.9.5"
  }
 },
 "nbformat": 4,
 "nbformat_minor": 5
}
