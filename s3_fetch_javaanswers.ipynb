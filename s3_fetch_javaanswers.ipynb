{
 "cells": [
  {
   "cell_type": "code",
   "execution_count": 1,
   "id": "6973d500-b558-49ca-8915-194011e487c6",
   "metadata": {},
   "outputs": [],
   "source": [
    "import time\n",
    "from datetime import timedelta\n",
    "\n",
    "import html\n",
    "import re\n",
    "\n",
    "import os\n",
    "import ntpath\n",
    "\n",
    "import subprocess as sp\n",
    "\n",
    "import numpy as np\n",
    "import pandas as pd\n",
    "import xml.etree.ElementTree as et\n",
    "\n",
    "import dask\n",
    "import dask.dataframe as dd\n",
    "import dask.bag as bd\n",
    "from dask.distributed import Client\n",
    "from dask_jobqueue import SLURMCluster"
   ]
  },
  {
   "cell_type": "code",
   "execution_count": 2,
   "id": "1ca4fb27-6c90-4160-aab2-624356efbd05",
   "metadata": {
    "tags": []
   },
   "outputs": [],
   "source": [
    "def get_filepath_wtout_ext(file_wt_full_path):\n",
    "    #/a/b/c.csv => /a/b/c\n",
    "    return os.path.splitext(file_wt_full_path)[0]"
   ]
  },
  {
   "cell_type": "code",
   "execution_count": 3,
   "id": "410911c3-a3e8-43e2-a168-2840dd5165b3",
   "metadata": {},
   "outputs": [],
   "source": [
    "def get_filename(file_wt_full_path):\n",
    "    filepath_wout_ext = get_filepath_wtout_ext(file_wt_full_path)\n",
    "    #/a/b/c => c\n",
    "    return ntpath.basename(filepath_wout_ext)\n"
   ]
  },
  {
   "cell_type": "code",
   "execution_count": 4,
   "id": "621b2a08-4d5a-4253-9f6d-3f25ddbd7061",
   "metadata": {},
   "outputs": [],
   "source": [
    "def get_filepath(file_wt_full_path):\n",
    "    #/a/b/c.csv => /a/b\n",
    "    return os.path.dirname(file_wt_full_path)"
   ]
  },
  {
   "cell_type": "code",
   "execution_count": 5,
   "id": "8c4bbada-1d72-4460-8f87-fbaf566480c5",
   "metadata": {},
   "outputs": [],
   "source": [
    "def get_file(file_wt_full_path):\n",
    "    #/a/b/c.csv => c.csv\n",
    "    return os.path.basename(file_wt_full_path)"
   ]
  },
  {
   "cell_type": "markdown",
   "id": "dd3e8d28-666c-452b-b304-14eed8c1d500",
   "metadata": {},
   "source": [
    "#### Things to note about the Answers\n",
    "- They have value of 2 in the PostTypeId column\n",
    "- They also have values in the ParentId column\n",
    "    - which referes to the PostId of the Question"
   ]
  },
  {
   "cell_type": "markdown",
   "id": "5fd92652-38a3-433a-9818-89a7e508b8dd",
   "metadata": {},
   "source": [
    "## Enter full path to CSV file"
   ]
  },
  {
   "cell_type": "code",
   "execution_count": 6,
   "id": "745fdf46-a4e7-4597-a855-e9c21373a6b0",
   "metadata": {},
   "outputs": [],
   "source": [
    "## Enter full path to CSV file\n",
    "#xml_file = 'Posts*.csv'\n",
    "common_path = '../../../../stackexchange_v2/workspace/input'\n",
    "#common_path = '../SO_data_dump'\n",
    "\n",
    "## Enter Relative Path to csv file\n",
    "relative_path_posts = 'posts/Posts*.csv'\n",
    "relative_path_javaposts = 'javaposts_csv/JavaPosts*.csv'\n",
    "\n",
    "filepath_posts = '{}/{}'.format(common_path, relative_path_posts) # Post\n",
    "filepath_javaposts = '{}/{}'.format(common_path, relative_path_javaposts) # JavaPost"
   ]
  },
  {
   "cell_type": "code",
   "execution_count": 7,
   "id": "ffc7e613-2782-4f9a-ad0e-cf5a6216e169",
   "metadata": {},
   "outputs": [],
   "source": [
    "#filepath=input()"
   ]
  },
  {
   "cell_type": "markdown",
   "id": "6d1e17f2-94ec-4527-ad05-43dc6675e4e8",
   "metadata": {},
   "source": [
    "## Read Post and JavaPost csv file"
   ]
  },
  {
   "cell_type": "code",
   "execution_count": 8,
   "id": "21cacf20-7bf2-4d05-8e3d-995623e72d5c",
   "metadata": {},
   "outputs": [],
   "source": [
    "ddf_posts = dd.read_csv(filepath_posts, engine='python', error_bad_lines=False, warn_bad_lines=False, dtype=object)"
   ]
  },
  {
   "cell_type": "markdown",
   "id": "50f39c97-485b-451c-8910-88734c3ee44c",
   "metadata": {},
   "source": [
    "## Explore Post and Java Posts"
   ]
  },
  {
   "cell_type": "code",
   "execution_count": 9,
   "id": "0b2234bc-d78c-4901-86ff-cada175babb5",
   "metadata": {},
   "outputs": [
    {
     "data": {
      "text/html": [
       "<div><strong>Dask DataFrame Structure:</strong></div>\n",
       "<div>\n",
       "<style scoped>\n",
       "    .dataframe tbody tr th:only-of-type {\n",
       "        vertical-align: middle;\n",
       "    }\n",
       "\n",
       "    .dataframe tbody tr th {\n",
       "        vertical-align: top;\n",
       "    }\n",
       "\n",
       "    .dataframe thead th {\n",
       "        text-align: right;\n",
       "    }\n",
       "</style>\n",
       "<table border=\"1\" class=\"dataframe\">\n",
       "  <thead>\n",
       "    <tr style=\"text-align: right;\">\n",
       "      <th></th>\n",
       "      <th>Id</th>\n",
       "      <th>PostTypeId</th>\n",
       "      <th>AcceptedAnswerId</th>\n",
       "      <th>CreationDate</th>\n",
       "      <th>Score</th>\n",
       "      <th>ViewCount</th>\n",
       "      <th>Body</th>\n",
       "      <th>OwnerUserId</th>\n",
       "      <th>LastEditorUserId</th>\n",
       "      <th>LastEditorDisplayName</th>\n",
       "      <th>LastEditDate</th>\n",
       "      <th>LastActivityDate</th>\n",
       "      <th>Title</th>\n",
       "      <th>Tags</th>\n",
       "      <th>AnswerCount</th>\n",
       "      <th>CommentCount</th>\n",
       "      <th>FavoriteCount</th>\n",
       "      <th>CommunityOwnedDate</th>\n",
       "      <th>ContentLicense</th>\n",
       "      <th>ParentId</th>\n",
       "      <th>DeletionDate</th>\n",
       "      <th>OwnerDisplayName</th>\n",
       "      <th>ClosedDate</th>\n",
       "    </tr>\n",
       "    <tr>\n",
       "      <th>npartitions=9195</th>\n",
       "      <th></th>\n",
       "      <th></th>\n",
       "      <th></th>\n",
       "      <th></th>\n",
       "      <th></th>\n",
       "      <th></th>\n",
       "      <th></th>\n",
       "      <th></th>\n",
       "      <th></th>\n",
       "      <th></th>\n",
       "      <th></th>\n",
       "      <th></th>\n",
       "      <th></th>\n",
       "      <th></th>\n",
       "      <th></th>\n",
       "      <th></th>\n",
       "      <th></th>\n",
       "      <th></th>\n",
       "      <th></th>\n",
       "      <th></th>\n",
       "      <th></th>\n",
       "      <th></th>\n",
       "      <th></th>\n",
       "    </tr>\n",
       "  </thead>\n",
       "  <tbody>\n",
       "    <tr>\n",
       "      <th></th>\n",
       "      <td>object</td>\n",
       "      <td>object</td>\n",
       "      <td>object</td>\n",
       "      <td>object</td>\n",
       "      <td>object</td>\n",
       "      <td>object</td>\n",
       "      <td>object</td>\n",
       "      <td>object</td>\n",
       "      <td>object</td>\n",
       "      <td>object</td>\n",
       "      <td>object</td>\n",
       "      <td>object</td>\n",
       "      <td>object</td>\n",
       "      <td>object</td>\n",
       "      <td>object</td>\n",
       "      <td>object</td>\n",
       "      <td>object</td>\n",
       "      <td>object</td>\n",
       "      <td>object</td>\n",
       "      <td>object</td>\n",
       "      <td>object</td>\n",
       "      <td>object</td>\n",
       "      <td>object</td>\n",
       "    </tr>\n",
       "    <tr>\n",
       "      <th></th>\n",
       "      <td>...</td>\n",
       "      <td>...</td>\n",
       "      <td>...</td>\n",
       "      <td>...</td>\n",
       "      <td>...</td>\n",
       "      <td>...</td>\n",
       "      <td>...</td>\n",
       "      <td>...</td>\n",
       "      <td>...</td>\n",
       "      <td>...</td>\n",
       "      <td>...</td>\n",
       "      <td>...</td>\n",
       "      <td>...</td>\n",
       "      <td>...</td>\n",
       "      <td>...</td>\n",
       "      <td>...</td>\n",
       "      <td>...</td>\n",
       "      <td>...</td>\n",
       "      <td>...</td>\n",
       "      <td>...</td>\n",
       "      <td>...</td>\n",
       "      <td>...</td>\n",
       "      <td>...</td>\n",
       "    </tr>\n",
       "    <tr>\n",
       "      <th>...</th>\n",
       "      <td>...</td>\n",
       "      <td>...</td>\n",
       "      <td>...</td>\n",
       "      <td>...</td>\n",
       "      <td>...</td>\n",
       "      <td>...</td>\n",
       "      <td>...</td>\n",
       "      <td>...</td>\n",
       "      <td>...</td>\n",
       "      <td>...</td>\n",
       "      <td>...</td>\n",
       "      <td>...</td>\n",
       "      <td>...</td>\n",
       "      <td>...</td>\n",
       "      <td>...</td>\n",
       "      <td>...</td>\n",
       "      <td>...</td>\n",
       "      <td>...</td>\n",
       "      <td>...</td>\n",
       "      <td>...</td>\n",
       "      <td>...</td>\n",
       "      <td>...</td>\n",
       "      <td>...</td>\n",
       "    </tr>\n",
       "    <tr>\n",
       "      <th></th>\n",
       "      <td>...</td>\n",
       "      <td>...</td>\n",
       "      <td>...</td>\n",
       "      <td>...</td>\n",
       "      <td>...</td>\n",
       "      <td>...</td>\n",
       "      <td>...</td>\n",
       "      <td>...</td>\n",
       "      <td>...</td>\n",
       "      <td>...</td>\n",
       "      <td>...</td>\n",
       "      <td>...</td>\n",
       "      <td>...</td>\n",
       "      <td>...</td>\n",
       "      <td>...</td>\n",
       "      <td>...</td>\n",
       "      <td>...</td>\n",
       "      <td>...</td>\n",
       "      <td>...</td>\n",
       "      <td>...</td>\n",
       "      <td>...</td>\n",
       "      <td>...</td>\n",
       "      <td>...</td>\n",
       "    </tr>\n",
       "    <tr>\n",
       "      <th></th>\n",
       "      <td>...</td>\n",
       "      <td>...</td>\n",
       "      <td>...</td>\n",
       "      <td>...</td>\n",
       "      <td>...</td>\n",
       "      <td>...</td>\n",
       "      <td>...</td>\n",
       "      <td>...</td>\n",
       "      <td>...</td>\n",
       "      <td>...</td>\n",
       "      <td>...</td>\n",
       "      <td>...</td>\n",
       "      <td>...</td>\n",
       "      <td>...</td>\n",
       "      <td>...</td>\n",
       "      <td>...</td>\n",
       "      <td>...</td>\n",
       "      <td>...</td>\n",
       "      <td>...</td>\n",
       "      <td>...</td>\n",
       "      <td>...</td>\n",
       "      <td>...</td>\n",
       "      <td>...</td>\n",
       "    </tr>\n",
       "  </tbody>\n",
       "</table>\n",
       "</div>\n",
       "<div>Dask Name: read-csv, 9195 tasks</div>"
      ],
      "text/plain": [
       "Dask DataFrame Structure:\n",
       "                      Id PostTypeId AcceptedAnswerId CreationDate   Score ViewCount    Body OwnerUserId LastEditorUserId LastEditorDisplayName LastEditDate LastActivityDate   Title    Tags AnswerCount CommentCount FavoriteCount CommunityOwnedDate ContentLicense ParentId DeletionDate OwnerDisplayName ClosedDate\n",
       "npartitions=9195                                                                                                                                                                                                                                                                                                       \n",
       "                  object     object           object       object  object    object  object      object           object                object       object           object  object  object      object       object        object             object         object   object       object           object     object\n",
       "                     ...        ...              ...          ...     ...       ...     ...         ...              ...                   ...          ...              ...     ...     ...         ...          ...           ...                ...            ...      ...          ...              ...        ...\n",
       "...                  ...        ...              ...          ...     ...       ...     ...         ...              ...                   ...          ...              ...     ...     ...         ...          ...           ...                ...            ...      ...          ...              ...        ...\n",
       "                     ...        ...              ...          ...     ...       ...     ...         ...              ...                   ...          ...              ...     ...     ...         ...          ...           ...                ...            ...      ...          ...              ...        ...\n",
       "                     ...        ...              ...          ...     ...       ...     ...         ...              ...                   ...          ...              ...     ...     ...         ...          ...           ...                ...            ...      ...          ...              ...        ...\n",
       "Dask Name: read-csv, 9195 tasks"
      ]
     },
     "execution_count": 9,
     "metadata": {},
     "output_type": "execute_result"
    }
   ],
   "source": [
    "ddf_posts"
   ]
  },
  {
   "cell_type": "code",
   "execution_count": 10,
   "id": "4f9c8ddd-8611-4206-990d-816e270d0499",
   "metadata": {},
   "outputs": [],
   "source": [
    "ddf_javaposts = dd.read_csv(filepath_javaposts, engine='python', error_bad_lines=False, warn_bad_lines=False, dtype=object)"
   ]
  },
  {
   "cell_type": "code",
   "execution_count": 11,
   "id": "c9000ce1-3d53-4c2b-aac3-dc25219e6a3e",
   "metadata": {},
   "outputs": [
    {
     "data": {
      "text/html": [
       "<div><strong>Dask DataFrame Structure:</strong></div>\n",
       "<div>\n",
       "<style scoped>\n",
       "    .dataframe tbody tr th:only-of-type {\n",
       "        vertical-align: middle;\n",
       "    }\n",
       "\n",
       "    .dataframe tbody tr th {\n",
       "        vertical-align: top;\n",
       "    }\n",
       "\n",
       "    .dataframe thead th {\n",
       "        text-align: right;\n",
       "    }\n",
       "</style>\n",
       "<table border=\"1\" class=\"dataframe\">\n",
       "  <thead>\n",
       "    <tr style=\"text-align: right;\">\n",
       "      <th></th>\n",
       "      <th>Id</th>\n",
       "      <th>PostTypeId</th>\n",
       "      <th>AcceptedAnswerId</th>\n",
       "      <th>CreationDate</th>\n",
       "      <th>Score</th>\n",
       "      <th>ViewCount</th>\n",
       "      <th>Body</th>\n",
       "      <th>OwnerUserId</th>\n",
       "      <th>LastEditorUserId</th>\n",
       "      <th>LastEditorDisplayName</th>\n",
       "      <th>LastEditDate</th>\n",
       "      <th>LastActivityDate</th>\n",
       "      <th>Title</th>\n",
       "      <th>Tags</th>\n",
       "      <th>AnswerCount</th>\n",
       "      <th>CommentCount</th>\n",
       "      <th>FavoriteCount</th>\n",
       "      <th>CommunityOwnedDate</th>\n",
       "      <th>ContentLicense</th>\n",
       "      <th>ParentId</th>\n",
       "      <th>DeletionDate</th>\n",
       "      <th>OwnerDisplayName</th>\n",
       "      <th>ClosedDate</th>\n",
       "    </tr>\n",
       "    <tr>\n",
       "      <th>npartitions=9195</th>\n",
       "      <th></th>\n",
       "      <th></th>\n",
       "      <th></th>\n",
       "      <th></th>\n",
       "      <th></th>\n",
       "      <th></th>\n",
       "      <th></th>\n",
       "      <th></th>\n",
       "      <th></th>\n",
       "      <th></th>\n",
       "      <th></th>\n",
       "      <th></th>\n",
       "      <th></th>\n",
       "      <th></th>\n",
       "      <th></th>\n",
       "      <th></th>\n",
       "      <th></th>\n",
       "      <th></th>\n",
       "      <th></th>\n",
       "      <th></th>\n",
       "      <th></th>\n",
       "      <th></th>\n",
       "      <th></th>\n",
       "    </tr>\n",
       "  </thead>\n",
       "  <tbody>\n",
       "    <tr>\n",
       "      <th></th>\n",
       "      <td>object</td>\n",
       "      <td>object</td>\n",
       "      <td>object</td>\n",
       "      <td>object</td>\n",
       "      <td>object</td>\n",
       "      <td>object</td>\n",
       "      <td>object</td>\n",
       "      <td>object</td>\n",
       "      <td>object</td>\n",
       "      <td>object</td>\n",
       "      <td>object</td>\n",
       "      <td>object</td>\n",
       "      <td>object</td>\n",
       "      <td>object</td>\n",
       "      <td>object</td>\n",
       "      <td>object</td>\n",
       "      <td>object</td>\n",
       "      <td>object</td>\n",
       "      <td>object</td>\n",
       "      <td>object</td>\n",
       "      <td>object</td>\n",
       "      <td>object</td>\n",
       "      <td>object</td>\n",
       "    </tr>\n",
       "    <tr>\n",
       "      <th></th>\n",
       "      <td>...</td>\n",
       "      <td>...</td>\n",
       "      <td>...</td>\n",
       "      <td>...</td>\n",
       "      <td>...</td>\n",
       "      <td>...</td>\n",
       "      <td>...</td>\n",
       "      <td>...</td>\n",
       "      <td>...</td>\n",
       "      <td>...</td>\n",
       "      <td>...</td>\n",
       "      <td>...</td>\n",
       "      <td>...</td>\n",
       "      <td>...</td>\n",
       "      <td>...</td>\n",
       "      <td>...</td>\n",
       "      <td>...</td>\n",
       "      <td>...</td>\n",
       "      <td>...</td>\n",
       "      <td>...</td>\n",
       "      <td>...</td>\n",
       "      <td>...</td>\n",
       "      <td>...</td>\n",
       "    </tr>\n",
       "    <tr>\n",
       "      <th>...</th>\n",
       "      <td>...</td>\n",
       "      <td>...</td>\n",
       "      <td>...</td>\n",
       "      <td>...</td>\n",
       "      <td>...</td>\n",
       "      <td>...</td>\n",
       "      <td>...</td>\n",
       "      <td>...</td>\n",
       "      <td>...</td>\n",
       "      <td>...</td>\n",
       "      <td>...</td>\n",
       "      <td>...</td>\n",
       "      <td>...</td>\n",
       "      <td>...</td>\n",
       "      <td>...</td>\n",
       "      <td>...</td>\n",
       "      <td>...</td>\n",
       "      <td>...</td>\n",
       "      <td>...</td>\n",
       "      <td>...</td>\n",
       "      <td>...</td>\n",
       "      <td>...</td>\n",
       "      <td>...</td>\n",
       "    </tr>\n",
       "    <tr>\n",
       "      <th></th>\n",
       "      <td>...</td>\n",
       "      <td>...</td>\n",
       "      <td>...</td>\n",
       "      <td>...</td>\n",
       "      <td>...</td>\n",
       "      <td>...</td>\n",
       "      <td>...</td>\n",
       "      <td>...</td>\n",
       "      <td>...</td>\n",
       "      <td>...</td>\n",
       "      <td>...</td>\n",
       "      <td>...</td>\n",
       "      <td>...</td>\n",
       "      <td>...</td>\n",
       "      <td>...</td>\n",
       "      <td>...</td>\n",
       "      <td>...</td>\n",
       "      <td>...</td>\n",
       "      <td>...</td>\n",
       "      <td>...</td>\n",
       "      <td>...</td>\n",
       "      <td>...</td>\n",
       "      <td>...</td>\n",
       "    </tr>\n",
       "    <tr>\n",
       "      <th></th>\n",
       "      <td>...</td>\n",
       "      <td>...</td>\n",
       "      <td>...</td>\n",
       "      <td>...</td>\n",
       "      <td>...</td>\n",
       "      <td>...</td>\n",
       "      <td>...</td>\n",
       "      <td>...</td>\n",
       "      <td>...</td>\n",
       "      <td>...</td>\n",
       "      <td>...</td>\n",
       "      <td>...</td>\n",
       "      <td>...</td>\n",
       "      <td>...</td>\n",
       "      <td>...</td>\n",
       "      <td>...</td>\n",
       "      <td>...</td>\n",
       "      <td>...</td>\n",
       "      <td>...</td>\n",
       "      <td>...</td>\n",
       "      <td>...</td>\n",
       "      <td>...</td>\n",
       "      <td>...</td>\n",
       "    </tr>\n",
       "  </tbody>\n",
       "</table>\n",
       "</div>\n",
       "<div>Dask Name: read-csv, 9195 tasks</div>"
      ],
      "text/plain": [
       "Dask DataFrame Structure:\n",
       "                      Id PostTypeId AcceptedAnswerId CreationDate   Score ViewCount    Body OwnerUserId LastEditorUserId LastEditorDisplayName LastEditDate LastActivityDate   Title    Tags AnswerCount CommentCount FavoriteCount CommunityOwnedDate ContentLicense ParentId DeletionDate OwnerDisplayName ClosedDate\n",
       "npartitions=9195                                                                                                                                                                                                                                                                                                       \n",
       "                  object     object           object       object  object    object  object      object           object                object       object           object  object  object      object       object        object             object         object   object       object           object     object\n",
       "                     ...        ...              ...          ...     ...       ...     ...         ...              ...                   ...          ...              ...     ...     ...         ...          ...           ...                ...            ...      ...          ...              ...        ...\n",
       "...                  ...        ...              ...          ...     ...       ...     ...         ...              ...                   ...          ...              ...     ...     ...         ...          ...           ...                ...            ...      ...          ...              ...        ...\n",
       "                     ...        ...              ...          ...     ...       ...     ...         ...              ...                   ...          ...              ...     ...     ...         ...          ...           ...                ...            ...      ...          ...              ...        ...\n",
       "                     ...        ...              ...          ...     ...       ...     ...         ...              ...                   ...          ...              ...     ...     ...         ...          ...           ...                ...            ...      ...          ...              ...        ...\n",
       "Dask Name: read-csv, 9195 tasks"
      ]
     },
     "execution_count": 11,
     "metadata": {},
     "output_type": "execute_result"
    }
   ],
   "source": [
    "ddf_javaposts"
   ]
  },
  {
   "cell_type": "code",
   "execution_count": 12,
   "id": "42608a0e-6161-40a6-9897-41482a9dd9d3",
   "metadata": {},
   "outputs": [
    {
     "data": {
      "text/plain": [
       "Index(['Id', 'PostTypeId', 'AcceptedAnswerId', 'CreationDate', 'Score',\n",
       "       'ViewCount', 'Body', 'OwnerUserId', 'LastEditorUserId',\n",
       "       'LastEditorDisplayName', 'LastEditDate', 'LastActivityDate', 'Title',\n",
       "       'Tags', 'AnswerCount', 'CommentCount', 'FavoriteCount',\n",
       "       'CommunityOwnedDate', 'ContentLicense', 'ParentId', 'DeletionDate',\n",
       "       'OwnerDisplayName', 'ClosedDate'],\n",
       "      dtype='object')"
      ]
     },
     "execution_count": 12,
     "metadata": {},
     "output_type": "execute_result"
    }
   ],
   "source": [
    "ddf_posts.columns"
   ]
  },
  {
   "cell_type": "code",
   "execution_count": 13,
   "id": "5b66fd17-ef05-4157-a4df-d1f3498f9404",
   "metadata": {},
   "outputs": [
    {
     "data": {
      "text/plain": [
       "Index(['Id', 'PostTypeId', 'AcceptedAnswerId', 'CreationDate', 'Score',\n",
       "       'ViewCount', 'Body', 'OwnerUserId', 'LastEditorUserId',\n",
       "       'LastEditorDisplayName', 'LastEditDate', 'LastActivityDate', 'Title',\n",
       "       'Tags', 'AnswerCount', 'CommentCount', 'FavoriteCount',\n",
       "       'CommunityOwnedDate', 'ContentLicense', 'ParentId', 'DeletionDate',\n",
       "       'OwnerDisplayName', 'ClosedDate'],\n",
       "      dtype='object')"
      ]
     },
     "execution_count": 13,
     "metadata": {},
     "output_type": "execute_result"
    }
   ],
   "source": [
    "ddf_javaposts.columns"
   ]
  },
  {
   "cell_type": "code",
   "execution_count": 14,
   "id": "cd9523cc-726a-4a20-8167-e093a5ff6168",
   "metadata": {},
   "outputs": [
    {
     "data": {
      "text/plain": [
       "9195"
      ]
     },
     "execution_count": 14,
     "metadata": {},
     "output_type": "execute_result"
    }
   ],
   "source": [
    "ddf_posts.npartitions"
   ]
  },
  {
   "cell_type": "code",
   "execution_count": 15,
   "id": "dd7451f8-bd2a-4364-81ad-65fdd5cf91cf",
   "metadata": {},
   "outputs": [
    {
     "data": {
      "text/plain": [
       "9195"
      ]
     },
     "execution_count": 15,
     "metadata": {},
     "output_type": "execute_result"
    }
   ],
   "source": [
    "ddf_javaposts.npartitions"
   ]
  },
  {
   "cell_type": "markdown",
   "id": "ffbe2870-a849-444b-a09d-db523bdd6ca4",
   "metadata": {},
   "source": [
    "## Start a Dask cluster using SLURM jobs as workers.\n",
    "\n",
    "There are a couple of things we need to configure here:\n",
    "\n",
    "disabling the mechanism to write on disk when workers run out of memory,\n",
    "memory, CPUs, maximum time and number of workers per SLURM job,\n",
    "dask folders for log files and workers data.\n",
    "We recommend putting the log folder and workers data folders in your /nesi/nobackup/<project_code> folder, most indicated for temporary files (see NeSI File Systems and Quotas).\n",
    "\n",
    "All of these options can be set in configuration files, see Dask configuration and Dask jobqueue configuration for more information."
   ]
  },
  {
   "cell_type": "code",
   "execution_count": 16,
   "id": "823e240c-b3a6-4cf6-9c8c-3f457f86c210",
   "metadata": {},
   "outputs": [],
   "source": [
    "#http://jobqueue.dask.org/en/latest/generated/dask_jobqueue.SLURMCluster.html\n",
    "dask.config.set(\n",
    "    {\n",
    "        \"distributed.worker.memory.target\": False,  # avoid spilling to disk\n",
    "        \"distributed.worker.memory.spill\": False,  # avoid spilling to disk\n",
    "    }\n",
    ")\n",
    "cluster = SLURMCluster(\n",
    "    cores=10, #cores=24, # we set each job to have 1 Worker, each using 10 cores (threads) and 8 GB of memory\n",
    "    processes=2,\n",
    "    memory=\"16GiB\",\n",
    "    walltime=\"0-30:30\",# walltime=\"0-00:30\",\n",
    "    log_directory=\"../dask/logs\",  # folder for SLURM logs for each worker\n",
    "    local_directory=\"../dask\",  # folder for workers data\n",
    ")"
   ]
  },
  {
   "cell_type": "code",
   "execution_count": 17,
   "id": "5161be2c-3c73-4029-80a7-41f2396cf825",
   "metadata": {},
   "outputs": [
    {
     "data": {
      "text/html": [
       "<table style=\"border: 2px solid white;\">\n",
       "<tr>\n",
       "<td style=\"vertical-align: top; border: 0px solid white\">\n",
       "<h3 style=\"text-align: left;\">Client</h3>\n",
       "<ul style=\"text-align: left; list-style: none; margin: 0; padding: 0;\">\n",
       "  <li><b>Scheduler: </b>tcp://192.168.94.140:36058</li>\n",
       "  <li><b>Dashboard: </b><a href='http://192.168.94.140:8787/status' target='_blank'>http://192.168.94.140:8787/status</a></li>\n",
       "</ul>\n",
       "</td>\n",
       "<td style=\"vertical-align: top; border: 0px solid white\">\n",
       "<h3 style=\"text-align: left;\">Cluster</h3>\n",
       "<ul style=\"text-align: left; list-style:none; margin: 0; padding: 0;\">\n",
       "  <li><b>Workers: </b>0</li>\n",
       "  <li><b>Cores: </b>0</li>\n",
       "  <li><b>Memory: </b>0 B</li>\n",
       "</ul>\n",
       "</td>\n",
       "</tr>\n",
       "</table>"
      ],
      "text/plain": [
       "<Client: 'tcp://192.168.94.140:36058' processes=0 threads=0, memory=0 B>"
      ]
     },
     "execution_count": 17,
     "metadata": {},
     "output_type": "execute_result"
    }
   ],
   "source": [
    "#cluster.adapt(minimum_jobs=20, maximum_jobs=200)\n",
    "cluster.adapt(minimum_jobs=100, maximum_jobs=200)\n",
    "client = Client(cluster)\n",
    "client"
   ]
  },
  {
   "cell_type": "markdown",
   "id": "6f7ced65-a096-477c-8b01-da80596f64ed",
   "metadata": {},
   "source": [
    "# Process the Posts"
   ]
  },
  {
   "cell_type": "markdown",
   "id": "9dfea7be-fa47-4e20-9c9f-2d1c327aaf9e",
   "metadata": {},
   "source": [
    "## Total number of posts"
   ]
  },
  {
   "cell_type": "code",
   "execution_count": 18,
   "id": "4ab49e4f-1f6c-46ea-b5cc-0b081a0b6805",
   "metadata": {},
   "outputs": [],
   "source": [
    "#init_posts_len = ddf_posts.index.shape[0].compute() # compute length of posts_df\n",
    "#print('Total number of posts: {}'.format(init_posts_len))"
   ]
  },
  {
   "cell_type": "markdown",
   "id": "6c8bfd3b-1939-435c-8111-cbb6fb24dd26",
   "metadata": {},
   "source": [
    "## Drop posts that have NaN in PostTypeId column\n",
    "- because we are goint to make use of the PostTypeId in our comparison"
   ]
  },
  {
   "cell_type": "code",
   "execution_count": 19,
   "id": "c17683c4-99d1-4da2-8348-80965ec5aaba",
   "metadata": {},
   "outputs": [],
   "source": [
    "#ddf_posts = ddf_posts[~ddf_posts.PostTypeId.isna()] "
   ]
  },
  {
   "cell_type": "markdown",
   "id": "b1c3d2fd-40c1-4707-81ac-764fdb9b3cad",
   "metadata": {},
   "source": [
    "## Total number of posts without NaN values in PostTypeId column"
   ]
  },
  {
   "cell_type": "code",
   "execution_count": 20,
   "id": "d44ce1c2-2c79-4f64-b6fe-8e0d5617b7e7",
   "metadata": {},
   "outputs": [],
   "source": [
    "#posts_drp_ptid_nan_len = ddf_posts.index.shape[0].compute()\n",
    "#print(\"Total number of posts without NaN values in the PostTypeId column: {}\".format(posts_drp_ptid_nan_len))"
   ]
  },
  {
   "cell_type": "markdown",
   "id": "1fc59114-93b7-4b12-a6c6-6d5112930acc",
   "metadata": {},
   "source": [
    "## Drop posts that have NaN in the ParentId column\n",
    "- because we are going to make use of the ParentId in our comparison"
   ]
  },
  {
   "cell_type": "code",
   "execution_count": 21,
   "id": "16c683e6-3d40-4871-80de-ffc20e4bbe33",
   "metadata": {},
   "outputs": [],
   "source": [
    "#ddf_posts = ddf_posts[~ddf_posts.ParentId.isna()]"
   ]
  },
  {
   "cell_type": "code",
   "execution_count": 22,
   "id": "2e519be3-17f9-4777-992f-eebd45480108",
   "metadata": {},
   "outputs": [],
   "source": [
    "#posts_drp_ptid_nan_len = ddf_posts.index.shape[0].compute()\n",
    "#print(\"Total number of posts without NaN values in the ParentId column: {}\".format(posts_drp_ptid_nan_len))"
   ]
  },
  {
   "cell_type": "markdown",
   "id": "7a3efcbd-0982-42d8-b4a6-b88e3bd9d964",
   "metadata": {},
   "source": [
    "# Process the Java Posts"
   ]
  },
  {
   "cell_type": "markdown",
   "id": "3a909eeb-280f-495e-bc6c-514ebb2dd32a",
   "metadata": {},
   "source": [
    "## Total number of javaposts\n",
    "- also known as the Java Questions"
   ]
  },
  {
   "cell_type": "code",
   "execution_count": 23,
   "id": "d643887e-4a67-46e8-a06c-11068a69ff0a",
   "metadata": {},
   "outputs": [
    {
     "name": "stdout",
     "output_type": "stream",
     "text": [
      "Total number of javaposts: 1796493\n"
     ]
    }
   ],
   "source": [
    "#init_javaposts_len = ddf_javaposts.index.shape[0].compute()\n",
    "#print(\"Total number of javaposts: {}\".format(init_javaposts_len))"
   ]
  },
  {
   "cell_type": "markdown",
   "id": "2cdcbb7b-be6d-4e6d-9602-3aa4913854ac",
   "metadata": {},
   "source": [
    "## Get all the java Answers\n",
    "- PostId of Post must match with PostId of JavaPost"
   ]
  },
  {
   "cell_type": "code",
   "execution_count": 24,
   "id": "9f985d0c-9f05-422c-8321-a7b4ae2fd5b5",
   "metadata": {},
   "outputs": [],
   "source": [
    "ddf_javaanswers = ddf_posts[ddf_posts.ParentId.isin(ddf_javaposts.Id.compute())] # get all the Posts Ids that is in JavaPosts"
   ]
  },
  {
   "cell_type": "markdown",
   "id": "79e8199e-ba31-4acf-bf8f-a3fe6c7d62de",
   "metadata": {},
   "source": [
    "## Get the total number of java answers"
   ]
  },
  {
   "cell_type": "code",
   "execution_count": null,
   "id": "5e568497-45e1-406f-9c5e-26683b60d16d",
   "metadata": {},
   "outputs": [],
   "source": [
    "javaanswers_len = ddf_javaanswers.index.shape[0].compute() # compute length of javaanswers_df"
   ]
  },
  {
   "cell_type": "markdown",
   "id": "ba1427af-f8c6-4328-b647-bd6c0a9e447a",
   "metadata": {},
   "source": [
    "## Total number of java answers"
   ]
  },
  {
   "cell_type": "code",
   "execution_count": 26,
   "id": "c3adca69-4463-4600-a0a0-e44a4835dd22",
   "metadata": {},
   "outputs": [
    {
     "name": "stdout",
     "output_type": "stream",
     "text": [
      "Total number of java answers: 2922551\n"
     ]
    }
   ],
   "source": [
    "print(\"Total number of java answers: {}\".format(javaanswers_len))"
   ]
  },
  {
   "cell_type": "code",
   "execution_count": null,
   "id": "f1ccf165-0d75-48da-a976-12e52179b59f",
   "metadata": {},
   "outputs": [],
   "source": []
  },
  {
   "cell_type": "code",
   "execution_count": null,
   "id": "82d85bd3-6b57-4b44-8601-64ec8cc66a2a",
   "metadata": {},
   "outputs": [],
   "source": []
  },
  {
   "cell_type": "markdown",
   "id": "f9245ad2-8c8c-43bb-84ae-c3f42f50d3d0",
   "metadata": {},
   "source": [
    "## Make a folder in that directory"
   ]
  },
  {
   "cell_type": "code",
   "execution_count": 27,
   "id": "f7ced5a5-da17-482f-a29c-80ec3e9b1d4b",
   "metadata": {},
   "outputs": [],
   "source": [
    "## Make a folder in that directory\n",
    "folder = '{}/javaanswers_csv'.format(common_path)\n",
    "# output: path/to/Post.csv => path/to\n",
    "mkdir_cmd = 'mkdir {}'.format(folder)\n",
    "cmd = sp.run(\n",
    "    mkdir_cmd, # command\n",
    "    capture_output=True,\n",
    "    text=True,\n",
    "    shell=True\n",
    ")"
   ]
  },
  {
   "cell_type": "raw",
   "id": "1f813d6c-7740-4b9f-ad10-f7c91d391c5e",
   "metadata": {},
   "source": [
    "print(folder)"
   ]
  },
  {
   "cell_type": "markdown",
   "id": "b88f8682-2027-4eab-bec1-320b2b06e243",
   "metadata": {},
   "source": [
    "## Save files in that directory"
   ]
  },
  {
   "cell_type": "code",
   "execution_count": 28,
   "id": "8bceac2f-d819-426d-a24d-bf2eac707514",
   "metadata": {},
   "outputs": [],
   "source": [
    "## Save files in that directory\n",
    "filename = 'JavaAnswers'\n",
    "file = '{}/{}*.csv'.format(folder, filename)\n",
    "_ = ddf_javaanswers.to_csv(file, sep=',', index=False)"
   ]
  },
  {
   "cell_type": "code",
   "execution_count": null,
   "id": "cd43f007-d9fd-4954-b135-ede77b91d5c9",
   "metadata": {},
   "outputs": [],
   "source": []
  },
  {
   "cell_type": "code",
   "execution_count": null,
   "id": "8ad3d98d-d5ff-44d3-8a5e-55f6d5683f6d",
   "metadata": {},
   "outputs": [],
   "source": []
  }
 ],
 "metadata": {
  "kernelspec": {
   "display_name": "Python 3.9.5 (gimkl-2020a)",
   "language": "python",
   "name": "python395-gimkl-2020a"
  },
  "language_info": {
   "codemirror_mode": {
    "name": "ipython",
    "version": 3
   },
   "file_extension": ".py",
   "mimetype": "text/x-python",
   "name": "python",
   "nbconvert_exporter": "python",
   "pygments_lexer": "ipython3",
   "version": "3.9.5"
  }
 },
 "nbformat": 4,
 "nbformat_minor": 5
}
