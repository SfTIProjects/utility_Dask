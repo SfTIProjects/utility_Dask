{
 "cells": [
  {
   "cell_type": "code",
   "execution_count": 1,
   "id": "6973d500-b558-49ca-8915-194011e487c6",
   "metadata": {},
   "outputs": [],
   "source": [
    "import time\n",
    "from datetime import timedelta\n",
    "\n",
    "import html\n",
    "import re\n",
    "\n",
    "import os\n",
    "import ntpath\n",
    "\n",
    "import subprocess as sp\n",
    "\n",
    "import numpy as np\n",
    "import pandas as pd\n",
    "import xml.etree.ElementTree as et\n",
    "\n",
    "import dask\n",
    "import dask.dataframe as dd\n",
    "import dask.bag as bd\n",
    "from dask.distributed import Client\n",
    "from dask_jobqueue import SLURMCluster"
   ]
  },
  {
   "cell_type": "markdown",
   "id": "5fd92652-38a3-433a-9818-89a7e508b8dd",
   "metadata": {},
   "source": [
    "## Enter full path to xml file"
   ]
  },
  {
   "cell_type": "code",
   "execution_count": 2,
   "id": "745fdf46-a4e7-4597-a855-e9c21373a6b0",
   "metadata": {},
   "outputs": [],
   "source": [
    "## Enter full path to xml file\n",
    "#xml_file = 'Badges.xml'\n",
    "#xml_file = '../../../../stackexchange_v2/workspace/input/Badges.xml'\n",
    "xml_file = '../SO_data_dump/Posts.xml'"
   ]
  },
  {
   "cell_type": "code",
   "execution_count": 3,
   "id": "ffc7e613-2782-4f9a-ad0e-cf5a6216e169",
   "metadata": {},
   "outputs": [],
   "source": [
    "#xml_file=input()"
   ]
  },
  {
   "cell_type": "code",
   "execution_count": 4,
   "id": "340c6006-3d25-4141-be38-e585b50121ba",
   "metadata": {},
   "outputs": [],
   "source": [
    "def get_xml_filepath_wtout_ext(file_wt_full_path):\n",
    "    #/a/b/c.xml => /a/b/c\n",
    "    return os.path.splitext(file_wt_full_path)[0]"
   ]
  },
  {
   "cell_type": "code",
   "execution_count": 5,
   "id": "2393d4e1-2766-44c9-a175-01cc04b656d8",
   "metadata": {},
   "outputs": [],
   "source": [
    "def get_xml_filename(file_wt_full_path):\n",
    "    filepath_wout_ext = get_xml_filepath_wtout_ext(file_wt_full_path)\n",
    "    #/a/b/c => c\n",
    "    return ntpath.basename(filepath_wout_ext)\n"
   ]
  },
  {
   "cell_type": "code",
   "execution_count": 6,
   "id": "45dc3844-8909-48f6-8f98-e991e085998e",
   "metadata": {},
   "outputs": [],
   "source": [
    "def get_filepath(file_wt_full_path):\n",
    "    #/a/b/c.csv => /a/b\n",
    "    return os.path.dirname(file_wt_full_path)"
   ]
  },
  {
   "cell_type": "code",
   "execution_count": 7,
   "id": "83b622da-29fc-4ccd-9305-75898b5c42d0",
   "metadata": {},
   "outputs": [],
   "source": [
    "def get_file(file_wt_full_path):\n",
    "    #/a/b/c.csv => c.csv\n",
    "    return os.path.basename(file_wt_full_path)"
   ]
  },
  {
   "cell_type": "markdown",
   "id": "6d1e17f2-94ec-4527-ad05-43dc6675e4e8",
   "metadata": {},
   "source": [
    "## Read xml file in block sizes"
   ]
  },
  {
   "cell_type": "code",
   "execution_count": 8,
   "id": "21cacf20-7bf2-4d05-8e3d-995623e72d5c",
   "metadata": {},
   "outputs": [],
   "source": [
    "## Read xml file in block sizes\n",
    "bg = bd.read_text(xml_file, blocksize='10MB')"
   ]
  },
  {
   "cell_type": "code",
   "execution_count": 9,
   "id": "65758d23-a660-4194-b866-04dc124f4e9c",
   "metadata": {},
   "outputs": [
    {
     "data": {
      "text/plain": [
       "dask.bag<bag-from-delayed, npartitions=9354>"
      ]
     },
     "execution_count": 9,
     "metadata": {},
     "output_type": "execute_result"
    }
   ],
   "source": [
    "bg"
   ]
  },
  {
   "cell_type": "code",
   "execution_count": 10,
   "id": "3abeaa57-7560-48b6-a2f4-1d10c9f68b32",
   "metadata": {},
   "outputs": [
    {
     "data": {
      "text/plain": [
       "('\\ufeff<?xml version=\"1.0\" encoding=\"utf-8\"?>\\n',)"
      ]
     },
     "execution_count": 10,
     "metadata": {},
     "output_type": "execute_result"
    }
   ],
   "source": [
    "bg.take(1)"
   ]
  },
  {
   "cell_type": "code",
   "execution_count": 11,
   "id": "b3afc6b0-c506-4bdb-976b-e178b2798d16",
   "metadata": {},
   "outputs": [
    {
     "data": {
      "text/plain": [
       "('\\ufeff<?xml version=\"1.0\" encoding=\"utf-8\"?>\\n',\n",
       " '<posts>\\n',\n",
       " '  <row Id=\"4\" PostTypeId=\"1\" AcceptedAnswerId=\"7\" CreationDate=\"2008-07-31T21:42:52.667\" Score=\"742\" ViewCount=\"61738\" Body=\"&lt;p&gt;I want to use a &lt;code&gt;Track-Bar&lt;/code&gt; to change a &lt;code&gt;Form&lt;/code&gt;\\'s opacity.&lt;/p&gt;&#xA;&lt;p&gt;This is my code:&lt;/p&gt;&#xA;&lt;pre class=&quot;lang-cs prettyprint-override&quot;&gt;&lt;code&gt;decimal trans = trackBar1.Value / 5000;&#xA;this.Opacity = trans;&#xA;&lt;/code&gt;&lt;/pre&gt;&#xA;&lt;p&gt;When I build the application, it gives the following error:&lt;/p&gt;&#xA;&lt;blockquote&gt;&#xA;&lt;pre class=&quot;lang-none prettyprint-override&quot;&gt;&lt;code&gt;Cannot implicitly convert type decimal to double&#xA;&lt;/code&gt;&lt;/pre&gt;&#xA;&lt;/blockquote&gt;&#xA;&lt;p&gt;I have tried using &lt;code&gt;trans&lt;/code&gt; and &lt;code&gt;double&lt;/code&gt;, but then the &lt;code&gt;Control&lt;/code&gt; doesn\\'t work. This code worked fine in a past VB.NET project.&lt;/p&gt;&#xA;\" OwnerUserId=\"8\" LastEditorUserId=\"3072350\" LastEditorDisplayName=\"Rich B\" LastEditDate=\"2021-02-26T03:31:15.027\" LastActivityDate=\"2021-11-15T21:15:29.713\" Title=\"How to convert a Decimal to a Double in C#?\" Tags=\"&lt;c#&gt;&lt;floating-point&gt;&lt;type-conversion&gt;&lt;double&gt;&lt;decimal&gt;\" AnswerCount=\"12\" CommentCount=\"3\" FavoriteCount=\"59\" CommunityOwnedDate=\"2012-10-31T16:42:47.213\" ContentLicense=\"CC BY-SA 4.0\" />\\n',\n",
       " '  <row Id=\"6\" PostTypeId=\"1\" AcceptedAnswerId=\"31\" CreationDate=\"2008-07-31T22:08:08.620\" Score=\"309\" ViewCount=\"22174\" Body=\"&lt;p&gt;I have an absolutely positioned &lt;code&gt;div&lt;/code&gt; containing several children, one of which is a relatively positioned &lt;code&gt;div&lt;/code&gt;. When I use a &lt;code&gt;percentage-based width&lt;/code&gt; on the child &lt;code&gt;div&lt;/code&gt;, it collapses to &lt;code&gt;0 width&lt;/code&gt; on IE7, but not on Firefox or Safari.&lt;/p&gt;&#xA;&lt;p&gt;If I use &lt;code&gt;pixel width&lt;/code&gt;, it works. If the parent is relatively positioned, the percentage width on the child works.&lt;/p&gt;&#xA;&lt;ol&gt;&#xA;&lt;li&gt;Is there something I\\'m missing here?&lt;/li&gt;&#xA;&lt;li&gt;Is there an easy fix for this besides the &lt;code&gt;pixel-based width&lt;/code&gt; on the child?&lt;/li&gt;&#xA;&lt;li&gt;Is there an area of the CSS specification that covers this?&lt;/li&gt;&#xA;&lt;/ol&gt;&#xA;\" OwnerUserId=\"9\" LastEditorUserId=\"9134576\" LastEditorDisplayName=\"user14723686\" LastEditDate=\"2021-01-29T18:46:45.963\" LastActivityDate=\"2021-01-29T18:46:45.963\" Title=\"Why did the width collapse in the percentage width child element in an absolutely positioned parent on Internet Explorer 7?\" Tags=\"&lt;html&gt;&lt;css&gt;&lt;internet-explorer-7&gt;\" AnswerCount=\"7\" CommentCount=\"0\" FavoriteCount=\"13\" ContentLicense=\"CC BY-SA 4.0\" />\\n',\n",
       " '  <row Id=\"7\" PostTypeId=\"2\" ParentId=\"4\" CreationDate=\"2008-07-31T22:17:57.883\" Score=\"495\" Body=\"&lt;p&gt;An explicit cast to &lt;code&gt;double&lt;/code&gt; like this isn\\'t necessary:&lt;/p&gt;&#xA;&#xA;&lt;pre&gt;&lt;code&gt;double trans = (double) trackBar1.Value / 5000.0;&#xA;&lt;/code&gt;&lt;/pre&gt;&#xA;&#xA;&lt;p&gt;Identifying the constant as &lt;code&gt;5000.0&lt;/code&gt; (or as &lt;code&gt;5000d&lt;/code&gt;) is sufficient:&lt;/p&gt;&#xA;&#xA;&lt;pre&gt;&lt;code&gt;double trans = trackBar1.Value / 5000.0;&#xA;double trans = trackBar1.Value / 5000d;&#xA;&lt;/code&gt;&lt;/pre&gt;&#xA;\" OwnerUserId=\"9\" LastEditorUserId=\"5496973\" LastEditDate=\"2019-10-21T14:03:54.607\" LastActivityDate=\"2019-10-21T14:03:54.607\" CommentCount=\"0\" ContentLicense=\"CC BY-SA 4.0\" />\\n')"
      ]
     },
     "execution_count": 11,
     "metadata": {},
     "output_type": "execute_result"
    }
   ],
   "source": [
    "bg.take(5)"
   ]
  },
  {
   "cell_type": "markdown",
   "id": "10b769c8-8182-4fc2-bfe4-41efc2b043fe",
   "metadata": {},
   "source": [
    "## Replace the xml header with empty string '<xml ...>' => ''"
   ]
  },
  {
   "cell_type": "code",
   "execution_count": 12,
   "id": "f29480ea-8ec4-4988-89e6-8e57e78c2188",
   "metadata": {},
   "outputs": [],
   "source": [
    "## Replace the xml header with empty string '<xml ...>' => ''\n",
    "bg = bg.map(lambda line: re.sub(r'\\ufeff\\s*<\\s*\\?xml.*\\?>\\n', '', line)) "
   ]
  },
  {
   "cell_type": "code",
   "execution_count": 13,
   "id": "0562a02e-bd8e-40cc-9a7f-c1f674b5a885",
   "metadata": {},
   "outputs": [
    {
     "data": {
      "text/plain": [
       "('',\n",
       " '<posts>\\n',\n",
       " '  <row Id=\"4\" PostTypeId=\"1\" AcceptedAnswerId=\"7\" CreationDate=\"2008-07-31T21:42:52.667\" Score=\"742\" ViewCount=\"61738\" Body=\"&lt;p&gt;I want to use a &lt;code&gt;Track-Bar&lt;/code&gt; to change a &lt;code&gt;Form&lt;/code&gt;\\'s opacity.&lt;/p&gt;&#xA;&lt;p&gt;This is my code:&lt;/p&gt;&#xA;&lt;pre class=&quot;lang-cs prettyprint-override&quot;&gt;&lt;code&gt;decimal trans = trackBar1.Value / 5000;&#xA;this.Opacity = trans;&#xA;&lt;/code&gt;&lt;/pre&gt;&#xA;&lt;p&gt;When I build the application, it gives the following error:&lt;/p&gt;&#xA;&lt;blockquote&gt;&#xA;&lt;pre class=&quot;lang-none prettyprint-override&quot;&gt;&lt;code&gt;Cannot implicitly convert type decimal to double&#xA;&lt;/code&gt;&lt;/pre&gt;&#xA;&lt;/blockquote&gt;&#xA;&lt;p&gt;I have tried using &lt;code&gt;trans&lt;/code&gt; and &lt;code&gt;double&lt;/code&gt;, but then the &lt;code&gt;Control&lt;/code&gt; doesn\\'t work. This code worked fine in a past VB.NET project.&lt;/p&gt;&#xA;\" OwnerUserId=\"8\" LastEditorUserId=\"3072350\" LastEditorDisplayName=\"Rich B\" LastEditDate=\"2021-02-26T03:31:15.027\" LastActivityDate=\"2021-11-15T21:15:29.713\" Title=\"How to convert a Decimal to a Double in C#?\" Tags=\"&lt;c#&gt;&lt;floating-point&gt;&lt;type-conversion&gt;&lt;double&gt;&lt;decimal&gt;\" AnswerCount=\"12\" CommentCount=\"3\" FavoriteCount=\"59\" CommunityOwnedDate=\"2012-10-31T16:42:47.213\" ContentLicense=\"CC BY-SA 4.0\" />\\n',\n",
       " '  <row Id=\"6\" PostTypeId=\"1\" AcceptedAnswerId=\"31\" CreationDate=\"2008-07-31T22:08:08.620\" Score=\"309\" ViewCount=\"22174\" Body=\"&lt;p&gt;I have an absolutely positioned &lt;code&gt;div&lt;/code&gt; containing several children, one of which is a relatively positioned &lt;code&gt;div&lt;/code&gt;. When I use a &lt;code&gt;percentage-based width&lt;/code&gt; on the child &lt;code&gt;div&lt;/code&gt;, it collapses to &lt;code&gt;0 width&lt;/code&gt; on IE7, but not on Firefox or Safari.&lt;/p&gt;&#xA;&lt;p&gt;If I use &lt;code&gt;pixel width&lt;/code&gt;, it works. If the parent is relatively positioned, the percentage width on the child works.&lt;/p&gt;&#xA;&lt;ol&gt;&#xA;&lt;li&gt;Is there something I\\'m missing here?&lt;/li&gt;&#xA;&lt;li&gt;Is there an easy fix for this besides the &lt;code&gt;pixel-based width&lt;/code&gt; on the child?&lt;/li&gt;&#xA;&lt;li&gt;Is there an area of the CSS specification that covers this?&lt;/li&gt;&#xA;&lt;/ol&gt;&#xA;\" OwnerUserId=\"9\" LastEditorUserId=\"9134576\" LastEditorDisplayName=\"user14723686\" LastEditDate=\"2021-01-29T18:46:45.963\" LastActivityDate=\"2021-01-29T18:46:45.963\" Title=\"Why did the width collapse in the percentage width child element in an absolutely positioned parent on Internet Explorer 7?\" Tags=\"&lt;html&gt;&lt;css&gt;&lt;internet-explorer-7&gt;\" AnswerCount=\"7\" CommentCount=\"0\" FavoriteCount=\"13\" ContentLicense=\"CC BY-SA 4.0\" />\\n',\n",
       " '  <row Id=\"7\" PostTypeId=\"2\" ParentId=\"4\" CreationDate=\"2008-07-31T22:17:57.883\" Score=\"495\" Body=\"&lt;p&gt;An explicit cast to &lt;code&gt;double&lt;/code&gt; like this isn\\'t necessary:&lt;/p&gt;&#xA;&#xA;&lt;pre&gt;&lt;code&gt;double trans = (double) trackBar1.Value / 5000.0;&#xA;&lt;/code&gt;&lt;/pre&gt;&#xA;&#xA;&lt;p&gt;Identifying the constant as &lt;code&gt;5000.0&lt;/code&gt; (or as &lt;code&gt;5000d&lt;/code&gt;) is sufficient:&lt;/p&gt;&#xA;&#xA;&lt;pre&gt;&lt;code&gt;double trans = trackBar1.Value / 5000.0;&#xA;double trans = trackBar1.Value / 5000d;&#xA;&lt;/code&gt;&lt;/pre&gt;&#xA;\" OwnerUserId=\"9\" LastEditorUserId=\"5496973\" LastEditDate=\"2019-10-21T14:03:54.607\" LastActivityDate=\"2019-10-21T14:03:54.607\" CommentCount=\"0\" ContentLicense=\"CC BY-SA 4.0\" />\\n')"
      ]
     },
     "execution_count": 13,
     "metadata": {},
     "output_type": "execute_result"
    }
   ],
   "source": [
    "bg.take(5)"
   ]
  },
  {
   "cell_type": "markdown",
   "id": "f2fdb380-3eb6-4823-a9d0-cc23d33a5734",
   "metadata": {},
   "source": [
    "## Get the filename without the xml extension "
   ]
  },
  {
   "cell_type": "code",
   "execution_count": 14,
   "id": "89740dec-cc1e-4daa-81f6-ec5ee7a5632b",
   "metadata": {},
   "outputs": [
    {
     "name": "stdout",
     "output_type": "stream",
     "text": [
      "Posts\n"
     ]
    }
   ],
   "source": [
    "## Get the filename without the xml extension \n",
    "filename = get_xml_filename(xml_file)\n",
    "print(filename)"
   ]
  },
  {
   "cell_type": "markdown",
   "id": "334f740d-82e5-481e-92a6-337ff418fc6c",
   "metadata": {},
   "source": [
    "## Make the filename lower case to get a tag"
   ]
  },
  {
   "cell_type": "code",
   "execution_count": 15,
   "id": "9c2841ea-7028-4df4-948b-7be1efbaa2e4",
   "metadata": {},
   "outputs": [
    {
     "name": "stdout",
     "output_type": "stream",
     "text": [
      "posts\n"
     ]
    }
   ],
   "source": [
    "## Make the filename lower case to get a tag\n",
    "tag = filename.lower()\n",
    "print(tag)"
   ]
  },
  {
   "cell_type": "markdown",
   "id": "18016507-eb8b-47d1-a387-44d47a11f344",
   "metadata": {},
   "source": [
    "## Drop wherever this tag occurs in the xml file"
   ]
  },
  {
   "cell_type": "code",
   "execution_count": 16,
   "id": "a9278ea1-7d19-40fd-9b85-4bffc1669514",
   "metadata": {},
   "outputs": [],
   "source": [
    "## Drop wherever this tag occurs in the xml file\n",
    "bg = bg.map(lambda line: re.sub(r'\\s*<{}\\s*.*?>\\n|</{}>'.format(tag, tag), '', line))"
   ]
  },
  {
   "cell_type": "code",
   "execution_count": 17,
   "id": "7fc86fee-e79b-4464-b64e-45480ecbb0d8",
   "metadata": {},
   "outputs": [
    {
     "data": {
      "text/plain": [
       "('',\n",
       " '',\n",
       " '  <row Id=\"4\" PostTypeId=\"1\" AcceptedAnswerId=\"7\" CreationDate=\"2008-07-31T21:42:52.667\" Score=\"742\" ViewCount=\"61738\" Body=\"&lt;p&gt;I want to use a &lt;code&gt;Track-Bar&lt;/code&gt; to change a &lt;code&gt;Form&lt;/code&gt;\\'s opacity.&lt;/p&gt;&#xA;&lt;p&gt;This is my code:&lt;/p&gt;&#xA;&lt;pre class=&quot;lang-cs prettyprint-override&quot;&gt;&lt;code&gt;decimal trans = trackBar1.Value / 5000;&#xA;this.Opacity = trans;&#xA;&lt;/code&gt;&lt;/pre&gt;&#xA;&lt;p&gt;When I build the application, it gives the following error:&lt;/p&gt;&#xA;&lt;blockquote&gt;&#xA;&lt;pre class=&quot;lang-none prettyprint-override&quot;&gt;&lt;code&gt;Cannot implicitly convert type decimal to double&#xA;&lt;/code&gt;&lt;/pre&gt;&#xA;&lt;/blockquote&gt;&#xA;&lt;p&gt;I have tried using &lt;code&gt;trans&lt;/code&gt; and &lt;code&gt;double&lt;/code&gt;, but then the &lt;code&gt;Control&lt;/code&gt; doesn\\'t work. This code worked fine in a past VB.NET project.&lt;/p&gt;&#xA;\" OwnerUserId=\"8\" LastEditorUserId=\"3072350\" LastEditorDisplayName=\"Rich B\" LastEditDate=\"2021-02-26T03:31:15.027\" LastActivityDate=\"2021-11-15T21:15:29.713\" Title=\"How to convert a Decimal to a Double in C#?\" Tags=\"&lt;c#&gt;&lt;floating-point&gt;&lt;type-conversion&gt;&lt;double&gt;&lt;decimal&gt;\" AnswerCount=\"12\" CommentCount=\"3\" FavoriteCount=\"59\" CommunityOwnedDate=\"2012-10-31T16:42:47.213\" ContentLicense=\"CC BY-SA 4.0\" />\\n',\n",
       " '  <row Id=\"6\" PostTypeId=\"1\" AcceptedAnswerId=\"31\" CreationDate=\"2008-07-31T22:08:08.620\" Score=\"309\" ViewCount=\"22174\" Body=\"&lt;p&gt;I have an absolutely positioned &lt;code&gt;div&lt;/code&gt; containing several children, one of which is a relatively positioned &lt;code&gt;div&lt;/code&gt;. When I use a &lt;code&gt;percentage-based width&lt;/code&gt; on the child &lt;code&gt;div&lt;/code&gt;, it collapses to &lt;code&gt;0 width&lt;/code&gt; on IE7, but not on Firefox or Safari.&lt;/p&gt;&#xA;&lt;p&gt;If I use &lt;code&gt;pixel width&lt;/code&gt;, it works. If the parent is relatively positioned, the percentage width on the child works.&lt;/p&gt;&#xA;&lt;ol&gt;&#xA;&lt;li&gt;Is there something I\\'m missing here?&lt;/li&gt;&#xA;&lt;li&gt;Is there an easy fix for this besides the &lt;code&gt;pixel-based width&lt;/code&gt; on the child?&lt;/li&gt;&#xA;&lt;li&gt;Is there an area of the CSS specification that covers this?&lt;/li&gt;&#xA;&lt;/ol&gt;&#xA;\" OwnerUserId=\"9\" LastEditorUserId=\"9134576\" LastEditorDisplayName=\"user14723686\" LastEditDate=\"2021-01-29T18:46:45.963\" LastActivityDate=\"2021-01-29T18:46:45.963\" Title=\"Why did the width collapse in the percentage width child element in an absolutely positioned parent on Internet Explorer 7?\" Tags=\"&lt;html&gt;&lt;css&gt;&lt;internet-explorer-7&gt;\" AnswerCount=\"7\" CommentCount=\"0\" FavoriteCount=\"13\" ContentLicense=\"CC BY-SA 4.0\" />\\n',\n",
       " '  <row Id=\"7\" PostTypeId=\"2\" ParentId=\"4\" CreationDate=\"2008-07-31T22:17:57.883\" Score=\"495\" Body=\"&lt;p&gt;An explicit cast to &lt;code&gt;double&lt;/code&gt; like this isn\\'t necessary:&lt;/p&gt;&#xA;&#xA;&lt;pre&gt;&lt;code&gt;double trans = (double) trackBar1.Value / 5000.0;&#xA;&lt;/code&gt;&lt;/pre&gt;&#xA;&#xA;&lt;p&gt;Identifying the constant as &lt;code&gt;5000.0&lt;/code&gt; (or as &lt;code&gt;5000d&lt;/code&gt;) is sufficient:&lt;/p&gt;&#xA;&#xA;&lt;pre&gt;&lt;code&gt;double trans = trackBar1.Value / 5000.0;&#xA;double trans = trackBar1.Value / 5000d;&#xA;&lt;/code&gt;&lt;/pre&gt;&#xA;\" OwnerUserId=\"9\" LastEditorUserId=\"5496973\" LastEditDate=\"2019-10-21T14:03:54.607\" LastActivityDate=\"2019-10-21T14:03:54.607\" CommentCount=\"0\" ContentLicense=\"CC BY-SA 4.0\" />\\n')"
      ]
     },
     "execution_count": 17,
     "metadata": {},
     "output_type": "execute_result"
    }
   ],
   "source": [
    "bg.take(5)"
   ]
  },
  {
   "cell_type": "markdown",
   "id": "6067a689-9912-4349-9b7e-67b80cb87db3",
   "metadata": {},
   "source": [
    "## Filter out just the rows"
   ]
  },
  {
   "cell_type": "code",
   "execution_count": 18,
   "id": "045fc0c2-f2e0-4cb7-aadc-cb219d90e5f8",
   "metadata": {},
   "outputs": [],
   "source": [
    "## Filter out just the rows\n",
    "bg = bg.filter(lambda line: line.find('<row') >= 0)"
   ]
  },
  {
   "cell_type": "code",
   "execution_count": 19,
   "id": "c0a49516-b8a8-456b-91d3-3b4f8d39f08c",
   "metadata": {},
   "outputs": [
    {
     "data": {
      "text/plain": [
       "('  <row Id=\"4\" PostTypeId=\"1\" AcceptedAnswerId=\"7\" CreationDate=\"2008-07-31T21:42:52.667\" Score=\"742\" ViewCount=\"61738\" Body=\"&lt;p&gt;I want to use a &lt;code&gt;Track-Bar&lt;/code&gt; to change a &lt;code&gt;Form&lt;/code&gt;\\'s opacity.&lt;/p&gt;&#xA;&lt;p&gt;This is my code:&lt;/p&gt;&#xA;&lt;pre class=&quot;lang-cs prettyprint-override&quot;&gt;&lt;code&gt;decimal trans = trackBar1.Value / 5000;&#xA;this.Opacity = trans;&#xA;&lt;/code&gt;&lt;/pre&gt;&#xA;&lt;p&gt;When I build the application, it gives the following error:&lt;/p&gt;&#xA;&lt;blockquote&gt;&#xA;&lt;pre class=&quot;lang-none prettyprint-override&quot;&gt;&lt;code&gt;Cannot implicitly convert type decimal to double&#xA;&lt;/code&gt;&lt;/pre&gt;&#xA;&lt;/blockquote&gt;&#xA;&lt;p&gt;I have tried using &lt;code&gt;trans&lt;/code&gt; and &lt;code&gt;double&lt;/code&gt;, but then the &lt;code&gt;Control&lt;/code&gt; doesn\\'t work. This code worked fine in a past VB.NET project.&lt;/p&gt;&#xA;\" OwnerUserId=\"8\" LastEditorUserId=\"3072350\" LastEditorDisplayName=\"Rich B\" LastEditDate=\"2021-02-26T03:31:15.027\" LastActivityDate=\"2021-11-15T21:15:29.713\" Title=\"How to convert a Decimal to a Double in C#?\" Tags=\"&lt;c#&gt;&lt;floating-point&gt;&lt;type-conversion&gt;&lt;double&gt;&lt;decimal&gt;\" AnswerCount=\"12\" CommentCount=\"3\" FavoriteCount=\"59\" CommunityOwnedDate=\"2012-10-31T16:42:47.213\" ContentLicense=\"CC BY-SA 4.0\" />\\n',\n",
       " '  <row Id=\"6\" PostTypeId=\"1\" AcceptedAnswerId=\"31\" CreationDate=\"2008-07-31T22:08:08.620\" Score=\"309\" ViewCount=\"22174\" Body=\"&lt;p&gt;I have an absolutely positioned &lt;code&gt;div&lt;/code&gt; containing several children, one of which is a relatively positioned &lt;code&gt;div&lt;/code&gt;. When I use a &lt;code&gt;percentage-based width&lt;/code&gt; on the child &lt;code&gt;div&lt;/code&gt;, it collapses to &lt;code&gt;0 width&lt;/code&gt; on IE7, but not on Firefox or Safari.&lt;/p&gt;&#xA;&lt;p&gt;If I use &lt;code&gt;pixel width&lt;/code&gt;, it works. If the parent is relatively positioned, the percentage width on the child works.&lt;/p&gt;&#xA;&lt;ol&gt;&#xA;&lt;li&gt;Is there something I\\'m missing here?&lt;/li&gt;&#xA;&lt;li&gt;Is there an easy fix for this besides the &lt;code&gt;pixel-based width&lt;/code&gt; on the child?&lt;/li&gt;&#xA;&lt;li&gt;Is there an area of the CSS specification that covers this?&lt;/li&gt;&#xA;&lt;/ol&gt;&#xA;\" OwnerUserId=\"9\" LastEditorUserId=\"9134576\" LastEditorDisplayName=\"user14723686\" LastEditDate=\"2021-01-29T18:46:45.963\" LastActivityDate=\"2021-01-29T18:46:45.963\" Title=\"Why did the width collapse in the percentage width child element in an absolutely positioned parent on Internet Explorer 7?\" Tags=\"&lt;html&gt;&lt;css&gt;&lt;internet-explorer-7&gt;\" AnswerCount=\"7\" CommentCount=\"0\" FavoriteCount=\"13\" ContentLicense=\"CC BY-SA 4.0\" />\\n',\n",
       " '  <row Id=\"7\" PostTypeId=\"2\" ParentId=\"4\" CreationDate=\"2008-07-31T22:17:57.883\" Score=\"495\" Body=\"&lt;p&gt;An explicit cast to &lt;code&gt;double&lt;/code&gt; like this isn\\'t necessary:&lt;/p&gt;&#xA;&#xA;&lt;pre&gt;&lt;code&gt;double trans = (double) trackBar1.Value / 5000.0;&#xA;&lt;/code&gt;&lt;/pre&gt;&#xA;&#xA;&lt;p&gt;Identifying the constant as &lt;code&gt;5000.0&lt;/code&gt; (or as &lt;code&gt;5000d&lt;/code&gt;) is sufficient:&lt;/p&gt;&#xA;&#xA;&lt;pre&gt;&lt;code&gt;double trans = trackBar1.Value / 5000.0;&#xA;double trans = trackBar1.Value / 5000d;&#xA;&lt;/code&gt;&lt;/pre&gt;&#xA;\" OwnerUserId=\"9\" LastEditorUserId=\"5496973\" LastEditDate=\"2019-10-21T14:03:54.607\" LastActivityDate=\"2019-10-21T14:03:54.607\" CommentCount=\"0\" ContentLicense=\"CC BY-SA 4.0\" />\\n',\n",
       " '  <row Id=\"9\" PostTypeId=\"1\" AcceptedAnswerId=\"1404\" CreationDate=\"2008-07-31T23:40:59.743\" Score=\"2069\" ViewCount=\"709135\" Body=\"&lt;p&gt;Given a &lt;code&gt;DateTime&lt;/code&gt; representing a person\\'s birthday, how do I calculate their age in years?&lt;/p&gt;&#xA;\" OwnerUserId=\"1\" LastEditorUserId=\"6537157\" LastEditorDisplayName=\"Rich B\" LastEditDate=\"2021-01-05T17:33:32.393\" LastActivityDate=\"2021-11-15T21:33:05.663\" Title=\"How do I calculate someone\\'s age based on a DateTime type birthday?\" Tags=\"&lt;c#&gt;&lt;.net&gt;&lt;datetime&gt;\" AnswerCount=\"68\" CommentCount=\"10\" FavoriteCount=\"483\" CommunityOwnedDate=\"2011-08-16T19:40:43.080\" ContentLicense=\"CC BY-SA 4.0\" />\\n',\n",
       " '  <row Id=\"11\" PostTypeId=\"1\" AcceptedAnswerId=\"1248\" CreationDate=\"2008-07-31T23:55:37.967\" Score=\"1596\" ViewCount=\"184424\" Body=\"&lt;p&gt;Given a specific &lt;code&gt;DateTime&lt;/code&gt; value, how do I display relative time, like:&lt;/p&gt;&#xA;&#xA;&lt;ul&gt;&#xA;&lt;li&gt;2 hours ago&lt;/li&gt;&#xA;&lt;li&gt;3 days ago&lt;/li&gt;&#xA;&lt;li&gt;a month ago&lt;/li&gt;&#xA;&lt;/ul&gt;&#xA;\" OwnerUserId=\"1\" LastEditorUserId=\"6479704\" LastEditorDisplayName=\"user2370523\" LastEditDate=\"2017-06-04T15:51:19.780\" LastActivityDate=\"2021-09-01T21:49:09.617\" Title=\"Calculate relative time in C#\" Tags=\"&lt;c#&gt;&lt;datetime&gt;&lt;time&gt;&lt;datediff&gt;&lt;relative-time-span&gt;\" AnswerCount=\"40\" CommentCount=\"3\" FavoriteCount=\"552\" CommunityOwnedDate=\"2009-09-04T13:15:59.820\" ContentLicense=\"CC BY-SA 3.0\" />\\n')"
      ]
     },
     "execution_count": 19,
     "metadata": {},
     "output_type": "execute_result"
    }
   ],
   "source": [
    "bg.take(5)"
   ]
  },
  {
   "cell_type": "code",
   "execution_count": null,
   "id": "5d307ce0-766a-4511-a5a7-d3f732934545",
   "metadata": {},
   "outputs": [],
   "source": []
  },
  {
   "cell_type": "code",
   "execution_count": null,
   "id": "e1760467-ca07-42f0-9775-0da8bb8ca08b",
   "metadata": {},
   "outputs": [],
   "source": []
  },
  {
   "cell_type": "markdown",
   "id": "88dfeb3c-377e-4b75-b941-cc1595331cb9",
   "metadata": {},
   "source": [
    "## Use ElementTree to get all the attrbutes in xml tags"
   ]
  },
  {
   "cell_type": "code",
   "execution_count": 20,
   "id": "71c5687a-0a92-47b3-849c-454322b02c1e",
   "metadata": {},
   "outputs": [],
   "source": [
    "# Add extra key value to dict if they do not exixt\n",
    "def add_key_val_if_not_exist(_dict):\n",
    "    _dict\n",
    "    keys = [\n",
    "        'Id',\n",
    "        'PostTypeId',\n",
    "        'AcceptedAnswerId',\n",
    "        'ParentId', \n",
    "        'CreationDate',\n",
    "        'DeletionDate',\n",
    "        'Score',\n",
    "        'ViewCount',\n",
    "        'Body',\n",
    "        'OwnerUserId',\n",
    "        'OwnerDisplayName',\n",
    "        'LastEditorUserId',\n",
    "        'LastEditorDisplayName',\n",
    "        'LastEditDate',\n",
    "        'LastActivityDate', \n",
    "        'Title',\n",
    "        'Tags', \n",
    "        'AnswerCount',\n",
    "        'CommentCount',\n",
    "        'FavoriteCount',\n",
    "        'ClosedDate',\n",
    "        'CommunityOwnedDate',\n",
    "        'ContentLicense'\n",
    "    ]\n",
    "    value=''\n",
    "    for key in keys:\n",
    "        if key not in _dict:\n",
    "            _dict[key] = value\n",
    "    return _dict"
   ]
  },
  {
   "cell_type": "code",
   "execution_count": 21,
   "id": "4b0369a5-db97-406f-b319-94270a4e2e25",
   "metadata": {},
   "outputs": [],
   "source": [
    "#https://stackoverflow.com/questions/43921237/access-nested-children-in-xml-file-parsed-with-elementtree\n",
    "def content(root):\n",
    "    list_of_dicts = []\n",
    "    for child in root.iter():\n",
    "        # update dict with keys that do not exist\n",
    "        _dict = add_key_val_if_not_exist(child.attrib)\n",
    "        list_of_dicts.append(_dict)\n",
    "    \n",
    "    return list_of_dicts"
   ]
  },
  {
   "cell_type": "code",
   "execution_count": 22,
   "id": "a671eb8e-23bf-424e-bb92-82260aa9c7d7",
   "metadata": {},
   "outputs": [],
   "source": [
    "## Use ElementTree to get all the attrbutes in xml tags\n",
    "#bg = bg.map(lambda row: et.fromstring(row).attrib)\n",
    "bg = bg.map(lambda row: content(et.fromstring(row)))"
   ]
  },
  {
   "cell_type": "code",
   "execution_count": 23,
   "id": "170b7be5-1899-4d82-80de-0c2dd75b1c56",
   "metadata": {},
   "outputs": [
    {
     "data": {
      "text/plain": [
       "([{'Id': '4',\n",
       "   'PostTypeId': '1',\n",
       "   'AcceptedAnswerId': '7',\n",
       "   'CreationDate': '2008-07-31T21:42:52.667',\n",
       "   'Score': '742',\n",
       "   'ViewCount': '61738',\n",
       "   'Body': '<p>I want to use a <code>Track-Bar</code> to change a <code>Form</code>\\'s opacity.</p>\\n<p>This is my code:</p>\\n<pre class=\"lang-cs prettyprint-override\"><code>decimal trans = trackBar1.Value / 5000;\\nthis.Opacity = trans;\\n</code></pre>\\n<p>When I build the application, it gives the following error:</p>\\n<blockquote>\\n<pre class=\"lang-none prettyprint-override\"><code>Cannot implicitly convert type decimal to double\\n</code></pre>\\n</blockquote>\\n<p>I have tried using <code>trans</code> and <code>double</code>, but then the <code>Control</code> doesn\\'t work. This code worked fine in a past VB.NET project.</p>\\n',\n",
       "   'OwnerUserId': '8',\n",
       "   'LastEditorUserId': '3072350',\n",
       "   'LastEditorDisplayName': 'Rich B',\n",
       "   'LastEditDate': '2021-02-26T03:31:15.027',\n",
       "   'LastActivityDate': '2021-11-15T21:15:29.713',\n",
       "   'Title': 'How to convert a Decimal to a Double in C#?',\n",
       "   'Tags': '<c#><floating-point><type-conversion><double><decimal>',\n",
       "   'AnswerCount': '12',\n",
       "   'CommentCount': '3',\n",
       "   'FavoriteCount': '59',\n",
       "   'CommunityOwnedDate': '2012-10-31T16:42:47.213',\n",
       "   'ContentLicense': 'CC BY-SA 4.0',\n",
       "   'ParentId': '',\n",
       "   'DeletionDate': '',\n",
       "   'OwnerDisplayName': '',\n",
       "   'ClosedDate': ''}],\n",
       " [{'Id': '6',\n",
       "   'PostTypeId': '1',\n",
       "   'AcceptedAnswerId': '31',\n",
       "   'CreationDate': '2008-07-31T22:08:08.620',\n",
       "   'Score': '309',\n",
       "   'ViewCount': '22174',\n",
       "   'Body': \"<p>I have an absolutely positioned <code>div</code> containing several children, one of which is a relatively positioned <code>div</code>. When I use a <code>percentage-based width</code> on the child <code>div</code>, it collapses to <code>0 width</code> on IE7, but not on Firefox or Safari.</p>\\n<p>If I use <code>pixel width</code>, it works. If the parent is relatively positioned, the percentage width on the child works.</p>\\n<ol>\\n<li>Is there something I'm missing here?</li>\\n<li>Is there an easy fix for this besides the <code>pixel-based width</code> on the child?</li>\\n<li>Is there an area of the CSS specification that covers this?</li>\\n</ol>\\n\",\n",
       "   'OwnerUserId': '9',\n",
       "   'LastEditorUserId': '9134576',\n",
       "   'LastEditorDisplayName': 'user14723686',\n",
       "   'LastEditDate': '2021-01-29T18:46:45.963',\n",
       "   'LastActivityDate': '2021-01-29T18:46:45.963',\n",
       "   'Title': 'Why did the width collapse in the percentage width child element in an absolutely positioned parent on Internet Explorer 7?',\n",
       "   'Tags': '<html><css><internet-explorer-7>',\n",
       "   'AnswerCount': '7',\n",
       "   'CommentCount': '0',\n",
       "   'FavoriteCount': '13',\n",
       "   'ContentLicense': 'CC BY-SA 4.0',\n",
       "   'ParentId': '',\n",
       "   'DeletionDate': '',\n",
       "   'OwnerDisplayName': '',\n",
       "   'ClosedDate': '',\n",
       "   'CommunityOwnedDate': ''}],\n",
       " [{'Id': '7',\n",
       "   'PostTypeId': '2',\n",
       "   'ParentId': '4',\n",
       "   'CreationDate': '2008-07-31T22:17:57.883',\n",
       "   'Score': '495',\n",
       "   'Body': \"<p>An explicit cast to <code>double</code> like this isn't necessary:</p>\\n\\n<pre><code>double trans = (double) trackBar1.Value / 5000.0;\\n</code></pre>\\n\\n<p>Identifying the constant as <code>5000.0</code> (or as <code>5000d</code>) is sufficient:</p>\\n\\n<pre><code>double trans = trackBar1.Value / 5000.0;\\ndouble trans = trackBar1.Value / 5000d;\\n</code></pre>\\n\",\n",
       "   'OwnerUserId': '9',\n",
       "   'LastEditorUserId': '5496973',\n",
       "   'LastEditDate': '2019-10-21T14:03:54.607',\n",
       "   'LastActivityDate': '2019-10-21T14:03:54.607',\n",
       "   'CommentCount': '0',\n",
       "   'ContentLicense': 'CC BY-SA 4.0',\n",
       "   'AcceptedAnswerId': '',\n",
       "   'DeletionDate': '',\n",
       "   'ViewCount': '',\n",
       "   'OwnerDisplayName': '',\n",
       "   'LastEditorDisplayName': '',\n",
       "   'Title': '',\n",
       "   'Tags': '',\n",
       "   'AnswerCount': '',\n",
       "   'FavoriteCount': '',\n",
       "   'ClosedDate': '',\n",
       "   'CommunityOwnedDate': ''}],\n",
       " [{'Id': '9',\n",
       "   'PostTypeId': '1',\n",
       "   'AcceptedAnswerId': '1404',\n",
       "   'CreationDate': '2008-07-31T23:40:59.743',\n",
       "   'Score': '2069',\n",
       "   'ViewCount': '709135',\n",
       "   'Body': \"<p>Given a <code>DateTime</code> representing a person's birthday, how do I calculate their age in years?</p>\\n\",\n",
       "   'OwnerUserId': '1',\n",
       "   'LastEditorUserId': '6537157',\n",
       "   'LastEditorDisplayName': 'Rich B',\n",
       "   'LastEditDate': '2021-01-05T17:33:32.393',\n",
       "   'LastActivityDate': '2021-11-15T21:33:05.663',\n",
       "   'Title': \"How do I calculate someone's age based on a DateTime type birthday?\",\n",
       "   'Tags': '<c#><.net><datetime>',\n",
       "   'AnswerCount': '68',\n",
       "   'CommentCount': '10',\n",
       "   'FavoriteCount': '483',\n",
       "   'CommunityOwnedDate': '2011-08-16T19:40:43.080',\n",
       "   'ContentLicense': 'CC BY-SA 4.0',\n",
       "   'ParentId': '',\n",
       "   'DeletionDate': '',\n",
       "   'OwnerDisplayName': '',\n",
       "   'ClosedDate': ''}],\n",
       " [{'Id': '11',\n",
       "   'PostTypeId': '1',\n",
       "   'AcceptedAnswerId': '1248',\n",
       "   'CreationDate': '2008-07-31T23:55:37.967',\n",
       "   'Score': '1596',\n",
       "   'ViewCount': '184424',\n",
       "   'Body': '<p>Given a specific <code>DateTime</code> value, how do I display relative time, like:</p>\\n\\n<ul>\\n<li>2 hours ago</li>\\n<li>3 days ago</li>\\n<li>a month ago</li>\\n</ul>\\n',\n",
       "   'OwnerUserId': '1',\n",
       "   'LastEditorUserId': '6479704',\n",
       "   'LastEditorDisplayName': 'user2370523',\n",
       "   'LastEditDate': '2017-06-04T15:51:19.780',\n",
       "   'LastActivityDate': '2021-09-01T21:49:09.617',\n",
       "   'Title': 'Calculate relative time in C#',\n",
       "   'Tags': '<c#><datetime><time><datediff><relative-time-span>',\n",
       "   'AnswerCount': '40',\n",
       "   'CommentCount': '3',\n",
       "   'FavoriteCount': '552',\n",
       "   'CommunityOwnedDate': '2009-09-04T13:15:59.820',\n",
       "   'ContentLicense': 'CC BY-SA 3.0',\n",
       "   'ParentId': '',\n",
       "   'DeletionDate': '',\n",
       "   'OwnerDisplayName': '',\n",
       "   'ClosedDate': ''}])"
      ]
     },
     "execution_count": 23,
     "metadata": {},
     "output_type": "execute_result"
    }
   ],
   "source": [
    "bg.take(5)"
   ]
  },
  {
   "cell_type": "markdown",
   "id": "956fe732-60e9-47a4-81f4-f4493e6f2168",
   "metadata": {
    "tags": []
   },
   "source": [
    "## Start a Dask cluster using SLURM jobs as workers.\n",
    "\n",
    "There are a couple of things we need to configure here:\n",
    "\n",
    "disabling the mechanism to write on disk when workers run out of memory,\n",
    "memory, CPUs, maximum time and number of workers per SLURM job,\n",
    "dask folders for log files and workers data.\n",
    "We recommend putting the log folder and workers data folders in your /nesi/nobackup/<project_code> folder, most indicated for temporary files (see NeSI File Systems and Quotas).\n",
    "\n",
    "All of these options can be set in configuration files, see Dask configuration and Dask jobqueue configuration for more information."
   ]
  },
  {
   "cell_type": "code",
   "execution_count": 24,
   "id": "823e240c-b3a6-4cf6-9c8c-3f457f86c210",
   "metadata": {},
   "outputs": [
    {
     "name": "stderr",
     "output_type": "stream",
     "text": [
      "/opt/nesi/CS400_centos7_bdw/Python/3.9.5-gimkl-2020a/lib/python3.9/site-packages/distributed/node.py:151: UserWarning: Port 8787 is already in use.\n",
      "Perhaps you already have a cluster running?\n",
      "Hosting the HTTP server on port 42296 instead\n",
      "  warnings.warn(\n"
     ]
    }
   ],
   "source": [
    "#http://jobqueue.dask.org/en/latest/generated/dask_jobqueue.SLURMCluster.html\n",
    "dask.config.set(\n",
    "    {\n",
    "        \"distributed.worker.memory.target\": False,  # avoid spilling to disk\n",
    "        \"distributed.worker.memory.spill\": False,  # avoid spilling to disk\n",
    "    }\n",
    ")\n",
    "cluster = SLURMCluster(\n",
    "    cores=10, #cores=24, # we set each job to have 1 Worker, each using 10 cores (threads) and 8 GB of memory\n",
    "    processes=2,\n",
    "    memory=\"8GiB\",\n",
    "    walltime=\"0-30:30\",# walltime=\"0-00:30\",\n",
    "    log_directory=\"../dask/logs\",  # folder for SLURM logs for each worker\n",
    "    local_directory=\"../dask\",  # folder for workers data\n",
    ")"
   ]
  },
  {
   "cell_type": "code",
   "execution_count": 25,
   "id": "5161be2c-3c73-4029-80a7-41f2396cf825",
   "metadata": {},
   "outputs": [
    {
     "data": {
      "text/html": [
       "<table style=\"border: 2px solid white;\">\n",
       "<tr>\n",
       "<td style=\"vertical-align: top; border: 0px solid white\">\n",
       "<h3 style=\"text-align: left;\">Client</h3>\n",
       "<ul style=\"text-align: left; list-style: none; margin: 0; padding: 0;\">\n",
       "  <li><b>Scheduler: </b>tcp://192.168.94.170:33636</li>\n",
       "  <li><b>Dashboard: </b><a href='http://192.168.94.170:42296/status' target='_blank'>http://192.168.94.170:42296/status</a></li>\n",
       "</ul>\n",
       "</td>\n",
       "<td style=\"vertical-align: top; border: 0px solid white\">\n",
       "<h3 style=\"text-align: left;\">Cluster</h3>\n",
       "<ul style=\"text-align: left; list-style:none; margin: 0; padding: 0;\">\n",
       "  <li><b>Workers: </b>0</li>\n",
       "  <li><b>Cores: </b>0</li>\n",
       "  <li><b>Memory: </b>0 B</li>\n",
       "</ul>\n",
       "</td>\n",
       "</tr>\n",
       "</table>"
      ],
      "text/plain": [
       "<Client: 'tcp://192.168.94.170:33636' processes=0 threads=0, memory=0 B>"
      ]
     },
     "execution_count": 25,
     "metadata": {},
     "output_type": "execute_result"
    }
   ],
   "source": [
    "#cluster.adapt(minimum_jobs=20, maximum_jobs=200)\n",
    "cluster.adapt(minimum_jobs=10, maximum_jobs=200)\n",
    "client = Client(cluster)\n",
    "client"
   ]
  },
  {
   "cell_type": "markdown",
   "id": "bd478838-8895-4f4b-a452-b655a0a3cbc0",
   "metadata": {},
   "source": [
    "## Convert Bags to Dataframes"
   ]
  },
  {
   "cell_type": "code",
   "execution_count": 33,
   "id": "ee559453-2a3e-43ab-9d92-d5ec37c77e36",
   "metadata": {},
   "outputs": [],
   "source": [
    "#flatten\n",
    "bg = bg.flatten()\n",
    "#df = files_rows_bd.badge_bg(meta={'name':'str', 'line':'int', 'severity':'str', 'message':'str', 'source':'str'})"
   ]
  },
  {
   "cell_type": "code",
   "execution_count": 34,
   "id": "b8c18ff0-f025-4ed1-8db8-0e1d3b967887",
   "metadata": {},
   "outputs": [],
   "source": [
    "#convert from bags to dataframe\n",
    "df = bg.to_dataframe()\n",
    "#df = files_rows_bd.badge_bg(meta={'name':'str', 'line':'int', 'severity':'str', 'message':'str', 'source':'str'})"
   ]
  },
  {
   "cell_type": "code",
   "execution_count": 35,
   "id": "38bd50c8-88e0-40a1-9e83-435935b94fbc",
   "metadata": {},
   "outputs": [
    {
     "data": {
      "text/html": [
       "<div><strong>Dask DataFrame Structure:</strong></div>\n",
       "<div>\n",
       "<style scoped>\n",
       "    .dataframe tbody tr th:only-of-type {\n",
       "        vertical-align: middle;\n",
       "    }\n",
       "\n",
       "    .dataframe tbody tr th {\n",
       "        vertical-align: top;\n",
       "    }\n",
       "\n",
       "    .dataframe thead th {\n",
       "        text-align: right;\n",
       "    }\n",
       "</style>\n",
       "<table border=\"1\" class=\"dataframe\">\n",
       "  <thead>\n",
       "    <tr style=\"text-align: right;\">\n",
       "      <th></th>\n",
       "      <th>Id</th>\n",
       "      <th>PostTypeId</th>\n",
       "      <th>AcceptedAnswerId</th>\n",
       "      <th>CreationDate</th>\n",
       "      <th>Score</th>\n",
       "      <th>ViewCount</th>\n",
       "      <th>Body</th>\n",
       "      <th>OwnerUserId</th>\n",
       "      <th>LastEditorUserId</th>\n",
       "      <th>LastEditorDisplayName</th>\n",
       "      <th>LastEditDate</th>\n",
       "      <th>LastActivityDate</th>\n",
       "      <th>Title</th>\n",
       "      <th>Tags</th>\n",
       "      <th>AnswerCount</th>\n",
       "      <th>CommentCount</th>\n",
       "      <th>FavoriteCount</th>\n",
       "      <th>CommunityOwnedDate</th>\n",
       "      <th>ContentLicense</th>\n",
       "      <th>ParentId</th>\n",
       "      <th>DeletionDate</th>\n",
       "      <th>OwnerDisplayName</th>\n",
       "      <th>ClosedDate</th>\n",
       "    </tr>\n",
       "    <tr>\n",
       "      <th>npartitions=9354</th>\n",
       "      <th></th>\n",
       "      <th></th>\n",
       "      <th></th>\n",
       "      <th></th>\n",
       "      <th></th>\n",
       "      <th></th>\n",
       "      <th></th>\n",
       "      <th></th>\n",
       "      <th></th>\n",
       "      <th></th>\n",
       "      <th></th>\n",
       "      <th></th>\n",
       "      <th></th>\n",
       "      <th></th>\n",
       "      <th></th>\n",
       "      <th></th>\n",
       "      <th></th>\n",
       "      <th></th>\n",
       "      <th></th>\n",
       "      <th></th>\n",
       "      <th></th>\n",
       "      <th></th>\n",
       "      <th></th>\n",
       "    </tr>\n",
       "  </thead>\n",
       "  <tbody>\n",
       "    <tr>\n",
       "      <th></th>\n",
       "      <td>object</td>\n",
       "      <td>object</td>\n",
       "      <td>object</td>\n",
       "      <td>object</td>\n",
       "      <td>object</td>\n",
       "      <td>object</td>\n",
       "      <td>object</td>\n",
       "      <td>object</td>\n",
       "      <td>object</td>\n",
       "      <td>object</td>\n",
       "      <td>object</td>\n",
       "      <td>object</td>\n",
       "      <td>object</td>\n",
       "      <td>object</td>\n",
       "      <td>object</td>\n",
       "      <td>object</td>\n",
       "      <td>object</td>\n",
       "      <td>object</td>\n",
       "      <td>object</td>\n",
       "      <td>object</td>\n",
       "      <td>object</td>\n",
       "      <td>object</td>\n",
       "      <td>object</td>\n",
       "    </tr>\n",
       "    <tr>\n",
       "      <th></th>\n",
       "      <td>...</td>\n",
       "      <td>...</td>\n",
       "      <td>...</td>\n",
       "      <td>...</td>\n",
       "      <td>...</td>\n",
       "      <td>...</td>\n",
       "      <td>...</td>\n",
       "      <td>...</td>\n",
       "      <td>...</td>\n",
       "      <td>...</td>\n",
       "      <td>...</td>\n",
       "      <td>...</td>\n",
       "      <td>...</td>\n",
       "      <td>...</td>\n",
       "      <td>...</td>\n",
       "      <td>...</td>\n",
       "      <td>...</td>\n",
       "      <td>...</td>\n",
       "      <td>...</td>\n",
       "      <td>...</td>\n",
       "      <td>...</td>\n",
       "      <td>...</td>\n",
       "      <td>...</td>\n",
       "    </tr>\n",
       "    <tr>\n",
       "      <th>...</th>\n",
       "      <td>...</td>\n",
       "      <td>...</td>\n",
       "      <td>...</td>\n",
       "      <td>...</td>\n",
       "      <td>...</td>\n",
       "      <td>...</td>\n",
       "      <td>...</td>\n",
       "      <td>...</td>\n",
       "      <td>...</td>\n",
       "      <td>...</td>\n",
       "      <td>...</td>\n",
       "      <td>...</td>\n",
       "      <td>...</td>\n",
       "      <td>...</td>\n",
       "      <td>...</td>\n",
       "      <td>...</td>\n",
       "      <td>...</td>\n",
       "      <td>...</td>\n",
       "      <td>...</td>\n",
       "      <td>...</td>\n",
       "      <td>...</td>\n",
       "      <td>...</td>\n",
       "      <td>...</td>\n",
       "    </tr>\n",
       "    <tr>\n",
       "      <th></th>\n",
       "      <td>...</td>\n",
       "      <td>...</td>\n",
       "      <td>...</td>\n",
       "      <td>...</td>\n",
       "      <td>...</td>\n",
       "      <td>...</td>\n",
       "      <td>...</td>\n",
       "      <td>...</td>\n",
       "      <td>...</td>\n",
       "      <td>...</td>\n",
       "      <td>...</td>\n",
       "      <td>...</td>\n",
       "      <td>...</td>\n",
       "      <td>...</td>\n",
       "      <td>...</td>\n",
       "      <td>...</td>\n",
       "      <td>...</td>\n",
       "      <td>...</td>\n",
       "      <td>...</td>\n",
       "      <td>...</td>\n",
       "      <td>...</td>\n",
       "      <td>...</td>\n",
       "      <td>...</td>\n",
       "    </tr>\n",
       "    <tr>\n",
       "      <th></th>\n",
       "      <td>...</td>\n",
       "      <td>...</td>\n",
       "      <td>...</td>\n",
       "      <td>...</td>\n",
       "      <td>...</td>\n",
       "      <td>...</td>\n",
       "      <td>...</td>\n",
       "      <td>...</td>\n",
       "      <td>...</td>\n",
       "      <td>...</td>\n",
       "      <td>...</td>\n",
       "      <td>...</td>\n",
       "      <td>...</td>\n",
       "      <td>...</td>\n",
       "      <td>...</td>\n",
       "      <td>...</td>\n",
       "      <td>...</td>\n",
       "      <td>...</td>\n",
       "      <td>...</td>\n",
       "      <td>...</td>\n",
       "      <td>...</td>\n",
       "      <td>...</td>\n",
       "      <td>...</td>\n",
       "    </tr>\n",
       "  </tbody>\n",
       "</table>\n",
       "</div>\n",
       "<div>Dask Name: to_dataframe, 18708 tasks</div>"
      ],
      "text/plain": [
       "Dask DataFrame Structure:\n",
       "                      Id PostTypeId AcceptedAnswerId CreationDate   Score ViewCount    Body OwnerUserId LastEditorUserId LastEditorDisplayName LastEditDate LastActivityDate   Title    Tags AnswerCount CommentCount FavoriteCount CommunityOwnedDate ContentLicense ParentId DeletionDate OwnerDisplayName ClosedDate\n",
       "npartitions=9354                                                                                                                                                                                                                                                                                                       \n",
       "                  object     object           object       object  object    object  object      object           object                object       object           object  object  object      object       object        object             object         object   object       object           object     object\n",
       "                     ...        ...              ...          ...     ...       ...     ...         ...              ...                   ...          ...              ...     ...     ...         ...          ...           ...                ...            ...      ...          ...              ...        ...\n",
       "...                  ...        ...              ...          ...     ...       ...     ...         ...              ...                   ...          ...              ...     ...     ...         ...          ...           ...                ...            ...      ...          ...              ...        ...\n",
       "                     ...        ...              ...          ...     ...       ...     ...         ...              ...                   ...          ...              ...     ...     ...         ...          ...           ...                ...            ...      ...          ...              ...        ...\n",
       "                     ...        ...              ...          ...     ...       ...     ...         ...              ...                   ...          ...              ...     ...     ...         ...          ...           ...                ...            ...      ...          ...              ...        ...\n",
       "Dask Name: to_dataframe, 18708 tasks"
      ]
     },
     "execution_count": 35,
     "metadata": {},
     "output_type": "execute_result"
    }
   ],
   "source": [
    "df"
   ]
  },
  {
   "cell_type": "code",
   "execution_count": 36,
   "id": "0876a488-73a5-4713-becb-b1768a516e15",
   "metadata": {},
   "outputs": [
    {
     "data": {
      "text/plain": [
       "Index(['Id', 'PostTypeId', 'AcceptedAnswerId', 'CreationDate', 'Score',\n",
       "       'ViewCount', 'Body', 'OwnerUserId', 'LastEditorUserId',\n",
       "       'LastEditorDisplayName', 'LastEditDate', 'LastActivityDate', 'Title',\n",
       "       'Tags', 'AnswerCount', 'CommentCount', 'FavoriteCount',\n",
       "       'CommunityOwnedDate', 'ContentLicense', 'ParentId', 'DeletionDate',\n",
       "       'OwnerDisplayName', 'ClosedDate'],\n",
       "      dtype='object')"
      ]
     },
     "execution_count": 36,
     "metadata": {},
     "output_type": "execute_result"
    }
   ],
   "source": [
    "df.columns"
   ]
  },
  {
   "cell_type": "code",
   "execution_count": 30,
   "id": "bb11f05d-85d8-472d-b7e1-baf197893235",
   "metadata": {},
   "outputs": [
    {
     "data": {
      "text/plain": [
       "9354"
      ]
     },
     "execution_count": 30,
     "metadata": {},
     "output_type": "execute_result"
    }
   ],
   "source": [
    "df.npartitions"
   ]
  },
  {
   "cell_type": "markdown",
   "id": "f9245ad2-8c8c-43bb-84ae-c3f42f50d3d0",
   "metadata": {},
   "source": [
    "## Make a folder in that directory"
   ]
  },
  {
   "cell_type": "code",
   "execution_count": 31,
   "id": "38ed47d1-e96e-4b67-99f8-04657d89a727",
   "metadata": {},
   "outputs": [],
   "source": [
    "## Make a folder in that directory\n",
    "#folder = get_xml_filepath_wtout_ext(xml_file).lower() # the challenge is that the whole path to lowercase\n",
    "## I just want the last folder to be a lower case\n",
    "path = get_filepath(xml_file)\n",
    "# output: path/to/Post.xml => path/to \n",
    "folder =  '{}/{}'.format(path, filename.lower())\n",
    "# output: path/to/Post.xml => path/to/post\n",
    "mkdir_cmd = 'mkdir {}'.format(folder)"
   ]
  },
  {
   "cell_type": "raw",
   "id": "4da32b38-d254-4635-8f47-9e2a4e329a3b",
   "metadata": {},
   "source": [
    "cmd = sp.run(\n",
    "    mkdir_cmd, # command\n",
    "    capture_output=True,\n",
    "    text=True,\n",
    "    shell=True\n",
    ")"
   ]
  },
  {
   "cell_type": "code",
   "execution_count": 32,
   "id": "87235792-67ce-4591-aade-3b09fdb1bba4",
   "metadata": {},
   "outputs": [
    {
     "name": "stdout",
     "output_type": "stream",
     "text": [
      "../SO_data_dump/posts\n"
     ]
    }
   ],
   "source": [
    "#folder = get_xml_filepath_wtout_ext(xml_file)\n",
    "print(folder)"
   ]
  },
  {
   "cell_type": "markdown",
   "id": "b88f8682-2027-4eab-bec1-320b2b06e243",
   "metadata": {},
   "source": [
    "## Save files in that directory"
   ]
  },
  {
   "cell_type": "raw",
   "id": "6a984ee8-4874-4f49-b26e-8affd7d43cf1",
   "metadata": {},
   "source": [
    "## Save files in that directory\n",
    "_ = df.to_csv('{}/{}*.csv'.format(folder, filename), sep=',', index=False)"
   ]
  },
  {
   "cell_type": "code",
   "execution_count": null,
   "id": "cd43f007-d9fd-4954-b135-ede77b91d5c9",
   "metadata": {},
   "outputs": [],
   "source": []
  },
  {
   "cell_type": "code",
   "execution_count": null,
   "id": "8ad3d98d-d5ff-44d3-8a5e-55f6d5683f6d",
   "metadata": {},
   "outputs": [],
   "source": []
  }
 ],
 "metadata": {
  "kernelspec": {
   "display_name": "Python 3.9.5 (gimkl-2020a)",
   "language": "python",
   "name": "python395-gimkl-2020a"
  },
  "language_info": {
   "codemirror_mode": {
    "name": "ipython",
    "version": 3
   },
   "file_extension": ".py",
   "mimetype": "text/x-python",
   "name": "python",
   "nbconvert_exporter": "python",
   "pygments_lexer": "ipython3",
   "version": "3.9.5"
  }
 },
 "nbformat": 4,
 "nbformat_minor": 5
}
