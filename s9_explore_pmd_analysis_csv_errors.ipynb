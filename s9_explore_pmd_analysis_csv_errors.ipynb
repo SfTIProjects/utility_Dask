{
 "cells": [
  {
   "cell_type": "code",
   "execution_count": 32,
   "id": "5c7001dc-f497-465a-b7ce-d60d9dc88c41",
   "metadata": {},
   "outputs": [],
   "source": [
    "import time\n",
    "from datetime import timedelta\n",
    "import html\n",
    "import subprocess as sp\n",
    "\n",
    "import pandas as pd\n",
    "import dask\n",
    "import dask.dataframe as dd\n",
    "from dask.distributed import Client\n",
    "from dask_jobqueue import SLURMCluster"
   ]
  },
  {
   "cell_type": "markdown",
   "id": "c3a7ffcf-b1bd-41f8-932d-672077cbfcd1",
   "metadata": {
    "tags": []
   },
   "source": [
    "## Read csv error files"
   ]
  },
  {
   "cell_type": "code",
   "execution_count": 2,
   "id": "cf20def2-c0d1-4e07-86c2-09c6fb5d9674",
   "metadata": {},
   "outputs": [],
   "source": [
    "common_path = '../my_codesnippet_analysis'\n",
    "#xml_path = 'pmdcodesnippetserrors_csv/PMDJavaCodeSnippetsErrors*.csv'\n",
    "xml_path = 'pmdcodesnippetserror_csv/pmdCodeSnippetsError*.csv'\n",
    "xml_file = '{}/{}'.format(common_path, xml_path)\n",
    "ddf = dd.read_csv(xml_file, engine='python', error_bad_lines=False, warn_bad_lines=False, dtype=object)\n"
   ]
  },
  {
   "cell_type": "markdown",
   "id": "5342c789-280a-4a4c-b901-682a44553ddf",
   "metadata": {},
   "source": [
    "#### Explore dataframe"
   ]
  },
  {
   "cell_type": "code",
   "execution_count": 3,
   "id": "49bd373b-bd7b-4278-9f39-712f35cbcbf9",
   "metadata": {},
   "outputs": [],
   "source": [
    "## explore one patition\n",
    "#one_pat_df = df.partitions[1].compute()"
   ]
  },
  {
   "cell_type": "code",
   "execution_count": 4,
   "id": "2d11e2e7-c6b2-4347-8457-a92dfae4ed06",
   "metadata": {},
   "outputs": [
    {
     "data": {
      "text/html": [
       "<div><strong>Dask DataFrame Structure:</strong></div>\n",
       "<div>\n",
       "<style scoped>\n",
       "    .dataframe tbody tr th:only-of-type {\n",
       "        vertical-align: middle;\n",
       "    }\n",
       "\n",
       "    .dataframe tbody tr th {\n",
       "        vertical-align: top;\n",
       "    }\n",
       "\n",
       "    .dataframe thead th {\n",
       "        text-align: right;\n",
       "    }\n",
       "</style>\n",
       "<table border=\"1\" class=\"dataframe\">\n",
       "  <thead>\n",
       "    <tr style=\"text-align: right;\">\n",
       "      <th></th>\n",
       "      <th>0</th>\n",
       "    </tr>\n",
       "    <tr>\n",
       "      <th>npartitions=1154</th>\n",
       "      <th></th>\n",
       "    </tr>\n",
       "  </thead>\n",
       "  <tbody>\n",
       "    <tr>\n",
       "      <th></th>\n",
       "      <td>object</td>\n",
       "    </tr>\n",
       "    <tr>\n",
       "      <th></th>\n",
       "      <td>...</td>\n",
       "    </tr>\n",
       "    <tr>\n",
       "      <th>...</th>\n",
       "      <td>...</td>\n",
       "    </tr>\n",
       "    <tr>\n",
       "      <th></th>\n",
       "      <td>...</td>\n",
       "    </tr>\n",
       "    <tr>\n",
       "      <th></th>\n",
       "      <td>...</td>\n",
       "    </tr>\n",
       "  </tbody>\n",
       "</table>\n",
       "</div>\n",
       "<div>Dask Name: read-csv, 1154 tasks</div>"
      ],
      "text/plain": [
       "Dask DataFrame Structure:\n",
       "                       0\n",
       "npartitions=1154        \n",
       "                  object\n",
       "                     ...\n",
       "...                  ...\n",
       "                     ...\n",
       "                     ...\n",
       "Dask Name: read-csv, 1154 tasks"
      ]
     },
     "execution_count": 4,
     "metadata": {},
     "output_type": "execute_result"
    }
   ],
   "source": [
    "# see dataframe structure\n",
    "ddf"
   ]
  },
  {
   "cell_type": "code",
   "execution_count": 5,
   "id": "d6813d4e-2b13-4931-9d2d-db38edb69eef",
   "metadata": {},
   "outputs": [
    {
     "data": {
      "text/plain": [
       "Index(['0'], dtype='object')"
      ]
     },
     "execution_count": 5,
     "metadata": {},
     "output_type": "execute_result"
    }
   ],
   "source": [
    "# see columns\n",
    "ddf.columns"
   ]
  },
  {
   "cell_type": "code",
   "execution_count": 6,
   "id": "9a78bab3-0c1c-458e-9e63-26d7b58a79d3",
   "metadata": {},
   "outputs": [],
   "source": [
    "# rename columns\n",
    "#df.columns = ['filepath', 'error_msg', 'error_txt'] \n",
    "ddf.columns = ['filepath'] "
   ]
  },
  {
   "cell_type": "code",
   "execution_count": 7,
   "id": "96ea8a59-cd16-41e5-8c0d-64b060168b59",
   "metadata": {},
   "outputs": [
    {
     "data": {
      "text/plain": [
       "Index(['filepath'], dtype='object')"
      ]
     },
     "execution_count": 7,
     "metadata": {},
     "output_type": "execute_result"
    }
   ],
   "source": [
    "# see columns\n",
    "ddf.columns"
   ]
  },
  {
   "cell_type": "code",
   "execution_count": 8,
   "id": "09d7c146-2f7f-4132-8035-fe1050a0516a",
   "metadata": {},
   "outputs": [],
   "source": [
    "#ddf.head()"
   ]
  },
  {
   "cell_type": "code",
   "execution_count": 9,
   "id": "742a9f5d-f7a0-441e-a7c2-aa4fb53c6508",
   "metadata": {},
   "outputs": [],
   "source": [
    "#ddf.tail()"
   ]
  },
  {
   "cell_type": "markdown",
   "id": "7661c28d-b306-42b1-ab01-ec7821c8f235",
   "metadata": {},
   "source": [
    "## Start a Dask cluster using SLURM jobs as workers"
   ]
  },
  {
   "cell_type": "code",
   "execution_count": 10,
   "id": "0216ff53-64ce-4635-923d-ba00444eed69",
   "metadata": {},
   "outputs": [],
   "source": [
    "#http://jobqueue.dask.org/en/latest/generated/dask_jobqueue.SLURMCluster.html\n",
    "dask.config.set(\n",
    "    {\n",
    "        \"distributed.worker.memory.target\": False,  # avoid spilling to disk\n",
    "        \"distributed.worker.memory.spill\": False,  # avoid spilling to disk\n",
    "    }\n",
    ")\n",
    "cluster = SLURMCluster(\n",
    "    cores=10, #cores=24, # we set each job to have 1 Worker, each using 10 cores (threads) and 8 GB of memory\n",
    "    processes=2,\n",
    "    memory=\"8GiB\",\n",
    "    walltime=\"0-00:30\",# walltime=\"0-00:50\",\n",
    "    log_directory=\"../dask/logs\",  # folder for SLURM logs for each worker\n",
    "    local_directory=\"../dask\",  # folder for workers data\n",
    ")"
   ]
  },
  {
   "cell_type": "markdown",
   "id": "8b7ef768-6ce6-4696-a16b-83206ffe3e41",
   "metadata": {},
   "source": [
    "Spawn between 20 to 100 workers and connect a client to be able use them."
   ]
  },
  {
   "cell_type": "code",
   "execution_count": 11,
   "id": "0ecdceec-2192-4343-ad4e-8826616caffb",
   "metadata": {},
   "outputs": [
    {
     "data": {
      "text/html": [
       "<table style=\"border: 2px solid white;\">\n",
       "<tr>\n",
       "<td style=\"vertical-align: top; border: 0px solid white\">\n",
       "<h3 style=\"text-align: left;\">Client</h3>\n",
       "<ul style=\"text-align: left; list-style: none; margin: 0; padding: 0;\">\n",
       "  <li><b>Scheduler: </b>tcp://192.168.94.167:46156</li>\n",
       "  <li><b>Dashboard: </b><a href='http://192.168.94.167:8787/status' target='_blank'>http://192.168.94.167:8787/status</a></li>\n",
       "</ul>\n",
       "</td>\n",
       "<td style=\"vertical-align: top; border: 0px solid white\">\n",
       "<h3 style=\"text-align: left;\">Cluster</h3>\n",
       "<ul style=\"text-align: left; list-style:none; margin: 0; padding: 0;\">\n",
       "  <li><b>Workers: </b>0</li>\n",
       "  <li><b>Cores: </b>0</li>\n",
       "  <li><b>Memory: </b>0 B</li>\n",
       "</ul>\n",
       "</td>\n",
       "</tr>\n",
       "</table>"
      ],
      "text/plain": [
       "<Client: 'tcp://192.168.94.167:46156' processes=0 threads=0, memory=0 B>"
      ]
     },
     "execution_count": 11,
     "metadata": {},
     "output_type": "execute_result"
    }
   ],
   "source": [
    "#cluster.scale(n=20) # ask for 20 jobs or workers\n",
    "# This also works with adaptive clusters. This automatically launches and kill workers based on load.\n",
    "# we tell our cluster to autoscale between 10 and 20 workers depending on the load\n",
    "cluster.adapt(minimum_jobs=5, maximum_jobs=10)\n",
    "#cluster.adapt(maximum_jobs=20)\n",
    "client = Client(cluster)\n",
    "client"
   ]
  },
  {
   "cell_type": "code",
   "execution_count": 12,
   "id": "f66a2c17-1d70-40b5-8143-dd84d2436181",
   "metadata": {},
   "outputs": [
    {
     "name": "stdout",
     "output_type": "stream",
     "text": [
      "Initial number of errors 1444299\n"
     ]
    }
   ],
   "source": [
    "pmd_codeerror_init_len = ddf.shape[0].compute()\n",
    "print('Initial number of errors {}'.format(pmd_codeerror_init_len))"
   ]
  },
  {
   "cell_type": "code",
   "execution_count": 13,
   "id": "6973e790-77fe-4289-9c2c-a0ecfb327ed4",
   "metadata": {},
   "outputs": [],
   "source": [
    "# drop empty columns\n",
    "ddf = ddf[~ddf['filepath'].isna()] # Drop rows that have NaN in the Code column"
   ]
  },
  {
   "cell_type": "code",
   "execution_count": 14,
   "id": "0f5fe545-c3bc-4bea-9ee5-40472157fcb2",
   "metadata": {},
   "outputs": [
    {
     "name": "stdout",
     "output_type": "stream",
     "text": [
      "Number of errors after removing the nans in the class column 1444299\n"
     ]
    }
   ],
   "source": [
    "pmd_codeviolations_nonan_len =ddf.shape[0].compute()\n",
    "print('Number of errors after removing the nans in the class column {}'.format(pmd_codeerror_init_len))"
   ]
  },
  {
   "cell_type": "markdown",
   "id": "1e05561c-0c37-4f10-af79-d4ccba2a8ca6",
   "metadata": {
    "tags": []
   },
   "source": [
    "## Extract just the file names into a new column"
   ]
  },
  {
   "cell_type": "code",
   "execution_count": 15,
   "id": "6ad5e1ec-c7d6-4ff6-bcc5-731797a4430d",
   "metadata": {},
   "outputs": [],
   "source": [
    "# regex to extract filename from file path\n",
    "#https://stackoverflow.com/questions/58181729/how-to-extract-the-filename-from-a-string-using-regular-expression\n",
    "#df['filename'] = df.filepath.str.extract(r'([^\\/]+(?=\\.))', flags=0, expand=True).compute()\n",
    "#df['filename'] = df.filepath.str.extract(r'(([^\\/]+)\\.)', flags=0, expand=True).compute()\n",
    "#df = df.filepath.str.extract(r'(([^\\/]+)\\.)', flags=0, expand=True).compute()"
   ]
  },
  {
   "cell_type": "code",
   "execution_count": 16,
   "id": "a22a6b93-207c-489a-b8c9-58af1301bffb",
   "metadata": {},
   "outputs": [
    {
     "data": {
      "text/html": [
       "<div>\n",
       "<style scoped>\n",
       "    .dataframe tbody tr th:only-of-type {\n",
       "        vertical-align: middle;\n",
       "    }\n",
       "\n",
       "    .dataframe tbody tr th {\n",
       "        vertical-align: top;\n",
       "    }\n",
       "\n",
       "    .dataframe thead th {\n",
       "        text-align: right;\n",
       "    }\n",
       "</style>\n",
       "<table border=\"1\" class=\"dataframe\">\n",
       "  <thead>\n",
       "    <tr style=\"text-align: right;\">\n",
       "      <th></th>\n",
       "      <th>filepath</th>\n",
       "    </tr>\n",
       "  </thead>\n",
       "  <tbody>\n",
       "    <tr>\n",
       "      <th>0</th>\n",
       "      <td>net.sourceforge.pmd.PMDException: Error while ...</td>\n",
       "    </tr>\n",
       "    <tr>\n",
       "      <th>1</th>\n",
       "      <td>net.sourceforge.pmd.PMDException: Error while ...</td>\n",
       "    </tr>\n",
       "    <tr>\n",
       "      <th>2</th>\n",
       "      <td>net.sourceforge.pmd.PMDException: Error while ...</td>\n",
       "    </tr>\n",
       "    <tr>\n",
       "      <th>3</th>\n",
       "      <td>net.sourceforge.pmd.PMDException: Error while ...</td>\n",
       "    </tr>\n",
       "    <tr>\n",
       "      <th>4</th>\n",
       "      <td>net.sourceforge.pmd.PMDException: Error while ...</td>\n",
       "    </tr>\n",
       "  </tbody>\n",
       "</table>\n",
       "</div>"
      ],
      "text/plain": [
       "                                            filepath\n",
       "0  net.sourceforge.pmd.PMDException: Error while ...\n",
       "1  net.sourceforge.pmd.PMDException: Error while ...\n",
       "2  net.sourceforge.pmd.PMDException: Error while ...\n",
       "3  net.sourceforge.pmd.PMDException: Error while ...\n",
       "4  net.sourceforge.pmd.PMDException: Error while ..."
      ]
     },
     "execution_count": 16,
     "metadata": {},
     "output_type": "execute_result"
    }
   ],
   "source": [
    "ddf.head()"
   ]
  },
  {
   "cell_type": "code",
   "execution_count": 17,
   "id": "0a06e8f1-e391-4184-83e8-8329ebf40487",
   "metadata": {},
   "outputs": [],
   "source": [
    "#ddf = df[[1]]"
   ]
  },
  {
   "cell_type": "code",
   "execution_count": 18,
   "id": "c25c0881-85f6-4e00-8110-0f85646729c5",
   "metadata": {},
   "outputs": [
    {
     "data": {
      "text/html": [
       "<div>\n",
       "<style scoped>\n",
       "    .dataframe tbody tr th:only-of-type {\n",
       "        vertical-align: middle;\n",
       "    }\n",
       "\n",
       "    .dataframe tbody tr th {\n",
       "        vertical-align: top;\n",
       "    }\n",
       "\n",
       "    .dataframe thead th {\n",
       "        text-align: right;\n",
       "    }\n",
       "</style>\n",
       "<table border=\"1\" class=\"dataframe\">\n",
       "  <thead>\n",
       "    <tr style=\"text-align: right;\">\n",
       "      <th></th>\n",
       "      <th>filepath</th>\n",
       "    </tr>\n",
       "  </thead>\n",
       "  <tbody>\n",
       "    <tr>\n",
       "      <th>0</th>\n",
       "      <td>net.sourceforge.pmd.PMDException: Error while ...</td>\n",
       "    </tr>\n",
       "    <tr>\n",
       "      <th>1</th>\n",
       "      <td>net.sourceforge.pmd.PMDException: Error while ...</td>\n",
       "    </tr>\n",
       "    <tr>\n",
       "      <th>2</th>\n",
       "      <td>net.sourceforge.pmd.PMDException: Error while ...</td>\n",
       "    </tr>\n",
       "    <tr>\n",
       "      <th>3</th>\n",
       "      <td>net.sourceforge.pmd.PMDException: Error while ...</td>\n",
       "    </tr>\n",
       "    <tr>\n",
       "      <th>4</th>\n",
       "      <td>net.sourceforge.pmd.PMDException: Error while ...</td>\n",
       "    </tr>\n",
       "  </tbody>\n",
       "</table>\n",
       "</div>"
      ],
      "text/plain": [
       "                                            filepath\n",
       "0  net.sourceforge.pmd.PMDException: Error while ...\n",
       "1  net.sourceforge.pmd.PMDException: Error while ...\n",
       "2  net.sourceforge.pmd.PMDException: Error while ...\n",
       "3  net.sourceforge.pmd.PMDException: Error while ...\n",
       "4  net.sourceforge.pmd.PMDException: Error while ..."
      ]
     },
     "execution_count": 18,
     "metadata": {},
     "output_type": "execute_result"
    }
   ],
   "source": [
    "ddf.head()"
   ]
  },
  {
   "cell_type": "code",
   "execution_count": 19,
   "id": "f7670cf1-d66b-4a8a-a940-92b0c30863a3",
   "metadata": {},
   "outputs": [],
   "source": [
    "#ddf= ddf['filepath'].str.extract(r'(\\d+_\\d+_\\d+_\\d+)', flags=0, expand=True)\n",
    "ddf= ddf['filepath'].str.extract(r'(Code_\\d+_\\d+_\\d+_\\d+)', flags=0, expand=True)"
   ]
  },
  {
   "cell_type": "code",
   "execution_count": 20,
   "id": "e36cb180-5f97-43e8-bd87-cea24a3f9741",
   "metadata": {},
   "outputs": [
    {
     "data": {
      "text/html": [
       "<div>\n",
       "<style scoped>\n",
       "    .dataframe tbody tr th:only-of-type {\n",
       "        vertical-align: middle;\n",
       "    }\n",
       "\n",
       "    .dataframe tbody tr th {\n",
       "        vertical-align: top;\n",
       "    }\n",
       "\n",
       "    .dataframe thead th {\n",
       "        text-align: right;\n",
       "    }\n",
       "</style>\n",
       "<table border=\"1\" class=\"dataframe\">\n",
       "  <thead>\n",
       "    <tr style=\"text-align: right;\">\n",
       "      <th></th>\n",
       "      <th>0</th>\n",
       "    </tr>\n",
       "  </thead>\n",
       "  <tbody>\n",
       "    <tr>\n",
       "      <th>0</th>\n",
       "      <td>Code_10022570_10022548_382_1</td>\n",
       "    </tr>\n",
       "    <tr>\n",
       "      <th>1</th>\n",
       "      <td>Code_10051644_10051084_113_0</td>\n",
       "    </tr>\n",
       "    <tr>\n",
       "      <th>2</th>\n",
       "      <td>Code_10059662_9994872_109_3</td>\n",
       "    </tr>\n",
       "    <tr>\n",
       "      <th>3</th>\n",
       "      <td>Code_10104389_10103834_274_0</td>\n",
       "    </tr>\n",
       "    <tr>\n",
       "      <th>4</th>\n",
       "      <td>Code_10109082_10109035_54_0</td>\n",
       "    </tr>\n",
       "  </tbody>\n",
       "</table>\n",
       "</div>"
      ],
      "text/plain": [
       "                              0\n",
       "0  Code_10022570_10022548_382_1\n",
       "1  Code_10051644_10051084_113_0\n",
       "2   Code_10059662_9994872_109_3\n",
       "3  Code_10104389_10103834_274_0\n",
       "4   Code_10109082_10109035_54_0"
      ]
     },
     "execution_count": 20,
     "metadata": {},
     "output_type": "execute_result"
    }
   ],
   "source": [
    "ddf.head()"
   ]
  },
  {
   "cell_type": "code",
   "execution_count": 21,
   "id": "eb325b15-f0a4-40aa-a8e4-73cc8676252e",
   "metadata": {},
   "outputs": [],
   "source": [
    "# rename columns\n",
    "ddf.columns = ['codesnippetsname'] "
   ]
  },
  {
   "cell_type": "code",
   "execution_count": 23,
   "id": "3bd5b915-9648-437e-bd58-fe8a485b05a8",
   "metadata": {},
   "outputs": [
    {
     "data": {
      "text/html": [
       "<div><strong>Dask DataFrame Structure:</strong></div>\n",
       "<div>\n",
       "<style scoped>\n",
       "    .dataframe tbody tr th:only-of-type {\n",
       "        vertical-align: middle;\n",
       "    }\n",
       "\n",
       "    .dataframe tbody tr th {\n",
       "        vertical-align: top;\n",
       "    }\n",
       "\n",
       "    .dataframe thead th {\n",
       "        text-align: right;\n",
       "    }\n",
       "</style>\n",
       "<table border=\"1\" class=\"dataframe\">\n",
       "  <thead>\n",
       "    <tr style=\"text-align: right;\">\n",
       "      <th></th>\n",
       "      <th>codesnippetsname</th>\n",
       "      <th>IdxM</th>\n",
       "      <th>Idx</th>\n",
       "      <th>match</th>\n",
       "    </tr>\n",
       "    <tr>\n",
       "      <th>npartitions=1154</th>\n",
       "      <th></th>\n",
       "      <th></th>\n",
       "      <th></th>\n",
       "      <th></th>\n",
       "    </tr>\n",
       "  </thead>\n",
       "  <tbody>\n",
       "    <tr>\n",
       "      <th></th>\n",
       "      <td>object</td>\n",
       "      <td>object</td>\n",
       "      <td>object</td>\n",
       "      <td>object</td>\n",
       "    </tr>\n",
       "    <tr>\n",
       "      <th></th>\n",
       "      <td>...</td>\n",
       "      <td>...</td>\n",
       "      <td>...</td>\n",
       "      <td>...</td>\n",
       "    </tr>\n",
       "    <tr>\n",
       "      <th>...</th>\n",
       "      <td>...</td>\n",
       "      <td>...</td>\n",
       "      <td>...</td>\n",
       "      <td>...</td>\n",
       "    </tr>\n",
       "    <tr>\n",
       "      <th></th>\n",
       "      <td>...</td>\n",
       "      <td>...</td>\n",
       "      <td>...</td>\n",
       "      <td>...</td>\n",
       "    </tr>\n",
       "    <tr>\n",
       "      <th></th>\n",
       "      <td>...</td>\n",
       "      <td>...</td>\n",
       "      <td>...</td>\n",
       "      <td>...</td>\n",
       "    </tr>\n",
       "  </tbody>\n",
       "</table>\n",
       "</div>\n",
       "<div>Dask Name: extract_info_4m_df, 1154 tasks</div>"
      ],
      "text/plain": [
       "Dask DataFrame Structure:\n",
       "                 codesnippetsname    IdxM     Idx   match\n",
       "npartitions=1154                                         \n",
       "                           object  object  object  object\n",
       "                              ...     ...     ...     ...\n",
       "...                           ...     ...     ...     ...\n",
       "                              ...     ...     ...     ...\n",
       "                              ...     ...     ...     ...\n",
       "Dask Name: extract_info_4m_df, 1154 tasks"
      ]
     },
     "execution_count": 23,
     "metadata": {},
     "output_type": "execute_result"
    }
   ],
   "source": [
    "# Use this if ddf it is still a Dask dataframe\n",
    "def extract_info_4m_df(df):\n",
    "    df['IdxM'] = df['codesnippetsname'].str.extract(r'(\\d+_\\d+_\\d+_\\d+)', flags=0, expand=True)\n",
    "    df['Idx'] = df['codesnippetsname'].str.extract(r'(\\d+_\\d+_\\d+)', flags=0, expand=True)\n",
    "    df['match'] = df['codesnippetsname'].str.extract(r'(\\d+$)', flags=0, expand=True)\n",
    "    return df\n",
    "\n",
    "ddf = ddf.map_partitions(extract_info_4m_df)\n",
    "ddf.persist()"
   ]
  },
  {
   "cell_type": "raw",
   "id": "8bd1f64d-8b16-432c-a303-2dfd91787fe8",
   "metadata": {},
   "source": [
    "# Use this if ddf is NOT a dask dataframe\n",
    "ddf['IdxM'] = ddf['codesnippetsname'].str.extract(r'(\\d+_\\d+_\\d+_\\d+)', flags=0, expand=True)\n",
    "ddf['Idx'] = ddf['codesnippetsname'].str.extract(r'(\\d+_\\d+_\\d+)', flags=0, expand=True)\n",
    "ddf['match'] = ddf['codesnippetsname'].str.extract(r'(\\d+$)', flags=0, expand=True)"
   ]
  },
  {
   "cell_type": "code",
   "execution_count": 27,
   "id": "4a059ed9-0675-4a5a-b10f-81c6f2bbfa30",
   "metadata": {},
   "outputs": [
    {
     "data": {
      "text/html": [
       "<div>\n",
       "<style scoped>\n",
       "    .dataframe tbody tr th:only-of-type {\n",
       "        vertical-align: middle;\n",
       "    }\n",
       "\n",
       "    .dataframe tbody tr th {\n",
       "        vertical-align: top;\n",
       "    }\n",
       "\n",
       "    .dataframe thead th {\n",
       "        text-align: right;\n",
       "    }\n",
       "</style>\n",
       "<table border=\"1\" class=\"dataframe\">\n",
       "  <thead>\n",
       "    <tr style=\"text-align: right;\">\n",
       "      <th></th>\n",
       "      <th>codesnippetsname</th>\n",
       "      <th>IdxM</th>\n",
       "      <th>Idx</th>\n",
       "      <th>match</th>\n",
       "    </tr>\n",
       "  </thead>\n",
       "  <tbody>\n",
       "    <tr>\n",
       "      <th>0</th>\n",
       "      <td>Code_10022570_10022548_382_1</td>\n",
       "      <td>10022570_10022548_382_1</td>\n",
       "      <td>10022570_10022548_382</td>\n",
       "      <td>1</td>\n",
       "    </tr>\n",
       "    <tr>\n",
       "      <th>1</th>\n",
       "      <td>Code_10051644_10051084_113_0</td>\n",
       "      <td>10051644_10051084_113_0</td>\n",
       "      <td>10051644_10051084_113</td>\n",
       "      <td>0</td>\n",
       "    </tr>\n",
       "    <tr>\n",
       "      <th>2</th>\n",
       "      <td>Code_10059662_9994872_109_3</td>\n",
       "      <td>10059662_9994872_109_3</td>\n",
       "      <td>10059662_9994872_109</td>\n",
       "      <td>3</td>\n",
       "    </tr>\n",
       "    <tr>\n",
       "      <th>3</th>\n",
       "      <td>Code_10104389_10103834_274_0</td>\n",
       "      <td>10104389_10103834_274_0</td>\n",
       "      <td>10104389_10103834_274</td>\n",
       "      <td>0</td>\n",
       "    </tr>\n",
       "    <tr>\n",
       "      <th>4</th>\n",
       "      <td>Code_10109082_10109035_54_0</td>\n",
       "      <td>10109082_10109035_54_0</td>\n",
       "      <td>10109082_10109035_54</td>\n",
       "      <td>0</td>\n",
       "    </tr>\n",
       "  </tbody>\n",
       "</table>\n",
       "</div>"
      ],
      "text/plain": [
       "               codesnippetsname                     IdxM  \\\n",
       "0  Code_10022570_10022548_382_1  10022570_10022548_382_1   \n",
       "1  Code_10051644_10051084_113_0  10051644_10051084_113_0   \n",
       "2   Code_10059662_9994872_109_3   10059662_9994872_109_3   \n",
       "3  Code_10104389_10103834_274_0  10104389_10103834_274_0   \n",
       "4   Code_10109082_10109035_54_0   10109082_10109035_54_0   \n",
       "\n",
       "                     Idx match  \n",
       "0  10022570_10022548_382     1  \n",
       "1  10051644_10051084_113     0  \n",
       "2   10059662_9994872_109     3  \n",
       "3  10104389_10103834_274     0  \n",
       "4   10109082_10109035_54     0  "
      ]
     },
     "execution_count": 27,
     "metadata": {},
     "output_type": "execute_result"
    }
   ],
   "source": [
    "ddf.head()"
   ]
  },
  {
   "cell_type": "code",
   "execution_count": 28,
   "id": "ac32c93c-c8c4-4cfe-a4e3-322cd51791a4",
   "metadata": {},
   "outputs": [
    {
     "data": {
      "text/plain": [
       "1444299"
      ]
     },
     "execution_count": 28,
     "metadata": {},
     "output_type": "execute_result"
    }
   ],
   "source": [
    "ddf.shape[0].compute()"
   ]
  },
  {
   "cell_type": "markdown",
   "id": "abc9d80a-89df-4b3f-a3d7-bc7b89aaaf42",
   "metadata": {},
   "source": [
    "#### Get the unique classes dataframe"
   ]
  },
  {
   "cell_type": "code",
   "execution_count": 29,
   "id": "a7379349-147f-46eb-bec3-be370a5cd290",
   "metadata": {},
   "outputs": [],
   "source": [
    "# get the unique classes\n",
    "ddf = ddf.drop_duplicates()"
   ]
  },
  {
   "cell_type": "code",
   "execution_count": 30,
   "id": "82a9526a-421b-4003-9759-a0442355165c",
   "metadata": {},
   "outputs": [
    {
     "name": "stdout",
     "output_type": "stream",
     "text": [
      "Java code snippets that did not passed the pmd static analysis due to fatal errors 1444164\n"
     ]
    }
   ],
   "source": [
    "print('Java code snippets that did not passed the pmd static analysis due to fatal errors {}'.format(ddf.shape[0].compute()))"
   ]
  },
  {
   "cell_type": "code",
   "execution_count": null,
   "id": "3fdd7e3c-4019-46b5-9cd8-a3f1e7c2d7da",
   "metadata": {},
   "outputs": [],
   "source": []
  },
  {
   "cell_type": "markdown",
   "id": "e1f31726-45b8-4be1-aad9-45edcd6b380c",
   "metadata": {},
   "source": [
    "### Make a folder in that directory"
   ]
  },
  {
   "cell_type": "code",
   "execution_count": 33,
   "id": "2625c9c3-875f-4559-a7ab-e8919768ea6f",
   "metadata": {},
   "outputs": [],
   "source": [
    "## Make a folder in that directory\n",
    "folder = '{}/pmderrorcodesnippetsnames_csv'.format(common_path)\n",
    "# output: path/to/Post.csv => path/to\n",
    "mkdir_cmd = 'mkdir {}'.format(folder)\n",
    "cmd = sp.run(\n",
    "    mkdir_cmd, # command\n",
    "    capture_output=True,\n",
    "    text=True,\n",
    "    shell=True\n",
    ")"
   ]
  },
  {
   "cell_type": "markdown",
   "id": "134f5653-9389-487f-a799-3edd1d6a183f",
   "metadata": {},
   "source": [
    "### Save files in that directory"
   ]
  },
  {
   "cell_type": "code",
   "execution_count": 34,
   "id": "fa017085-a30e-4d8e-89f1-b41a6fcefd46",
   "metadata": {},
   "outputs": [],
   "source": [
    "## Save files in that directory\n",
    "filename = 'pmdErrorCodeSnippetsNames'\n",
    "file = '{}/{}*.csv'.format(folder, filename)\n",
    "_ = ddf.to_csv(file, sep=',', index=False)"
   ]
  },
  {
   "cell_type": "code",
   "execution_count": null,
   "id": "20797257-27f9-437c-8f96-926afbb2b40e",
   "metadata": {},
   "outputs": [],
   "source": []
  }
 ],
 "metadata": {
  "kernelspec": {
   "display_name": "Python 3.9.5 (gimkl-2020a)",
   "language": "python",
   "name": "python395-gimkl-2020a"
  },
  "language_info": {
   "codemirror_mode": {
    "name": "ipython",
    "version": 3
   },
   "file_extension": ".py",
   "mimetype": "text/x-python",
   "name": "python",
   "nbconvert_exporter": "python",
   "pygments_lexer": "ipython3",
   "version": "3.9.5"
  }
 },
 "nbformat": 4,
 "nbformat_minor": 5
}
