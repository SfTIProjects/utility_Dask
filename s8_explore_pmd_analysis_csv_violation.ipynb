{
 "cells": [
  {
   "cell_type": "code",
   "execution_count": 1,
   "id": "5c7001dc-f497-465a-b7ce-d60d9dc88c41",
   "metadata": {},
   "outputs": [],
   "source": [
    "import time\n",
    "from datetime import timedelta\n",
    "\n",
    "import html\n",
    "import re\n",
    "\n",
    "import os\n",
    "import ntpath\n",
    "\n",
    "import subprocess as sp\n",
    "\n",
    "import numpy as np\n",
    "import pandas as pd\n",
    "import xml.etree.ElementTree as et\n",
    "\n",
    "import dask\n",
    "import dask.dataframe as dd\n",
    "import dask.bag as bd\n",
    "from dask.distributed import Client\n",
    "from dask_jobqueue import SLURMCluster"
   ]
  },
  {
   "cell_type": "code",
   "execution_count": null,
   "id": "62e51143-f82e-4723-8e2d-0dc0931ac8b3",
   "metadata": {},
   "outputs": [],
   "source": []
  },
  {
   "cell_type": "code",
   "execution_count": 2,
   "id": "646643f9-498d-4d05-8abb-a79865a0eb52",
   "metadata": {},
   "outputs": [],
   "source": [
    "common_path = '../my_codesnippet_analysis'\n",
    "xml_path = 'pmdcodesnippetsviolation_csv/pmdCodeSnippetsViolation*.csv'\n",
    "xml_file = '{}/{}'.format(common_path, xml_path)"
   ]
  },
  {
   "cell_type": "markdown",
   "id": "c3a7ffcf-b1bd-41f8-932d-672077cbfcd1",
   "metadata": {
    "tags": []
   },
   "source": [
    "## Read csv files Java Answers"
   ]
  },
  {
   "cell_type": "code",
   "execution_count": 3,
   "id": "cf20def2-c0d1-4e07-86c2-09c6fb5d9674",
   "metadata": {},
   "outputs": [],
   "source": [
    "df = dd.read_csv(xml_file, engine='python', error_bad_lines=False, warn_bad_lines=False, dtype=object)"
   ]
  },
  {
   "cell_type": "markdown",
   "id": "7661c28d-b306-42b1-ab01-ec7821c8f235",
   "metadata": {
    "tags": []
   },
   "source": [
    "## Start a Dask cluster using SLURM jobs as workers"
   ]
  },
  {
   "cell_type": "code",
   "execution_count": 4,
   "id": "0216ff53-64ce-4635-923d-ba00444eed69",
   "metadata": {},
   "outputs": [],
   "source": [
    "#http://jobqueue.dask.org/en/latest/generated/dask_jobqueue.SLURMCluster.html\n",
    "dask.config.set(\n",
    "    {\n",
    "        \"distributed.worker.memory.target\": False,  # avoid spilling to disk\n",
    "        \"distributed.worker.memory.spill\": False,  # avoid spilling to disk\n",
    "    }\n",
    ")\n",
    "cluster = SLURMCluster(\n",
    "    cores=10, #cores=24, # we set each job to have 1 Worker, each using 10 cores (threads) and 8 GB of memory\n",
    "    processes=2,\n",
    "    memory=\"8GiB\",\n",
    "    walltime=\"0-00:30\",# walltime=\"0-00:50\",\n",
    "    log_directory=\"../dask/logs\",  # folder for SLURM logs for each worker\n",
    "    local_directory=\"../dask\",  # folder for workers data\n",
    ")"
   ]
  },
  {
   "cell_type": "markdown",
   "id": "8b7ef768-6ce6-4696-a16b-83206ffe3e41",
   "metadata": {},
   "source": [
    "Spawn between 20 to 100 workers and connect a client to be able use them."
   ]
  },
  {
   "cell_type": "code",
   "execution_count": 5,
   "id": "0ecdceec-2192-4343-ad4e-8826616caffb",
   "metadata": {},
   "outputs": [
    {
     "data": {
      "text/html": [
       "<table style=\"border: 2px solid white;\">\n",
       "<tr>\n",
       "<td style=\"vertical-align: top; border: 0px solid white\">\n",
       "<h3 style=\"text-align: left;\">Client</h3>\n",
       "<ul style=\"text-align: left; list-style: none; margin: 0; padding: 0;\">\n",
       "  <li><b>Scheduler: </b>tcp://192.168.94.140:39012</li>\n",
       "  <li><b>Dashboard: </b><a href='http://192.168.94.140:8787/status' target='_blank'>http://192.168.94.140:8787/status</a></li>\n",
       "</ul>\n",
       "</td>\n",
       "<td style=\"vertical-align: top; border: 0px solid white\">\n",
       "<h3 style=\"text-align: left;\">Cluster</h3>\n",
       "<ul style=\"text-align: left; list-style:none; margin: 0; padding: 0;\">\n",
       "  <li><b>Workers: </b>0</li>\n",
       "  <li><b>Cores: </b>0</li>\n",
       "  <li><b>Memory: </b>0 B</li>\n",
       "</ul>\n",
       "</td>\n",
       "</tr>\n",
       "</table>"
      ],
      "text/plain": [
       "<Client: 'tcp://192.168.94.140:39012' processes=0 threads=0, memory=0 B>"
      ]
     },
     "execution_count": 5,
     "metadata": {},
     "output_type": "execute_result"
    }
   ],
   "source": [
    "#cluster.scale(n=20) # ask for 20 jobs or workers\n",
    "# This also works with adaptive clusters. This automatically launches and kill workers based on load.\n",
    "# we tell our cluster to autoscale between 10 and 20 workers depending on the load\n",
    "cluster.adapt(minimum_jobs=10, maximum_jobs=200)\n",
    "#cluster.adapt(maximum_jobs=20)\n",
    "client = Client(cluster)\n",
    "client"
   ]
  },
  {
   "cell_type": "code",
   "execution_count": 6,
   "id": "21fdc20b-179f-4099-8a28-06ea4e19d786",
   "metadata": {},
   "outputs": [
    {
     "data": {
      "text/html": [
       "<div><strong>Dask DataFrame Structure:</strong></div>\n",
       "<div>\n",
       "<style scoped>\n",
       "    .dataframe tbody tr th:only-of-type {\n",
       "        vertical-align: middle;\n",
       "    }\n",
       "\n",
       "    .dataframe tbody tr th {\n",
       "        vertical-align: top;\n",
       "    }\n",
       "\n",
       "    .dataframe thead th {\n",
       "        text-align: right;\n",
       "    }\n",
       "</style>\n",
       "<table border=\"1\" class=\"dataframe\">\n",
       "  <thead>\n",
       "    <tr style=\"text-align: right;\">\n",
       "      <th></th>\n",
       "      <th>beginline</th>\n",
       "      <th>endline</th>\n",
       "      <th>begincolumn</th>\n",
       "      <th>endcolumn</th>\n",
       "      <th>rule</th>\n",
       "      <th>ruleset</th>\n",
       "      <th>class</th>\n",
       "      <th>externalInfoUrl</th>\n",
       "      <th>priority</th>\n",
       "      <th>msg</th>\n",
       "      <th>method</th>\n",
       "    </tr>\n",
       "    <tr>\n",
       "      <th>npartitions=1143</th>\n",
       "      <th></th>\n",
       "      <th></th>\n",
       "      <th></th>\n",
       "      <th></th>\n",
       "      <th></th>\n",
       "      <th></th>\n",
       "      <th></th>\n",
       "      <th></th>\n",
       "      <th></th>\n",
       "      <th></th>\n",
       "      <th></th>\n",
       "    </tr>\n",
       "  </thead>\n",
       "  <tbody>\n",
       "    <tr>\n",
       "      <th></th>\n",
       "      <td>object</td>\n",
       "      <td>object</td>\n",
       "      <td>object</td>\n",
       "      <td>object</td>\n",
       "      <td>object</td>\n",
       "      <td>object</td>\n",
       "      <td>object</td>\n",
       "      <td>object</td>\n",
       "      <td>object</td>\n",
       "      <td>object</td>\n",
       "      <td>object</td>\n",
       "    </tr>\n",
       "    <tr>\n",
       "      <th></th>\n",
       "      <td>...</td>\n",
       "      <td>...</td>\n",
       "      <td>...</td>\n",
       "      <td>...</td>\n",
       "      <td>...</td>\n",
       "      <td>...</td>\n",
       "      <td>...</td>\n",
       "      <td>...</td>\n",
       "      <td>...</td>\n",
       "      <td>...</td>\n",
       "      <td>...</td>\n",
       "    </tr>\n",
       "    <tr>\n",
       "      <th>...</th>\n",
       "      <td>...</td>\n",
       "      <td>...</td>\n",
       "      <td>...</td>\n",
       "      <td>...</td>\n",
       "      <td>...</td>\n",
       "      <td>...</td>\n",
       "      <td>...</td>\n",
       "      <td>...</td>\n",
       "      <td>...</td>\n",
       "      <td>...</td>\n",
       "      <td>...</td>\n",
       "    </tr>\n",
       "    <tr>\n",
       "      <th></th>\n",
       "      <td>...</td>\n",
       "      <td>...</td>\n",
       "      <td>...</td>\n",
       "      <td>...</td>\n",
       "      <td>...</td>\n",
       "      <td>...</td>\n",
       "      <td>...</td>\n",
       "      <td>...</td>\n",
       "      <td>...</td>\n",
       "      <td>...</td>\n",
       "      <td>...</td>\n",
       "    </tr>\n",
       "    <tr>\n",
       "      <th></th>\n",
       "      <td>...</td>\n",
       "      <td>...</td>\n",
       "      <td>...</td>\n",
       "      <td>...</td>\n",
       "      <td>...</td>\n",
       "      <td>...</td>\n",
       "      <td>...</td>\n",
       "      <td>...</td>\n",
       "      <td>...</td>\n",
       "      <td>...</td>\n",
       "      <td>...</td>\n",
       "    </tr>\n",
       "  </tbody>\n",
       "</table>\n",
       "</div>\n",
       "<div>Dask Name: read-csv, 1143 tasks</div>"
      ],
      "text/plain": [
       "Dask DataFrame Structure:\n",
       "                 beginline endline begincolumn endcolumn    rule ruleset   class externalInfoUrl priority     msg  method\n",
       "npartitions=1143                                                                                                         \n",
       "                    object  object      object    object  object  object  object          object   object  object  object\n",
       "                       ...     ...         ...       ...     ...     ...     ...             ...      ...     ...     ...\n",
       "...                    ...     ...         ...       ...     ...     ...     ...             ...      ...     ...     ...\n",
       "                       ...     ...         ...       ...     ...     ...     ...             ...      ...     ...     ...\n",
       "                       ...     ...         ...       ...     ...     ...     ...             ...      ...     ...     ...\n",
       "Dask Name: read-csv, 1143 tasks"
      ]
     },
     "execution_count": 6,
     "metadata": {},
     "output_type": "execute_result"
    }
   ],
   "source": [
    "df"
   ]
  },
  {
   "cell_type": "code",
   "execution_count": 7,
   "id": "328d170f-23e2-4ab3-a0e2-6a339505feba",
   "metadata": {},
   "outputs": [
    {
     "name": "stdout",
     "output_type": "stream",
     "text": [
      "Initial number of volations 5750467\n"
     ]
    }
   ],
   "source": [
    "pmd_codeviolations_init_len = df.shape[0].compute()\n",
    "print('Initial number of volations {}'.format(pmd_codeviolations_init_len))"
   ]
  },
  {
   "cell_type": "code",
   "execution_count": 8,
   "id": "bcb21e1c-9ae1-4d73-97b4-1888ff244c48",
   "metadata": {},
   "outputs": [],
   "source": [
    "# drop empty columns\n",
    "df = df[~df['class'].isna()] # Drop rows that have NaN in the Code column"
   ]
  },
  {
   "cell_type": "code",
   "execution_count": 9,
   "id": "045d8610-5e47-41a1-8289-a5fbbb47455e",
   "metadata": {},
   "outputs": [
    {
     "name": "stdout",
     "output_type": "stream",
     "text": [
      "Number of violations after removing the nans in the class column 5739333\n"
     ]
    }
   ],
   "source": [
    "pmd_codeviolations_nonan_len =df.shape[0].compute()\n",
    "print('Number of violations after removing the nans in the class column {}'.format(pmd_codeviolations_nonan_len))"
   ]
  },
  {
   "cell_type": "code",
   "execution_count": 10,
   "id": "55eb9360-6090-4b22-b261-5fa59851ee4d",
   "metadata": {},
   "outputs": [
    {
     "name": "stdout",
     "output_type": "stream",
     "text": [
      "Difference 11134\n"
     ]
    }
   ],
   "source": [
    "print('Difference {}'.format(pmd_codeviolations_init_len - pmd_codeviolations_nonan_len))"
   ]
  },
  {
   "cell_type": "code",
   "execution_count": 11,
   "id": "b13dc104-ac8a-4f23-adb4-015e098e860e",
   "metadata": {},
   "outputs": [],
   "source": [
    "# drop classes that do not have this pattern e.g., Code_10000096_9914015_1959_0\n",
    "#df = df[df['class'].str.contains('^Code_\\d+_\\d+_\\d+_\\d+', regex=True)]\n",
    "df = df[df['class'].str.contains('^Code_\\d+_\\d+_\\d+_\\d+$', regex=True)]"
   ]
  },
  {
   "cell_type": "code",
   "execution_count": 12,
   "id": "36e62f17-090e-495b-9023-36941aeee6d2",
   "metadata": {},
   "outputs": [
    {
     "name": "stdout",
     "output_type": "stream",
     "text": [
      "Number of violations after removing the onces caused by unknown class e.g. inner classes 5739333\n"
     ]
    }
   ],
   "source": [
    "pmd_codeviolations_unkownclass_len = df.shape[0].compute()\n",
    "print('Number of violations after removing the onces caused by unknown class e.g. inner classes {}'.format(pmd_codeviolations_nonan_len))"
   ]
  },
  {
   "cell_type": "code",
   "execution_count": 13,
   "id": "b4397c4c-c2ac-4516-b8a4-d96da752f9fa",
   "metadata": {},
   "outputs": [
    {
     "name": "stdout",
     "output_type": "stream",
     "text": [
      "Difference 595960\n"
     ]
    }
   ],
   "source": [
    "print('Difference {}'.format(pmd_codeviolations_nonan_len - pmd_codeviolations_unkownclass_len))"
   ]
  },
  {
   "cell_type": "markdown",
   "id": "061f3bfe-6c74-46df-894c-7e5f83a790a9",
   "metadata": {},
   "source": [
    "#### Count the unique classes\n",
    "- Classes that passed the pmd static analysis with violations"
   ]
  },
  {
   "cell_type": "code",
   "execution_count": 14,
   "id": "005ccd86-f2d0-43a9-b93c-d66c535d6d5a",
   "metadata": {},
   "outputs": [
    {
     "data": {
      "text/plain": [
       "846052"
      ]
     },
     "execution_count": 14,
     "metadata": {},
     "output_type": "execute_result"
    }
   ],
   "source": [
    "#count the unique classes\n",
    "df.groupby('class').count().shape[0].compute()"
   ]
  },
  {
   "cell_type": "markdown",
   "id": "50d0a9ca-3bad-445b-bcff-8b33facc869e",
   "metadata": {},
   "source": [
    "#### Get the unique classes dataframe"
   ]
  },
  {
   "cell_type": "code",
   "execution_count": 15,
   "id": "e3d92db0-cd26-4ea5-8066-95ddc0b4b604",
   "metadata": {},
   "outputs": [],
   "source": [
    "# get the unique classes\n",
    "df = df['class'].drop_duplicates().compute()"
   ]
  },
  {
   "cell_type": "code",
   "execution_count": 17,
   "id": "548375f8-2651-42ba-b332-ca271ee51c40",
   "metadata": {},
   "outputs": [
    {
     "name": "stdout",
     "output_type": "stream",
     "text": [
      "Java code snippets that passed the pmd static analysis with violations 846052\n"
     ]
    }
   ],
   "source": [
    "# This also counts the unique classes\n",
    "print('Java code snippets that passed the pmd static analysis with violations {}'.format(df.shape[0]))\n"
   ]
  },
  {
   "cell_type": "code",
   "execution_count": 18,
   "id": "f817d6e6-51f3-49b5-9508-2aea0ae2c891",
   "metadata": {},
   "outputs": [],
   "source": [
    "#convert series to dataframe\n",
    "df = pd.DataFrame(df)"
   ]
  },
  {
   "cell_type": "code",
   "execution_count": 19,
   "id": "38be1717-6ef2-4dac-bcd3-03af4ca347e6",
   "metadata": {},
   "outputs": [],
   "source": [
    "df.columns = ['classname']"
   ]
  },
  {
   "cell_type": "code",
   "execution_count": 20,
   "id": "e198f461-918a-477b-90dd-95eeb20b9a2b",
   "metadata": {},
   "outputs": [
    {
     "data": {
      "text/html": [
       "<div>\n",
       "<style scoped>\n",
       "    .dataframe tbody tr th:only-of-type {\n",
       "        vertical-align: middle;\n",
       "    }\n",
       "\n",
       "    .dataframe tbody tr th {\n",
       "        vertical-align: top;\n",
       "    }\n",
       "\n",
       "    .dataframe thead th {\n",
       "        text-align: right;\n",
       "    }\n",
       "</style>\n",
       "<table border=\"1\" class=\"dataframe\">\n",
       "  <thead>\n",
       "    <tr style=\"text-align: right;\">\n",
       "      <th></th>\n",
       "      <th>classname</th>\n",
       "    </tr>\n",
       "  </thead>\n",
       "  <tbody>\n",
       "    <tr>\n",
       "      <th>0</th>\n",
       "      <td>Code_10000096_9914015_73_1</td>\n",
       "    </tr>\n",
       "    <tr>\n",
       "      <th>4</th>\n",
       "      <td>Code_1001005_1000723_311_0</td>\n",
       "    </tr>\n",
       "    <tr>\n",
       "      <th>27</th>\n",
       "      <td>Code_10027533_10027469_197_0</td>\n",
       "    </tr>\n",
       "    <tr>\n",
       "      <th>30</th>\n",
       "      <td>Code_10032837_10029678_3_2</td>\n",
       "    </tr>\n",
       "    <tr>\n",
       "      <th>31</th>\n",
       "      <td>Code_10059295_10055336_82_7</td>\n",
       "    </tr>\n",
       "  </tbody>\n",
       "</table>\n",
       "</div>"
      ],
      "text/plain": [
       "                       classname\n",
       "0     Code_10000096_9914015_73_1\n",
       "4     Code_1001005_1000723_311_0\n",
       "27  Code_10027533_10027469_197_0\n",
       "30    Code_10032837_10029678_3_2\n",
       "31   Code_10059295_10055336_82_7"
      ]
     },
     "execution_count": 20,
     "metadata": {},
     "output_type": "execute_result"
    }
   ],
   "source": [
    "df.head()"
   ]
  },
  {
   "cell_type": "code",
   "execution_count": 21,
   "id": "e1c92b6c-94e9-4155-b706-f138510df4bf",
   "metadata": {},
   "outputs": [],
   "source": [
    "df['IdxM'] = df['classname'].str.extract(r'(\\d+_\\d+_\\d+_\\d+)', flags=0, expand=True)"
   ]
  },
  {
   "cell_type": "code",
   "execution_count": 22,
   "id": "062162a1-deb7-449c-a95b-58273bc07755",
   "metadata": {},
   "outputs": [],
   "source": [
    "df['Idx'] = df['classname'].str.extract(r'(\\d+_\\d+_\\d+)', flags=0, expand=True)"
   ]
  },
  {
   "cell_type": "code",
   "execution_count": 23,
   "id": "9902e5e8-ae10-44b0-ae0a-9259703872e8",
   "metadata": {},
   "outputs": [],
   "source": [
    "df['match'] = df['classname'].str.extract(r'(\\d+$)', flags=0, expand=True)"
   ]
  },
  {
   "cell_type": "code",
   "execution_count": 24,
   "id": "4af1477f-086a-47b6-8619-88071c74a1c7",
   "metadata": {},
   "outputs": [
    {
     "data": {
      "text/html": [
       "<div>\n",
       "<style scoped>\n",
       "    .dataframe tbody tr th:only-of-type {\n",
       "        vertical-align: middle;\n",
       "    }\n",
       "\n",
       "    .dataframe tbody tr th {\n",
       "        vertical-align: top;\n",
       "    }\n",
       "\n",
       "    .dataframe thead th {\n",
       "        text-align: right;\n",
       "    }\n",
       "</style>\n",
       "<table border=\"1\" class=\"dataframe\">\n",
       "  <thead>\n",
       "    <tr style=\"text-align: right;\">\n",
       "      <th></th>\n",
       "      <th>classname</th>\n",
       "      <th>IdxM</th>\n",
       "      <th>Idx</th>\n",
       "      <th>match</th>\n",
       "    </tr>\n",
       "  </thead>\n",
       "  <tbody>\n",
       "    <tr>\n",
       "      <th>0</th>\n",
       "      <td>Code_10000096_9914015_73_1</td>\n",
       "      <td>10000096_9914015_73_1</td>\n",
       "      <td>10000096_9914015_73</td>\n",
       "      <td>1</td>\n",
       "    </tr>\n",
       "    <tr>\n",
       "      <th>4</th>\n",
       "      <td>Code_1001005_1000723_311_0</td>\n",
       "      <td>1001005_1000723_311_0</td>\n",
       "      <td>1001005_1000723_311</td>\n",
       "      <td>0</td>\n",
       "    </tr>\n",
       "    <tr>\n",
       "      <th>27</th>\n",
       "      <td>Code_10027533_10027469_197_0</td>\n",
       "      <td>10027533_10027469_197_0</td>\n",
       "      <td>10027533_10027469_197</td>\n",
       "      <td>0</td>\n",
       "    </tr>\n",
       "    <tr>\n",
       "      <th>30</th>\n",
       "      <td>Code_10032837_10029678_3_2</td>\n",
       "      <td>10032837_10029678_3_2</td>\n",
       "      <td>10032837_10029678_3</td>\n",
       "      <td>2</td>\n",
       "    </tr>\n",
       "    <tr>\n",
       "      <th>31</th>\n",
       "      <td>Code_10059295_10055336_82_7</td>\n",
       "      <td>10059295_10055336_82_7</td>\n",
       "      <td>10059295_10055336_82</td>\n",
       "      <td>7</td>\n",
       "    </tr>\n",
       "  </tbody>\n",
       "</table>\n",
       "</div>"
      ],
      "text/plain": [
       "                       classname                     IdxM  \\\n",
       "0     Code_10000096_9914015_73_1    10000096_9914015_73_1   \n",
       "4     Code_1001005_1000723_311_0    1001005_1000723_311_0   \n",
       "27  Code_10027533_10027469_197_0  10027533_10027469_197_0   \n",
       "30    Code_10032837_10029678_3_2    10032837_10029678_3_2   \n",
       "31   Code_10059295_10055336_82_7   10059295_10055336_82_7   \n",
       "\n",
       "                      Idx match  \n",
       "0     10000096_9914015_73     1  \n",
       "4     1001005_1000723_311     0  \n",
       "27  10027533_10027469_197     0  \n",
       "30    10032837_10029678_3     2  \n",
       "31   10059295_10055336_82     7  "
      ]
     },
     "execution_count": 24,
     "metadata": {},
     "output_type": "execute_result"
    }
   ],
   "source": [
    "df.head()"
   ]
  },
  {
   "cell_type": "markdown",
   "id": "5e90276a-a230-409a-aa32-b738c6f5f4b4",
   "metadata": {},
   "source": [
    "### Make a folder in that directory"
   ]
  },
  {
   "cell_type": "code",
   "execution_count": 25,
   "id": "706f068b-6ba5-4ad4-85be-a8c7645fcc81",
   "metadata": {},
   "outputs": [],
   "source": [
    "## Make a folder in that directory\n",
    "folder = '{}/pmdviolationscodesnippetsnames_csv'.format(common_path)\n",
    "# output: path/to/Post.csv => path/to\n",
    "mkdir_cmd = 'mkdir {}'.format(folder)\n",
    "cmd = sp.run(\n",
    "    mkdir_cmd, # command\n",
    "    capture_output=True,\n",
    "    text=True,\n",
    "    shell=True\n",
    ")"
   ]
  },
  {
   "cell_type": "markdown",
   "id": "ed2fa4a3-8001-4ff9-98d2-e0062fbda4b7",
   "metadata": {},
   "source": [
    "### Save files in that directory"
   ]
  },
  {
   "cell_type": "code",
   "execution_count": 26,
   "id": "7b32469f-16a4-4789-a14c-5e118afeee1c",
   "metadata": {},
   "outputs": [],
   "source": [
    "## Save files in that directory\n",
    "filename = 'pmdViolationsCodeSnippetsNames'\n",
    "file = '{}/{}*.csv'.format(folder, filename)\n",
    "_ = df.to_csv(file, sep=',', index=False)"
   ]
  },
  {
   "cell_type": "code",
   "execution_count": null,
   "id": "927c6b0d-6b3d-4dd7-bfd4-91c035e16b14",
   "metadata": {},
   "outputs": [],
   "source": []
  }
 ],
 "metadata": {
  "kernelspec": {
   "display_name": "Python 3.9.5 (gimkl-2020a)",
   "language": "python",
   "name": "python395-gimkl-2020a"
  },
  "language_info": {
   "codemirror_mode": {
    "name": "ipython",
    "version": 3
   },
   "file_extension": ".py",
   "mimetype": "text/x-python",
   "name": "python",
   "nbconvert_exporter": "python",
   "pygments_lexer": "ipython3",
   "version": "3.9.5"
  }
 },
 "nbformat": 4,
 "nbformat_minor": 5
}
