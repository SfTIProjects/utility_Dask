{
 "cells": [
  {
   "cell_type": "code",
   "execution_count": 1,
   "id": "33c8b54b-973b-402a-b54e-f656b8eba1c1",
   "metadata": {},
   "outputs": [],
   "source": [
    "import time\n",
    "from datetime import timedelta\n",
    "\n",
    "import html\n",
    "import re\n",
    "\n",
    "import os\n",
    "import ntpath\n",
    "\n",
    "import subprocess as sp\n",
    "\n",
    "import numpy as np\n",
    "import pandas as pd\n",
    "import xml.etree.ElementTree as et\n",
    "\n",
    "import dask\n",
    "import dask.dataframe as dd\n",
    "import dask.bag as bd\n",
    "from dask.distributed import Client\n",
    "from dask_jobqueue import SLURMCluster"
   ]
  },
  {
   "cell_type": "markdown",
   "id": "ea2b6b62-e8e9-40ad-96c8-d46086c18f35",
   "metadata": {},
   "source": [
    "## Enter full path to CSV file"
   ]
  },
  {
   "cell_type": "code",
   "execution_count": 2,
   "id": "ef936572-c4f2-4a3f-b471-0b8f774b1e42",
   "metadata": {},
   "outputs": [],
   "source": [
    "## Enter full path to CSV file\n",
    "\n",
    "common_path = '../../../../stackexchange_v2/workspace/input'\n",
    "#common_path = '../SO_data_dump'\n",
    "\n",
    "## Enter Relative Path to csv file\n",
    "relative_path = 'javarawcodes_csv/JavaRawCodes*.csv'\n",
    "\n",
    "filepath_javaanswers = '{}/{}'.format(common_path, relative_path)"
   ]
  },
  {
   "cell_type": "markdown",
   "id": "5f7c663e-ba81-4bb4-8f0a-3f7e2421c3fd",
   "metadata": {
    "tags": []
   },
   "source": [
    "## Read Java Raw Codes csv files "
   ]
  },
  {
   "cell_type": "code",
   "execution_count": 3,
   "id": "f3e75e32-6993-447b-aab5-3b29be803c5f",
   "metadata": {},
   "outputs": [],
   "source": [
    "ddf_javarawcodes = dd.read_csv(filepath_javaanswers, engine='python', error_bad_lines=False, warn_bad_lines=False, dtype=object)"
   ]
  },
  {
   "cell_type": "markdown",
   "id": "99447113-7284-46c1-881e-b40e40a700ce",
   "metadata": {
    "tags": []
   },
   "source": [
    "## Start a Dask cluster using SLURM jobs as workers"
   ]
  },
  {
   "cell_type": "code",
   "execution_count": 4,
   "id": "c8d273e7-458c-4afa-8941-b7c2e8d3c459",
   "metadata": {},
   "outputs": [],
   "source": [
    "#http://jobqueue.dask.org/en/latest/generated/dask_jobqueue.SLURMCluster.html\n",
    "dask.config.set(\n",
    "    {\n",
    "        \"distributed.worker.memory.target\": False,  # avoid spilling to disk\n",
    "        \"distributed.worker.memory.spill\": False,  # avoid spilling to disk\n",
    "    }\n",
    ")\n",
    "cluster = SLURMCluster(\n",
    "    cores=2, #cores=10, # we set each job to have 1 Worker, each using 10 cores (threads) and 8 GB of memory\n",
    "    processes=2, #processes=2,\n",
    "    memory=\"16GiB\",\n",
    "    walltime=\"1-30:30\",# walltime=\"0-00:50\",\n",
    "    log_directory=\"../dask/logs\",  # folder for SLURM logs for each worker\n",
    "    local_directory=\"../dask\",  # folder for workers data\n",
    ")"
   ]
  },
  {
   "cell_type": "markdown",
   "id": "08e960dc-3f86-4ba2-b0d8-2c9170a9fc11",
   "metadata": {},
   "source": [
    "Spawn between 20 to 100 workers and connect a client to be able use them."
   ]
  },
  {
   "cell_type": "code",
   "execution_count": 5,
   "id": "57ca24de-2ca5-4940-a953-1d606048bf1c",
   "metadata": {},
   "outputs": [
    {
     "data": {
      "text/html": [
       "<table style=\"border: 2px solid white;\">\n",
       "<tr>\n",
       "<td style=\"vertical-align: top; border: 0px solid white\">\n",
       "<h3 style=\"text-align: left;\">Client</h3>\n",
       "<ul style=\"text-align: left; list-style: none; margin: 0; padding: 0;\">\n",
       "  <li><b>Scheduler: </b>tcp://192.168.94.140:34689</li>\n",
       "  <li><b>Dashboard: </b><a href='http://192.168.94.140:8787/status' target='_blank'>http://192.168.94.140:8787/status</a></li>\n",
       "</ul>\n",
       "</td>\n",
       "<td style=\"vertical-align: top; border: 0px solid white\">\n",
       "<h3 style=\"text-align: left;\">Cluster</h3>\n",
       "<ul style=\"text-align: left; list-style:none; margin: 0; padding: 0;\">\n",
       "  <li><b>Workers: </b>0</li>\n",
       "  <li><b>Cores: </b>0</li>\n",
       "  <li><b>Memory: </b>0 B</li>\n",
       "</ul>\n",
       "</td>\n",
       "</tr>\n",
       "</table>"
      ],
      "text/plain": [
       "<Client: 'tcp://192.168.94.140:34689' processes=0 threads=0, memory=0 B>"
      ]
     },
     "execution_count": 5,
     "metadata": {},
     "output_type": "execute_result"
    }
   ],
   "source": [
    "#cluster.scale(n=20) # ask for 20 jobs or workers\n",
    "# This also works with adaptive clusters. This automatically launches and kill workers based on load.\n",
    "# we tell our cluster to autoscale between 10 and 20 workers depending on the load\n",
    "cluster.adapt(minimum_jobs=50, maximum_jobs=576)\n",
    "#cluster.adapt(maximum_jobs=20)\n",
    "client = Client(cluster)\n",
    "client"
   ]
  },
  {
   "cell_type": "code",
   "execution_count": 6,
   "id": "dcc87bb9-30d2-4aba-bc42-84707f8d0722",
   "metadata": {},
   "outputs": [],
   "source": [
    "# Keep a copy\n",
    "ddf_javarawcodes_temp = ddf_javarawcodes.copy()"
   ]
  },
  {
   "cell_type": "markdown",
   "id": "26da9136-e389-41b6-956a-b14ef13954d2",
   "metadata": {},
   "source": [
    "## Numbere of Posts Containing Code Tags"
   ]
  },
  {
   "cell_type": "code",
   "execution_count": 7,
   "id": "ffebec63-7bec-4154-95fd-9f2ca63b29f5",
   "metadata": {},
   "outputs": [],
   "source": [
    "# Check the length of the dataframe WITHOUT dropped records\n",
    "#javarawcodes_len = len(ddf_javarawcodes.index)\n",
    "#javarawcodes_len"
   ]
  },
  {
   "cell_type": "markdown",
   "id": "1bcdde4e-d4c4-4387-bc6a-b945e6ff6209",
   "metadata": {},
   "source": [
    "## Drop all row with any column having a NaN value"
   ]
  },
  {
   "cell_type": "code",
   "execution_count": 8,
   "id": "15b79af3-b2bd-4d93-b1a4-e53c0ffe52b6",
   "metadata": {},
   "outputs": [],
   "source": [
    "# Drop all row with any column having a NaN value\n",
    "#ddf_javarawcodes = ddf_javarawcodes.dropna()\n",
    "ddf_javarawcodes = ddf_javarawcodes[~ddf_javarawcodes.Code.isna()] # Drop rows that have NaN in the Code column"
   ]
  },
  {
   "cell_type": "code",
   "execution_count": 9,
   "id": "4b9f7f98-a39b-4b77-9feb-b1ce513dc6a9",
   "metadata": {},
   "outputs": [],
   "source": [
    "# Get all the dropped rows with NA\n",
    "javarawcodes_na_df = ddf_javarawcodes_temp[~ddf_javarawcodes_temp.Idx.isin(ddf_javarawcodes.Idx.compute())]"
   ]
  },
  {
   "cell_type": "code",
   "execution_count": 10,
   "id": "79884f1e-f749-4808-95e8-1b85a51d685b",
   "metadata": {},
   "outputs": [
    {
     "data": {
      "text/plain": [
       "961"
      ]
     },
     "execution_count": 10,
     "metadata": {},
     "output_type": "execute_result"
    }
   ],
   "source": [
    "# Number of dropped records\n",
    "javarawcodes_na_len = javarawcodes_na_df.index.shape[0].compute()\n",
    "javarawcodes_na_len"
   ]
  },
  {
   "cell_type": "code",
   "execution_count": 11,
   "id": "bef2fea2-c9e4-4a71-a27b-81e7b069d402",
   "metadata": {},
   "outputs": [
    {
     "data": {
      "text/plain": [
       "7193410"
      ]
     },
     "execution_count": 11,
     "metadata": {},
     "output_type": "execute_result"
    }
   ],
   "source": [
    "# Number of records left\n",
    "javarawcodes_notna_len = ddf_javarawcodes.index.shape[0].compute()\n",
    "javarawcodes_notna_len"
   ]
  },
  {
   "cell_type": "raw",
   "id": "e61364eb-8fa2-4e7f-8f91-d502de533053",
   "metadata": {
    "tags": []
   },
   "source": [
    "# Verify that the lengths are equal to the initial length\n",
    "javarawcodes_notna_len + javarawcodes_na_len"
   ]
  },
  {
   "cell_type": "markdown",
   "id": "e0641303-adff-452f-9ad9-6528b01860e0",
   "metadata": {},
   "source": [
    "## Remove Codes that have any form of html or xml tags"
   ]
  },
  {
   "cell_type": "markdown",
   "id": "3e9a5610-3e68-48ae-aec1-ceb5a76f0b78",
   "metadata": {},
   "source": [
    "#### Convert all the unicode strings into actual symbol"
   ]
  },
  {
   "cell_type": "code",
   "execution_count": 12,
   "id": "31deeb6e-f4cb-4bc5-a48d-30dd2c77c89a",
   "metadata": {
    "tags": []
   },
   "outputs": [],
   "source": [
    "#https://stackoverflow.com/questions/60088353/convert-html-characters-to-strings-in-pandas-dataframe\n",
    "ddf_javarawcodes = ddf_javarawcodes.applymap(html.unescape)"
   ]
  },
  {
   "cell_type": "code",
   "execution_count": 13,
   "id": "6ac1f99f-c7f3-44bc-bca8-0e2bfa32a374",
   "metadata": {
    "tags": []
   },
   "outputs": [],
   "source": [
    "# keep a copy\n",
    "ddf_javarawcodes_temp = ddf_javarawcodes.copy()"
   ]
  },
  {
   "cell_type": "markdown",
   "id": "fbfcad60-d37a-4ee1-9ae1-cd205e1755e6",
   "metadata": {},
   "source": [
    "#### Remove code with any form of HTML/XML"
   ]
  },
  {
   "cell_type": "code",
   "execution_count": 14,
   "id": "7bfc5bf8-d7c0-4644-9f83-06cea51766ca",
   "metadata": {
    "tags": []
   },
   "outputs": [
    {
     "name": "stderr",
     "output_type": "stream",
     "text": [
      "/opt/nesi/CS400_centos7_bdw/Python/3.9.5-gimkl-2020a/lib/python3.9/site-packages/pandas/core/strings/accessor.py:101: UserWarning: This pattern has match groups. To actually get the groups, use str.extract.\n",
      "  return func(self, *args, **kwargs)\n"
     ]
    }
   ],
   "source": [
    "#Replace all the single line html tags <.../> with empty string\n",
    "#javarawcodes_html_df1 = ddf_javarawcodes[ddf_javarawcodes.Code.str.contains('^(//.*|\\'|\\n|\\r|\\s|\\r\\n)*<(.|\\n|\\r\\n)*?>(.|\\n|\\r\\n)*?<\\/(.|\\n|\\r\\n)*?(>|\\'|\\n|\\r\\n)$', regex=True)]\n",
    "#ddf_javarawcodes_htmlxml = ddf_javarawcodes[ddf_javarawcodes.Code.str.contains('<.*>(.|\\n|\\r\\n)*?<\\/.*>', regex=True)] # this gets stuck at some point\n",
    "ddf_javarawcodes_htmlxml = ddf_javarawcodes[ddf_javarawcodes.Code.str.contains('<.*>(.|\\n|\\r\\n)<\\/.*>*?', regex=True)]\n"
   ]
  },
  {
   "cell_type": "code",
   "execution_count": 15,
   "id": "16179535-a583-4ee7-86de-2d13d55948c0",
   "metadata": {},
   "outputs": [
    {
     "data": {
      "text/plain": [
       "77132"
      ]
     },
     "execution_count": 15,
     "metadata": {},
     "output_type": "execute_result"
    }
   ],
   "source": [
    "# Number of records that dropped\n",
    "javarawcodes_htmlxml_len = ddf_javarawcodes_htmlxml.index.shape[0].compute()\n",
    "javarawcodes_htmlxml_len"
   ]
  },
  {
   "cell_type": "code",
   "execution_count": 16,
   "id": "d0ec3d7f-a053-4792-8c44-f5e75dbabc4c",
   "metadata": {
    "tags": []
   },
   "outputs": [],
   "source": [
    "# Get all the records that DO NOT contains html tags regex\n",
    "ddf_javarawcodes = ddf_javarawcodes[~ddf_javarawcodes.Idx.isin(ddf_javarawcodes_htmlxml.Idx.compute())]"
   ]
  },
  {
   "cell_type": "code",
   "execution_count": 17,
   "id": "5250c61a-fdf9-41c5-94c4-a5e75546c7da",
   "metadata": {
    "tags": []
   },
   "outputs": [
    {
     "data": {
      "text/plain": [
       "6948156"
      ]
     },
     "execution_count": 17,
     "metadata": {},
     "output_type": "execute_result"
    }
   ],
   "source": [
    "# Number of records left\n",
    "javarawcodes_len = ddf_javarawcodes.index.shape[0].compute()\n",
    "javarawcodes_len"
   ]
  },
  {
   "cell_type": "code",
   "execution_count": 18,
   "id": "c4818b8e-b72b-4baa-90e1-a04ba398238a",
   "metadata": {
    "tags": []
   },
   "outputs": [],
   "source": [
    "#Verify lengths\n",
    "#javarawcodes_len + javarawcodes_htmlxml_len"
   ]
  },
  {
   "cell_type": "markdown",
   "id": "d3f603c8-9459-4ba4-a45f-8e52b7b323af",
   "metadata": {},
   "source": [
    "## Drop java code with one line of code"
   ]
  },
  {
   "cell_type": "code",
   "execution_count": 19,
   "id": "4a4f125e-eb6f-44e8-8de3-b79eeffddd8a",
   "metadata": {},
   "outputs": [],
   "source": [
    "# Keep a copy\n",
    "ddf_javarawcodes_temp = ddf_javarawcodes.copy()"
   ]
  },
  {
   "cell_type": "code",
   "execution_count": 20,
   "id": "c823b232-9875-4727-9d21-a6b8b4dfd620",
   "metadata": {},
   "outputs": [],
   "source": [
    "# Get df contains more than one line of java code\n",
    "ddf_javarawcodes = ddf_javarawcodes[ddf_javarawcodes.Code.str.contains('\\n')]"
   ]
  },
  {
   "cell_type": "code",
   "execution_count": 21,
   "id": "2c74976d-fee6-44af-81b2-d7f553e4d514",
   "metadata": {},
   "outputs": [
    {
     "data": {
      "text/plain": [
       "2548181"
      ]
     },
     "execution_count": 21,
     "metadata": {},
     "output_type": "execute_result"
    }
   ],
   "source": [
    "# Number of rows that contains more than one line of java code\n",
    "javarawcodes_len = ddf_javarawcodes.index.shape[0].compute()\n",
    "javarawcodes_len"
   ]
  },
  {
   "cell_type": "code",
   "execution_count": 22,
   "id": "fbf71cdb-345a-44e5-baba-24dbd6bd3879",
   "metadata": {
    "tags": []
   },
   "outputs": [],
   "source": [
    "# Get the dataframe that contains one line of java code\n",
    "javarawcodes_oneline_df = ddf_javarawcodes_temp[~ddf_javarawcodes_temp.Idx.isin(ddf_javarawcodes.Idx.compute())]"
   ]
  },
  {
   "cell_type": "code",
   "execution_count": 23,
   "id": "9fc5094e-06db-4bf2-9319-aa9b4d18dd33",
   "metadata": {},
   "outputs": [
    {
     "data": {
      "text/plain": [
       "1603264"
      ]
     },
     "execution_count": 23,
     "metadata": {},
     "output_type": "execute_result"
    }
   ],
   "source": [
    "# Number of rows that contains one line of java code\n",
    "javarawcodes_oneline_len = javarawcodes_oneline_df.index.shape[0].compute()\n",
    "javarawcodes_oneline_len"
   ]
  },
  {
   "cell_type": "code",
   "execution_count": 24,
   "id": "c478487e-e3c2-4c3d-b627-9e754ee1c6c0",
   "metadata": {
    "tags": []
   },
   "outputs": [
    {
     "data": {
      "text/plain": [
       "4151445"
      ]
     },
     "execution_count": 24,
     "metadata": {},
     "output_type": "execute_result"
    }
   ],
   "source": [
    "# Verify that the lengths are equal to the javarawcodes_html_len1\n",
    "javarawcodes_len + javarawcodes_oneline_len"
   ]
  },
  {
   "cell_type": "markdown",
   "id": "acd44b1b-0b3f-4846-aa78-0c67f0b7ffc0",
   "metadata": {},
   "source": [
    "## Get complete java code snippet"
   ]
  },
  {
   "cell_type": "code",
   "execution_count": 25,
   "id": "a8f5da84-5e32-4aff-92a6-894d97ed280c",
   "metadata": {
    "tags": []
   },
   "outputs": [
    {
     "name": "stderr",
     "output_type": "stream",
     "text": [
      "/opt/nesi/CS400_centos7_bdw/Python/3.9.5-gimkl-2020a/lib/python3.9/site-packages/pandas/core/strings/accessor.py:101: UserWarning: This pattern has match groups. To actually get the groups, use str.extract.\n",
      "  return func(self, *args, **kwargs)\n"
     ]
    }
   ],
   "source": [
    "# Get the rows that contain import, package or class\n",
    "# using regex to search for text that contain import, package or class\n",
    "ddf_complete_javacodes = ddf_javarawcodes[(ddf_javarawcodes['Code'].str.contains('^import\\s+\\w+(\\.+\\w+)*', case=False, regex=True))|\n",
    "         (ddf_javarawcodes['Code'].str.contains('^package\\s+\\w+(\\.+\\w+)*', case=False, regex=True))|\n",
    "         (ddf_javarawcodes['Code'].str.contains('(class|interface)(\\s+\\w+)(\\s+\\w+)*(\\s*{)', case=False, regex=True))]"
   ]
  },
  {
   "cell_type": "code",
   "execution_count": 26,
   "id": "e2a7487f-3dc0-4ad2-a5f3-4126ced66279",
   "metadata": {},
   "outputs": [
    {
     "data": {
      "text/plain": [
       "376041"
      ]
     },
     "execution_count": 26,
     "metadata": {},
     "output_type": "execute_result"
    }
   ],
   "source": [
    "# Check lenght of complete java code snippet\n",
    "complete_javacodes_len = ddf_complete_javacodes.index.shape[0].compute()\n",
    "complete_javacodes_len"
   ]
  },
  {
   "cell_type": "markdown",
   "id": "66288ef3-d066-488b-87f5-e46b8a88fc1b",
   "metadata": {},
   "source": [
    "## Get incomplete java code snippet"
   ]
  },
  {
   "cell_type": "code",
   "execution_count": 27,
   "id": "2461f9e7-0af0-4736-8a17-cc42d6d0834a",
   "metadata": {},
   "outputs": [],
   "source": [
    "# Get all rows not contained in ddf_complete_javacodes\n",
    "ddf_incomplete_javacodes = ddf_javarawcodes[~ddf_javarawcodes.Idx.isin(ddf_complete_javacodes.Idx.compute())]"
   ]
  },
  {
   "cell_type": "code",
   "execution_count": 28,
   "id": "22f945ac-57f0-4fbc-8d87-598db3bb8ed7",
   "metadata": {},
   "outputs": [
    {
     "data": {
      "text/plain": [
       "1973457"
      ]
     },
     "execution_count": 28,
     "metadata": {},
     "output_type": "execute_result"
    }
   ],
   "source": [
    "# Check lenght of incomplete java code snippet\n",
    "ddf_incomplete_javacodes.index.shape[0].compute()"
   ]
  },
  {
   "cell_type": "code",
   "execution_count": 29,
   "id": "cee92098-7811-4464-a2ee-b54229caa100",
   "metadata": {},
   "outputs": [
    {
     "data": {
      "text/plain": [
       "2349498"
      ]
     },
     "execution_count": 29,
     "metadata": {},
     "output_type": "execute_result"
    }
   ],
   "source": [
    "# Total lenght of both complete and incomplete equals javarawcodes_len\n",
    "ddf_complete_javacodes.index.shape[0].compute() + ddf_incomplete_javacodes.index.shape[0].compute()"
   ]
  },
  {
   "cell_type": "markdown",
   "id": "e2c70e1c-f9d6-4f72-bf44-b67e4c69066c",
   "metadata": {},
   "source": [
    "## Furthermore drop codes that starts with $, WARNING:, >java, java, >javac, javac or contain some build, src directories"
   ]
  },
  {
   "cell_type": "code",
   "execution_count": 30,
   "id": "b40808f0-8446-427e-9eab-c53401a99c40",
   "metadata": {
    "tags": []
   },
   "outputs": [
    {
     "name": "stderr",
     "output_type": "stream",
     "text": [
      "/opt/nesi/CS400_centos7_bdw/Python/3.9.5-gimkl-2020a/lib/python3.9/site-packages/pandas/core/strings/accessor.py:101: UserWarning: This pattern has match groups. To actually get the groups, use str.extract.\n",
      "  return func(self, *args, **kwargs)\n"
     ]
    }
   ],
   "source": [
    "# Furthermore drop codes that starts with $, WARNING:, >java, java, >javac, javac, <xml and html tags> and directories\n",
    "\n",
    "ddf_non_codes = ddf_incomplete_javacodes[\n",
    "    (ddf_incomplete_javacodes.Code.str.contains('^\\$.*', case=False, regex=True))|\n",
    "    (ddf_incomplete_javacodes.Code.str.contains('^WARNING:(\\s*\\w*)*', case=False, regex=True))|\n",
    "    (ddf_incomplete_javacodes.Code.str.contains('^($|>|java|javac|jar|javacc)(\\s*\\w*\\.*)*', case=False, regex=True))|\n",
    "    (ddf_incomplete_javacodes.Code.str.contains('(\\\\n)*\\s*\\.+\\/+.*\\s*\\.*\\/*(build|src)', case=False, regex=True))\n",
    "]"
   ]
  },
  {
   "cell_type": "code",
   "execution_count": 31,
   "id": "ab78ed2a-a540-40de-b804-a602f2485a6e",
   "metadata": {},
   "outputs": [
    {
     "data": {
      "text/plain": [
       "32612"
      ]
     },
     "execution_count": 31,
     "metadata": {},
     "output_type": "execute_result"
    }
   ],
   "source": [
    "# Check lenght of the non codes java code snippet \n",
    "non_codes_len = ddf_non_codes.index.shape[0].compute()\n",
    "non_codes_len"
   ]
  },
  {
   "cell_type": "code",
   "execution_count": 32,
   "id": "a089af20-4e92-4e34-8a4c-37ab44c097e9",
   "metadata": {},
   "outputs": [],
   "source": [
    "# get all the dropped rows that starts with $, WARNING:, >java, java, >javac, javac or directory\n",
    "ddf_incomplete_javacodes = ddf_incomplete_javacodes[~ddf_incomplete_javacodes.Idx.isin(ddf_non_codes.Idx.compute())]"
   ]
  },
  {
   "cell_type": "code",
   "execution_count": 33,
   "id": "50e47b19-edfa-40ef-8372-49e873597fab",
   "metadata": {},
   "outputs": [
    {
     "data": {
      "text/plain": [
       "1922305"
      ]
     },
     "execution_count": 33,
     "metadata": {},
     "output_type": "execute_result"
    }
   ],
   "source": [
    "# Check lenght of incomplete java code snippet after html tags are dropped\n",
    "incomplete_javacodes_len = ddf_incomplete_javacodes.index.shape[0].compute()\n",
    "incomplete_javacodes_len"
   ]
  },
  {
   "cell_type": "code",
   "execution_count": 34,
   "id": "4cbc08af-3dbd-41f9-a159-91d85714e6e4",
   "metadata": {},
   "outputs": [
    {
     "data": {
      "text/plain": [
       "1954917"
      ]
     },
     "execution_count": 34,
     "metadata": {},
     "output_type": "execute_result"
    }
   ],
   "source": [
    "# Verify that the length is equals to combination of complete_javarawcodes_len and incomplete_javarawcodes_len above\n",
    "incomplete_javacodes_len + non_codes_len"
   ]
  },
  {
   "cell_type": "markdown",
   "id": "09aec736-86a9-4072-9b5a-c31620fb2f25",
   "metadata": {},
   "source": [
    "### Make a raw complete codes folder in that directory"
   ]
  },
  {
   "cell_type": "code",
   "execution_count": 35,
   "id": "b54e9eee-c77f-4d14-8388-5ec50857463d",
   "metadata": {},
   "outputs": [],
   "source": [
    "## Make a folder in that directory\n",
    "folder = '{}/javarawcompletecodesnippets_csv'.format(common_path)\n",
    "# output: path/to/Post.csv => path/to\n",
    "mkdir_cmd = 'mkdir {}'.format(folder)\n",
    "cmd = sp.run(\n",
    "    mkdir_cmd, # command\n",
    "    capture_output=True,\n",
    "    text=True,\n",
    "    shell=True\n",
    ")"
   ]
  },
  {
   "cell_type": "code",
   "execution_count": 36,
   "id": "ec455588-c8b3-4f66-81b1-20910d4da5c5",
   "metadata": {},
   "outputs": [
    {
     "name": "stdout",
     "output_type": "stream",
     "text": [
      "../../../../stackexchange_v2/workspace/input/javarawcompletecodesnippets_csv\n"
     ]
    }
   ],
   "source": [
    "print(folder)"
   ]
  },
  {
   "cell_type": "markdown",
   "id": "d42dc21b-35db-4bf2-b6d0-d6846e458731",
   "metadata": {},
   "source": [
    "### Save Java raw complete codes csv files in that directory"
   ]
  },
  {
   "cell_type": "code",
   "execution_count": 37,
   "id": "2556dfb8-95b0-4435-9186-b81a33df8741",
   "metadata": {},
   "outputs": [],
   "source": [
    "## Save files in that directory\n",
    "filename = 'JavaRawCompleteCodeSnippets'\n",
    "file = '{}/{}*.csv'.format(folder, filename)\n",
    "_ = ddf_complete_javacodes.to_csv(file, sep=',', index=False)"
   ]
  },
  {
   "cell_type": "markdown",
   "id": "a594f052-6d1a-4d39-bfaa-f5fc01ede9ea",
   "metadata": {
    "tags": []
   },
   "source": [
    "### Make a raw incomplete codes folder in that directory"
   ]
  },
  {
   "cell_type": "code",
   "execution_count": 38,
   "id": "5c384488-36e1-46cc-b335-173f9ff35d3e",
   "metadata": {},
   "outputs": [],
   "source": [
    "## Make a folder in that directory\n",
    "folder = '{}/javarawincompletecodesnippets_csv'.format(common_path)\n",
    "# output: path/to/Post.csv => path/to\n",
    "mkdir_cmd = 'mkdir {}'.format(folder)\n",
    "cmd = sp.run(\n",
    "    mkdir_cmd, # command\n",
    "    capture_output=True,\n",
    "    text=True,\n",
    "    shell=True\n",
    ")"
   ]
  },
  {
   "cell_type": "code",
   "execution_count": 39,
   "id": "aea63905-cad3-4933-8078-2f7b16ccb2d0",
   "metadata": {},
   "outputs": [
    {
     "name": "stdout",
     "output_type": "stream",
     "text": [
      "../../../../stackexchange_v2/workspace/input/javarawincompletecodesnippets_csv\n"
     ]
    }
   ],
   "source": [
    "print(folder)"
   ]
  },
  {
   "cell_type": "markdown",
   "id": "67342b54-b84e-4d66-9c4b-a2657e544f3f",
   "metadata": {},
   "source": [
    "### Save Java raw incomplete codes csv files in that directory"
   ]
  },
  {
   "cell_type": "code",
   "execution_count": 40,
   "id": "1c920bde-709f-4a85-a89f-aa7b830a34a3",
   "metadata": {},
   "outputs": [],
   "source": [
    "## Save files in that directory\n",
    "filename = 'JavaRawIncompleteCodeSnippets'\n",
    "file = '{}/{}*.csv'.format(folder, filename)\n",
    "_ = ddf_incomplete_javacodes.to_csv(file, sep=',', index=False)"
   ]
  },
  {
   "cell_type": "markdown",
   "id": "8309e540-a405-4dd4-b880-2cfb25fe0117",
   "metadata": {},
   "source": [
    "### Make a code that contains HTML/XML folder in that directory "
   ]
  },
  {
   "cell_type": "code",
   "execution_count": 41,
   "id": "5de20817-8dfe-4519-8a29-8d390278b18e",
   "metadata": {},
   "outputs": [],
   "source": [
    "## Make a folder in that directory\n",
    "folder = '{}/javahtmlxmltags_csv'.format(common_path)\n",
    "# output: path/to/Post.csv => path/to\n",
    "mkdir_cmd = 'mkdir {}'.format(folder)\n",
    "cmd = sp.run(\n",
    "    mkdir_cmd, # command\n",
    "    capture_output=True,\n",
    "    text=True,\n",
    "    shell=True\n",
    ")"
   ]
  },
  {
   "cell_type": "markdown",
   "id": "329dbbd0-0485-4281-9ea1-8c2c7d4a792c",
   "metadata": {},
   "source": [
    "### Save Java codes that contains HTML/XML csv files in that directory"
   ]
  },
  {
   "cell_type": "code",
   "execution_count": 42,
   "id": "3f202001-a5e5-48e9-bf71-1c230c79af74",
   "metadata": {},
   "outputs": [],
   "source": [
    "## Save files in that directory\n",
    "filename = 'JavaCodeHtmlXmlTags'\n",
    "file = '{}/{}*.csv'.format(folder, filename)\n",
    "_ = ddf_javarawcodes_htmlxml.to_csv(file, sep=',', index=False)"
   ]
  },
  {
   "cell_type": "markdown",
   "id": "a759c6ec-8862-47f4-9f2f-d5425531ef3a",
   "metadata": {},
   "source": [
    "### Make a noncode folder in that directory "
   ]
  },
  {
   "cell_type": "code",
   "execution_count": 43,
   "id": "0116a506-6a56-4136-8a50-1d6123369720",
   "metadata": {},
   "outputs": [],
   "source": [
    "## Make a folder in that directory\n",
    "folder = '{}/noncode_csv'.format(common_path)\n",
    "# output: path/to/Post.csv => path/to\n",
    "mkdir_cmd = 'mkdir {}'.format(folder)\n",
    "cmd = sp.run(\n",
    "    mkdir_cmd, # command\n",
    "    capture_output=True,\n",
    "    text=True,\n",
    "    shell=True\n",
    ")"
   ]
  },
  {
   "cell_type": "code",
   "execution_count": 44,
   "id": "15788c45-9390-4b4b-92a9-4deada9537a9",
   "metadata": {},
   "outputs": [
    {
     "name": "stdout",
     "output_type": "stream",
     "text": [
      "../../../../stackexchange_v2/workspace/input/noncode_csv\n"
     ]
    }
   ],
   "source": [
    "print(folder)"
   ]
  },
  {
   "cell_type": "markdown",
   "id": "f0cdb7cb-8591-48ec-9c0e-1f0ad05aeabc",
   "metadata": {},
   "source": [
    "### Save non codes csv files in that directory"
   ]
  },
  {
   "cell_type": "code",
   "execution_count": 45,
   "id": "d6672edf-19b6-4284-9557-4cedf12f9514",
   "metadata": {},
   "outputs": [],
   "source": [
    "## Save files in that directory\n",
    "filename = 'NonCodes'\n",
    "file = '{}/{}*.csv'.format(folder, filename)\n",
    "_ = ddf_non_codes.to_csv(file, sep=',', index=False)"
   ]
  },
  {
   "cell_type": "markdown",
   "id": "809af07b-f577-48e7-a481-271bce55ac9e",
   "metadata": {},
   "source": [
    "## Replace all the interface and class names to all have a common name (e.g. Code) in the ddf_complete_javacodes"
   ]
  },
  {
   "cell_type": "code",
   "execution_count": 46,
   "id": "f735057e-719e-495b-9496-595374c0b633",
   "metadata": {},
   "outputs": [],
   "source": [
    "# Replace all the class with the class to all have a common name, say Code\n",
    "ddf_complete_javacodes = ddf_complete_javacodes.replace(to_replace = 'class\\s+\\w+', value = 'class Code', regex=True)"
   ]
  },
  {
   "cell_type": "code",
   "execution_count": 47,
   "id": "eb3f44cb-0180-400d-9f14-ab3feb45d1c8",
   "metadata": {},
   "outputs": [],
   "source": [
    "# Also Replace interface with the interface Code\n",
    "ddf_complete_javacodes = ddf_complete_javacodes.replace(to_replace = 'interface\\s+\\w+', value = 'interface Code', regex=True)"
   ]
  },
  {
   "cell_type": "markdown",
   "id": "82a93ac8-5177-4e20-9d13-05674b1910f6",
   "metadata": {},
   "source": [
    "## Encapsulate incomplete written java program with public Code { ... }"
   ]
  },
  {
   "cell_type": "code",
   "execution_count": 48,
   "id": "afc7d00b-4d20-4ded-9ae4-db94962d5e08",
   "metadata": {},
   "outputs": [],
   "source": [
    "# Copy the code to Code2\n",
    "#ddf_incomplete_javacodes['Code2'] = ddf_incomplete_javacodes['Code']"
   ]
  },
  {
   "cell_type": "code",
   "execution_count": 49,
   "id": "e2a3ef6c-1934-4128-99f9-7aff768d8c6e",
   "metadata": {},
   "outputs": [],
   "source": [
    "# Encapsulate incomplete written java program with public Code {  }\n",
    "ddf_incomplete_javacodes['Code'] = 'public class Code {\\n'+ ddf_incomplete_javacodes['Code'].astype(str) +'\\n}'"
   ]
  },
  {
   "cell_type": "code",
   "execution_count": 50,
   "id": "c8d8a19a-4a7b-46e6-a9c2-d3a7bccf9a37",
   "metadata": {},
   "outputs": [
    {
     "data": {
      "text/plain": [
       "Index(['Idx', 'match', 'Code'], dtype='object')"
      ]
     },
     "execution_count": 50,
     "metadata": {},
     "output_type": "execute_result"
    }
   ],
   "source": [
    "ddf_complete_javacodes.columns"
   ]
  },
  {
   "cell_type": "markdown",
   "id": "3cc16712-af89-4ab8-af6a-efc79fe9f12c",
   "metadata": {},
   "source": [
    "### Make a complete codes folder in that directory"
   ]
  },
  {
   "cell_type": "code",
   "execution_count": 51,
   "id": "eae57a83-afb2-4989-a047-752715e63582",
   "metadata": {},
   "outputs": [],
   "source": [
    "## Make a folder in that directory\n",
    "folder = '{}/javacompletecodesnippets_csv'.format(common_path)\n",
    "# output: path/to/Post.csv => path/to\n",
    "mkdir_cmd = 'mkdir {}'.format(folder)\n",
    "cmd = sp.run(\n",
    "    mkdir_cmd, # command\n",
    "    capture_output=True,\n",
    "    text=True,\n",
    "    shell=True\n",
    ")"
   ]
  },
  {
   "cell_type": "code",
   "execution_count": 52,
   "id": "df3770cb-1c6c-49e4-b0e2-7e55227ed75c",
   "metadata": {},
   "outputs": [
    {
     "name": "stdout",
     "output_type": "stream",
     "text": [
      "../../../../stackexchange_v2/workspace/input/javacompletecodesnippets_csv\n"
     ]
    }
   ],
   "source": [
    "print(folder)"
   ]
  },
  {
   "cell_type": "markdown",
   "id": "3b2e89b4-e7c5-444c-bf2c-64beee5e0ee7",
   "metadata": {},
   "source": [
    "### Save Java complete codes csv files in that directory"
   ]
  },
  {
   "cell_type": "code",
   "execution_count": 53,
   "id": "263fcefa-63eb-4392-bbe3-7d0690bb4704",
   "metadata": {},
   "outputs": [],
   "source": [
    "## Save files in that directory\n",
    "filename = 'JavaCompleteCodeSnippets'\n",
    "file = '{}/{}*.csv'.format(folder, filename)\n",
    "_ = ddf_complete_javacodes.to_csv(file, sep=',', index=False)"
   ]
  },
  {
   "cell_type": "code",
   "execution_count": 54,
   "id": "751bae88-3313-4ca3-bc75-7254a1c8f05c",
   "metadata": {},
   "outputs": [
    {
     "data": {
      "text/plain": [
       "Index(['Idx', 'match', 'Code'], dtype='object')"
      ]
     },
     "execution_count": 54,
     "metadata": {},
     "output_type": "execute_result"
    }
   ],
   "source": [
    "ddf_incomplete_javacodes.columns"
   ]
  },
  {
   "cell_type": "markdown",
   "id": "6be26f21-c14a-4789-a7aa-2ec40f2b48f9",
   "metadata": {
    "tags": []
   },
   "source": [
    "### Make a incomplete codes folder in that directory"
   ]
  },
  {
   "cell_type": "code",
   "execution_count": 55,
   "id": "52284743-b414-429e-a3d2-14afd2ea9edc",
   "metadata": {},
   "outputs": [],
   "source": [
    "## Make a folder in that directory\n",
    "folder = '{}/javaincompletecodesnippets_csv'.format(common_path)\n",
    "# output: path/to/Post.csv => path/to\n",
    "mkdir_cmd = 'mkdir {}'.format(folder)\n",
    "cmd = sp.run(\n",
    "    mkdir_cmd, # command\n",
    "    capture_output=True,\n",
    "    text=True,\n",
    "    shell=True\n",
    ")"
   ]
  },
  {
   "cell_type": "code",
   "execution_count": 56,
   "id": "d53859c0-9790-483b-8778-58886471f080",
   "metadata": {},
   "outputs": [
    {
     "name": "stdout",
     "output_type": "stream",
     "text": [
      "../../../../stackexchange_v2/workspace/input/javaincompletecodesnippets_csv\n"
     ]
    }
   ],
   "source": [
    "print(folder)"
   ]
  },
  {
   "cell_type": "markdown",
   "id": "8c35a41e-9688-47f1-8473-0876a8a2bd1d",
   "metadata": {},
   "source": [
    "### Save Java incomplete codes csv files in that directory"
   ]
  },
  {
   "cell_type": "code",
   "execution_count": 57,
   "id": "62ee59dd-c6b1-4c9f-9622-fd5d6b56aed0",
   "metadata": {},
   "outputs": [],
   "source": [
    "## Save files in that directory\n",
    "filename = 'JavaIncompleteCodeSnippets'\n",
    "file = '{}/{}*.csv'.format(folder, filename)\n",
    "_ = ddf_incomplete_javacodes.to_csv(file, sep=',', index=False)"
   ]
  },
  {
   "cell_type": "markdown",
   "id": "27162058-72c5-4924-aa96-10d4afa40d91",
   "metadata": {},
   "source": [
    "## Merge the data frame containing the completed java codes with the data frame containing the incomplete code (encapsulated with public Code {})"
   ]
  },
  {
   "cell_type": "code",
   "execution_count": 58,
   "id": "3ece67c3-244d-45f2-a826-d5444272930c",
   "metadata": {},
   "outputs": [],
   "source": [
    "# merge complete and incomplete into one dataframe\n",
    "df = dd.concat([ddf_complete_javacodes, ddf_incomplete_javacodes])"
   ]
  },
  {
   "cell_type": "code",
   "execution_count": 59,
   "id": "969c6d25-e329-4be1-887a-eb8dd869fbeb",
   "metadata": {},
   "outputs": [
    {
     "data": {
      "text/plain": [
       "2298346"
      ]
     },
     "execution_count": 59,
     "metadata": {},
     "output_type": "execute_result"
    }
   ],
   "source": [
    "df.index.shape[0].compute()"
   ]
  },
  {
   "cell_type": "code",
   "execution_count": 60,
   "id": "19076ba7-d844-4217-b308-364d4a74799b",
   "metadata": {},
   "outputs": [
    {
     "data": {
      "text/plain": [
       "2298346"
      ]
     },
     "execution_count": 60,
     "metadata": {},
     "output_type": "execute_result"
    }
   ],
   "source": [
    "# Verify that the combination of the lengths is same as merged len\n",
    "complete_javacodes_len + incomplete_javacodes_len"
   ]
  },
  {
   "cell_type": "code",
   "execution_count": 61,
   "id": "da7b0ee5-a542-4d0e-b30c-8b9993b52db3",
   "metadata": {},
   "outputs": [
    {
     "data": {
      "text/plain": [
       "Index(['Idx', 'match', 'Code'], dtype='object')"
      ]
     },
     "execution_count": 61,
     "metadata": {},
     "output_type": "execute_result"
    }
   ],
   "source": [
    "df.columns"
   ]
  },
  {
   "cell_type": "markdown",
   "id": "7f31509d-6341-44af-9fe8-6d207a7b7d41",
   "metadata": {},
   "source": [
    "## Replace all cases where three dots ... appeared at the begining of a line within the code with comment i.e. //..."
   ]
  },
  {
   "cell_type": "code",
   "execution_count": 62,
   "id": "a8d14f6c-a5f8-436c-b74d-1ef1378f6ab7",
   "metadata": {},
   "outputs": [],
   "source": [
    "df['Code'] = df.Code.replace(to_replace ='(\\\\n)+\\s*\\.{2,}', value = '\\n\\n//...\\n\\n', regex=True)\n",
    "df['Code'] = df.Code.replace(to_replace ='(\\\\n)+\\s*\\.{2,}', value = '\\n\\n//...\\n\\n', regex=True)\n",
    "df['Code'] = df.Code.replace(to_replace ='(\\\\n\\.)+', value = '\\n\\n//...\\n\\n', regex=True)\n",
    "df['Code'] = df.Code.replace(to_replace ='\\{(\\\\n)+\\s*\\.{2,}', value = '{\\n\\n//...\\n\\n', regex=True)\n",
    "df['Code'] = df.Code.replace(to_replace ='\\[(\\\\n)+\\s*\\.{2,}', value = '[\\n\\n//...\\n\\n', regex=True)\n",
    "df['Code'] = df.Code.replace(to_replace ='\\{\\s*\\.{2,}', value = '{\\n\\n//...\\n\\n', regex=True)\n",
    "df['Code'] = df.Code.replace(to_replace ='\\[\\s*\\.{2,}', value = '[\\n\\n//...\\n\\n', regex=True)"
   ]
  },
  {
   "cell_type": "markdown",
   "id": "813dd5b5-6f83-4c70-8722-ea23ea9329b6",
   "metadata": {},
   "source": [
    "#### To verify if the Regex works"
   ]
  },
  {
   "cell_type": "code",
   "execution_count": 63,
   "id": "80b05846-9ee8-44f2-966a-be3b9996ac42",
   "metadata": {
    "tags": []
   },
   "outputs": [
    {
     "name": "stderr",
     "output_type": "stream",
     "text": [
      "/opt/nesi/CS400_centos7_bdw/Python/3.9.5-gimkl-2020a/lib/python3.9/site-packages/pandas/core/strings/accessor.py:101: UserWarning: This pattern has match groups. To actually get the groups, use str.extract.\n",
      "  return func(self, *args, **kwargs)\n"
     ]
    }
   ],
   "source": [
    "#@@ This is supposed tp capture anywhere 2 or more dots occured anywhere in the code \n",
    "doted_df1 = df[df.Code.str.contains('((\\.\\s){2,}|\\.{2,})', case=False, regex=True)] #works"
   ]
  },
  {
   "cell_type": "code",
   "execution_count": 64,
   "id": "ed326cc0-acae-4cfb-839a-ce7ff64f72c5",
   "metadata": {
    "tags": []
   },
   "outputs": [
    {
     "data": {
      "text/plain": [
       "223383"
      ]
     },
     "execution_count": 64,
     "metadata": {},
     "output_type": "execute_result"
    }
   ],
   "source": [
    "doted_df1.index.shape[0].compute()"
   ]
  },
  {
   "cell_type": "code",
   "execution_count": 65,
   "id": "7814bcbe-e40f-45c9-a40e-82c543753454",
   "metadata": {
    "tags": []
   },
   "outputs": [
    {
     "name": "stderr",
     "output_type": "stream",
     "text": [
      "/opt/nesi/CS400_centos7_bdw/Python/3.9.5-gimkl-2020a/lib/python3.9/site-packages/pandas/core/strings/accessor.py:101: UserWarning: This pattern has match groups. To actually get the groups, use str.extract.\n",
      "  return func(self, *args, **kwargs)\n"
     ]
    }
   ],
   "source": [
    "#this is ment to capture anywhere we have three dots without comment //\n",
    "doted_df2 = doted_df1[doted_df1.Code.str.contains('((\\[|{)(\\\\n)*\\s*|(\\\\n)+\\s*)\\.{2,}|(\\\\n\\.)+', case=False, regex=True)]"
   ]
  },
  {
   "cell_type": "code",
   "execution_count": 66,
   "id": "2829ffe7-f58b-4cdc-bd4d-f1138c98758c",
   "metadata": {
    "tags": []
   },
   "outputs": [
    {
     "data": {
      "text/plain": [
       "29"
      ]
     },
     "execution_count": 66,
     "metadata": {},
     "output_type": "execute_result"
    }
   ],
   "source": [
    "doted_df2.index.shape[0].compute()"
   ]
  },
  {
   "cell_type": "code",
   "execution_count": 67,
   "id": "4d2af71e-0e5a-48ec-9fe3-bfda7f1fa4f2",
   "metadata": {},
   "outputs": [],
   "source": [
    "doted_df3=doted_df1[~doted_df1.Idx.isin(doted_df2.Idx.compute())]"
   ]
  },
  {
   "cell_type": "code",
   "execution_count": 68,
   "id": "bac3df2a-6906-4e62-b380-ddf04e8ece9f",
   "metadata": {
    "tags": []
   },
   "outputs": [
    {
     "data": {
      "text/plain": [
       "223349"
      ]
     },
     "execution_count": 68,
     "metadata": {},
     "output_type": "execute_result"
    }
   ],
   "source": [
    "doted_df3.index.shape[0].compute()"
   ]
  },
  {
   "cell_type": "markdown",
   "id": "992631d0-f706-4945-8c2f-589eb5e4ddc7",
   "metadata": {},
   "source": [
    "## Uniquely identify each class name by appending the index_questionid to the end of the class name"
   ]
  },
  {
   "cell_type": "code",
   "execution_count": 69,
   "id": "c9d00456-3f4f-43f7-bad3-8b0e255ad3bd",
   "metadata": {
    "tags": []
   },
   "outputs": [],
   "source": [
    "# To uniquely identify each class, append the index number of each row to Classname\n",
    "\n",
    "# e.g. \n",
    "# Code_44671882_44671797_3688_0 \n",
    "# Code_44671882_44671797_3688_2\n",
    "# Code_44671809_32500182_1042_0\n",
    "# ...\n",
    "\n",
    "# Explanation:\n",
    "# e.g. Code0_44671882_44671797_3688_0\n",
    "# CodeUniqueIndex_PostID_ParentID_GroupID_MatchCaseNumber\n",
    "# Code0_44671882_44671797_3688_1 did not appear becous it could have been removed while preprocessing\n",
    "\n",
    "# Importing re package for using regular expressions \n",
    "import re \n",
    "\n",
    "#def appendIndexToClassNames(index, questionIdx, match, javacode): \n",
    "def appendIndexToClassNames(questionIdx, match, javacode): \n",
    "    \n",
    "    # Search for class ClassName \n",
    "    # i.e. class then any characters repeated any number of times \n",
    "    if re.search('(class|interface)\\s+\\w+', javacode): \n",
    "  \n",
    "        # Extract the position of end of pattern \n",
    "        #start = re.search('(class|interface)\\s+\\w+', javacode).start()\n",
    "        end = re.search('(class|interface)\\s+\\w+', javacode).end()\n",
    "  \n",
    "        # return the cleaned name \n",
    "        # return javacode[ : pos]+str(javacode.index)+javacode[pos:]\n",
    "        return javacode[ : end]+'_'+str(questionIdx)+'_'+str(match)+javacode[end: ]\n",
    "  \n",
    "    else: \n",
    "        # if clean up needed return the same name \n",
    "        return javacode \n",
    "          \n",
    " "
   ]
  },
  {
   "cell_type": "code",
   "execution_count": 70,
   "id": "257987cf-ae19-4a6a-aa7e-22d9f2736531",
   "metadata": {
    "tags": []
   },
   "outputs": [
    {
     "name": "stderr",
     "output_type": "stream",
     "text": [
      "/opt/nesi/CS400_centos7_bdw/Python/3.9.5-gimkl-2020a/lib/python3.9/site-packages/dask/dataframe/core.py:4684: UserWarning: \n",
      "You did not provide metadata, so Dask is running your function on a small dataset to guess output types. It is possible that Dask will guess incorrectly.\n",
      "To provide an explicit output types or to silence this message, please provide the `meta=` keyword, as described in the map or apply function that you are using.\n",
      "  Before: .apply(func)\n",
      "  After:  .apply(func, meta=(None, 'object'))\n",
      "\n",
      "  warnings.warn(meta_warning(meta))\n"
     ]
    }
   ],
   "source": [
    "# Updated the Java Code answers column  \n",
    "df['Code'] = df.apply(\n",
    "         #lambda row: appendIndexToClassNames(row.name, row['Idx'], row['match'], row['Code']),axis=1)\n",
    "    lambda row: appendIndexToClassNames(row['Idx'], row['match'], row['Code']),\n",
    "         axis=1)\n",
    "# Print the updated dataframe \n",
    "#print(df)"
   ]
  },
  {
   "cell_type": "markdown",
   "id": "291e3e0a-6edc-49c3-a6fe-874cba5914ce",
   "metadata": {},
   "source": [
    "### Make a folder in that directory"
   ]
  },
  {
   "cell_type": "code",
   "execution_count": 71,
   "id": "7eb5d7f9-e5bf-4e89-8ecc-4c1660888a9e",
   "metadata": {},
   "outputs": [],
   "source": [
    "## Make a folder in that directory\n",
    "folder = '{}/codesnippets_csv'.format(common_path)\n",
    "# output: path/to/Post.csv => path/to\n",
    "mkdir_cmd = 'mkdir {}'.format(folder)\n",
    "cmd = sp.run(\n",
    "    mkdir_cmd, # command\n",
    "    capture_output=True,\n",
    "    text=True,\n",
    "    shell=True\n",
    ")"
   ]
  },
  {
   "cell_type": "code",
   "execution_count": 72,
   "id": "8e175ace-c4ef-4f6a-8323-9268f5308c1d",
   "metadata": {},
   "outputs": [
    {
     "name": "stdout",
     "output_type": "stream",
     "text": [
      "../../../../stackexchange_v2/workspace/input/codesnippets_csv\n"
     ]
    }
   ],
   "source": [
    "print(folder)"
   ]
  },
  {
   "cell_type": "markdown",
   "id": "39fe550a-aa83-41a6-b145-02c36c4385a9",
   "metadata": {},
   "source": [
    "### Save files in that directory"
   ]
  },
  {
   "cell_type": "code",
   "execution_count": 73,
   "id": "a1125c42-0074-49bc-8f44-f7e716bbe96c",
   "metadata": {},
   "outputs": [],
   "source": [
    "## Save files in that directory\n",
    "filename = 'JavaCodeSnippets'\n",
    "file = '{}/{}*.csv'.format(folder, filename)\n",
    "_ = df.to_csv(file, sep=',', index=False)"
   ]
  },
  {
   "cell_type": "raw",
   "id": "d4bc9e79-0e49-4f82-9ba2-3ed74b2d718a",
   "metadata": {},
   "source": [
    "# write the Java code Answers into saparate files\n",
    "for index, row in df.iterrows():\n",
    "    #open('javaclasses/Code'+str(index)+'_'+str(row['Idx'])+'_'+str(row['match'])+'.java', 'w').write(row['Code'])\n",
    "    open('codesnippets_java/Code'+'_'+str(row['Idx'])+'_'+str(row['match'])+'.java', 'w').write(row['Code'])\n",
    "   \n",
    "   "
   ]
  },
  {
   "cell_type": "code",
   "execution_count": null,
   "id": "cb8d92f7-f089-47fb-ad35-84382cf7d4bf",
   "metadata": {},
   "outputs": [],
   "source": []
  },
  {
   "cell_type": "code",
   "execution_count": null,
   "id": "5efc4942-2203-4b8a-8f85-1708bb15f758",
   "metadata": {},
   "outputs": [],
   "source": []
  },
  {
   "cell_type": "code",
   "execution_count": null,
   "id": "1563eacc-94f3-4fe4-941e-1033de6f5d00",
   "metadata": {},
   "outputs": [],
   "source": []
  }
 ],
 "metadata": {
  "kernelspec": {
   "display_name": "Python 3.9.5 (gimkl-2020a)",
   "language": "python",
   "name": "python395-gimkl-2020a"
  },
  "language_info": {
   "codemirror_mode": {
    "name": "ipython",
    "version": 3
   },
   "file_extension": ".py",
   "mimetype": "text/x-python",
   "name": "python",
   "nbconvert_exporter": "python",
   "pygments_lexer": "ipython3",
   "version": "3.9.5"
  }
 },
 "nbformat": 4,
 "nbformat_minor": 5
}
