{
 "cells": [
  {
   "cell_type": "code",
   "execution_count": 1,
   "id": "f7f4ccb5-1d92-4622-a471-40b735920801",
   "metadata": {},
   "outputs": [],
   "source": [
    "import time\n",
    "from datetime import timedelta\n",
    "\n",
    "import html\n",
    "import re\n",
    "\n",
    "import os\n",
    "import ntpath\n",
    "\n",
    "import subprocess as sp\n",
    "\n",
    "import numpy as np\n",
    "import pandas as pd\n",
    "import xml.etree.ElementTree as et\n",
    "\n",
    "import dask\n",
    "import dask.dataframe as dd\n",
    "import dask.bag as bd\n",
    "from dask.distributed import Client\n",
    "from dask_jobqueue import SLURMCluster"
   ]
  },
  {
   "cell_type": "markdown",
   "id": "e87162db-45a6-4527-b63b-ca047ee14bf0",
   "metadata": {},
   "source": [
    "## Enter full path to xml file"
   ]
  },
  {
   "cell_type": "code",
   "execution_count": 2,
   "id": "3a79a605-8a8e-4842-9d73-65b419a70487",
   "metadata": {},
   "outputs": [],
   "source": [
    "common_path = '../my_codesnippet_analysis'\n",
    "xml_path = 'pmdxmlanalysisreports_xml/pmd*.xml'\n",
    "xml_file = '{}/{}'.format(common_path, xml_path)"
   ]
  },
  {
   "cell_type": "markdown",
   "id": "9addd5ec-eff8-416e-8f67-cb9d7f673450",
   "metadata": {},
   "source": [
    "## Read xml file in block sizes"
   ]
  },
  {
   "cell_type": "code",
   "execution_count": 3,
   "id": "2c8be781-3abf-4b73-ba5f-1f0233e390e8",
   "metadata": {},
   "outputs": [],
   "source": [
    "## Read xml file in block sizes\n",
    "bg = bd.read_text(xml_file, blocksize='10MB', linedelimiter='</error>\\n')"
   ]
  },
  {
   "cell_type": "code",
   "execution_count": 4,
   "id": "ab1eb7c8-9173-45e7-89ce-857c8ea0e0bb",
   "metadata": {},
   "outputs": [
    {
     "data": {
      "text/plain": [
       "dask.bag<bag-from-delayed, npartitions=1154>"
      ]
     },
     "execution_count": 4,
     "metadata": {},
     "output_type": "execute_result"
    }
   ],
   "source": [
    "bg"
   ]
  },
  {
   "cell_type": "code",
   "execution_count": 5,
   "id": "cd5b4c65-86d4-47b2-9f34-69a16fc07121",
   "metadata": {},
   "outputs": [],
   "source": [
    "#bg.take(1)"
   ]
  },
  {
   "cell_type": "markdown",
   "id": "1bd12c8a-6c50-42ea-b68a-e54c09c91700",
   "metadata": {},
   "source": [
    "## Replace the xml header with empty string '<xml ...>' => ''"
   ]
  },
  {
   "cell_type": "code",
   "execution_count": 6,
   "id": "c9abe2cc-efc1-4c8d-b5cf-87c749fc1381",
   "metadata": {},
   "outputs": [],
   "source": [
    "## Replace the xml header with empty string '<xml ...>' => ''\n",
    "bg = bg.map(lambda line: re.sub(r'\\s*<\\s*\\?xml.*\\?>\\n', '', line)) "
   ]
  },
  {
   "cell_type": "code",
   "execution_count": 7,
   "id": "112faa41-6158-4bd4-9398-ea3249d5e364",
   "metadata": {},
   "outputs": [],
   "source": [
    "#bg.take(1)"
   ]
  },
  {
   "cell_type": "markdown",
   "id": "ee71c664-cd60-48ef-82e2-842a9a3f9aec",
   "metadata": {},
   "source": [
    "## Replace the pmd header with empty string '<pmd  ...>' => ''"
   ]
  },
  {
   "cell_type": "code",
   "execution_count": 8,
   "id": "c145f166-9c94-4071-a6a9-7746750991b0",
   "metadata": {},
   "outputs": [],
   "source": [
    "## Replace the xml header with empty string '<xml ...>' => ''\n",
    "bg = bg.map(lambda line: re.sub(r'\\s*<\\s*pmd.*>\\n', '', line)) "
   ]
  },
  {
   "cell_type": "code",
   "execution_count": 9,
   "id": "afa7e8b7-3dbb-4a36-a331-8407a8566e16",
   "metadata": {},
   "outputs": [],
   "source": [
    "#bg.take(1)"
   ]
  },
  {
   "cell_type": "raw",
   "id": "b6a85edf-5fbf-488c-bcc8-b58097f17423",
   "metadata": {},
   "source": [
    "### Drop wherever the file tage occurs"
   ]
  },
  {
   "cell_type": "code",
   "execution_count": 10,
   "id": "919e18b0-6e54-4508-bda7-f3d738e1b97a",
   "metadata": {},
   "outputs": [],
   "source": [
    "# replace all the '<file>' with '</file>' so that we can access it using xml.etree.ElementTree\n",
    "bg = bg.map(lambda line: re.sub(r'\\s*<\\s*file.*>|.*/file>', '', line))"
   ]
  },
  {
   "cell_type": "code",
   "execution_count": 11,
   "id": "c18ab308-8b4a-4b0c-9bd7-bbe2008d7ea0",
   "metadata": {},
   "outputs": [],
   "source": [
    "#bg.take(1)"
   ]
  },
  {
   "cell_type": "markdown",
   "id": "ac0b923e-56a1-473e-b9f6-b7c724540ae9",
   "metadata": {},
   "source": [
    "### Drop wherever the violation tage occurs and the content within violation tag"
   ]
  },
  {
   "cell_type": "code",
   "execution_count": 12,
   "id": "287da2a6-3467-4a1a-abaa-88fc52d774d7",
   "metadata": {},
   "outputs": [],
   "source": [
    "# replace all the '<violation>' with '</violation>' so that we can access it using xml.etree.ElementTree\n",
    "#bg = bg.map(lambda line: re.sub(r'\\s*<\\s*violation.*>|.*/violation>', '', line))\n",
    "bg = bg.map(lambda line: re.sub(r'\\s*<\\s*violation.*>\\n(.*?)\\n</violation>', '', line))"
   ]
  },
  {
   "cell_type": "code",
   "execution_count": 13,
   "id": "81c79a68-195f-40a8-ba4e-199645fa249d",
   "metadata": {},
   "outputs": [
    {
     "data": {
      "text/plain": [
       "('\\n\\n<error filename=\"/scale_wlg_nobackup/filesets/nobackup/uoo03396/SfTI_project_nobackup/SfTI_Projects/StackOverflow_project/my_codesnippet_analysis/pmd/mvn_apps/my-javacodeanalysis-app0/src/main/java/myjavacodeanalysis/Code_10022570_10022548_382_1.java\" msg=\"PMDException: Error while parsing /scale_wlg_nobackup/filesets/nobackup/uoo03396/SfTI_project_nobackup/SfTI_Projects/StackOverflow_project/my_codesnippet_analysis/pmd/mvn_apps/my-javacodeanalysis-app0/src/main/java/myjavacodeanalysis/Code_10022570_10022548_382_1.java\">\\n<![CDATA[net.sourceforge.pmd.PMDException: Error while parsing /scale_wlg_nobackup/filesets/nobackup/uoo03396/SfTI_project_nobackup/SfTI_Projects/StackOverflow_project/my_codesnippet_analysis/pmd/mvn_apps/my-javacodeanalysis-app0/src/main/java/myjavacodeanalysis/Code_10022570_10022548_382_1.java\\n\\tat net.sourceforge.pmd.SourceCodeProcessor.processSourceCodeWithoutCache(SourceCodeProcessor.java:124)\\n\\tat net.sourceforge.pmd.SourceCodeProcessor.processSourceCode(SourceCodeProcessor.java:100)\\n\\tat net.sourceforge.pmd.SourceCodeProcessor.processSourceCode(SourceCodeProcessor.java:62)\\n\\tat net.sourceforge.pmd.processor.PmdRunnable.call(PmdRunnable.java:85)\\n\\tat net.sourceforge.pmd.processor.PmdRunnable.call(PmdRunnable.java:29)\\n\\tat java.util.concurrent.FutureTask.run(FutureTask.java:266)\\n\\tat java.util.concurrent.Executors$RunnableAdapter.call(Executors.java:511)\\n\\tat java.util.concurrent.FutureTask.run(FutureTask.java:266)\\n\\tat java.util.concurrent.ThreadPoolExecutor.runWorker(ThreadPoolExecutor.java:1149)\\n\\tat java.util.concurrent.ThreadPoolExecutor$Worker.run(ThreadPoolExecutor.java:624)\\n\\tat java.lang.Thread.run(Thread.java:748)\\nCaused by: net.sourceforge.pmd.lang.java.ast.ParseException: Encountered \" \"for\" \"for \"\" at line 2, column 1.\\nWas expecting:\\n    \"}\" ...\\n    \\n\\tat net.sourceforge.pmd.lang.java.ast.JavaParser.generateParseException(JavaParser.java:13532)\\n\\tat net.sourceforge.pmd.lang.java.ast.JavaParser.jj_consume_token(JavaParser.java:13416)\\n\\tat net.sourceforge.pmd.lang.java.ast.JavaParser.ClassOrInterfaceBody(JavaParser.java:1766)\\n\\tat net.sourceforge.pmd.lang.java.ast.JavaParser.ClassOrInterfaceDeclaration(JavaParser.java:905)\\n\\tat net.sourceforge.pmd.lang.java.ast.JavaParser.TypeDeclaration(JavaParser.java:807)\\n\\tat net.sourceforge.pmd.lang.java.ast.JavaParser.CompilationUnit(JavaParser.java:527)\\n\\tat net.sourceforge.pmd.lang.java.AbstractJavaParser.parse(AbstractJavaParser.java:62)\\n\\tat net.sourceforge.pmd.lang.AbstractParser.doParse(AbstractParser.java:44)\\n\\tat net.sourceforge.pmd.SourceCodeProcessor.parse(SourceCodeProcessor.java:136)\\n\\tat net.sourceforge.pmd.SourceCodeProcessor.processSource(SourceCodeProcessor.java:200)\\n\\tat net.sourceforge.pmd.SourceCodeProcessor.processSourceCodeWithoutCache(SourceCodeProcessor.java:118)\\n\\t... 10 more\\n]]>\\n</error>\\n',)"
      ]
     },
     "execution_count": 13,
     "metadata": {},
     "output_type": "execute_result"
    }
   ],
   "source": [
    "bg.take(1)"
   ]
  },
  {
   "cell_type": "markdown",
   "id": "c4a5f641-68d9-4637-8538-6ffce9f8582b",
   "metadata": {},
   "source": [
    "### Drop wherever the \\n occurs"
   ]
  },
  {
   "cell_type": "code",
   "execution_count": 14,
   "id": "ffd29f12-386f-4a51-aa56-2c42f10e2efd",
   "metadata": {},
   "outputs": [],
   "source": [
    "# replace all the '<violation>' with '</violation>' so that we can access it using xml.etree.ElementTree\n",
    "bg = bg.map(lambda line: re.sub(r'\\n+', '', line))"
   ]
  },
  {
   "cell_type": "code",
   "execution_count": 15,
   "id": "88ef1f86-6108-4a9f-b74f-feff3ed3952d",
   "metadata": {},
   "outputs": [
    {
     "data": {
      "text/plain": [
       "('<error filename=\"/scale_wlg_nobackup/filesets/nobackup/uoo03396/SfTI_project_nobackup/SfTI_Projects/StackOverflow_project/my_codesnippet_analysis/pmd/mvn_apps/my-javacodeanalysis-app0/src/main/java/myjavacodeanalysis/Code_10022570_10022548_382_1.java\" msg=\"PMDException: Error while parsing /scale_wlg_nobackup/filesets/nobackup/uoo03396/SfTI_project_nobackup/SfTI_Projects/StackOverflow_project/my_codesnippet_analysis/pmd/mvn_apps/my-javacodeanalysis-app0/src/main/java/myjavacodeanalysis/Code_10022570_10022548_382_1.java\"><![CDATA[net.sourceforge.pmd.PMDException: Error while parsing /scale_wlg_nobackup/filesets/nobackup/uoo03396/SfTI_project_nobackup/SfTI_Projects/StackOverflow_project/my_codesnippet_analysis/pmd/mvn_apps/my-javacodeanalysis-app0/src/main/java/myjavacodeanalysis/Code_10022570_10022548_382_1.java\\tat net.sourceforge.pmd.SourceCodeProcessor.processSourceCodeWithoutCache(SourceCodeProcessor.java:124)\\tat net.sourceforge.pmd.SourceCodeProcessor.processSourceCode(SourceCodeProcessor.java:100)\\tat net.sourceforge.pmd.SourceCodeProcessor.processSourceCode(SourceCodeProcessor.java:62)\\tat net.sourceforge.pmd.processor.PmdRunnable.call(PmdRunnable.java:85)\\tat net.sourceforge.pmd.processor.PmdRunnable.call(PmdRunnable.java:29)\\tat java.util.concurrent.FutureTask.run(FutureTask.java:266)\\tat java.util.concurrent.Executors$RunnableAdapter.call(Executors.java:511)\\tat java.util.concurrent.FutureTask.run(FutureTask.java:266)\\tat java.util.concurrent.ThreadPoolExecutor.runWorker(ThreadPoolExecutor.java:1149)\\tat java.util.concurrent.ThreadPoolExecutor$Worker.run(ThreadPoolExecutor.java:624)\\tat java.lang.Thread.run(Thread.java:748)Caused by: net.sourceforge.pmd.lang.java.ast.ParseException: Encountered \" \"for\" \"for \"\" at line 2, column 1.Was expecting:    \"}\" ...    \\tat net.sourceforge.pmd.lang.java.ast.JavaParser.generateParseException(JavaParser.java:13532)\\tat net.sourceforge.pmd.lang.java.ast.JavaParser.jj_consume_token(JavaParser.java:13416)\\tat net.sourceforge.pmd.lang.java.ast.JavaParser.ClassOrInterfaceBody(JavaParser.java:1766)\\tat net.sourceforge.pmd.lang.java.ast.JavaParser.ClassOrInterfaceDeclaration(JavaParser.java:905)\\tat net.sourceforge.pmd.lang.java.ast.JavaParser.TypeDeclaration(JavaParser.java:807)\\tat net.sourceforge.pmd.lang.java.ast.JavaParser.CompilationUnit(JavaParser.java:527)\\tat net.sourceforge.pmd.lang.java.AbstractJavaParser.parse(AbstractJavaParser.java:62)\\tat net.sourceforge.pmd.lang.AbstractParser.doParse(AbstractParser.java:44)\\tat net.sourceforge.pmd.SourceCodeProcessor.parse(SourceCodeProcessor.java:136)\\tat net.sourceforge.pmd.SourceCodeProcessor.processSource(SourceCodeProcessor.java:200)\\tat net.sourceforge.pmd.SourceCodeProcessor.processSourceCodeWithoutCache(SourceCodeProcessor.java:118)\\t... 10 more]]></error>',)"
      ]
     },
     "execution_count": 15,
     "metadata": {},
     "output_type": "execute_result"
    }
   ],
   "source": [
    "bg.take(1)"
   ]
  },
  {
   "cell_type": "markdown",
   "id": "9b944890-0d22-4c37-b196-827e04f4a250",
   "metadata": {},
   "source": [
    "### Filter out just the error"
   ]
  },
  {
   "cell_type": "code",
   "execution_count": 16,
   "id": "ba5c457a-dd0f-49e5-9770-cdc9b5f4b926",
   "metadata": {},
   "outputs": [],
   "source": [
    "## Filter out just the rows\n",
    "bg = bg.filter(lambda line: line.find('<error') >= 0)"
   ]
  },
  {
   "cell_type": "code",
   "execution_count": 17,
   "id": "e8574d13-ce52-495d-9d44-b53b9cf066b4",
   "metadata": {},
   "outputs": [
    {
     "data": {
      "text/plain": [
       "('<error filename=\"/scale_wlg_nobackup/filesets/nobackup/uoo03396/SfTI_project_nobackup/SfTI_Projects/StackOverflow_project/my_codesnippet_analysis/pmd/mvn_apps/my-javacodeanalysis-app0/src/main/java/myjavacodeanalysis/Code_10022570_10022548_382_1.java\" msg=\"PMDException: Error while parsing /scale_wlg_nobackup/filesets/nobackup/uoo03396/SfTI_project_nobackup/SfTI_Projects/StackOverflow_project/my_codesnippet_analysis/pmd/mvn_apps/my-javacodeanalysis-app0/src/main/java/myjavacodeanalysis/Code_10022570_10022548_382_1.java\"><![CDATA[net.sourceforge.pmd.PMDException: Error while parsing /scale_wlg_nobackup/filesets/nobackup/uoo03396/SfTI_project_nobackup/SfTI_Projects/StackOverflow_project/my_codesnippet_analysis/pmd/mvn_apps/my-javacodeanalysis-app0/src/main/java/myjavacodeanalysis/Code_10022570_10022548_382_1.java\\tat net.sourceforge.pmd.SourceCodeProcessor.processSourceCodeWithoutCache(SourceCodeProcessor.java:124)\\tat net.sourceforge.pmd.SourceCodeProcessor.processSourceCode(SourceCodeProcessor.java:100)\\tat net.sourceforge.pmd.SourceCodeProcessor.processSourceCode(SourceCodeProcessor.java:62)\\tat net.sourceforge.pmd.processor.PmdRunnable.call(PmdRunnable.java:85)\\tat net.sourceforge.pmd.processor.PmdRunnable.call(PmdRunnable.java:29)\\tat java.util.concurrent.FutureTask.run(FutureTask.java:266)\\tat java.util.concurrent.Executors$RunnableAdapter.call(Executors.java:511)\\tat java.util.concurrent.FutureTask.run(FutureTask.java:266)\\tat java.util.concurrent.ThreadPoolExecutor.runWorker(ThreadPoolExecutor.java:1149)\\tat java.util.concurrent.ThreadPoolExecutor$Worker.run(ThreadPoolExecutor.java:624)\\tat java.lang.Thread.run(Thread.java:748)Caused by: net.sourceforge.pmd.lang.java.ast.ParseException: Encountered \" \"for\" \"for \"\" at line 2, column 1.Was expecting:    \"}\" ...    \\tat net.sourceforge.pmd.lang.java.ast.JavaParser.generateParseException(JavaParser.java:13532)\\tat net.sourceforge.pmd.lang.java.ast.JavaParser.jj_consume_token(JavaParser.java:13416)\\tat net.sourceforge.pmd.lang.java.ast.JavaParser.ClassOrInterfaceBody(JavaParser.java:1766)\\tat net.sourceforge.pmd.lang.java.ast.JavaParser.ClassOrInterfaceDeclaration(JavaParser.java:905)\\tat net.sourceforge.pmd.lang.java.ast.JavaParser.TypeDeclaration(JavaParser.java:807)\\tat net.sourceforge.pmd.lang.java.ast.JavaParser.CompilationUnit(JavaParser.java:527)\\tat net.sourceforge.pmd.lang.java.AbstractJavaParser.parse(AbstractJavaParser.java:62)\\tat net.sourceforge.pmd.lang.AbstractParser.doParse(AbstractParser.java:44)\\tat net.sourceforge.pmd.SourceCodeProcessor.parse(SourceCodeProcessor.java:136)\\tat net.sourceforge.pmd.SourceCodeProcessor.processSource(SourceCodeProcessor.java:200)\\tat net.sourceforge.pmd.SourceCodeProcessor.processSourceCodeWithoutCache(SourceCodeProcessor.java:118)\\t... 10 more]]></error>',\n",
       " '<error filename=\"/scale_wlg_nobackup/filesets/nobackup/uoo03396/SfTI_project_nobackup/SfTI_Projects/StackOverflow_project/my_codesnippet_analysis/pmd/mvn_apps/my-javacodeanalysis-app0/src/main/java/myjavacodeanalysis/Code_10051644_10051084_113_0.java\" msg=\"PMDException: Error while parsing /scale_wlg_nobackup/filesets/nobackup/uoo03396/SfTI_project_nobackup/SfTI_Projects/StackOverflow_project/my_codesnippet_analysis/pmd/mvn_apps/my-javacodeanalysis-app0/src/main/java/myjavacodeanalysis/Code_10051644_10051084_113_0.java\"><![CDATA[net.sourceforge.pmd.PMDException: Error while parsing /scale_wlg_nobackup/filesets/nobackup/uoo03396/SfTI_project_nobackup/SfTI_Projects/StackOverflow_project/my_codesnippet_analysis/pmd/mvn_apps/my-javacodeanalysis-app0/src/main/java/myjavacodeanalysis/Code_10051644_10051084_113_0.java\\tat net.sourceforge.pmd.SourceCodeProcessor.processSourceCodeWithoutCache(SourceCodeProcessor.java:124)\\tat net.sourceforge.pmd.SourceCodeProcessor.processSourceCode(SourceCodeProcessor.java:100)\\tat net.sourceforge.pmd.SourceCodeProcessor.processSourceCode(SourceCodeProcessor.java:62)\\tat net.sourceforge.pmd.processor.PmdRunnable.call(PmdRunnable.java:85)\\tat net.sourceforge.pmd.processor.PmdRunnable.call(PmdRunnable.java:29)\\tat java.util.concurrent.FutureTask.run(FutureTask.java:266)\\tat java.util.concurrent.Executors$RunnableAdapter.call(Executors.java:511)\\tat java.util.concurrent.FutureTask.run(FutureTask.java:266)\\tat java.util.concurrent.ThreadPoolExecutor.runWorker(ThreadPoolExecutor.java:1149)\\tat java.util.concurrent.ThreadPoolExecutor$Worker.run(ThreadPoolExecutor.java:624)\\tat java.lang.Thread.run(Thread.java:748)Caused by: net.sourceforge.pmd.lang.java.ast.ParseException: Encountered \"\" at line 2, column 1.Was expecting one of:    \\tat net.sourceforge.pmd.lang.java.ast.JavaParser.generateParseException(JavaParser.java:13532)\\tat net.sourceforge.pmd.lang.java.ast.JavaParser.jj_consume_token(JavaParser.java:13416)\\tat net.sourceforge.pmd.lang.java.ast.JavaParser.ClassOrInterfaceBodyDeclaration(JavaParser.java:1815)\\tat net.sourceforge.pmd.lang.java.ast.JavaParser.ClassOrInterfaceBody(JavaParser.java:1764)\\tat net.sourceforge.pmd.lang.java.ast.JavaParser.ClassOrInterfaceDeclaration(JavaParser.java:905)\\tat net.sourceforge.pmd.lang.java.ast.JavaParser.TypeDeclaration(JavaParser.java:807)\\tat net.sourceforge.pmd.lang.java.ast.JavaParser.CompilationUnit(JavaParser.java:527)\\tat net.sourceforge.pmd.lang.java.AbstractJavaParser.parse(AbstractJavaParser.java:62)\\tat net.sourceforge.pmd.lang.AbstractParser.doParse(AbstractParser.java:44)\\tat net.sourceforge.pmd.SourceCodeProcessor.parse(SourceCodeProcessor.java:136)\\tat net.sourceforge.pmd.SourceCodeProcessor.processSource(SourceCodeProcessor.java:200)\\tat net.sourceforge.pmd.SourceCodeProcessor.processSourceCodeWithoutCache(SourceCodeProcessor.java:118)\\t... 10 more]]></error>',\n",
       " '<error filename=\"/scale_wlg_nobackup/filesets/nobackup/uoo03396/SfTI_project_nobackup/SfTI_Projects/StackOverflow_project/my_codesnippet_analysis/pmd/mvn_apps/my-javacodeanalysis-app0/src/main/java/myjavacodeanalysis/Code_10059662_9994872_109_3.java\" msg=\"PMDException: Error while parsing /scale_wlg_nobackup/filesets/nobackup/uoo03396/SfTI_project_nobackup/SfTI_Projects/StackOverflow_project/my_codesnippet_analysis/pmd/mvn_apps/my-javacodeanalysis-app0/src/main/java/myjavacodeanalysis/Code_10059662_9994872_109_3.java\"><![CDATA[net.sourceforge.pmd.PMDException: Error while parsing /scale_wlg_nobackup/filesets/nobackup/uoo03396/SfTI_project_nobackup/SfTI_Projects/StackOverflow_project/my_codesnippet_analysis/pmd/mvn_apps/my-javacodeanalysis-app0/src/main/java/myjavacodeanalysis/Code_10059662_9994872_109_3.java\\tat net.sourceforge.pmd.SourceCodeProcessor.processSourceCodeWithoutCache(SourceCodeProcessor.java:124)\\tat net.sourceforge.pmd.SourceCodeProcessor.processSourceCode(SourceCodeProcessor.java:100)\\tat net.sourceforge.pmd.SourceCodeProcessor.processSourceCode(SourceCodeProcessor.java:62)\\tat net.sourceforge.pmd.processor.PmdRunnable.call(PmdRunnable.java:85)\\tat net.sourceforge.pmd.processor.PmdRunnable.call(PmdRunnable.java:29)\\tat java.util.concurrent.FutureTask.run(FutureTask.java:266)\\tat java.util.concurrent.Executors$RunnableAdapter.call(Executors.java:511)\\tat java.util.concurrent.FutureTask.run(FutureTask.java:266)\\tat java.util.concurrent.ThreadPoolExecutor.runWorker(ThreadPoolExecutor.java:1149)\\tat java.util.concurrent.ThreadPoolExecutor$Worker.run(ThreadPoolExecutor.java:624)\\tat java.lang.Thread.run(Thread.java:748)Caused by: net.sourceforge.pmd.lang.java.ast.ParseException: Encountered \" \"if\" \"if \"\" at line 7, column 5.Was expecting:    \"}\" ...    \\tat net.sourceforge.pmd.lang.java.ast.JavaParser.generateParseException(JavaParser.java:13532)\\tat net.sourceforge.pmd.lang.java.ast.JavaParser.jj_consume_token(JavaParser.java:13416)\\tat net.sourceforge.pmd.lang.java.ast.JavaParser.ClassOrInterfaceBody(JavaParser.java:1766)\\tat net.sourceforge.pmd.lang.java.ast.JavaParser.ClassOrInterfaceDeclaration(JavaParser.java:905)\\tat net.sourceforge.pmd.lang.java.ast.JavaParser.TypeDeclaration(JavaParser.java:807)\\tat net.sourceforge.pmd.lang.java.ast.JavaParser.CompilationUnit(JavaParser.java:527)\\tat net.sourceforge.pmd.lang.java.AbstractJavaParser.parse(AbstractJavaParser.java:62)\\tat net.sourceforge.pmd.lang.AbstractParser.doParse(AbstractParser.java:44)\\tat net.sourceforge.pmd.SourceCodeProcessor.parse(SourceCodeProcessor.java:136)\\tat net.sourceforge.pmd.SourceCodeProcessor.processSource(SourceCodeProcessor.java:200)\\tat net.sourceforge.pmd.SourceCodeProcessor.processSourceCodeWithoutCache(SourceCodeProcessor.java:118)\\t... 10 more]]></error>',\n",
       " '<error filename=\"/scale_wlg_nobackup/filesets/nobackup/uoo03396/SfTI_project_nobackup/SfTI_Projects/StackOverflow_project/my_codesnippet_analysis/pmd/mvn_apps/my-javacodeanalysis-app0/src/main/java/myjavacodeanalysis/Code_10104389_10103834_274_0.java\" msg=\"PMDException: Error while parsing /scale_wlg_nobackup/filesets/nobackup/uoo03396/SfTI_project_nobackup/SfTI_Projects/StackOverflow_project/my_codesnippet_analysis/pmd/mvn_apps/my-javacodeanalysis-app0/src/main/java/myjavacodeanalysis/Code_10104389_10103834_274_0.java\"><![CDATA[net.sourceforge.pmd.PMDException: Error while parsing /scale_wlg_nobackup/filesets/nobackup/uoo03396/SfTI_project_nobackup/SfTI_Projects/StackOverflow_project/my_codesnippet_analysis/pmd/mvn_apps/my-javacodeanalysis-app0/src/main/java/myjavacodeanalysis/Code_10104389_10103834_274_0.java\\tat net.sourceforge.pmd.SourceCodeProcessor.processSourceCodeWithoutCache(SourceCodeProcessor.java:124)\\tat net.sourceforge.pmd.SourceCodeProcessor.processSourceCode(SourceCodeProcessor.java:100)\\tat net.sourceforge.pmd.SourceCodeProcessor.processSourceCode(SourceCodeProcessor.java:62)\\tat net.sourceforge.pmd.processor.PmdRunnable.call(PmdRunnable.java:85)\\tat net.sourceforge.pmd.processor.PmdRunnable.call(PmdRunnable.java:29)\\tat java.util.concurrent.FutureTask.run(FutureTask.java:266)\\tat java.util.concurrent.Executors$RunnableAdapter.call(Executors.java:511)\\tat java.util.concurrent.FutureTask.run(FutureTask.java:266)\\tat java.util.concurrent.ThreadPoolExecutor.runWorker(ThreadPoolExecutor.java:1149)\\tat java.util.concurrent.ThreadPoolExecutor$Worker.run(ThreadPoolExecutor.java:624)\\tat java.lang.Thread.run(Thread.java:748)Caused by: net.sourceforge.pmd.lang.java.ast.ParseException: Encountered \" \")\" \") \"\" at line 2, column 16.Was expecting one of:    \"this\" ...    <IDENTIFIER> ...    \"@\" ...    \"|\" ...    \"...\" ...    <IDENTIFIER> ...    <IDENTIFIER> ...    <IDENTIFIER> ...    <IDENTIFIER> ...    <IDENTIFIER> ...    <IDENTIFIER> ...    <IDENTIFIER> ...    <IDENTIFIER> ...    <IDENTIFIER> ...    <IDENTIFIER> ...    \"@\" ...    \"@\" ...    \"@\" ...    \\tat net.sourceforge.pmd.lang.java.ast.JavaParser.generateParseException(JavaParser.java:13532)\\tat net.sourceforge.pmd.lang.java.ast.JavaParser.jj_consume_token(JavaParser.java:13416)\\tat net.sourceforge.pmd.lang.java.ast.JavaParser.VariableDeclaratorId(JavaParser.java:1974)\\tat net.sourceforge.pmd.lang.java.ast.JavaParser.FormalParameter(JavaParser.java:2328)\\tat net.sourceforge.pmd.lang.java.ast.JavaParser.FormalParameters(JavaParser.java:2229)\\tat net.sourceforge.pmd.lang.java.ast.JavaParser.ConstructorDeclaration(JavaParser.java:2369)\\tat net.sourceforge.pmd.lang.java.ast.JavaParser.ClassOrInterfaceBodyDeclaration(JavaParser.java:1807)\\tat net.sourceforge.pmd.lang.java.ast.JavaParser.ClassOrInterfaceBody(JavaParser.java:1764)\\tat net.sourceforge.pmd.lang.java.ast.JavaParser.ClassOrInterfaceDeclaration(JavaParser.java:905)\\tat net.sourceforge.pmd.lang.java.ast.JavaParser.TypeDeclaration(JavaParser.java:807)\\tat net.sourceforge.pmd.lang.java.ast.JavaParser.CompilationUnit(JavaParser.java:527)\\tat net.sourceforge.pmd.lang.java.AbstractJavaParser.parse(AbstractJavaParser.java:62)\\tat net.sourceforge.pmd.lang.AbstractParser.doParse(AbstractParser.java:44)\\tat net.sourceforge.pmd.SourceCodeProcessor.parse(SourceCodeProcessor.java:136)\\tat net.sourceforge.pmd.SourceCodeProcessor.processSource(SourceCodeProcessor.java:200)\\tat net.sourceforge.pmd.SourceCodeProcessor.processSourceCodeWithoutCache(SourceCodeProcessor.java:118)\\t... 10 more]]></error>',\n",
       " '<error filename=\"/scale_wlg_nobackup/filesets/nobackup/uoo03396/SfTI_project_nobackup/SfTI_Projects/StackOverflow_project/my_codesnippet_analysis/pmd/mvn_apps/my-javacodeanalysis-app0/src/main/java/myjavacodeanalysis/Code_10109082_10109035_54_0.java\" msg=\"PMDException: Error while parsing /scale_wlg_nobackup/filesets/nobackup/uoo03396/SfTI_project_nobackup/SfTI_Projects/StackOverflow_project/my_codesnippet_analysis/pmd/mvn_apps/my-javacodeanalysis-app0/src/main/java/myjavacodeanalysis/Code_10109082_10109035_54_0.java\"><![CDATA[net.sourceforge.pmd.PMDException: Error while parsing /scale_wlg_nobackup/filesets/nobackup/uoo03396/SfTI_project_nobackup/SfTI_Projects/StackOverflow_project/my_codesnippet_analysis/pmd/mvn_apps/my-javacodeanalysis-app0/src/main/java/myjavacodeanalysis/Code_10109082_10109035_54_0.java\\tat net.sourceforge.pmd.SourceCodeProcessor.processSourceCodeWithoutCache(SourceCodeProcessor.java:124)\\tat net.sourceforge.pmd.SourceCodeProcessor.processSourceCode(SourceCodeProcessor.java:100)\\tat net.sourceforge.pmd.SourceCodeProcessor.processSourceCode(SourceCodeProcessor.java:62)\\tat net.sourceforge.pmd.processor.PmdRunnable.call(PmdRunnable.java:85)\\tat net.sourceforge.pmd.processor.PmdRunnable.call(PmdRunnable.java:29)\\tat java.util.concurrent.FutureTask.run(FutureTask.java:266)\\tat java.util.concurrent.Executors$RunnableAdapter.call(Executors.java:511)\\tat java.util.concurrent.FutureTask.run(FutureTask.java:266)\\tat java.util.concurrent.ThreadPoolExecutor.runWorker(ThreadPoolExecutor.java:1149)\\tat java.util.concurrent.ThreadPoolExecutor$Worker.run(ThreadPoolExecutor.java:624)\\tat java.lang.Thread.run(Thread.java:748)Caused by: net.sourceforge.pmd.lang.java.ast.ParseException: Encountered \" \"if\" \"if \"\" at line 2, column 1.Was expecting:    \"}\" ...    \\tat net.sourceforge.pmd.lang.java.ast.JavaParser.generateParseException(JavaParser.java:13532)\\tat net.sourceforge.pmd.lang.java.ast.JavaParser.jj_consume_token(JavaParser.java:13416)\\tat net.sourceforge.pmd.lang.java.ast.JavaParser.ClassOrInterfaceBody(JavaParser.java:1766)\\tat net.sourceforge.pmd.lang.java.ast.JavaParser.ClassOrInterfaceDeclaration(JavaParser.java:905)\\tat net.sourceforge.pmd.lang.java.ast.JavaParser.TypeDeclaration(JavaParser.java:807)\\tat net.sourceforge.pmd.lang.java.ast.JavaParser.CompilationUnit(JavaParser.java:527)\\tat net.sourceforge.pmd.lang.java.AbstractJavaParser.parse(AbstractJavaParser.java:62)\\tat net.sourceforge.pmd.lang.AbstractParser.doParse(AbstractParser.java:44)\\tat net.sourceforge.pmd.SourceCodeProcessor.parse(SourceCodeProcessor.java:136)\\tat net.sourceforge.pmd.SourceCodeProcessor.processSource(SourceCodeProcessor.java:200)\\tat net.sourceforge.pmd.SourceCodeProcessor.processSourceCodeWithoutCache(SourceCodeProcessor.java:118)\\t... 10 more]]></error>')"
      ]
     },
     "execution_count": 17,
     "metadata": {},
     "output_type": "execute_result"
    }
   ],
   "source": [
    "bg.take(5)"
   ]
  },
  {
   "cell_type": "markdown",
   "id": "486cd470-a6de-46c3-b737-284ebd8c8ce5",
   "metadata": {},
   "source": [
    "### Use ElementTree to get all the attrbutes and text in xmlor html tags"
   ]
  },
  {
   "cell_type": "code",
   "execution_count": 18,
   "id": "cd972e2f-1f1e-4a4c-b025-f561c52832bf",
   "metadata": {},
   "outputs": [],
   "source": [
    "# This will give us just the attributes in the violation tag: <violation ...>\n",
    "#violations_rows_bd = violations_rows_bd.map(lambda row: et.fromstring(row).attrib)"
   ]
  },
  {
   "cell_type": "code",
   "execution_count": 19,
   "id": "e9d03511-3894-4bb1-867e-cfeb15da0e4f",
   "metadata": {},
   "outputs": [],
   "source": [
    "# This will give us just the text enclosed in the violation tag: <violation ...>\n",
    "#violations_rows_bd = violations_rows_bd.map(lambda row: {'text':et.fromstring(row).text})"
   ]
  },
  {
   "cell_type": "markdown",
   "id": "5b363c58-35bc-47c5-ad04-1bae250226d8",
   "metadata": {},
   "source": [
    "- To get both the the attrbutes and text in the violation tag \n",
    "    - We use add_text_to_dict_attrb() to achieve that"
   ]
  },
  {
   "cell_type": "code",
   "execution_count": 20,
   "id": "3c032ce7-bfa0-4910-a5bd-58fefeddcca5",
   "metadata": {},
   "outputs": [],
   "source": [
    "# Convert text in tag to key/value\n",
    "def update_dict_key_wt_text_as_value(tag, value):\n",
    "    _str = ''\n",
    "    if tag == 'error': \n",
    "        _str = value\n",
    "   \n",
    "    return _str"
   ]
  },
  {
   "cell_type": "code",
   "execution_count": 21,
   "id": "97e69762-03dd-4b84-8cc4-d3b701dabeb8",
   "metadata": {},
   "outputs": [],
   "source": [
    "#https://stackoverflow.com/questions/43921237/access-nested-children-in-xml-file-parsed-with-elementtree\n",
    "def content(root):\n",
    "    _str = ''\n",
    "    for child in root.iter():\n",
    "        # update dict with text as values\n",
    "        _str = update_dict_key_wt_text_as_value(child.tag, child.text)\n",
    "        \n",
    "    return _str"
   ]
  },
  {
   "cell_type": "code",
   "execution_count": 22,
   "id": "758a24a3-2076-4232-80e2-d68a591bf340",
   "metadata": {},
   "outputs": [],
   "source": [
    "## Use ElementTree to get all the attrbutes in xml tags\n",
    "#bg = bg.map(lambda row: et.fromstring(row).attrib)\n",
    "bg = bg.map(lambda row: content(et.fromstring(row)))"
   ]
  },
  {
   "cell_type": "code",
   "execution_count": 23,
   "id": "e33373ea-a613-41d1-9e4e-341c424a9194",
   "metadata": {},
   "outputs": [
    {
     "data": {
      "text/plain": [
       "('net.sourceforge.pmd.PMDException: Error while parsing /scale_wlg_nobackup/filesets/nobackup/uoo03396/SfTI_project_nobackup/SfTI_Projects/StackOverflow_project/my_codesnippet_analysis/pmd/mvn_apps/my-javacodeanalysis-app0/src/main/java/myjavacodeanalysis/Code_10022570_10022548_382_1.java\\tat net.sourceforge.pmd.SourceCodeProcessor.processSourceCodeWithoutCache(SourceCodeProcessor.java:124)\\tat net.sourceforge.pmd.SourceCodeProcessor.processSourceCode(SourceCodeProcessor.java:100)\\tat net.sourceforge.pmd.SourceCodeProcessor.processSourceCode(SourceCodeProcessor.java:62)\\tat net.sourceforge.pmd.processor.PmdRunnable.call(PmdRunnable.java:85)\\tat net.sourceforge.pmd.processor.PmdRunnable.call(PmdRunnable.java:29)\\tat java.util.concurrent.FutureTask.run(FutureTask.java:266)\\tat java.util.concurrent.Executors$RunnableAdapter.call(Executors.java:511)\\tat java.util.concurrent.FutureTask.run(FutureTask.java:266)\\tat java.util.concurrent.ThreadPoolExecutor.runWorker(ThreadPoolExecutor.java:1149)\\tat java.util.concurrent.ThreadPoolExecutor$Worker.run(ThreadPoolExecutor.java:624)\\tat java.lang.Thread.run(Thread.java:748)Caused by: net.sourceforge.pmd.lang.java.ast.ParseException: Encountered \" \"for\" \"for \"\" at line 2, column 1.Was expecting:    \"}\" ...    \\tat net.sourceforge.pmd.lang.java.ast.JavaParser.generateParseException(JavaParser.java:13532)\\tat net.sourceforge.pmd.lang.java.ast.JavaParser.jj_consume_token(JavaParser.java:13416)\\tat net.sourceforge.pmd.lang.java.ast.JavaParser.ClassOrInterfaceBody(JavaParser.java:1766)\\tat net.sourceforge.pmd.lang.java.ast.JavaParser.ClassOrInterfaceDeclaration(JavaParser.java:905)\\tat net.sourceforge.pmd.lang.java.ast.JavaParser.TypeDeclaration(JavaParser.java:807)\\tat net.sourceforge.pmd.lang.java.ast.JavaParser.CompilationUnit(JavaParser.java:527)\\tat net.sourceforge.pmd.lang.java.AbstractJavaParser.parse(AbstractJavaParser.java:62)\\tat net.sourceforge.pmd.lang.AbstractParser.doParse(AbstractParser.java:44)\\tat net.sourceforge.pmd.SourceCodeProcessor.parse(SourceCodeProcessor.java:136)\\tat net.sourceforge.pmd.SourceCodeProcessor.processSource(SourceCodeProcessor.java:200)\\tat net.sourceforge.pmd.SourceCodeProcessor.processSourceCodeWithoutCache(SourceCodeProcessor.java:118)\\t... 10 more',\n",
       " 'net.sourceforge.pmd.PMDException: Error while parsing /scale_wlg_nobackup/filesets/nobackup/uoo03396/SfTI_project_nobackup/SfTI_Projects/StackOverflow_project/my_codesnippet_analysis/pmd/mvn_apps/my-javacodeanalysis-app0/src/main/java/myjavacodeanalysis/Code_10051644_10051084_113_0.java\\tat net.sourceforge.pmd.SourceCodeProcessor.processSourceCodeWithoutCache(SourceCodeProcessor.java:124)\\tat net.sourceforge.pmd.SourceCodeProcessor.processSourceCode(SourceCodeProcessor.java:100)\\tat net.sourceforge.pmd.SourceCodeProcessor.processSourceCode(SourceCodeProcessor.java:62)\\tat net.sourceforge.pmd.processor.PmdRunnable.call(PmdRunnable.java:85)\\tat net.sourceforge.pmd.processor.PmdRunnable.call(PmdRunnable.java:29)\\tat java.util.concurrent.FutureTask.run(FutureTask.java:266)\\tat java.util.concurrent.Executors$RunnableAdapter.call(Executors.java:511)\\tat java.util.concurrent.FutureTask.run(FutureTask.java:266)\\tat java.util.concurrent.ThreadPoolExecutor.runWorker(ThreadPoolExecutor.java:1149)\\tat java.util.concurrent.ThreadPoolExecutor$Worker.run(ThreadPoolExecutor.java:624)\\tat java.lang.Thread.run(Thread.java:748)Caused by: net.sourceforge.pmd.lang.java.ast.ParseException: Encountered \"\" at line 2, column 1.Was expecting one of:    \\tat net.sourceforge.pmd.lang.java.ast.JavaParser.generateParseException(JavaParser.java:13532)\\tat net.sourceforge.pmd.lang.java.ast.JavaParser.jj_consume_token(JavaParser.java:13416)\\tat net.sourceforge.pmd.lang.java.ast.JavaParser.ClassOrInterfaceBodyDeclaration(JavaParser.java:1815)\\tat net.sourceforge.pmd.lang.java.ast.JavaParser.ClassOrInterfaceBody(JavaParser.java:1764)\\tat net.sourceforge.pmd.lang.java.ast.JavaParser.ClassOrInterfaceDeclaration(JavaParser.java:905)\\tat net.sourceforge.pmd.lang.java.ast.JavaParser.TypeDeclaration(JavaParser.java:807)\\tat net.sourceforge.pmd.lang.java.ast.JavaParser.CompilationUnit(JavaParser.java:527)\\tat net.sourceforge.pmd.lang.java.AbstractJavaParser.parse(AbstractJavaParser.java:62)\\tat net.sourceforge.pmd.lang.AbstractParser.doParse(AbstractParser.java:44)\\tat net.sourceforge.pmd.SourceCodeProcessor.parse(SourceCodeProcessor.java:136)\\tat net.sourceforge.pmd.SourceCodeProcessor.processSource(SourceCodeProcessor.java:200)\\tat net.sourceforge.pmd.SourceCodeProcessor.processSourceCodeWithoutCache(SourceCodeProcessor.java:118)\\t... 10 more')"
      ]
     },
     "execution_count": 23,
     "metadata": {},
     "output_type": "execute_result"
    }
   ],
   "source": [
    "bg.take(2)"
   ]
  },
  {
   "cell_type": "markdown",
   "id": "1d631801-9d43-4e5f-bea0-1d9626fa71b7",
   "metadata": {},
   "source": [
    "## Start a Dask cluster using SLURM jobs as workers.\n",
    "\n",
    "There are a couple of things we need to configure here:\n",
    "\n",
    "disabling the mechanism to write on disk when workers run out of memory,\n",
    "memory, CPUs, maximum time and number of workers per SLURM job,\n",
    "dask folders for log files and workers data.\n",
    "We recommend putting the log folder and workers data folders in your /nesi/nobackup/<project_code> folder, most indicated for temporary files (see NeSI File Systems and Quotas).\n",
    "\n",
    "All of these options can be set in configuration files, see Dask configuration and Dask jobqueue configuration for more information."
   ]
  },
  {
   "cell_type": "code",
   "execution_count": 24,
   "id": "7beabb20-b517-4de8-8c44-281a600e07ce",
   "metadata": {},
   "outputs": [
    {
     "name": "stderr",
     "output_type": "stream",
     "text": [
      "/opt/nesi/CS400_centos7_bdw/Python/3.9.5-gimkl-2020a/lib/python3.9/site-packages/distributed/node.py:151: UserWarning: Port 8787 is already in use.\n",
      "Perhaps you already have a cluster running?\n",
      "Hosting the HTTP server on port 40317 instead\n",
      "  warnings.warn(\n"
     ]
    }
   ],
   "source": [
    "#http://jobqueue.dask.org/en/latest/generated/dask_jobqueue.SLURMCluster.html\n",
    "dask.config.set(\n",
    "    {\n",
    "        \"distributed.worker.memory.target\": False,  # avoid spilling to disk\n",
    "        \"distributed.worker.memory.spill\": False,  # avoid spilling to disk\n",
    "    }\n",
    ")\n",
    "cluster = SLURMCluster(\n",
    "    cores=10, #cores=24, # we set each job to have 1 Worker, each using 10 cores (threads) and 8 GB of memory\n",
    "    processes=2,\n",
    "    memory=\"8GiB\",\n",
    "    walltime=\"0-30:30\",# walltime=\"0-00:30\",\n",
    "    log_directory=\"../dask/logs\",  # folder for SLURM logs for each worker\n",
    "    local_directory=\"../dask\",  # folder for workers data\n",
    ")"
   ]
  },
  {
   "cell_type": "code",
   "execution_count": 25,
   "id": "9ef2770d-6ffe-478b-8b5d-e23d44fd3140",
   "metadata": {},
   "outputs": [
    {
     "data": {
      "text/html": [
       "<table style=\"border: 2px solid white;\">\n",
       "<tr>\n",
       "<td style=\"vertical-align: top; border: 0px solid white\">\n",
       "<h3 style=\"text-align: left;\">Client</h3>\n",
       "<ul style=\"text-align: left; list-style: none; margin: 0; padding: 0;\">\n",
       "  <li><b>Scheduler: </b>tcp://192.168.94.140:34688</li>\n",
       "  <li><b>Dashboard: </b><a href='http://192.168.94.140:40317/status' target='_blank'>http://192.168.94.140:40317/status</a></li>\n",
       "</ul>\n",
       "</td>\n",
       "<td style=\"vertical-align: top; border: 0px solid white\">\n",
       "<h3 style=\"text-align: left;\">Cluster</h3>\n",
       "<ul style=\"text-align: left; list-style:none; margin: 0; padding: 0;\">\n",
       "  <li><b>Workers: </b>0</li>\n",
       "  <li><b>Cores: </b>0</li>\n",
       "  <li><b>Memory: </b>0 B</li>\n",
       "</ul>\n",
       "</td>\n",
       "</tr>\n",
       "</table>"
      ],
      "text/plain": [
       "<Client: 'tcp://192.168.94.140:34688' processes=0 threads=0, memory=0 B>"
      ]
     },
     "execution_count": 25,
     "metadata": {},
     "output_type": "execute_result"
    }
   ],
   "source": [
    "#cluster.adapt(minimum_jobs=20, maximum_jobs=200)\n",
    "cluster.adapt(minimum_jobs=10, maximum_jobs=200)\n",
    "client = Client(cluster)\n",
    "client"
   ]
  },
  {
   "cell_type": "markdown",
   "id": "34bf11d1-39fa-4c8d-93c6-936d2f1f05fb",
   "metadata": {},
   "source": [
    "## Flatten"
   ]
  },
  {
   "cell_type": "code",
   "execution_count": 26,
   "id": "5309720d-25ad-4d44-b0c1-3012353a96bb",
   "metadata": {},
   "outputs": [],
   "source": [
    "# you do not need to flatten\n",
    "# bg = bg.flatten()"
   ]
  },
  {
   "cell_type": "markdown",
   "id": "e3512ae0-74e1-4b2c-8dc6-c79dd9068014",
   "metadata": {},
   "source": [
    "## Convert Bags to Dataframes"
   ]
  },
  {
   "cell_type": "code",
   "execution_count": 27,
   "id": "631c9d6e-82d6-4e82-acb2-2fcd734b2623",
   "metadata": {},
   "outputs": [],
   "source": [
    "#convert from bags to dataframe\n",
    "#ddf = bg.to_dataframe(meta={'name':'str', 'line':'int', 'severity':'str', 'message':'str', 'source':'str'})\n",
    "ddf = bg.to_dataframe()"
   ]
  },
  {
   "cell_type": "code",
   "execution_count": 28,
   "id": "156efd59-8474-489f-8205-3dc6787dee5a",
   "metadata": {},
   "outputs": [
    {
     "data": {
      "text/html": [
       "<div><strong>Dask DataFrame Structure:</strong></div>\n",
       "<div>\n",
       "<style scoped>\n",
       "    .dataframe tbody tr th:only-of-type {\n",
       "        vertical-align: middle;\n",
       "    }\n",
       "\n",
       "    .dataframe tbody tr th {\n",
       "        vertical-align: top;\n",
       "    }\n",
       "\n",
       "    .dataframe thead th {\n",
       "        text-align: right;\n",
       "    }\n",
       "</style>\n",
       "<table border=\"1\" class=\"dataframe\">\n",
       "  <thead>\n",
       "    <tr style=\"text-align: right;\">\n",
       "      <th></th>\n",
       "      <th>0</th>\n",
       "    </tr>\n",
       "    <tr>\n",
       "      <th>npartitions=1154</th>\n",
       "      <th></th>\n",
       "    </tr>\n",
       "  </thead>\n",
       "  <tbody>\n",
       "    <tr>\n",
       "      <th></th>\n",
       "      <td>object</td>\n",
       "    </tr>\n",
       "    <tr>\n",
       "      <th></th>\n",
       "      <td>...</td>\n",
       "    </tr>\n",
       "    <tr>\n",
       "      <th>...</th>\n",
       "      <td>...</td>\n",
       "    </tr>\n",
       "    <tr>\n",
       "      <th></th>\n",
       "      <td>...</td>\n",
       "    </tr>\n",
       "    <tr>\n",
       "      <th></th>\n",
       "      <td>...</td>\n",
       "    </tr>\n",
       "  </tbody>\n",
       "</table>\n",
       "</div>\n",
       "<div>Dask Name: to_dataframe, 3462 tasks</div>"
      ],
      "text/plain": [
       "Dask DataFrame Structure:\n",
       "                       0\n",
       "npartitions=1154        \n",
       "                  object\n",
       "                     ...\n",
       "...                  ...\n",
       "                     ...\n",
       "                     ...\n",
       "Dask Name: to_dataframe, 3462 tasks"
      ]
     },
     "execution_count": 28,
     "metadata": {},
     "output_type": "execute_result"
    }
   ],
   "source": [
    "ddf"
   ]
  },
  {
   "cell_type": "code",
   "execution_count": 29,
   "id": "2e0841b0-6377-4983-9da7-9e0a0cb1abb3",
   "metadata": {},
   "outputs": [
    {
     "data": {
      "text/plain": [
       "RangeIndex(start=0, stop=1, step=1)"
      ]
     },
     "execution_count": 29,
     "metadata": {},
     "output_type": "execute_result"
    }
   ],
   "source": [
    "ddf.columns"
   ]
  },
  {
   "cell_type": "code",
   "execution_count": 30,
   "id": "d18e401b-93cd-4267-b331-9e411ae5251f",
   "metadata": {},
   "outputs": [
    {
     "data": {
      "text/html": [
       "<div>\n",
       "<style scoped>\n",
       "    .dataframe tbody tr th:only-of-type {\n",
       "        vertical-align: middle;\n",
       "    }\n",
       "\n",
       "    .dataframe tbody tr th {\n",
       "        vertical-align: top;\n",
       "    }\n",
       "\n",
       "    .dataframe thead th {\n",
       "        text-align: right;\n",
       "    }\n",
       "</style>\n",
       "<table border=\"1\" class=\"dataframe\">\n",
       "  <thead>\n",
       "    <tr style=\"text-align: right;\">\n",
       "      <th></th>\n",
       "      <th>0</th>\n",
       "    </tr>\n",
       "  </thead>\n",
       "  <tbody>\n",
       "    <tr>\n",
       "      <th>0</th>\n",
       "      <td>net.sourceforge.pmd.PMDException: Error while ...</td>\n",
       "    </tr>\n",
       "    <tr>\n",
       "      <th>1</th>\n",
       "      <td>net.sourceforge.pmd.PMDException: Error while ...</td>\n",
       "    </tr>\n",
       "    <tr>\n",
       "      <th>2</th>\n",
       "      <td>net.sourceforge.pmd.PMDException: Error while ...</td>\n",
       "    </tr>\n",
       "    <tr>\n",
       "      <th>3</th>\n",
       "      <td>net.sourceforge.pmd.PMDException: Error while ...</td>\n",
       "    </tr>\n",
       "    <tr>\n",
       "      <th>4</th>\n",
       "      <td>net.sourceforge.pmd.PMDException: Error while ...</td>\n",
       "    </tr>\n",
       "  </tbody>\n",
       "</table>\n",
       "</div>"
      ],
      "text/plain": [
       "                                                   0\n",
       "0  net.sourceforge.pmd.PMDException: Error while ...\n",
       "1  net.sourceforge.pmd.PMDException: Error while ...\n",
       "2  net.sourceforge.pmd.PMDException: Error while ...\n",
       "3  net.sourceforge.pmd.PMDException: Error while ...\n",
       "4  net.sourceforge.pmd.PMDException: Error while ..."
      ]
     },
     "execution_count": 30,
     "metadata": {},
     "output_type": "execute_result"
    }
   ],
   "source": [
    "ddf.head()"
   ]
  },
  {
   "cell_type": "code",
   "execution_count": 31,
   "id": "b34ce5a3-4310-40a7-a494-f52a936e85ed",
   "metadata": {},
   "outputs": [
    {
     "data": {
      "text/html": [
       "<div>\n",
       "<style scoped>\n",
       "    .dataframe tbody tr th:only-of-type {\n",
       "        vertical-align: middle;\n",
       "    }\n",
       "\n",
       "    .dataframe tbody tr th {\n",
       "        vertical-align: top;\n",
       "    }\n",
       "\n",
       "    .dataframe thead th {\n",
       "        text-align: right;\n",
       "    }\n",
       "</style>\n",
       "<table border=\"1\" class=\"dataframe\">\n",
       "  <thead>\n",
       "    <tr style=\"text-align: right;\">\n",
       "      <th></th>\n",
       "      <th>0</th>\n",
       "    </tr>\n",
       "  </thead>\n",
       "  <tbody>\n",
       "    <tr>\n",
       "      <th>602</th>\n",
       "      <td>net.sourceforge.pmd.PMDException: Error while ...</td>\n",
       "    </tr>\n",
       "    <tr>\n",
       "      <th>603</th>\n",
       "      <td>net.sourceforge.pmd.PMDException: Error while ...</td>\n",
       "    </tr>\n",
       "    <tr>\n",
       "      <th>604</th>\n",
       "      <td>net.sourceforge.pmd.PMDException: Error while ...</td>\n",
       "    </tr>\n",
       "    <tr>\n",
       "      <th>605</th>\n",
       "      <td>net.sourceforge.pmd.PMDException: Error while ...</td>\n",
       "    </tr>\n",
       "    <tr>\n",
       "      <th>606</th>\n",
       "      <td>net.sourceforge.pmd.PMDException: Error while ...</td>\n",
       "    </tr>\n",
       "  </tbody>\n",
       "</table>\n",
       "</div>"
      ],
      "text/plain": [
       "                                                     0\n",
       "602  net.sourceforge.pmd.PMDException: Error while ...\n",
       "603  net.sourceforge.pmd.PMDException: Error while ...\n",
       "604  net.sourceforge.pmd.PMDException: Error while ...\n",
       "605  net.sourceforge.pmd.PMDException: Error while ...\n",
       "606  net.sourceforge.pmd.PMDException: Error while ..."
      ]
     },
     "execution_count": 31,
     "metadata": {},
     "output_type": "execute_result"
    }
   ],
   "source": [
    "ddf.tail()"
   ]
  },
  {
   "cell_type": "code",
   "execution_count": 32,
   "id": "e80e1790-3215-4cf1-b049-59bdc363da35",
   "metadata": {},
   "outputs": [],
   "source": [
    "# 1005519 errors\n",
    "#ddf.shape[0].compute()"
   ]
  },
  {
   "cell_type": "markdown",
   "id": "2d5c5592-4622-4657-b916-210ecd82ab23",
   "metadata": {},
   "source": [
    "### Make a folder in that directory"
   ]
  },
  {
   "cell_type": "code",
   "execution_count": 33,
   "id": "9b93db93-8873-4631-a7f0-0bcbf9b41086",
   "metadata": {},
   "outputs": [],
   "source": [
    "## Make a folder in that directory\n",
    "folder = '{}/pmdcodesnippetserror_csv'.format(common_path)\n",
    "# output: path/to/Post.csv => path/to\n",
    "mkdir_cmd = 'mkdir {}'.format(folder)\n",
    "cmd = sp.run(\n",
    "    mkdir_cmd, # command\n",
    "    capture_output=True,\n",
    "    text=True,\n",
    "    shell=True\n",
    ")"
   ]
  },
  {
   "cell_type": "markdown",
   "id": "029ac3cd-b5ce-4de8-99fe-3dd820d63872",
   "metadata": {},
   "source": [
    "### Save files in that directory"
   ]
  },
  {
   "cell_type": "code",
   "execution_count": 34,
   "id": "3a5e5770-6be8-4eee-a464-afd9dc7ff657",
   "metadata": {},
   "outputs": [
    {
     "name": "stderr",
     "output_type": "stream",
     "text": [
      "distributed.utils - ERROR - Timed out during handshake while connecting to tcp://10.65.4.125:34008 after 10 s\n",
      "Traceback (most recent call last):\n",
      "  File \"/opt/nesi/CS400_centos7_bdw/Python/3.9.5-gimkl-2020a/lib/python3.9/site-packages/distributed/comm/tcp.py\", line 196, in read\n",
      "    frames_nbytes = await stream.read_bytes(fmt_size)\n",
      "asyncio.exceptions.CancelledError\n",
      "\n",
      "During handling of the above exception, another exception occurred:\n",
      "\n",
      "Traceback (most recent call last):\n",
      "  File \"/opt/nesi/CS400_centos7_bdw/Python/3.9.5-gimkl-2020a/lib/python3.9/asyncio/tasks.py\", line 492, in wait_for\n",
      "    fut.result()\n",
      "asyncio.exceptions.CancelledError\n",
      "\n",
      "The above exception was the direct cause of the following exception:\n",
      "\n",
      "Traceback (most recent call last):\n",
      "  File \"/opt/nesi/CS400_centos7_bdw/Python/3.9.5-gimkl-2020a/lib/python3.9/site-packages/distributed/comm/core.py\", line 318, in connect\n",
      "    handshake = await asyncio.wait_for(comm.read(), time_left())\n",
      "  File \"/opt/nesi/CS400_centos7_bdw/Python/3.9.5-gimkl-2020a/lib/python3.9/asyncio/tasks.py\", line 494, in wait_for\n",
      "    raise exceptions.TimeoutError() from exc\n",
      "asyncio.exceptions.TimeoutError\n",
      "\n",
      "The above exception was the direct cause of the following exception:\n",
      "\n",
      "Traceback (most recent call last):\n",
      "  File \"/opt/nesi/CS400_centos7_bdw/Python/3.9.5-gimkl-2020a/lib/python3.9/site-packages/distributed/utils.py\", line 668, in log_errors\n",
      "    yield\n",
      "  File \"/opt/nesi/CS400_centos7_bdw/Python/3.9.5-gimkl-2020a/lib/python3.9/site-packages/distributed/scheduler.py\", line 5943, in retire_workers\n",
      "    await self.replicate(\n",
      "  File \"/opt/nesi/CS400_centos7_bdw/Python/3.9.5-gimkl-2020a/lib/python3.9/site-packages/distributed/scheduler.py\", line 5697, in replicate\n",
      "    results = await asyncio.gather(\n",
      "  File \"/opt/nesi/CS400_centos7_bdw/Python/3.9.5-gimkl-2020a/lib/python3.9/site-packages/distributed/utils_comm.py\", line 385, in retry_operation\n",
      "    return await retry(\n",
      "  File \"/opt/nesi/CS400_centos7_bdw/Python/3.9.5-gimkl-2020a/lib/python3.9/site-packages/distributed/utils_comm.py\", line 370, in retry\n",
      "    return await coro()\n",
      "  File \"/opt/nesi/CS400_centos7_bdw/Python/3.9.5-gimkl-2020a/lib/python3.9/site-packages/distributed/core.py\", line 859, in send_recv_from_rpc\n",
      "    comm = await self.pool.connect(self.addr)\n",
      "  File \"/opt/nesi/CS400_centos7_bdw/Python/3.9.5-gimkl-2020a/lib/python3.9/site-packages/distributed/core.py\", line 1010, in connect\n",
      "    comm = await connect(\n",
      "  File \"/opt/nesi/CS400_centos7_bdw/Python/3.9.5-gimkl-2020a/lib/python3.9/site-packages/distributed/comm/core.py\", line 323, in connect\n",
      "    raise IOError(\n",
      "OSError: Timed out during handshake while connecting to tcp://10.65.4.125:34008 after 10 s\n",
      "distributed.core - ERROR - Exception while handling op retire_workers\n",
      "Traceback (most recent call last):\n",
      "  File \"/opt/nesi/CS400_centos7_bdw/Python/3.9.5-gimkl-2020a/lib/python3.9/site-packages/distributed/comm/tcp.py\", line 196, in read\n",
      "    frames_nbytes = await stream.read_bytes(fmt_size)\n",
      "asyncio.exceptions.CancelledError\n",
      "\n",
      "During handling of the above exception, another exception occurred:\n",
      "\n",
      "Traceback (most recent call last):\n",
      "  File \"/opt/nesi/CS400_centos7_bdw/Python/3.9.5-gimkl-2020a/lib/python3.9/asyncio/tasks.py\", line 492, in wait_for\n",
      "    fut.result()\n",
      "asyncio.exceptions.CancelledError\n",
      "\n",
      "The above exception was the direct cause of the following exception:\n",
      "\n",
      "Traceback (most recent call last):\n",
      "  File \"/opt/nesi/CS400_centos7_bdw/Python/3.9.5-gimkl-2020a/lib/python3.9/site-packages/distributed/comm/core.py\", line 318, in connect\n",
      "    handshake = await asyncio.wait_for(comm.read(), time_left())\n",
      "  File \"/opt/nesi/CS400_centos7_bdw/Python/3.9.5-gimkl-2020a/lib/python3.9/asyncio/tasks.py\", line 494, in wait_for\n",
      "    raise exceptions.TimeoutError() from exc\n",
      "asyncio.exceptions.TimeoutError\n",
      "\n",
      "The above exception was the direct cause of the following exception:\n",
      "\n",
      "Traceback (most recent call last):\n",
      "  File \"/opt/nesi/CS400_centos7_bdw/Python/3.9.5-gimkl-2020a/lib/python3.9/site-packages/distributed/core.py\", line 501, in handle_comm\n",
      "    result = await result\n",
      "  File \"/opt/nesi/CS400_centos7_bdw/Python/3.9.5-gimkl-2020a/lib/python3.9/site-packages/distributed/scheduler.py\", line 5943, in retire_workers\n",
      "    await self.replicate(\n",
      "  File \"/opt/nesi/CS400_centos7_bdw/Python/3.9.5-gimkl-2020a/lib/python3.9/site-packages/distributed/scheduler.py\", line 5697, in replicate\n",
      "    results = await asyncio.gather(\n",
      "  File \"/opt/nesi/CS400_centos7_bdw/Python/3.9.5-gimkl-2020a/lib/python3.9/site-packages/distributed/utils_comm.py\", line 385, in retry_operation\n",
      "    return await retry(\n",
      "  File \"/opt/nesi/CS400_centos7_bdw/Python/3.9.5-gimkl-2020a/lib/python3.9/site-packages/distributed/utils_comm.py\", line 370, in retry\n",
      "    return await coro()\n",
      "  File \"/opt/nesi/CS400_centos7_bdw/Python/3.9.5-gimkl-2020a/lib/python3.9/site-packages/distributed/core.py\", line 859, in send_recv_from_rpc\n",
      "    comm = await self.pool.connect(self.addr)\n",
      "  File \"/opt/nesi/CS400_centos7_bdw/Python/3.9.5-gimkl-2020a/lib/python3.9/site-packages/distributed/core.py\", line 1010, in connect\n",
      "    comm = await connect(\n",
      "  File \"/opt/nesi/CS400_centos7_bdw/Python/3.9.5-gimkl-2020a/lib/python3.9/site-packages/distributed/comm/core.py\", line 323, in connect\n",
      "    raise IOError(\n",
      "OSError: Timed out during handshake while connecting to tcp://10.65.4.125:34008 after 10 s\n",
      "distributed.utils - ERROR - Timed out during handshake while connecting to tcp://10.65.4.125:34008 after 10 s\n",
      "Traceback (most recent call last):\n",
      "  File \"/opt/nesi/CS400_centos7_bdw/Python/3.9.5-gimkl-2020a/lib/python3.9/asyncio/tasks.py\", line 492, in wait_for\n",
      "    fut.result()\n",
      "asyncio.exceptions.CancelledError\n",
      "\n",
      "The above exception was the direct cause of the following exception:\n",
      "\n",
      "Traceback (most recent call last):\n",
      "  File \"/opt/nesi/CS400_centos7_bdw/Python/3.9.5-gimkl-2020a/lib/python3.9/site-packages/distributed/comm/core.py\", line 318, in connect\n",
      "    handshake = await asyncio.wait_for(comm.read(), time_left())\n",
      "  File \"/opt/nesi/CS400_centos7_bdw/Python/3.9.5-gimkl-2020a/lib/python3.9/asyncio/tasks.py\", line 494, in wait_for\n",
      "    raise exceptions.TimeoutError() from exc\n",
      "asyncio.exceptions.TimeoutError\n",
      "\n",
      "The above exception was the direct cause of the following exception:\n",
      "\n",
      "Traceback (most recent call last):\n",
      "  File \"/opt/nesi/CS400_centos7_bdw/Python/3.9.5-gimkl-2020a/lib/python3.9/site-packages/distributed/utils.py\", line 668, in log_errors\n",
      "    yield\n",
      "  File \"/opt/nesi/CS400_centos7_bdw/Python/3.9.5-gimkl-2020a/lib/python3.9/site-packages/distributed/deploy/adaptive.py\", line 188, in scale_down\n",
      "    await self.scheduler.retire_workers(\n",
      "  File \"/opt/nesi/CS400_centos7_bdw/Python/3.9.5-gimkl-2020a/lib/python3.9/site-packages/distributed/core.py\", line 791, in send_recv_from_rpc\n",
      "    result = await send_recv(comm=comm, op=key, **kwargs)\n",
      "  File \"/opt/nesi/CS400_centos7_bdw/Python/3.9.5-gimkl-2020a/lib/python3.9/site-packages/distributed/core.py\", line 661, in send_recv\n",
      "    raise exc.with_traceback(tb)\n",
      "  File \"/opt/nesi/CS400_centos7_bdw/Python/3.9.5-gimkl-2020a/lib/python3.9/site-packages/distributed/core.py\", line 501, in handle_comm\n",
      "    result = await result\n",
      "  File \"/opt/nesi/CS400_centos7_bdw/Python/3.9.5-gimkl-2020a/lib/python3.9/site-packages/distributed/scheduler.py\", line 5943, in retire_workers\n",
      "    await self.replicate(\n",
      "  File \"/opt/nesi/CS400_centos7_bdw/Python/3.9.5-gimkl-2020a/lib/python3.9/site-packages/distributed/scheduler.py\", line 5697, in replicate\n",
      "    results = await asyncio.gather(\n",
      "  File \"/opt/nesi/CS400_centos7_bdw/Python/3.9.5-gimkl-2020a/lib/python3.9/site-packages/distributed/utils_comm.py\", line 385, in retry_operation\n",
      "    return await retry(\n",
      "  File \"/opt/nesi/CS400_centos7_bdw/Python/3.9.5-gimkl-2020a/lib/python3.9/site-packages/distributed/utils_comm.py\", line 370, in retry\n",
      "    return await coro()\n",
      "  File \"/opt/nesi/CS400_centos7_bdw/Python/3.9.5-gimkl-2020a/lib/python3.9/site-packages/distributed/core.py\", line 859, in send_recv_from_rpc\n",
      "    comm = await self.pool.connect(self.addr)\n",
      "  File \"/opt/nesi/CS400_centos7_bdw/Python/3.9.5-gimkl-2020a/lib/python3.9/site-packages/distributed/core.py\", line 1010, in connect\n",
      "    comm = await connect(\n",
      "  File \"/opt/nesi/CS400_centos7_bdw/Python/3.9.5-gimkl-2020a/lib/python3.9/site-packages/distributed/comm/core.py\", line 323, in connect\n",
      "    raise IOError(\n",
      "OSError: Timed out during handshake while connecting to tcp://10.65.4.125:34008 after 10 s\n",
      "distributed.utils - ERROR - Timed out during handshake while connecting to tcp://10.65.4.213:37668 after 10 s\n",
      "Traceback (most recent call last):\n",
      "  File \"/opt/nesi/CS400_centos7_bdw/Python/3.9.5-gimkl-2020a/lib/python3.9/site-packages/distributed/comm/tcp.py\", line 196, in read\n",
      "    frames_nbytes = await stream.read_bytes(fmt_size)\n",
      "asyncio.exceptions.CancelledError\n",
      "\n",
      "During handling of the above exception, another exception occurred:\n",
      "\n",
      "Traceback (most recent call last):\n",
      "  File \"/opt/nesi/CS400_centos7_bdw/Python/3.9.5-gimkl-2020a/lib/python3.9/asyncio/tasks.py\", line 492, in wait_for\n",
      "    fut.result()\n",
      "asyncio.exceptions.CancelledError\n",
      "\n",
      "The above exception was the direct cause of the following exception:\n",
      "\n",
      "Traceback (most recent call last):\n",
      "  File \"/opt/nesi/CS400_centos7_bdw/Python/3.9.5-gimkl-2020a/lib/python3.9/site-packages/distributed/comm/core.py\", line 318, in connect\n",
      "    handshake = await asyncio.wait_for(comm.read(), time_left())\n",
      "  File \"/opt/nesi/CS400_centos7_bdw/Python/3.9.5-gimkl-2020a/lib/python3.9/asyncio/tasks.py\", line 494, in wait_for\n",
      "    raise exceptions.TimeoutError() from exc\n",
      "asyncio.exceptions.TimeoutError\n",
      "\n",
      "The above exception was the direct cause of the following exception:\n",
      "\n",
      "Traceback (most recent call last):\n",
      "  File \"/opt/nesi/CS400_centos7_bdw/Python/3.9.5-gimkl-2020a/lib/python3.9/site-packages/distributed/utils.py\", line 668, in log_errors\n",
      "    yield\n",
      "  File \"/opt/nesi/CS400_centos7_bdw/Python/3.9.5-gimkl-2020a/lib/python3.9/site-packages/distributed/scheduler.py\", line 5943, in retire_workers\n",
      "    await self.replicate(\n",
      "  File \"/opt/nesi/CS400_centos7_bdw/Python/3.9.5-gimkl-2020a/lib/python3.9/site-packages/distributed/scheduler.py\", line 5697, in replicate\n",
      "    results = await asyncio.gather(\n",
      "  File \"/opt/nesi/CS400_centos7_bdw/Python/3.9.5-gimkl-2020a/lib/python3.9/site-packages/distributed/utils_comm.py\", line 385, in retry_operation\n",
      "    return await retry(\n",
      "  File \"/opt/nesi/CS400_centos7_bdw/Python/3.9.5-gimkl-2020a/lib/python3.9/site-packages/distributed/utils_comm.py\", line 370, in retry\n",
      "    return await coro()\n",
      "  File \"/opt/nesi/CS400_centos7_bdw/Python/3.9.5-gimkl-2020a/lib/python3.9/site-packages/distributed/core.py\", line 859, in send_recv_from_rpc\n",
      "    comm = await self.pool.connect(self.addr)\n",
      "  File \"/opt/nesi/CS400_centos7_bdw/Python/3.9.5-gimkl-2020a/lib/python3.9/site-packages/distributed/core.py\", line 1010, in connect\n",
      "    comm = await connect(\n",
      "  File \"/opt/nesi/CS400_centos7_bdw/Python/3.9.5-gimkl-2020a/lib/python3.9/site-packages/distributed/comm/core.py\", line 323, in connect\n",
      "    raise IOError(\n",
      "OSError: Timed out during handshake while connecting to tcp://10.65.4.213:37668 after 10 s\n",
      "distributed.core - ERROR - Exception while handling op retire_workers\n",
      "Traceback (most recent call last):\n",
      "  File \"/opt/nesi/CS400_centos7_bdw/Python/3.9.5-gimkl-2020a/lib/python3.9/site-packages/distributed/comm/tcp.py\", line 196, in read\n",
      "    frames_nbytes = await stream.read_bytes(fmt_size)\n",
      "asyncio.exceptions.CancelledError\n",
      "\n",
      "During handling of the above exception, another exception occurred:\n",
      "\n",
      "Traceback (most recent call last):\n",
      "  File \"/opt/nesi/CS400_centos7_bdw/Python/3.9.5-gimkl-2020a/lib/python3.9/asyncio/tasks.py\", line 492, in wait_for\n",
      "    fut.result()\n",
      "asyncio.exceptions.CancelledError\n",
      "\n",
      "The above exception was the direct cause of the following exception:\n",
      "\n",
      "Traceback (most recent call last):\n",
      "  File \"/opt/nesi/CS400_centos7_bdw/Python/3.9.5-gimkl-2020a/lib/python3.9/site-packages/distributed/comm/core.py\", line 318, in connect\n",
      "    handshake = await asyncio.wait_for(comm.read(), time_left())\n",
      "  File \"/opt/nesi/CS400_centos7_bdw/Python/3.9.5-gimkl-2020a/lib/python3.9/asyncio/tasks.py\", line 494, in wait_for\n",
      "    raise exceptions.TimeoutError() from exc\n",
      "asyncio.exceptions.TimeoutError\n",
      "\n",
      "The above exception was the direct cause of the following exception:\n",
      "\n",
      "Traceback (most recent call last):\n",
      "  File \"/opt/nesi/CS400_centos7_bdw/Python/3.9.5-gimkl-2020a/lib/python3.9/site-packages/distributed/core.py\", line 501, in handle_comm\n",
      "    result = await result\n",
      "  File \"/opt/nesi/CS400_centos7_bdw/Python/3.9.5-gimkl-2020a/lib/python3.9/site-packages/distributed/scheduler.py\", line 5943, in retire_workers\n",
      "    await self.replicate(\n",
      "  File \"/opt/nesi/CS400_centos7_bdw/Python/3.9.5-gimkl-2020a/lib/python3.9/site-packages/distributed/scheduler.py\", line 5697, in replicate\n",
      "    results = await asyncio.gather(\n",
      "  File \"/opt/nesi/CS400_centos7_bdw/Python/3.9.5-gimkl-2020a/lib/python3.9/site-packages/distributed/utils_comm.py\", line 385, in retry_operation\n",
      "    return await retry(\n",
      "  File \"/opt/nesi/CS400_centos7_bdw/Python/3.9.5-gimkl-2020a/lib/python3.9/site-packages/distributed/utils_comm.py\", line 370, in retry\n",
      "    return await coro()\n",
      "  File \"/opt/nesi/CS400_centos7_bdw/Python/3.9.5-gimkl-2020a/lib/python3.9/site-packages/distributed/core.py\", line 859, in send_recv_from_rpc\n",
      "    comm = await self.pool.connect(self.addr)\n",
      "  File \"/opt/nesi/CS400_centos7_bdw/Python/3.9.5-gimkl-2020a/lib/python3.9/site-packages/distributed/core.py\", line 1010, in connect\n",
      "    comm = await connect(\n",
      "  File \"/opt/nesi/CS400_centos7_bdw/Python/3.9.5-gimkl-2020a/lib/python3.9/site-packages/distributed/comm/core.py\", line 323, in connect\n",
      "    raise IOError(\n",
      "OSError: Timed out during handshake while connecting to tcp://10.65.4.213:37668 after 10 s\n",
      "distributed.utils - ERROR - Timed out during handshake while connecting to tcp://10.65.4.213:37668 after 10 s\n",
      "Traceback (most recent call last):\n",
      "  File \"/opt/nesi/CS400_centos7_bdw/Python/3.9.5-gimkl-2020a/lib/python3.9/asyncio/tasks.py\", line 492, in wait_for\n",
      "    fut.result()\n",
      "asyncio.exceptions.CancelledError\n",
      "\n",
      "The above exception was the direct cause of the following exception:\n",
      "\n",
      "Traceback (most recent call last):\n",
      "  File \"/opt/nesi/CS400_centos7_bdw/Python/3.9.5-gimkl-2020a/lib/python3.9/site-packages/distributed/comm/core.py\", line 318, in connect\n",
      "    handshake = await asyncio.wait_for(comm.read(), time_left())\n",
      "  File \"/opt/nesi/CS400_centos7_bdw/Python/3.9.5-gimkl-2020a/lib/python3.9/asyncio/tasks.py\", line 494, in wait_for\n",
      "    raise exceptions.TimeoutError() from exc\n",
      "asyncio.exceptions.TimeoutError\n",
      "\n",
      "The above exception was the direct cause of the following exception:\n",
      "\n",
      "Traceback (most recent call last):\n",
      "  File \"/opt/nesi/CS400_centos7_bdw/Python/3.9.5-gimkl-2020a/lib/python3.9/site-packages/distributed/utils.py\", line 668, in log_errors\n",
      "    yield\n",
      "  File \"/opt/nesi/CS400_centos7_bdw/Python/3.9.5-gimkl-2020a/lib/python3.9/site-packages/distributed/deploy/adaptive.py\", line 188, in scale_down\n",
      "    await self.scheduler.retire_workers(\n",
      "  File \"/opt/nesi/CS400_centos7_bdw/Python/3.9.5-gimkl-2020a/lib/python3.9/site-packages/distributed/core.py\", line 791, in send_recv_from_rpc\n",
      "    result = await send_recv(comm=comm, op=key, **kwargs)\n",
      "  File \"/opt/nesi/CS400_centos7_bdw/Python/3.9.5-gimkl-2020a/lib/python3.9/site-packages/distributed/core.py\", line 661, in send_recv\n",
      "    raise exc.with_traceback(tb)\n",
      "  File \"/opt/nesi/CS400_centos7_bdw/Python/3.9.5-gimkl-2020a/lib/python3.9/site-packages/distributed/core.py\", line 501, in handle_comm\n",
      "    result = await result\n",
      "  File \"/opt/nesi/CS400_centos7_bdw/Python/3.9.5-gimkl-2020a/lib/python3.9/site-packages/distributed/scheduler.py\", line 5943, in retire_workers\n",
      "    await self.replicate(\n",
      "  File \"/opt/nesi/CS400_centos7_bdw/Python/3.9.5-gimkl-2020a/lib/python3.9/site-packages/distributed/scheduler.py\", line 5697, in replicate\n",
      "    results = await asyncio.gather(\n",
      "  File \"/opt/nesi/CS400_centos7_bdw/Python/3.9.5-gimkl-2020a/lib/python3.9/site-packages/distributed/utils_comm.py\", line 385, in retry_operation\n",
      "    return await retry(\n",
      "  File \"/opt/nesi/CS400_centos7_bdw/Python/3.9.5-gimkl-2020a/lib/python3.9/site-packages/distributed/utils_comm.py\", line 370, in retry\n",
      "    return await coro()\n",
      "  File \"/opt/nesi/CS400_centos7_bdw/Python/3.9.5-gimkl-2020a/lib/python3.9/site-packages/distributed/core.py\", line 859, in send_recv_from_rpc\n",
      "    comm = await self.pool.connect(self.addr)\n",
      "  File \"/opt/nesi/CS400_centos7_bdw/Python/3.9.5-gimkl-2020a/lib/python3.9/site-packages/distributed/core.py\", line 1010, in connect\n",
      "    comm = await connect(\n",
      "  File \"/opt/nesi/CS400_centos7_bdw/Python/3.9.5-gimkl-2020a/lib/python3.9/site-packages/distributed/comm/core.py\", line 323, in connect\n",
      "    raise IOError(\n",
      "OSError: Timed out during handshake while connecting to tcp://10.65.4.213:37668 after 10 s\n",
      "distributed.utils - ERROR - Timed out during handshake while connecting to tcp://10.65.4.213:37668 after 10 s\n",
      "Traceback (most recent call last):\n",
      "  File \"/opt/nesi/CS400_centos7_bdw/Python/3.9.5-gimkl-2020a/lib/python3.9/site-packages/distributed/comm/tcp.py\", line 196, in read\n",
      "    frames_nbytes = await stream.read_bytes(fmt_size)\n",
      "asyncio.exceptions.CancelledError\n",
      "\n",
      "During handling of the above exception, another exception occurred:\n",
      "\n",
      "Traceback (most recent call last):\n",
      "  File \"/opt/nesi/CS400_centos7_bdw/Python/3.9.5-gimkl-2020a/lib/python3.9/asyncio/tasks.py\", line 492, in wait_for\n",
      "    fut.result()\n",
      "asyncio.exceptions.CancelledError\n",
      "\n",
      "The above exception was the direct cause of the following exception:\n",
      "\n",
      "Traceback (most recent call last):\n",
      "  File \"/opt/nesi/CS400_centos7_bdw/Python/3.9.5-gimkl-2020a/lib/python3.9/site-packages/distributed/comm/core.py\", line 318, in connect\n",
      "    handshake = await asyncio.wait_for(comm.read(), time_left())\n",
      "  File \"/opt/nesi/CS400_centos7_bdw/Python/3.9.5-gimkl-2020a/lib/python3.9/asyncio/tasks.py\", line 494, in wait_for\n",
      "    raise exceptions.TimeoutError() from exc\n",
      "asyncio.exceptions.TimeoutError\n",
      "\n",
      "The above exception was the direct cause of the following exception:\n",
      "\n",
      "Traceback (most recent call last):\n",
      "  File \"/opt/nesi/CS400_centos7_bdw/Python/3.9.5-gimkl-2020a/lib/python3.9/site-packages/distributed/utils.py\", line 668, in log_errors\n",
      "    yield\n",
      "  File \"/opt/nesi/CS400_centos7_bdw/Python/3.9.5-gimkl-2020a/lib/python3.9/site-packages/distributed/scheduler.py\", line 5943, in retire_workers\n",
      "    await self.replicate(\n",
      "  File \"/opt/nesi/CS400_centos7_bdw/Python/3.9.5-gimkl-2020a/lib/python3.9/site-packages/distributed/scheduler.py\", line 5697, in replicate\n",
      "    results = await asyncio.gather(\n",
      "  File \"/opt/nesi/CS400_centos7_bdw/Python/3.9.5-gimkl-2020a/lib/python3.9/site-packages/distributed/utils_comm.py\", line 385, in retry_operation\n",
      "    return await retry(\n",
      "  File \"/opt/nesi/CS400_centos7_bdw/Python/3.9.5-gimkl-2020a/lib/python3.9/site-packages/distributed/utils_comm.py\", line 370, in retry\n",
      "    return await coro()\n",
      "  File \"/opt/nesi/CS400_centos7_bdw/Python/3.9.5-gimkl-2020a/lib/python3.9/site-packages/distributed/core.py\", line 859, in send_recv_from_rpc\n",
      "    comm = await self.pool.connect(self.addr)\n",
      "  File \"/opt/nesi/CS400_centos7_bdw/Python/3.9.5-gimkl-2020a/lib/python3.9/site-packages/distributed/core.py\", line 1010, in connect\n",
      "    comm = await connect(\n",
      "  File \"/opt/nesi/CS400_centos7_bdw/Python/3.9.5-gimkl-2020a/lib/python3.9/site-packages/distributed/comm/core.py\", line 323, in connect\n",
      "    raise IOError(\n",
      "OSError: Timed out during handshake while connecting to tcp://10.65.4.213:37668 after 10 s\n",
      "distributed.core - ERROR - Exception while handling op retire_workers\n",
      "Traceback (most recent call last):\n",
      "  File \"/opt/nesi/CS400_centos7_bdw/Python/3.9.5-gimkl-2020a/lib/python3.9/site-packages/distributed/comm/tcp.py\", line 196, in read\n",
      "    frames_nbytes = await stream.read_bytes(fmt_size)\n",
      "asyncio.exceptions.CancelledError\n",
      "\n",
      "During handling of the above exception, another exception occurred:\n",
      "\n",
      "Traceback (most recent call last):\n",
      "  File \"/opt/nesi/CS400_centos7_bdw/Python/3.9.5-gimkl-2020a/lib/python3.9/asyncio/tasks.py\", line 492, in wait_for\n",
      "    fut.result()\n",
      "asyncio.exceptions.CancelledError\n",
      "\n",
      "The above exception was the direct cause of the following exception:\n",
      "\n",
      "Traceback (most recent call last):\n",
      "  File \"/opt/nesi/CS400_centos7_bdw/Python/3.9.5-gimkl-2020a/lib/python3.9/site-packages/distributed/comm/core.py\", line 318, in connect\n",
      "    handshake = await asyncio.wait_for(comm.read(), time_left())\n",
      "  File \"/opt/nesi/CS400_centos7_bdw/Python/3.9.5-gimkl-2020a/lib/python3.9/asyncio/tasks.py\", line 494, in wait_for\n",
      "    raise exceptions.TimeoutError() from exc\n",
      "asyncio.exceptions.TimeoutError\n",
      "\n",
      "The above exception was the direct cause of the following exception:\n",
      "\n",
      "Traceback (most recent call last):\n",
      "  File \"/opt/nesi/CS400_centos7_bdw/Python/3.9.5-gimkl-2020a/lib/python3.9/site-packages/distributed/core.py\", line 501, in handle_comm\n",
      "    result = await result\n",
      "  File \"/opt/nesi/CS400_centos7_bdw/Python/3.9.5-gimkl-2020a/lib/python3.9/site-packages/distributed/scheduler.py\", line 5943, in retire_workers\n",
      "    await self.replicate(\n",
      "  File \"/opt/nesi/CS400_centos7_bdw/Python/3.9.5-gimkl-2020a/lib/python3.9/site-packages/distributed/scheduler.py\", line 5697, in replicate\n",
      "    results = await asyncio.gather(\n",
      "  File \"/opt/nesi/CS400_centos7_bdw/Python/3.9.5-gimkl-2020a/lib/python3.9/site-packages/distributed/utils_comm.py\", line 385, in retry_operation\n",
      "    return await retry(\n",
      "  File \"/opt/nesi/CS400_centos7_bdw/Python/3.9.5-gimkl-2020a/lib/python3.9/site-packages/distributed/utils_comm.py\", line 370, in retry\n",
      "    return await coro()\n",
      "  File \"/opt/nesi/CS400_centos7_bdw/Python/3.9.5-gimkl-2020a/lib/python3.9/site-packages/distributed/core.py\", line 859, in send_recv_from_rpc\n",
      "    comm = await self.pool.connect(self.addr)\n",
      "  File \"/opt/nesi/CS400_centos7_bdw/Python/3.9.5-gimkl-2020a/lib/python3.9/site-packages/distributed/core.py\", line 1010, in connect\n",
      "    comm = await connect(\n",
      "  File \"/opt/nesi/CS400_centos7_bdw/Python/3.9.5-gimkl-2020a/lib/python3.9/site-packages/distributed/comm/core.py\", line 323, in connect\n",
      "    raise IOError(\n",
      "OSError: Timed out during handshake while connecting to tcp://10.65.4.213:37668 after 10 s\n",
      "distributed.utils - ERROR - Timed out during handshake while connecting to tcp://10.65.4.213:37668 after 10 s\n",
      "Traceback (most recent call last):\n",
      "  File \"/opt/nesi/CS400_centos7_bdw/Python/3.9.5-gimkl-2020a/lib/python3.9/asyncio/tasks.py\", line 492, in wait_for\n",
      "    fut.result()\n",
      "asyncio.exceptions.CancelledError\n",
      "\n",
      "The above exception was the direct cause of the following exception:\n",
      "\n",
      "Traceback (most recent call last):\n",
      "  File \"/opt/nesi/CS400_centos7_bdw/Python/3.9.5-gimkl-2020a/lib/python3.9/site-packages/distributed/comm/core.py\", line 318, in connect\n",
      "    handshake = await asyncio.wait_for(comm.read(), time_left())\n",
      "  File \"/opt/nesi/CS400_centos7_bdw/Python/3.9.5-gimkl-2020a/lib/python3.9/asyncio/tasks.py\", line 494, in wait_for\n",
      "    raise exceptions.TimeoutError() from exc\n",
      "asyncio.exceptions.TimeoutError\n",
      "\n",
      "The above exception was the direct cause of the following exception:\n",
      "\n",
      "Traceback (most recent call last):\n",
      "  File \"/opt/nesi/CS400_centos7_bdw/Python/3.9.5-gimkl-2020a/lib/python3.9/site-packages/distributed/utils.py\", line 668, in log_errors\n",
      "    yield\n",
      "  File \"/opt/nesi/CS400_centos7_bdw/Python/3.9.5-gimkl-2020a/lib/python3.9/site-packages/distributed/deploy/adaptive.py\", line 188, in scale_down\n",
      "    await self.scheduler.retire_workers(\n",
      "  File \"/opt/nesi/CS400_centos7_bdw/Python/3.9.5-gimkl-2020a/lib/python3.9/site-packages/distributed/core.py\", line 791, in send_recv_from_rpc\n",
      "    result = await send_recv(comm=comm, op=key, **kwargs)\n",
      "  File \"/opt/nesi/CS400_centos7_bdw/Python/3.9.5-gimkl-2020a/lib/python3.9/site-packages/distributed/core.py\", line 661, in send_recv\n",
      "    raise exc.with_traceback(tb)\n",
      "  File \"/opt/nesi/CS400_centos7_bdw/Python/3.9.5-gimkl-2020a/lib/python3.9/site-packages/distributed/core.py\", line 501, in handle_comm\n",
      "    result = await result\n",
      "  File \"/opt/nesi/CS400_centos7_bdw/Python/3.9.5-gimkl-2020a/lib/python3.9/site-packages/distributed/scheduler.py\", line 5943, in retire_workers\n",
      "    await self.replicate(\n",
      "  File \"/opt/nesi/CS400_centos7_bdw/Python/3.9.5-gimkl-2020a/lib/python3.9/site-packages/distributed/scheduler.py\", line 5697, in replicate\n",
      "    results = await asyncio.gather(\n",
      "  File \"/opt/nesi/CS400_centos7_bdw/Python/3.9.5-gimkl-2020a/lib/python3.9/site-packages/distributed/utils_comm.py\", line 385, in retry_operation\n",
      "    return await retry(\n",
      "  File \"/opt/nesi/CS400_centos7_bdw/Python/3.9.5-gimkl-2020a/lib/python3.9/site-packages/distributed/utils_comm.py\", line 370, in retry\n",
      "    return await coro()\n",
      "  File \"/opt/nesi/CS400_centos7_bdw/Python/3.9.5-gimkl-2020a/lib/python3.9/site-packages/distributed/core.py\", line 859, in send_recv_from_rpc\n",
      "    comm = await self.pool.connect(self.addr)\n",
      "  File \"/opt/nesi/CS400_centos7_bdw/Python/3.9.5-gimkl-2020a/lib/python3.9/site-packages/distributed/core.py\", line 1010, in connect\n",
      "    comm = await connect(\n",
      "  File \"/opt/nesi/CS400_centos7_bdw/Python/3.9.5-gimkl-2020a/lib/python3.9/site-packages/distributed/comm/core.py\", line 323, in connect\n",
      "    raise IOError(\n",
      "OSError: Timed out during handshake while connecting to tcp://10.65.4.213:37668 after 10 s\n",
      "distributed.utils - ERROR - Timed out during handshake while connecting to tcp://10.65.4.124:40649 after 10 s\n",
      "Traceback (most recent call last):\n",
      "  File \"/opt/nesi/CS400_centos7_bdw/Python/3.9.5-gimkl-2020a/lib/python3.9/site-packages/distributed/comm/tcp.py\", line 196, in read\n",
      "    frames_nbytes = await stream.read_bytes(fmt_size)\n",
      "asyncio.exceptions.CancelledError\n",
      "\n",
      "During handling of the above exception, another exception occurred:\n",
      "\n",
      "Traceback (most recent call last):\n",
      "  File \"/opt/nesi/CS400_centos7_bdw/Python/3.9.5-gimkl-2020a/lib/python3.9/asyncio/tasks.py\", line 492, in wait_for\n",
      "    fut.result()\n",
      "asyncio.exceptions.CancelledError\n",
      "\n",
      "The above exception was the direct cause of the following exception:\n",
      "\n",
      "Traceback (most recent call last):\n",
      "  File \"/opt/nesi/CS400_centos7_bdw/Python/3.9.5-gimkl-2020a/lib/python3.9/site-packages/distributed/comm/core.py\", line 318, in connect\n",
      "    handshake = await asyncio.wait_for(comm.read(), time_left())\n",
      "  File \"/opt/nesi/CS400_centos7_bdw/Python/3.9.5-gimkl-2020a/lib/python3.9/asyncio/tasks.py\", line 494, in wait_for\n",
      "    raise exceptions.TimeoutError() from exc\n",
      "asyncio.exceptions.TimeoutError\n",
      "\n",
      "The above exception was the direct cause of the following exception:\n",
      "\n",
      "Traceback (most recent call last):\n",
      "  File \"/opt/nesi/CS400_centos7_bdw/Python/3.9.5-gimkl-2020a/lib/python3.9/site-packages/distributed/utils.py\", line 668, in log_errors\n",
      "    yield\n",
      "  File \"/opt/nesi/CS400_centos7_bdw/Python/3.9.5-gimkl-2020a/lib/python3.9/site-packages/distributed/scheduler.py\", line 5943, in retire_workers\n",
      "    await self.replicate(\n",
      "  File \"/opt/nesi/CS400_centos7_bdw/Python/3.9.5-gimkl-2020a/lib/python3.9/site-packages/distributed/scheduler.py\", line 5697, in replicate\n",
      "    results = await asyncio.gather(\n",
      "  File \"/opt/nesi/CS400_centos7_bdw/Python/3.9.5-gimkl-2020a/lib/python3.9/site-packages/distributed/utils_comm.py\", line 385, in retry_operation\n",
      "    return await retry(\n",
      "  File \"/opt/nesi/CS400_centos7_bdw/Python/3.9.5-gimkl-2020a/lib/python3.9/site-packages/distributed/utils_comm.py\", line 370, in retry\n",
      "    return await coro()\n",
      "  File \"/opt/nesi/CS400_centos7_bdw/Python/3.9.5-gimkl-2020a/lib/python3.9/site-packages/distributed/core.py\", line 859, in send_recv_from_rpc\n",
      "    comm = await self.pool.connect(self.addr)\n",
      "  File \"/opt/nesi/CS400_centos7_bdw/Python/3.9.5-gimkl-2020a/lib/python3.9/site-packages/distributed/core.py\", line 1010, in connect\n",
      "    comm = await connect(\n",
      "  File \"/opt/nesi/CS400_centos7_bdw/Python/3.9.5-gimkl-2020a/lib/python3.9/site-packages/distributed/comm/core.py\", line 323, in connect\n",
      "    raise IOError(\n",
      "OSError: Timed out during handshake while connecting to tcp://10.65.4.124:40649 after 10 s\n",
      "distributed.core - ERROR - Exception while handling op retire_workers\n",
      "Traceback (most recent call last):\n",
      "  File \"/opt/nesi/CS400_centos7_bdw/Python/3.9.5-gimkl-2020a/lib/python3.9/site-packages/distributed/comm/tcp.py\", line 196, in read\n",
      "    frames_nbytes = await stream.read_bytes(fmt_size)\n",
      "asyncio.exceptions.CancelledError\n",
      "\n",
      "During handling of the above exception, another exception occurred:\n",
      "\n",
      "Traceback (most recent call last):\n",
      "  File \"/opt/nesi/CS400_centos7_bdw/Python/3.9.5-gimkl-2020a/lib/python3.9/asyncio/tasks.py\", line 492, in wait_for\n",
      "    fut.result()\n",
      "asyncio.exceptions.CancelledError\n",
      "\n",
      "The above exception was the direct cause of the following exception:\n",
      "\n",
      "Traceback (most recent call last):\n",
      "  File \"/opt/nesi/CS400_centos7_bdw/Python/3.9.5-gimkl-2020a/lib/python3.9/site-packages/distributed/comm/core.py\", line 318, in connect\n",
      "    handshake = await asyncio.wait_for(comm.read(), time_left())\n",
      "  File \"/opt/nesi/CS400_centos7_bdw/Python/3.9.5-gimkl-2020a/lib/python3.9/asyncio/tasks.py\", line 494, in wait_for\n",
      "    raise exceptions.TimeoutError() from exc\n",
      "asyncio.exceptions.TimeoutError\n",
      "\n",
      "The above exception was the direct cause of the following exception:\n",
      "\n",
      "Traceback (most recent call last):\n",
      "  File \"/opt/nesi/CS400_centos7_bdw/Python/3.9.5-gimkl-2020a/lib/python3.9/site-packages/distributed/core.py\", line 501, in handle_comm\n",
      "    result = await result\n",
      "  File \"/opt/nesi/CS400_centos7_bdw/Python/3.9.5-gimkl-2020a/lib/python3.9/site-packages/distributed/scheduler.py\", line 5943, in retire_workers\n",
      "    await self.replicate(\n",
      "  File \"/opt/nesi/CS400_centos7_bdw/Python/3.9.5-gimkl-2020a/lib/python3.9/site-packages/distributed/scheduler.py\", line 5697, in replicate\n",
      "    results = await asyncio.gather(\n",
      "  File \"/opt/nesi/CS400_centos7_bdw/Python/3.9.5-gimkl-2020a/lib/python3.9/site-packages/distributed/utils_comm.py\", line 385, in retry_operation\n",
      "    return await retry(\n",
      "  File \"/opt/nesi/CS400_centos7_bdw/Python/3.9.5-gimkl-2020a/lib/python3.9/site-packages/distributed/utils_comm.py\", line 370, in retry\n",
      "    return await coro()\n",
      "  File \"/opt/nesi/CS400_centos7_bdw/Python/3.9.5-gimkl-2020a/lib/python3.9/site-packages/distributed/core.py\", line 859, in send_recv_from_rpc\n",
      "    comm = await self.pool.connect(self.addr)\n",
      "  File \"/opt/nesi/CS400_centos7_bdw/Python/3.9.5-gimkl-2020a/lib/python3.9/site-packages/distributed/core.py\", line 1010, in connect\n",
      "    comm = await connect(\n",
      "  File \"/opt/nesi/CS400_centos7_bdw/Python/3.9.5-gimkl-2020a/lib/python3.9/site-packages/distributed/comm/core.py\", line 323, in connect\n",
      "    raise IOError(\n",
      "OSError: Timed out during handshake while connecting to tcp://10.65.4.124:40649 after 10 s\n",
      "distributed.utils - ERROR - Timed out during handshake while connecting to tcp://10.65.4.124:40649 after 10 s\n",
      "Traceback (most recent call last):\n",
      "  File \"/opt/nesi/CS400_centos7_bdw/Python/3.9.5-gimkl-2020a/lib/python3.9/asyncio/tasks.py\", line 492, in wait_for\n",
      "    fut.result()\n",
      "asyncio.exceptions.CancelledError\n",
      "\n",
      "The above exception was the direct cause of the following exception:\n",
      "\n",
      "Traceback (most recent call last):\n",
      "  File \"/opt/nesi/CS400_centos7_bdw/Python/3.9.5-gimkl-2020a/lib/python3.9/site-packages/distributed/comm/core.py\", line 318, in connect\n",
      "    handshake = await asyncio.wait_for(comm.read(), time_left())\n",
      "  File \"/opt/nesi/CS400_centos7_bdw/Python/3.9.5-gimkl-2020a/lib/python3.9/asyncio/tasks.py\", line 494, in wait_for\n",
      "    raise exceptions.TimeoutError() from exc\n",
      "asyncio.exceptions.TimeoutError\n",
      "\n",
      "The above exception was the direct cause of the following exception:\n",
      "\n",
      "Traceback (most recent call last):\n",
      "  File \"/opt/nesi/CS400_centos7_bdw/Python/3.9.5-gimkl-2020a/lib/python3.9/site-packages/distributed/utils.py\", line 668, in log_errors\n",
      "    yield\n",
      "  File \"/opt/nesi/CS400_centos7_bdw/Python/3.9.5-gimkl-2020a/lib/python3.9/site-packages/distributed/deploy/adaptive.py\", line 188, in scale_down\n",
      "    await self.scheduler.retire_workers(\n",
      "  File \"/opt/nesi/CS400_centos7_bdw/Python/3.9.5-gimkl-2020a/lib/python3.9/site-packages/distributed/core.py\", line 791, in send_recv_from_rpc\n",
      "    result = await send_recv(comm=comm, op=key, **kwargs)\n",
      "  File \"/opt/nesi/CS400_centos7_bdw/Python/3.9.5-gimkl-2020a/lib/python3.9/site-packages/distributed/core.py\", line 661, in send_recv\n",
      "    raise exc.with_traceback(tb)\n",
      "  File \"/opt/nesi/CS400_centos7_bdw/Python/3.9.5-gimkl-2020a/lib/python3.9/site-packages/distributed/core.py\", line 501, in handle_comm\n",
      "    result = await result\n",
      "  File \"/opt/nesi/CS400_centos7_bdw/Python/3.9.5-gimkl-2020a/lib/python3.9/site-packages/distributed/scheduler.py\", line 5943, in retire_workers\n",
      "    await self.replicate(\n",
      "  File \"/opt/nesi/CS400_centos7_bdw/Python/3.9.5-gimkl-2020a/lib/python3.9/site-packages/distributed/scheduler.py\", line 5697, in replicate\n",
      "    results = await asyncio.gather(\n",
      "  File \"/opt/nesi/CS400_centos7_bdw/Python/3.9.5-gimkl-2020a/lib/python3.9/site-packages/distributed/utils_comm.py\", line 385, in retry_operation\n",
      "    return await retry(\n",
      "  File \"/opt/nesi/CS400_centos7_bdw/Python/3.9.5-gimkl-2020a/lib/python3.9/site-packages/distributed/utils_comm.py\", line 370, in retry\n",
      "    return await coro()\n",
      "  File \"/opt/nesi/CS400_centos7_bdw/Python/3.9.5-gimkl-2020a/lib/python3.9/site-packages/distributed/core.py\", line 859, in send_recv_from_rpc\n",
      "    comm = await self.pool.connect(self.addr)\n",
      "  File \"/opt/nesi/CS400_centos7_bdw/Python/3.9.5-gimkl-2020a/lib/python3.9/site-packages/distributed/core.py\", line 1010, in connect\n",
      "    comm = await connect(\n",
      "  File \"/opt/nesi/CS400_centos7_bdw/Python/3.9.5-gimkl-2020a/lib/python3.9/site-packages/distributed/comm/core.py\", line 323, in connect\n",
      "    raise IOError(\n",
      "OSError: Timed out during handshake while connecting to tcp://10.65.4.124:40649 after 10 s\n"
     ]
    }
   ],
   "source": [
    "# Save to a CSV file\n",
    "## Save files in that directory\n",
    "filename = 'pmdCodeSnippetsError'\n",
    "file = '{}/{}*.csv'.format(folder, filename)\n",
    "_ = ddf.to_csv(file, sep=',', index=False)"
   ]
  },
  {
   "cell_type": "code",
   "execution_count": null,
   "id": "bb1787d8-3749-47ce-8138-62d414e33f5e",
   "metadata": {},
   "outputs": [],
   "source": []
  }
 ],
 "metadata": {
  "kernelspec": {
   "display_name": "Python 3.9.5 (gimkl-2020a)",
   "language": "python",
   "name": "python395-gimkl-2020a"
  },
  "language_info": {
   "codemirror_mode": {
    "name": "ipython",
    "version": 3
   },
   "file_extension": ".py",
   "mimetype": "text/x-python",
   "name": "python",
   "nbconvert_exporter": "python",
   "pygments_lexer": "ipython3",
   "version": "3.9.5"
  }
 },
 "nbformat": 4,
 "nbformat_minor": 5
}
