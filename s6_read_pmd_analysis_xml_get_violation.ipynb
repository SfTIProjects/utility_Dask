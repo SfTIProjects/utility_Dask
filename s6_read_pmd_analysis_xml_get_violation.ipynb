{
 "cells": [
  {
   "cell_type": "code",
   "execution_count": 1,
   "id": "f7f4ccb5-1d92-4622-a471-40b735920801",
   "metadata": {},
   "outputs": [],
   "source": [
    "import time\n",
    "from datetime import timedelta\n",
    "\n",
    "import html\n",
    "import re\n",
    "\n",
    "import os\n",
    "import ntpath\n",
    "\n",
    "import subprocess as sp\n",
    "\n",
    "import numpy as np\n",
    "import pandas as pd\n",
    "import xml.etree.ElementTree as et\n",
    "\n",
    "import dask\n",
    "import dask.dataframe as dd\n",
    "import dask.bag as bd\n",
    "from dask.distributed import Client\n",
    "from dask_jobqueue import SLURMCluster"
   ]
  },
  {
   "cell_type": "markdown",
   "id": "e87162db-45a6-4527-b63b-ca047ee14bf0",
   "metadata": {},
   "source": [
    "## Enter full path to xml file"
   ]
  },
  {
   "cell_type": "code",
   "execution_count": 2,
   "id": "3a79a605-8a8e-4842-9d73-65b419a70487",
   "metadata": {},
   "outputs": [],
   "source": [
    "common_path = '../my_codesnippet_analysis'\n",
    "xml_path = 'pmdxmlanalysisreports_xml/pmd*.xml'\n",
    "xml_file = '{}/{}'.format(common_path, xml_path)"
   ]
  },
  {
   "cell_type": "markdown",
   "id": "9addd5ec-eff8-416e-8f67-cb9d7f673450",
   "metadata": {},
   "source": [
    "## Read xml file in block sizes"
   ]
  },
  {
   "cell_type": "code",
   "execution_count": 3,
   "id": "2c8be781-3abf-4b73-ba5f-1f0233e390e8",
   "metadata": {},
   "outputs": [],
   "source": [
    "## Read xml file in block sizes\n",
    "bg = bd.read_text(xml_file, blocksize='10MB', linedelimiter='</violation>\\n')"
   ]
  },
  {
   "cell_type": "code",
   "execution_count": 4,
   "id": "ab1eb7c8-9173-45e7-89ce-857c8ea0e0bb",
   "metadata": {},
   "outputs": [
    {
     "data": {
      "text/plain": [
       "dask.bag<bag-from-delayed, npartitions=1154>"
      ]
     },
     "execution_count": 4,
     "metadata": {},
     "output_type": "execute_result"
    }
   ],
   "source": [
    "bg"
   ]
  },
  {
   "cell_type": "code",
   "execution_count": 5,
   "id": "b459a6ae-d4d5-4b87-8fcd-07dbc3366444",
   "metadata": {},
   "outputs": [
    {
     "data": {
      "text/plain": [
       "('<?xml version=\"1.0\" encoding=\"UTF-8\"?>\\n<pmd xmlns=\"http://pmd.sourceforge.net/report/2.0.0\" xmlns:xsi=\"http://www.w3.org/2001/XMLSchema-instance\" xsi:schemaLocation=\"http://pmd.sourceforge.net/report/2.0.0 http://pmd.sourceforge.net/report_2_0_0.xsd\" version=\"6.39.0\" timestamp=\"2022-02-12T13:11:43.504\">\\n<file name=\"/scale_wlg_nobackup/filesets/nobackup/uoo03396/SfTI_project_nobackup/SfTI_Projects/StackOverflow_project/my_codesnippet_analysis/pmd/mvn_apps/my-javacodeanalysis-app0/src/main/java/myjavacodeanalysis/Code_10000096_9914015_73_1.java\">\\n<violation beginline=\"2\" endline=\"19\" begincolumn=\"8\" endcolumn=\"1\" rule=\"DataClass\" ruleset=\"Design\" class=\"Code_10000096_9914015_73_1\" externalInfoUrl=\"https://pmd.github.io/pmd-6.39.0/pmd_rules_java_design.html#dataclass\" priority=\"3\">\\nThe class \\'Code_10000096_9914015_73_1\\' is suspected to be a Data Class (WOC=0.000%, NOPA=0, NOAM=4, WMC=4)\\n</violation>\\n',)"
      ]
     },
     "execution_count": 5,
     "metadata": {},
     "output_type": "execute_result"
    }
   ],
   "source": [
    "bg.take(1)"
   ]
  },
  {
   "cell_type": "code",
   "execution_count": 6,
   "id": "1ef875fb-75b5-442d-9ed2-135885c6dceb",
   "metadata": {},
   "outputs": [
    {
     "data": {
      "text/plain": [
       "('<?xml version=\"1.0\" encoding=\"UTF-8\"?>\\n<pmd xmlns=\"http://pmd.sourceforge.net/report/2.0.0\" xmlns:xsi=\"http://www.w3.org/2001/XMLSchema-instance\" xsi:schemaLocation=\"http://pmd.sourceforge.net/report/2.0.0 http://pmd.sourceforge.net/report_2_0_0.xsd\" version=\"6.39.0\" timestamp=\"2022-02-12T13:11:43.504\">\\n<file name=\"/scale_wlg_nobackup/filesets/nobackup/uoo03396/SfTI_project_nobackup/SfTI_Projects/StackOverflow_project/my_codesnippet_analysis/pmd/mvn_apps/my-javacodeanalysis-app0/src/main/java/myjavacodeanalysis/Code_10000096_9914015_73_1.java\">\\n<violation beginline=\"2\" endline=\"19\" begincolumn=\"8\" endcolumn=\"1\" rule=\"DataClass\" ruleset=\"Design\" class=\"Code_10000096_9914015_73_1\" externalInfoUrl=\"https://pmd.github.io/pmd-6.39.0/pmd_rules_java_design.html#dataclass\" priority=\"3\">\\nThe class \\'Code_10000096_9914015_73_1\\' is suspected to be a Data Class (WOC=0.000%, NOPA=0, NOAM=4, WMC=4)\\n</violation>\\n',\n",
       " '<violation beginline=\"2\" endline=\"19\" begincolumn=\"8\" endcolumn=\"1\" rule=\"ClassNamingConventions\" ruleset=\"Code Style\" class=\"Code_10000096_9914015_73_1\" externalInfoUrl=\"https://pmd.github.io/pmd-6.39.0/pmd_rules_java_codestyle.html#classnamingconventions\" priority=\"1\">\\nThe class name \\'Code_10000096_9914015_73_1\\' doesn\\'t match \\'[A-Z][a-zA-Z0-9]*\\'\\n</violation>\\n',\n",
       " '<violation beginline=\"10\" endline=\"10\" begincolumn=\"23\" endcolumn=\"31\" rule=\"MethodArgumentCouldBeFinal\" ruleset=\"Code Style\" class=\"Code_10000096_9914015_73_1\" method=\"setId\" variable=\"id\" externalInfoUrl=\"https://pmd.github.io/pmd-6.39.0/pmd_rules_java_codestyle.html#methodargumentcouldbefinal\" priority=\"3\">\\nParameter \\'id\\' is not assigned and could be declared final\\n</violation>\\n',\n",
       " '<violation beginline=\"16\" endline=\"16\" begincolumn=\"25\" endcolumn=\"35\" rule=\"MethodArgumentCouldBeFinal\" ruleset=\"Code Style\" class=\"Code_10000096_9914015_73_1\" method=\"setName\" variable=\"name\" externalInfoUrl=\"https://pmd.github.io/pmd-6.39.0/pmd_rules_java_codestyle.html#methodargumentcouldbefinal\" priority=\"3\">\\nParameter \\'name\\' is not assigned and could be declared final\\n</violation>\\n',\n",
       " '</file>\\n<file name=\"/scale_wlg_nobackup/filesets/nobackup/uoo03396/SfTI_project_nobackup/SfTI_Projects/StackOverflow_project/my_codesnippet_analysis/pmd/mvn_apps/my-javacodeanalysis-app0/src/main/java/myjavacodeanalysis/Code_1001005_1000723_311_0.java\">\\n<violation beginline=\"2\" endline=\"2\" begincolumn=\"1\" endcolumn=\"21\" rule=\"UnnecessaryImport\" ruleset=\"Code Style\" class=\"Code_1001005_1000723_311_0\" externalInfoUrl=\"https://pmd.github.io/pmd-6.39.0/pmd_rules_java_codestyle.html#unnecessaryimport\" priority=\"4\">\\nUnused import \\'com.sun.jna.*\\'\\n</violation>\\n')"
      ]
     },
     "execution_count": 6,
     "metadata": {},
     "output_type": "execute_result"
    }
   ],
   "source": [
    "bg.take(5)"
   ]
  },
  {
   "cell_type": "markdown",
   "id": "1bd12c8a-6c50-42ea-b68a-e54c09c91700",
   "metadata": {},
   "source": [
    "## Replace the xml header with empty string '<xml ...>' => ''"
   ]
  },
  {
   "cell_type": "code",
   "execution_count": 7,
   "id": "c9abe2cc-efc1-4c8d-b5cf-87c749fc1381",
   "metadata": {},
   "outputs": [],
   "source": [
    "## Replace the xml header with empty string '<xml ...>' => ''\n",
    "bg = bg.map(lambda line: re.sub(r'\\s*<\\s*\\?xml.*\\?>\\n', '', line)) "
   ]
  },
  {
   "cell_type": "code",
   "execution_count": 8,
   "id": "dc8a4165-8997-4523-bdb8-fb49e50c2e30",
   "metadata": {},
   "outputs": [
    {
     "data": {
      "text/plain": [
       "('<pmd xmlns=\"http://pmd.sourceforge.net/report/2.0.0\" xmlns:xsi=\"http://www.w3.org/2001/XMLSchema-instance\" xsi:schemaLocation=\"http://pmd.sourceforge.net/report/2.0.0 http://pmd.sourceforge.net/report_2_0_0.xsd\" version=\"6.39.0\" timestamp=\"2022-02-12T13:11:43.504\">\\n<file name=\"/scale_wlg_nobackup/filesets/nobackup/uoo03396/SfTI_project_nobackup/SfTI_Projects/StackOverflow_project/my_codesnippet_analysis/pmd/mvn_apps/my-javacodeanalysis-app0/src/main/java/myjavacodeanalysis/Code_10000096_9914015_73_1.java\">\\n<violation beginline=\"2\" endline=\"19\" begincolumn=\"8\" endcolumn=\"1\" rule=\"DataClass\" ruleset=\"Design\" class=\"Code_10000096_9914015_73_1\" externalInfoUrl=\"https://pmd.github.io/pmd-6.39.0/pmd_rules_java_design.html#dataclass\" priority=\"3\">\\nThe class \\'Code_10000096_9914015_73_1\\' is suspected to be a Data Class (WOC=0.000%, NOPA=0, NOAM=4, WMC=4)\\n</violation>\\n',\n",
       " '<violation beginline=\"2\" endline=\"19\" begincolumn=\"8\" endcolumn=\"1\" rule=\"ClassNamingConventions\" ruleset=\"Code Style\" class=\"Code_10000096_9914015_73_1\" externalInfoUrl=\"https://pmd.github.io/pmd-6.39.0/pmd_rules_java_codestyle.html#classnamingconventions\" priority=\"1\">\\nThe class name \\'Code_10000096_9914015_73_1\\' doesn\\'t match \\'[A-Z][a-zA-Z0-9]*\\'\\n</violation>\\n',\n",
       " '<violation beginline=\"10\" endline=\"10\" begincolumn=\"23\" endcolumn=\"31\" rule=\"MethodArgumentCouldBeFinal\" ruleset=\"Code Style\" class=\"Code_10000096_9914015_73_1\" method=\"setId\" variable=\"id\" externalInfoUrl=\"https://pmd.github.io/pmd-6.39.0/pmd_rules_java_codestyle.html#methodargumentcouldbefinal\" priority=\"3\">\\nParameter \\'id\\' is not assigned and could be declared final\\n</violation>\\n',\n",
       " '<violation beginline=\"16\" endline=\"16\" begincolumn=\"25\" endcolumn=\"35\" rule=\"MethodArgumentCouldBeFinal\" ruleset=\"Code Style\" class=\"Code_10000096_9914015_73_1\" method=\"setName\" variable=\"name\" externalInfoUrl=\"https://pmd.github.io/pmd-6.39.0/pmd_rules_java_codestyle.html#methodargumentcouldbefinal\" priority=\"3\">\\nParameter \\'name\\' is not assigned and could be declared final\\n</violation>\\n',\n",
       " '</file>\\n<file name=\"/scale_wlg_nobackup/filesets/nobackup/uoo03396/SfTI_project_nobackup/SfTI_Projects/StackOverflow_project/my_codesnippet_analysis/pmd/mvn_apps/my-javacodeanalysis-app0/src/main/java/myjavacodeanalysis/Code_1001005_1000723_311_0.java\">\\n<violation beginline=\"2\" endline=\"2\" begincolumn=\"1\" endcolumn=\"21\" rule=\"UnnecessaryImport\" ruleset=\"Code Style\" class=\"Code_1001005_1000723_311_0\" externalInfoUrl=\"https://pmd.github.io/pmd-6.39.0/pmd_rules_java_codestyle.html#unnecessaryimport\" priority=\"4\">\\nUnused import \\'com.sun.jna.*\\'\\n</violation>\\n')"
      ]
     },
     "execution_count": 8,
     "metadata": {},
     "output_type": "execute_result"
    }
   ],
   "source": [
    "bg.take(5)"
   ]
  },
  {
   "cell_type": "markdown",
   "id": "ee71c664-cd60-48ef-82e2-842a9a3f9aec",
   "metadata": {},
   "source": [
    "## Replace the pmd header with empty string '<pmd  ...>' => ''"
   ]
  },
  {
   "cell_type": "code",
   "execution_count": 9,
   "id": "c145f166-9c94-4071-a6a9-7746750991b0",
   "metadata": {},
   "outputs": [],
   "source": [
    "## Replace the xml header with empty string '<xml ...>' => ''\n",
    "bg = bg.map(lambda line: re.sub(r'\\s*<\\s*pmd.*>\\n', '', line)) "
   ]
  },
  {
   "cell_type": "code",
   "execution_count": 10,
   "id": "355daa0f-f1df-45d0-b700-e832b8ffde5b",
   "metadata": {},
   "outputs": [
    {
     "data": {
      "text/plain": [
       "('<file name=\"/scale_wlg_nobackup/filesets/nobackup/uoo03396/SfTI_project_nobackup/SfTI_Projects/StackOverflow_project/my_codesnippet_analysis/pmd/mvn_apps/my-javacodeanalysis-app0/src/main/java/myjavacodeanalysis/Code_10000096_9914015_73_1.java\">\\n<violation beginline=\"2\" endline=\"19\" begincolumn=\"8\" endcolumn=\"1\" rule=\"DataClass\" ruleset=\"Design\" class=\"Code_10000096_9914015_73_1\" externalInfoUrl=\"https://pmd.github.io/pmd-6.39.0/pmd_rules_java_design.html#dataclass\" priority=\"3\">\\nThe class \\'Code_10000096_9914015_73_1\\' is suspected to be a Data Class (WOC=0.000%, NOPA=0, NOAM=4, WMC=4)\\n</violation>\\n',\n",
       " '<violation beginline=\"2\" endline=\"19\" begincolumn=\"8\" endcolumn=\"1\" rule=\"ClassNamingConventions\" ruleset=\"Code Style\" class=\"Code_10000096_9914015_73_1\" externalInfoUrl=\"https://pmd.github.io/pmd-6.39.0/pmd_rules_java_codestyle.html#classnamingconventions\" priority=\"1\">\\nThe class name \\'Code_10000096_9914015_73_1\\' doesn\\'t match \\'[A-Z][a-zA-Z0-9]*\\'\\n</violation>\\n',\n",
       " '<violation beginline=\"10\" endline=\"10\" begincolumn=\"23\" endcolumn=\"31\" rule=\"MethodArgumentCouldBeFinal\" ruleset=\"Code Style\" class=\"Code_10000096_9914015_73_1\" method=\"setId\" variable=\"id\" externalInfoUrl=\"https://pmd.github.io/pmd-6.39.0/pmd_rules_java_codestyle.html#methodargumentcouldbefinal\" priority=\"3\">\\nParameter \\'id\\' is not assigned and could be declared final\\n</violation>\\n',\n",
       " '<violation beginline=\"16\" endline=\"16\" begincolumn=\"25\" endcolumn=\"35\" rule=\"MethodArgumentCouldBeFinal\" ruleset=\"Code Style\" class=\"Code_10000096_9914015_73_1\" method=\"setName\" variable=\"name\" externalInfoUrl=\"https://pmd.github.io/pmd-6.39.0/pmd_rules_java_codestyle.html#methodargumentcouldbefinal\" priority=\"3\">\\nParameter \\'name\\' is not assigned and could be declared final\\n</violation>\\n',\n",
       " '</file>\\n<file name=\"/scale_wlg_nobackup/filesets/nobackup/uoo03396/SfTI_project_nobackup/SfTI_Projects/StackOverflow_project/my_codesnippet_analysis/pmd/mvn_apps/my-javacodeanalysis-app0/src/main/java/myjavacodeanalysis/Code_1001005_1000723_311_0.java\">\\n<violation beginline=\"2\" endline=\"2\" begincolumn=\"1\" endcolumn=\"21\" rule=\"UnnecessaryImport\" ruleset=\"Code Style\" class=\"Code_1001005_1000723_311_0\" externalInfoUrl=\"https://pmd.github.io/pmd-6.39.0/pmd_rules_java_codestyle.html#unnecessaryimport\" priority=\"4\">\\nUnused import \\'com.sun.jna.*\\'\\n</violation>\\n')"
      ]
     },
     "execution_count": 10,
     "metadata": {},
     "output_type": "execute_result"
    }
   ],
   "source": [
    "bg.take(5)"
   ]
  },
  {
   "cell_type": "markdown",
   "id": "4d9cd74a-43eb-42dd-81ac-7c9273db3730",
   "metadata": {},
   "source": [
    "### Drop wherever the Errors tage occurs"
   ]
  },
  {
   "cell_type": "code",
   "execution_count": 11,
   "id": "687c163c-0e1c-42d5-8792-e2bfd11b6bdf",
   "metadata": {},
   "outputs": [],
   "source": [
    "# replace all the '<error>' with '</error>' so that we can access it using xml.etree.ElementTree\n",
    "#bg = bg.map(lambda line: re.sub(r'\\s*<\\s*error.*>\\n|.*/error>\\n', '', line))\n",
    "# drop the content within the error tags <![CDATA[...]]>\n",
    "#bg = bg.map(lambda line: re.sub(r'<\\!.*', '', line))\n",
    "# drop both error and content within the error tags <error ...><![CDATA[...]]></error>\n",
    "bg = bg.map(lambda line: re.sub(r'\\s*<\\s*error.*>\\n|<\\!.*|.*/error>\\n', '', line))"
   ]
  },
  {
   "cell_type": "code",
   "execution_count": 12,
   "id": "ad69e603-8b73-49b7-916a-089a78874a11",
   "metadata": {},
   "outputs": [
    {
     "data": {
      "text/plain": [
       "('<file name=\"/scale_wlg_nobackup/filesets/nobackup/uoo03396/SfTI_project_nobackup/SfTI_Projects/StackOverflow_project/my_codesnippet_analysis/pmd/mvn_apps/my-javacodeanalysis-app0/src/main/java/myjavacodeanalysis/Code_10000096_9914015_73_1.java\">\\n<violation beginline=\"2\" endline=\"19\" begincolumn=\"8\" endcolumn=\"1\" rule=\"DataClass\" ruleset=\"Design\" class=\"Code_10000096_9914015_73_1\" externalInfoUrl=\"https://pmd.github.io/pmd-6.39.0/pmd_rules_java_design.html#dataclass\" priority=\"3\">\\nThe class \\'Code_10000096_9914015_73_1\\' is suspected to be a Data Class (WOC=0.000%, NOPA=0, NOAM=4, WMC=4)\\n</violation>\\n',\n",
       " '<violation beginline=\"2\" endline=\"19\" begincolumn=\"8\" endcolumn=\"1\" rule=\"ClassNamingConventions\" ruleset=\"Code Style\" class=\"Code_10000096_9914015_73_1\" externalInfoUrl=\"https://pmd.github.io/pmd-6.39.0/pmd_rules_java_codestyle.html#classnamingconventions\" priority=\"1\">\\nThe class name \\'Code_10000096_9914015_73_1\\' doesn\\'t match \\'[A-Z][a-zA-Z0-9]*\\'\\n</violation>\\n',\n",
       " '<violation beginline=\"10\" endline=\"10\" begincolumn=\"23\" endcolumn=\"31\" rule=\"MethodArgumentCouldBeFinal\" ruleset=\"Code Style\" class=\"Code_10000096_9914015_73_1\" method=\"setId\" variable=\"id\" externalInfoUrl=\"https://pmd.github.io/pmd-6.39.0/pmd_rules_java_codestyle.html#methodargumentcouldbefinal\" priority=\"3\">\\nParameter \\'id\\' is not assigned and could be declared final\\n</violation>\\n',\n",
       " '<violation beginline=\"16\" endline=\"16\" begincolumn=\"25\" endcolumn=\"35\" rule=\"MethodArgumentCouldBeFinal\" ruleset=\"Code Style\" class=\"Code_10000096_9914015_73_1\" method=\"setName\" variable=\"name\" externalInfoUrl=\"https://pmd.github.io/pmd-6.39.0/pmd_rules_java_codestyle.html#methodargumentcouldbefinal\" priority=\"3\">\\nParameter \\'name\\' is not assigned and could be declared final\\n</violation>\\n',\n",
       " '</file>\\n<file name=\"/scale_wlg_nobackup/filesets/nobackup/uoo03396/SfTI_project_nobackup/SfTI_Projects/StackOverflow_project/my_codesnippet_analysis/pmd/mvn_apps/my-javacodeanalysis-app0/src/main/java/myjavacodeanalysis/Code_1001005_1000723_311_0.java\">\\n<violation beginline=\"2\" endline=\"2\" begincolumn=\"1\" endcolumn=\"21\" rule=\"UnnecessaryImport\" ruleset=\"Code Style\" class=\"Code_1001005_1000723_311_0\" externalInfoUrl=\"https://pmd.github.io/pmd-6.39.0/pmd_rules_java_codestyle.html#unnecessaryimport\" priority=\"4\">\\nUnused import \\'com.sun.jna.*\\'\\n</violation>\\n')"
      ]
     },
     "execution_count": 12,
     "metadata": {},
     "output_type": "execute_result"
    }
   ],
   "source": [
    "bg.take(5)"
   ]
  },
  {
   "cell_type": "code",
   "execution_count": 13,
   "id": "a6d09da4-bb54-4cc0-8d75-8e3b2468261a",
   "metadata": {},
   "outputs": [
    {
     "data": {
      "text/plain": [
       "()"
      ]
     },
     "execution_count": 13,
     "metadata": {},
     "output_type": "execute_result"
    }
   ],
   "source": [
    "# test if the error tags are dropped\n",
    "bg.filter(lambda line: line.find('<error') >= 0).take(5)"
   ]
  },
  {
   "cell_type": "code",
   "execution_count": 14,
   "id": "20a5b507-e31c-467e-aa7c-b5b514349c1d",
   "metadata": {},
   "outputs": [
    {
     "data": {
      "text/plain": [
       "()"
      ]
     },
     "execution_count": 14,
     "metadata": {},
     "output_type": "execute_result"
    }
   ],
   "source": [
    "# test if the content drop the content within the error tags are dropped\n",
    "bg.filter(lambda line: line.find('<![CDATA') >= 0).take(5)"
   ]
  },
  {
   "cell_type": "markdown",
   "id": "a5809449-5857-4f5b-9501-70524252c1c5",
   "metadata": {},
   "source": [
    "### Drop wherever the file tage occurs\n",
    "- Since we are intrested in getting the 'violations'\n",
    "  "
   ]
  },
  {
   "cell_type": "code",
   "execution_count": 15,
   "id": "919e18b0-6e54-4508-bda7-f3d738e1b97a",
   "metadata": {},
   "outputs": [],
   "source": [
    "# replace all the '<file>' with '</file>' so that we can access it using xml.etree.ElementTree\n",
    "#bg = bg.map(lambda line: re.sub(r'\\s*<\\s*file.*>|.*/file>', '', line))\n",
    "bg = bg.map(lambda line: re.sub(r'\\s*<\\s*file.*>\\n|.*/file>\\n', '', line))"
   ]
  },
  {
   "cell_type": "code",
   "execution_count": 16,
   "id": "54fae7cf-98f5-47a8-a985-7da14d827fc5",
   "metadata": {},
   "outputs": [
    {
     "data": {
      "text/plain": [
       "('<violation beginline=\"2\" endline=\"19\" begincolumn=\"8\" endcolumn=\"1\" rule=\"DataClass\" ruleset=\"Design\" class=\"Code_10000096_9914015_73_1\" externalInfoUrl=\"https://pmd.github.io/pmd-6.39.0/pmd_rules_java_design.html#dataclass\" priority=\"3\">\\nThe class \\'Code_10000096_9914015_73_1\\' is suspected to be a Data Class (WOC=0.000%, NOPA=0, NOAM=4, WMC=4)\\n</violation>\\n',\n",
       " '<violation beginline=\"2\" endline=\"19\" begincolumn=\"8\" endcolumn=\"1\" rule=\"ClassNamingConventions\" ruleset=\"Code Style\" class=\"Code_10000096_9914015_73_1\" externalInfoUrl=\"https://pmd.github.io/pmd-6.39.0/pmd_rules_java_codestyle.html#classnamingconventions\" priority=\"1\">\\nThe class name \\'Code_10000096_9914015_73_1\\' doesn\\'t match \\'[A-Z][a-zA-Z0-9]*\\'\\n</violation>\\n',\n",
       " '<violation beginline=\"10\" endline=\"10\" begincolumn=\"23\" endcolumn=\"31\" rule=\"MethodArgumentCouldBeFinal\" ruleset=\"Code Style\" class=\"Code_10000096_9914015_73_1\" method=\"setId\" variable=\"id\" externalInfoUrl=\"https://pmd.github.io/pmd-6.39.0/pmd_rules_java_codestyle.html#methodargumentcouldbefinal\" priority=\"3\">\\nParameter \\'id\\' is not assigned and could be declared final\\n</violation>\\n',\n",
       " '<violation beginline=\"16\" endline=\"16\" begincolumn=\"25\" endcolumn=\"35\" rule=\"MethodArgumentCouldBeFinal\" ruleset=\"Code Style\" class=\"Code_10000096_9914015_73_1\" method=\"setName\" variable=\"name\" externalInfoUrl=\"https://pmd.github.io/pmd-6.39.0/pmd_rules_java_codestyle.html#methodargumentcouldbefinal\" priority=\"3\">\\nParameter \\'name\\' is not assigned and could be declared final\\n</violation>\\n',\n",
       " '<violation beginline=\"2\" endline=\"2\" begincolumn=\"1\" endcolumn=\"21\" rule=\"UnnecessaryImport\" ruleset=\"Code Style\" class=\"Code_1001005_1000723_311_0\" externalInfoUrl=\"https://pmd.github.io/pmd-6.39.0/pmd_rules_java_codestyle.html#unnecessaryimport\" priority=\"4\">\\nUnused import \\'com.sun.jna.*\\'\\n</violation>\\n')"
      ]
     },
     "execution_count": 16,
     "metadata": {},
     "output_type": "execute_result"
    }
   ],
   "source": [
    "bg.take(5)"
   ]
  },
  {
   "cell_type": "markdown",
   "id": "9b944890-0d22-4c37-b196-827e04f4a250",
   "metadata": {},
   "source": [
    "### Filter out just the violations"
   ]
  },
  {
   "cell_type": "code",
   "execution_count": 17,
   "id": "ba5c457a-dd0f-49e5-9770-cdc9b5f4b926",
   "metadata": {},
   "outputs": [],
   "source": [
    "## Filter out just the rows\n",
    "bg = bg.filter(lambda line: line.find('<violation') >= 0)\n",
    "#bg = bg.filter(lambda line:  re.sub(r'\\s*<\\s*violation.*>\\n|.*/violation>\\n', '', line) >= 0)\n",
    "#bg.filter(lambda line: line.find('<violation' or 'violation>') >= 0).take(5)\n",
    "#bg.filter(lambda line:  re.findall(r'\\s*<\\s*violation.*>\\n|.*/violation>\\n', line)).take(5)\n",
    "#bg = bg.filter(lambda line:  re.findall(r'\\s*<\\s*violation.*>\\n.*|.*\\n|<.*/violation>\\n', line))"
   ]
  },
  {
   "cell_type": "code",
   "execution_count": 18,
   "id": "e8574d13-ce52-495d-9d44-b53b9cf066b4",
   "metadata": {},
   "outputs": [
    {
     "data": {
      "text/plain": [
       "('<violation beginline=\"2\" endline=\"19\" begincolumn=\"8\" endcolumn=\"1\" rule=\"DataClass\" ruleset=\"Design\" class=\"Code_10000096_9914015_73_1\" externalInfoUrl=\"https://pmd.github.io/pmd-6.39.0/pmd_rules_java_design.html#dataclass\" priority=\"3\">\\nThe class \\'Code_10000096_9914015_73_1\\' is suspected to be a Data Class (WOC=0.000%, NOPA=0, NOAM=4, WMC=4)\\n</violation>\\n',\n",
       " '<violation beginline=\"2\" endline=\"19\" begincolumn=\"8\" endcolumn=\"1\" rule=\"ClassNamingConventions\" ruleset=\"Code Style\" class=\"Code_10000096_9914015_73_1\" externalInfoUrl=\"https://pmd.github.io/pmd-6.39.0/pmd_rules_java_codestyle.html#classnamingconventions\" priority=\"1\">\\nThe class name \\'Code_10000096_9914015_73_1\\' doesn\\'t match \\'[A-Z][a-zA-Z0-9]*\\'\\n</violation>\\n',\n",
       " '<violation beginline=\"10\" endline=\"10\" begincolumn=\"23\" endcolumn=\"31\" rule=\"MethodArgumentCouldBeFinal\" ruleset=\"Code Style\" class=\"Code_10000096_9914015_73_1\" method=\"setId\" variable=\"id\" externalInfoUrl=\"https://pmd.github.io/pmd-6.39.0/pmd_rules_java_codestyle.html#methodargumentcouldbefinal\" priority=\"3\">\\nParameter \\'id\\' is not assigned and could be declared final\\n</violation>\\n',\n",
       " '<violation beginline=\"16\" endline=\"16\" begincolumn=\"25\" endcolumn=\"35\" rule=\"MethodArgumentCouldBeFinal\" ruleset=\"Code Style\" class=\"Code_10000096_9914015_73_1\" method=\"setName\" variable=\"name\" externalInfoUrl=\"https://pmd.github.io/pmd-6.39.0/pmd_rules_java_codestyle.html#methodargumentcouldbefinal\" priority=\"3\">\\nParameter \\'name\\' is not assigned and could be declared final\\n</violation>\\n',\n",
       " '<violation beginline=\"2\" endline=\"2\" begincolumn=\"1\" endcolumn=\"21\" rule=\"UnnecessaryImport\" ruleset=\"Code Style\" class=\"Code_1001005_1000723_311_0\" externalInfoUrl=\"https://pmd.github.io/pmd-6.39.0/pmd_rules_java_codestyle.html#unnecessaryimport\" priority=\"4\">\\nUnused import \\'com.sun.jna.*\\'\\n</violation>\\n')"
      ]
     },
     "execution_count": 18,
     "metadata": {},
     "output_type": "execute_result"
    }
   ],
   "source": [
    "bg.take(5)"
   ]
  },
  {
   "cell_type": "markdown",
   "id": "486cd470-a6de-46c3-b737-284ebd8c8ce5",
   "metadata": {},
   "source": [
    "### Use ElementTree to get all the attrbutes and text in xmlor html tags"
   ]
  },
  {
   "cell_type": "code",
   "execution_count": 19,
   "id": "cd972e2f-1f1e-4a4c-b025-f561c52832bf",
   "metadata": {},
   "outputs": [],
   "source": [
    "# This will give us just the attributes in the violation tag: <violation ...>\n",
    "#violations_rows_bd = violations_rows_bd.map(lambda row: et.fromstring(row).attrib)"
   ]
  },
  {
   "cell_type": "code",
   "execution_count": 20,
   "id": "e9d03511-3894-4bb1-867e-cfeb15da0e4f",
   "metadata": {},
   "outputs": [],
   "source": [
    "# This will give us just the text enclosed in the violation tag: <violation ...>\n",
    "#violations_rows_bd = violations_rows_bd.map(lambda row: {'text':et.fromstring(row).text})"
   ]
  },
  {
   "cell_type": "markdown",
   "id": "5b363c58-35bc-47c5-ad04-1bae250226d8",
   "metadata": {},
   "source": [
    "- To get both the the attrbutes and text in the violation tag \n",
    "    - We use add_text_to_dict_attrb() to achieve that"
   ]
  },
  {
   "cell_type": "code",
   "execution_count": 21,
   "id": "77a26a01-885c-4893-a2e3-cb58747b3364",
   "metadata": {},
   "outputs": [],
   "source": [
    "# Add extra key value to dict if they do not exixt\n",
    "def add_key_val_if_not_exist(_dict):\n",
    "    _dict\n",
    "    keys = [\n",
    "        'beginline',\n",
    "        'endline',\n",
    "        'begincolumn',\n",
    "        'endcolumn', \n",
    "        'rule',\n",
    "        'ruleset',\n",
    "        'class',\n",
    "        'method',\n",
    "        'externalInfoUrl',\n",
    "        'priority',\n",
    "        'msg'\n",
    "    ]\n",
    "    value=''\n",
    "    for key in keys:\n",
    "        if key not in _dict:\n",
    "            _dict[key] = value\n",
    "    return _dict"
   ]
  },
  {
   "cell_type": "code",
   "execution_count": 22,
   "id": "3c032ce7-bfa0-4910-a5bd-58fefeddcca5",
   "metadata": {},
   "outputs": [],
   "source": [
    "# Convert text in tag to key/value\n",
    "def update_dict_key_wt_text_as_value(tag, value, _dict):\n",
    "    if tag == 'violation': \n",
    "        _dict['msg'] = value\n",
    "    else:\n",
    "        _dict = add_key_val_if_not_exist({})\n",
    "    return _dict"
   ]
  },
  {
   "cell_type": "code",
   "execution_count": 23,
   "id": "97e69762-03dd-4b84-8cc4-d3b701dabeb8",
   "metadata": {},
   "outputs": [],
   "source": [
    "#https://stackoverflow.com/questions/43921237/access-nested-children-in-xml-file-parsed-with-elementtree\n",
    "def content(root):\n",
    "    _dict = {}\n",
    "    #list_of_dicts = []\n",
    "    try:\n",
    "        for child in root.iter():\n",
    "            # update dict with text as values\n",
    "            _dict = update_dict_key_wt_text_as_value(child.tag, child.text, child.attrib)\n",
    "            # update dict with keys that do not exist\n",
    "            _dict = add_key_val_if_not_exist(_dict)\n",
    "            #list_of_dicts.append(_dict)\n",
    "    except ParseError:\n",
    "        # pass an empty dict eo update all keys with empty values\n",
    "        #list_of_dicts.append(add_key_val_if_not_exist({}))\n",
    "        _dict = add_key_val_if_not_exist({})\n",
    "\n",
    "    #return list_of_dicts\n",
    "    return _dict"
   ]
  },
  {
   "cell_type": "code",
   "execution_count": 24,
   "id": "758a24a3-2076-4232-80e2-d68a591bf340",
   "metadata": {},
   "outputs": [],
   "source": [
    "## Use ElementTree to get all the attrbutes in xml tags\n",
    "#bg = bg.map(lambda row: et.fromstring(row).attrib)\n",
    "bg = bg.map(lambda row: content(et.fromstring(row)))"
   ]
  },
  {
   "cell_type": "code",
   "execution_count": 25,
   "id": "e33373ea-a613-41d1-9e4e-341c424a9194",
   "metadata": {},
   "outputs": [
    {
     "data": {
      "text/plain": [
       "({'beginline': '2',\n",
       "  'endline': '19',\n",
       "  'begincolumn': '8',\n",
       "  'endcolumn': '1',\n",
       "  'rule': 'DataClass',\n",
       "  'ruleset': 'Design',\n",
       "  'class': 'Code_10000096_9914015_73_1',\n",
       "  'externalInfoUrl': 'https://pmd.github.io/pmd-6.39.0/pmd_rules_java_design.html#dataclass',\n",
       "  'priority': '3',\n",
       "  'msg': \"\\nThe class 'Code_10000096_9914015_73_1' is suspected to be a Data Class (WOC=0.000%, NOPA=0, NOAM=4, WMC=4)\\n\",\n",
       "  'method': ''},\n",
       " {'beginline': '2',\n",
       "  'endline': '19',\n",
       "  'begincolumn': '8',\n",
       "  'endcolumn': '1',\n",
       "  'rule': 'ClassNamingConventions',\n",
       "  'ruleset': 'Code Style',\n",
       "  'class': 'Code_10000096_9914015_73_1',\n",
       "  'externalInfoUrl': 'https://pmd.github.io/pmd-6.39.0/pmd_rules_java_codestyle.html#classnamingconventions',\n",
       "  'priority': '1',\n",
       "  'msg': \"\\nThe class name 'Code_10000096_9914015_73_1' doesn't match '[A-Z][a-zA-Z0-9]*'\\n\",\n",
       "  'method': ''},\n",
       " {'beginline': '10',\n",
       "  'endline': '10',\n",
       "  'begincolumn': '23',\n",
       "  'endcolumn': '31',\n",
       "  'rule': 'MethodArgumentCouldBeFinal',\n",
       "  'ruleset': 'Code Style',\n",
       "  'class': 'Code_10000096_9914015_73_1',\n",
       "  'method': 'setId',\n",
       "  'variable': 'id',\n",
       "  'externalInfoUrl': 'https://pmd.github.io/pmd-6.39.0/pmd_rules_java_codestyle.html#methodargumentcouldbefinal',\n",
       "  'priority': '3',\n",
       "  'msg': \"\\nParameter 'id' is not assigned and could be declared final\\n\"},\n",
       " {'beginline': '16',\n",
       "  'endline': '16',\n",
       "  'begincolumn': '25',\n",
       "  'endcolumn': '35',\n",
       "  'rule': 'MethodArgumentCouldBeFinal',\n",
       "  'ruleset': 'Code Style',\n",
       "  'class': 'Code_10000096_9914015_73_1',\n",
       "  'method': 'setName',\n",
       "  'variable': 'name',\n",
       "  'externalInfoUrl': 'https://pmd.github.io/pmd-6.39.0/pmd_rules_java_codestyle.html#methodargumentcouldbefinal',\n",
       "  'priority': '3',\n",
       "  'msg': \"\\nParameter 'name' is not assigned and could be declared final\\n\"},\n",
       " {'beginline': '2',\n",
       "  'endline': '2',\n",
       "  'begincolumn': '1',\n",
       "  'endcolumn': '21',\n",
       "  'rule': 'UnnecessaryImport',\n",
       "  'ruleset': 'Code Style',\n",
       "  'class': 'Code_1001005_1000723_311_0',\n",
       "  'externalInfoUrl': 'https://pmd.github.io/pmd-6.39.0/pmd_rules_java_codestyle.html#unnecessaryimport',\n",
       "  'priority': '4',\n",
       "  'msg': \"\\nUnused import 'com.sun.jna.*'\\n\",\n",
       "  'method': ''})"
      ]
     },
     "execution_count": 25,
     "metadata": {},
     "output_type": "execute_result"
    }
   ],
   "source": [
    "bg.take(5)"
   ]
  },
  {
   "cell_type": "markdown",
   "id": "1d631801-9d43-4e5f-bea0-1d9626fa71b7",
   "metadata": {},
   "source": [
    "## Start a Dask cluster using SLURM jobs as workers.\n",
    "\n",
    "There are a couple of things we need to configure here:\n",
    "\n",
    "disabling the mechanism to write on disk when workers run out of memory,\n",
    "memory, CPUs, maximum time and number of workers per SLURM job,\n",
    "dask folders for log files and workers data.\n",
    "We recommend putting the log folder and workers data folders in your /nesi/nobackup/<project_code> folder, most indicated for temporary files (see NeSI File Systems and Quotas).\n",
    "\n",
    "All of these options can be set in configuration files, see Dask configuration and Dask jobqueue configuration for more information."
   ]
  },
  {
   "cell_type": "code",
   "execution_count": 26,
   "id": "7beabb20-b517-4de8-8c44-281a600e07ce",
   "metadata": {},
   "outputs": [
    {
     "name": "stderr",
     "output_type": "stream",
     "text": [
      "/opt/nesi/CS400_centos7_bdw/Python/3.9.5-gimkl-2020a/lib/python3.9/site-packages/distributed/node.py:151: UserWarning: Port 8787 is already in use.\n",
      "Perhaps you already have a cluster running?\n",
      "Hosting the HTTP server on port 45878 instead\n",
      "  warnings.warn(\n"
     ]
    }
   ],
   "source": [
    "#http://jobqueue.dask.org/en/latest/generated/dask_jobqueue.SLURMCluster.html\n",
    "dask.config.set(\n",
    "    {\n",
    "        \"distributed.worker.memory.target\": False,  # avoid spilling to disk\n",
    "        \"distributed.worker.memory.spill\": False,  # avoid spilling to disk\n",
    "    }\n",
    ")\n",
    "cluster = SLURMCluster(\n",
    "    cores=10, #cores=24, # we set each job to have 1 Worker, each using 10 cores (threads) and 8 GB of memory\n",
    "    processes=2,\n",
    "    memory=\"8GiB\",\n",
    "    walltime=\"0-30:30\",# walltime=\"0-00:30\",\n",
    "    log_directory=\"../dask/logs\",  # folder for SLURM logs for each worker\n",
    "    local_directory=\"../dask\",  # folder for workers data\n",
    ")"
   ]
  },
  {
   "cell_type": "code",
   "execution_count": 27,
   "id": "9ef2770d-6ffe-478b-8b5d-e23d44fd3140",
   "metadata": {},
   "outputs": [
    {
     "data": {
      "text/html": [
       "<table style=\"border: 2px solid white;\">\n",
       "<tr>\n",
       "<td style=\"vertical-align: top; border: 0px solid white\">\n",
       "<h3 style=\"text-align: left;\">Client</h3>\n",
       "<ul style=\"text-align: left; list-style: none; margin: 0; padding: 0;\">\n",
       "  <li><b>Scheduler: </b>tcp://192.168.94.140:39399</li>\n",
       "  <li><b>Dashboard: </b><a href='http://192.168.94.140:45878/status' target='_blank'>http://192.168.94.140:45878/status</a></li>\n",
       "</ul>\n",
       "</td>\n",
       "<td style=\"vertical-align: top; border: 0px solid white\">\n",
       "<h3 style=\"text-align: left;\">Cluster</h3>\n",
       "<ul style=\"text-align: left; list-style:none; margin: 0; padding: 0;\">\n",
       "  <li><b>Workers: </b>0</li>\n",
       "  <li><b>Cores: </b>0</li>\n",
       "  <li><b>Memory: </b>0 B</li>\n",
       "</ul>\n",
       "</td>\n",
       "</tr>\n",
       "</table>"
      ],
      "text/plain": [
       "<Client: 'tcp://192.168.94.140:39399' processes=0 threads=0, memory=0 B>"
      ]
     },
     "execution_count": 27,
     "metadata": {},
     "output_type": "execute_result"
    }
   ],
   "source": [
    "#cluster.adapt(minimum_jobs=20, maximum_jobs=200)\n",
    "cluster.adapt(minimum_jobs=10, maximum_jobs=200)\n",
    "client = Client(cluster)\n",
    "client"
   ]
  },
  {
   "cell_type": "markdown",
   "id": "34bf11d1-39fa-4c8d-93c6-936d2f1f05fb",
   "metadata": {},
   "source": [
    "## Flatten"
   ]
  },
  {
   "cell_type": "code",
   "execution_count": 28,
   "id": "5309720d-25ad-4d44-b0c1-3012353a96bb",
   "metadata": {},
   "outputs": [],
   "source": [
    "#does not need to flatten\n",
    "#bg = bg.flatten()"
   ]
  },
  {
   "cell_type": "markdown",
   "id": "e3512ae0-74e1-4b2c-8dc6-c79dd9068014",
   "metadata": {},
   "source": [
    "## Convert Bags to Dataframes"
   ]
  },
  {
   "cell_type": "code",
   "execution_count": 29,
   "id": "631c9d6e-82d6-4e82-acb2-2fcd734b2623",
   "metadata": {},
   "outputs": [],
   "source": [
    "#convert from bags to dataframe\n",
    "#ddf = bg.to_dataframe(meta={'name':'str', 'line':'int', 'severity':'str', 'message':'str', 'source':'str'})\n",
    "ddf = bg.to_dataframe()"
   ]
  },
  {
   "cell_type": "code",
   "execution_count": 30,
   "id": "156efd59-8474-489f-8205-3dc6787dee5a",
   "metadata": {},
   "outputs": [
    {
     "data": {
      "text/html": [
       "<div><strong>Dask DataFrame Structure:</strong></div>\n",
       "<div>\n",
       "<style scoped>\n",
       "    .dataframe tbody tr th:only-of-type {\n",
       "        vertical-align: middle;\n",
       "    }\n",
       "\n",
       "    .dataframe tbody tr th {\n",
       "        vertical-align: top;\n",
       "    }\n",
       "\n",
       "    .dataframe thead th {\n",
       "        text-align: right;\n",
       "    }\n",
       "</style>\n",
       "<table border=\"1\" class=\"dataframe\">\n",
       "  <thead>\n",
       "    <tr style=\"text-align: right;\">\n",
       "      <th></th>\n",
       "      <th>beginline</th>\n",
       "      <th>endline</th>\n",
       "      <th>begincolumn</th>\n",
       "      <th>endcolumn</th>\n",
       "      <th>rule</th>\n",
       "      <th>ruleset</th>\n",
       "      <th>class</th>\n",
       "      <th>externalInfoUrl</th>\n",
       "      <th>priority</th>\n",
       "      <th>msg</th>\n",
       "      <th>method</th>\n",
       "    </tr>\n",
       "    <tr>\n",
       "      <th>npartitions=1154</th>\n",
       "      <th></th>\n",
       "      <th></th>\n",
       "      <th></th>\n",
       "      <th></th>\n",
       "      <th></th>\n",
       "      <th></th>\n",
       "      <th></th>\n",
       "      <th></th>\n",
       "      <th></th>\n",
       "      <th></th>\n",
       "      <th></th>\n",
       "    </tr>\n",
       "  </thead>\n",
       "  <tbody>\n",
       "    <tr>\n",
       "      <th></th>\n",
       "      <td>object</td>\n",
       "      <td>object</td>\n",
       "      <td>object</td>\n",
       "      <td>object</td>\n",
       "      <td>object</td>\n",
       "      <td>object</td>\n",
       "      <td>object</td>\n",
       "      <td>object</td>\n",
       "      <td>object</td>\n",
       "      <td>object</td>\n",
       "      <td>object</td>\n",
       "    </tr>\n",
       "    <tr>\n",
       "      <th></th>\n",
       "      <td>...</td>\n",
       "      <td>...</td>\n",
       "      <td>...</td>\n",
       "      <td>...</td>\n",
       "      <td>...</td>\n",
       "      <td>...</td>\n",
       "      <td>...</td>\n",
       "      <td>...</td>\n",
       "      <td>...</td>\n",
       "      <td>...</td>\n",
       "      <td>...</td>\n",
       "    </tr>\n",
       "    <tr>\n",
       "      <th>...</th>\n",
       "      <td>...</td>\n",
       "      <td>...</td>\n",
       "      <td>...</td>\n",
       "      <td>...</td>\n",
       "      <td>...</td>\n",
       "      <td>...</td>\n",
       "      <td>...</td>\n",
       "      <td>...</td>\n",
       "      <td>...</td>\n",
       "      <td>...</td>\n",
       "      <td>...</td>\n",
       "    </tr>\n",
       "    <tr>\n",
       "      <th></th>\n",
       "      <td>...</td>\n",
       "      <td>...</td>\n",
       "      <td>...</td>\n",
       "      <td>...</td>\n",
       "      <td>...</td>\n",
       "      <td>...</td>\n",
       "      <td>...</td>\n",
       "      <td>...</td>\n",
       "      <td>...</td>\n",
       "      <td>...</td>\n",
       "      <td>...</td>\n",
       "    </tr>\n",
       "    <tr>\n",
       "      <th></th>\n",
       "      <td>...</td>\n",
       "      <td>...</td>\n",
       "      <td>...</td>\n",
       "      <td>...</td>\n",
       "      <td>...</td>\n",
       "      <td>...</td>\n",
       "      <td>...</td>\n",
       "      <td>...</td>\n",
       "      <td>...</td>\n",
       "      <td>...</td>\n",
       "      <td>...</td>\n",
       "    </tr>\n",
       "  </tbody>\n",
       "</table>\n",
       "</div>\n",
       "<div>Dask Name: to_dataframe, 3462 tasks</div>"
      ],
      "text/plain": [
       "Dask DataFrame Structure:\n",
       "                 beginline endline begincolumn endcolumn    rule ruleset   class externalInfoUrl priority     msg  method\n",
       "npartitions=1154                                                                                                         \n",
       "                    object  object      object    object  object  object  object          object   object  object  object\n",
       "                       ...     ...         ...       ...     ...     ...     ...             ...      ...     ...     ...\n",
       "...                    ...     ...         ...       ...     ...     ...     ...             ...      ...     ...     ...\n",
       "                       ...     ...         ...       ...     ...     ...     ...             ...      ...     ...     ...\n",
       "                       ...     ...         ...       ...     ...     ...     ...             ...      ...     ...     ...\n",
       "Dask Name: to_dataframe, 3462 tasks"
      ]
     },
     "execution_count": 30,
     "metadata": {},
     "output_type": "execute_result"
    }
   ],
   "source": [
    "ddf"
   ]
  },
  {
   "cell_type": "code",
   "execution_count": 31,
   "id": "2e0841b0-6377-4983-9da7-9e0a0cb1abb3",
   "metadata": {},
   "outputs": [
    {
     "data": {
      "text/plain": [
       "Index(['beginline', 'endline', 'begincolumn', 'endcolumn', 'rule', 'ruleset',\n",
       "       'class', 'externalInfoUrl', 'priority', 'msg', 'method'],\n",
       "      dtype='object')"
      ]
     },
     "execution_count": 31,
     "metadata": {},
     "output_type": "execute_result"
    }
   ],
   "source": [
    "ddf.columns"
   ]
  },
  {
   "cell_type": "code",
   "execution_count": 32,
   "id": "d721b547-d794-46d7-a973-db6baf8124c6",
   "metadata": {},
   "outputs": [
    {
     "data": {
      "text/html": [
       "<div>\n",
       "<style scoped>\n",
       "    .dataframe tbody tr th:only-of-type {\n",
       "        vertical-align: middle;\n",
       "    }\n",
       "\n",
       "    .dataframe tbody tr th {\n",
       "        vertical-align: top;\n",
       "    }\n",
       "\n",
       "    .dataframe thead th {\n",
       "        text-align: right;\n",
       "    }\n",
       "</style>\n",
       "<table border=\"1\" class=\"dataframe\">\n",
       "  <thead>\n",
       "    <tr style=\"text-align: right;\">\n",
       "      <th></th>\n",
       "      <th>beginline</th>\n",
       "      <th>endline</th>\n",
       "      <th>begincolumn</th>\n",
       "      <th>endcolumn</th>\n",
       "      <th>rule</th>\n",
       "      <th>ruleset</th>\n",
       "      <th>class</th>\n",
       "      <th>externalInfoUrl</th>\n",
       "      <th>priority</th>\n",
       "      <th>msg</th>\n",
       "      <th>method</th>\n",
       "    </tr>\n",
       "  </thead>\n",
       "  <tbody>\n",
       "    <tr>\n",
       "      <th>0</th>\n",
       "      <td>2</td>\n",
       "      <td>19</td>\n",
       "      <td>8</td>\n",
       "      <td>1</td>\n",
       "      <td>DataClass</td>\n",
       "      <td>Design</td>\n",
       "      <td>Code_10000096_9914015_73_1</td>\n",
       "      <td>https://pmd.github.io/pmd-6.39.0/pmd_rules_jav...</td>\n",
       "      <td>3</td>\n",
       "      <td>\\nThe class 'Code_10000096_9914015_73_1' is su...</td>\n",
       "      <td></td>\n",
       "    </tr>\n",
       "    <tr>\n",
       "      <th>1</th>\n",
       "      <td>2</td>\n",
       "      <td>19</td>\n",
       "      <td>8</td>\n",
       "      <td>1</td>\n",
       "      <td>ClassNamingConventions</td>\n",
       "      <td>Code Style</td>\n",
       "      <td>Code_10000096_9914015_73_1</td>\n",
       "      <td>https://pmd.github.io/pmd-6.39.0/pmd_rules_jav...</td>\n",
       "      <td>1</td>\n",
       "      <td>\\nThe class name 'Code_10000096_9914015_73_1' ...</td>\n",
       "      <td></td>\n",
       "    </tr>\n",
       "    <tr>\n",
       "      <th>2</th>\n",
       "      <td>10</td>\n",
       "      <td>10</td>\n",
       "      <td>23</td>\n",
       "      <td>31</td>\n",
       "      <td>MethodArgumentCouldBeFinal</td>\n",
       "      <td>Code Style</td>\n",
       "      <td>Code_10000096_9914015_73_1</td>\n",
       "      <td>https://pmd.github.io/pmd-6.39.0/pmd_rules_jav...</td>\n",
       "      <td>3</td>\n",
       "      <td>\\nParameter 'id' is not assigned and could be ...</td>\n",
       "      <td>setId</td>\n",
       "    </tr>\n",
       "    <tr>\n",
       "      <th>3</th>\n",
       "      <td>16</td>\n",
       "      <td>16</td>\n",
       "      <td>25</td>\n",
       "      <td>35</td>\n",
       "      <td>MethodArgumentCouldBeFinal</td>\n",
       "      <td>Code Style</td>\n",
       "      <td>Code_10000096_9914015_73_1</td>\n",
       "      <td>https://pmd.github.io/pmd-6.39.0/pmd_rules_jav...</td>\n",
       "      <td>3</td>\n",
       "      <td>\\nParameter 'name' is not assigned and could b...</td>\n",
       "      <td>setName</td>\n",
       "    </tr>\n",
       "    <tr>\n",
       "      <th>4</th>\n",
       "      <td>2</td>\n",
       "      <td>2</td>\n",
       "      <td>1</td>\n",
       "      <td>21</td>\n",
       "      <td>UnnecessaryImport</td>\n",
       "      <td>Code Style</td>\n",
       "      <td>Code_1001005_1000723_311_0</td>\n",
       "      <td>https://pmd.github.io/pmd-6.39.0/pmd_rules_jav...</td>\n",
       "      <td>4</td>\n",
       "      <td>\\nUnused import 'com.sun.jna.*'\\n</td>\n",
       "      <td></td>\n",
       "    </tr>\n",
       "  </tbody>\n",
       "</table>\n",
       "</div>"
      ],
      "text/plain": [
       "  beginline endline begincolumn endcolumn                        rule  \\\n",
       "0         2      19           8         1                   DataClass   \n",
       "1         2      19           8         1      ClassNamingConventions   \n",
       "2        10      10          23        31  MethodArgumentCouldBeFinal   \n",
       "3        16      16          25        35  MethodArgumentCouldBeFinal   \n",
       "4         2       2           1        21           UnnecessaryImport   \n",
       "\n",
       "      ruleset                       class  \\\n",
       "0      Design  Code_10000096_9914015_73_1   \n",
       "1  Code Style  Code_10000096_9914015_73_1   \n",
       "2  Code Style  Code_10000096_9914015_73_1   \n",
       "3  Code Style  Code_10000096_9914015_73_1   \n",
       "4  Code Style  Code_1001005_1000723_311_0   \n",
       "\n",
       "                                     externalInfoUrl priority  \\\n",
       "0  https://pmd.github.io/pmd-6.39.0/pmd_rules_jav...        3   \n",
       "1  https://pmd.github.io/pmd-6.39.0/pmd_rules_jav...        1   \n",
       "2  https://pmd.github.io/pmd-6.39.0/pmd_rules_jav...        3   \n",
       "3  https://pmd.github.io/pmd-6.39.0/pmd_rules_jav...        3   \n",
       "4  https://pmd.github.io/pmd-6.39.0/pmd_rules_jav...        4   \n",
       "\n",
       "                                                 msg   method  \n",
       "0  \\nThe class 'Code_10000096_9914015_73_1' is su...           \n",
       "1  \\nThe class name 'Code_10000096_9914015_73_1' ...           \n",
       "2  \\nParameter 'id' is not assigned and could be ...    setId  \n",
       "3  \\nParameter 'name' is not assigned and could b...  setName  \n",
       "4                  \\nUnused import 'com.sun.jna.*'\\n           "
      ]
     },
     "execution_count": 32,
     "metadata": {},
     "output_type": "execute_result"
    }
   ],
   "source": [
    "ddf.head()"
   ]
  },
  {
   "cell_type": "code",
   "execution_count": 33,
   "id": "3b7b519c-829a-44c4-9461-d2a5644c4685",
   "metadata": {},
   "outputs": [],
   "source": [
    "#ddf.tail()"
   ]
  },
  {
   "cell_type": "code",
   "execution_count": 34,
   "id": "e80e1790-3215-4cf1-b049-59bdc363da35",
   "metadata": {},
   "outputs": [],
   "source": [
    "#ddf.shape[0].compute()\n",
    "# 221495"
   ]
  },
  {
   "cell_type": "markdown",
   "id": "800c1eda-06ed-44ad-8380-ebec6db58c88",
   "metadata": {},
   "source": [
    "### Make a folder in that directory"
   ]
  },
  {
   "cell_type": "code",
   "execution_count": 35,
   "id": "a2762487-5bf7-4f40-8a48-e11c49f4ce3f",
   "metadata": {},
   "outputs": [],
   "source": [
    "## Make a folder in that directory\n",
    "folder = '{}/pmdcodesnippetsviolation_csv'.format(common_path)\n",
    "# output: path/to/Post.csv => path/to\n",
    "mkdir_cmd = 'mkdir {}'.format(folder)\n",
    "cmd = sp.run(\n",
    "    mkdir_cmd, # command\n",
    "    capture_output=True,\n",
    "    text=True,\n",
    "    shell=True\n",
    ")"
   ]
  },
  {
   "cell_type": "markdown",
   "id": "5c9ef6fd-d8cb-48e1-b381-398f7ae47c02",
   "metadata": {},
   "source": [
    "### Save files in that directory"
   ]
  },
  {
   "cell_type": "code",
   "execution_count": 36,
   "id": "33d56384-9876-43e2-b377-a93f225150a8",
   "metadata": {},
   "outputs": [
    {
     "name": "stderr",
     "output_type": "stream",
     "text": [
      "distributed.utils - ERROR - Timed out during handshake while connecting to tcp://10.65.4.149:42225 after 10 s\n",
      "Traceback (most recent call last):\n",
      "  File \"/opt/nesi/CS400_centos7_bdw/Python/3.9.5-gimkl-2020a/lib/python3.9/site-packages/distributed/comm/tcp.py\", line 196, in read\n",
      "    frames_nbytes = await stream.read_bytes(fmt_size)\n",
      "asyncio.exceptions.CancelledError\n",
      "\n",
      "During handling of the above exception, another exception occurred:\n",
      "\n",
      "Traceback (most recent call last):\n",
      "  File \"/opt/nesi/CS400_centos7_bdw/Python/3.9.5-gimkl-2020a/lib/python3.9/asyncio/tasks.py\", line 492, in wait_for\n",
      "    fut.result()\n",
      "asyncio.exceptions.CancelledError\n",
      "\n",
      "The above exception was the direct cause of the following exception:\n",
      "\n",
      "Traceback (most recent call last):\n",
      "  File \"/opt/nesi/CS400_centos7_bdw/Python/3.9.5-gimkl-2020a/lib/python3.9/site-packages/distributed/comm/core.py\", line 318, in connect\n",
      "    handshake = await asyncio.wait_for(comm.read(), time_left())\n",
      "  File \"/opt/nesi/CS400_centos7_bdw/Python/3.9.5-gimkl-2020a/lib/python3.9/asyncio/tasks.py\", line 494, in wait_for\n",
      "    raise exceptions.TimeoutError() from exc\n",
      "asyncio.exceptions.TimeoutError\n",
      "\n",
      "The above exception was the direct cause of the following exception:\n",
      "\n",
      "Traceback (most recent call last):\n",
      "  File \"/opt/nesi/CS400_centos7_bdw/Python/3.9.5-gimkl-2020a/lib/python3.9/site-packages/distributed/utils.py\", line 668, in log_errors\n",
      "    yield\n",
      "  File \"/opt/nesi/CS400_centos7_bdw/Python/3.9.5-gimkl-2020a/lib/python3.9/site-packages/distributed/scheduler.py\", line 5943, in retire_workers\n",
      "    await self.replicate(\n",
      "  File \"/opt/nesi/CS400_centos7_bdw/Python/3.9.5-gimkl-2020a/lib/python3.9/site-packages/distributed/scheduler.py\", line 5697, in replicate\n",
      "    results = await asyncio.gather(\n",
      "  File \"/opt/nesi/CS400_centos7_bdw/Python/3.9.5-gimkl-2020a/lib/python3.9/site-packages/distributed/utils_comm.py\", line 385, in retry_operation\n",
      "    return await retry(\n",
      "  File \"/opt/nesi/CS400_centos7_bdw/Python/3.9.5-gimkl-2020a/lib/python3.9/site-packages/distributed/utils_comm.py\", line 370, in retry\n",
      "    return await coro()\n",
      "  File \"/opt/nesi/CS400_centos7_bdw/Python/3.9.5-gimkl-2020a/lib/python3.9/site-packages/distributed/core.py\", line 859, in send_recv_from_rpc\n",
      "    comm = await self.pool.connect(self.addr)\n",
      "  File \"/opt/nesi/CS400_centos7_bdw/Python/3.9.5-gimkl-2020a/lib/python3.9/site-packages/distributed/core.py\", line 1010, in connect\n",
      "    comm = await connect(\n",
      "  File \"/opt/nesi/CS400_centos7_bdw/Python/3.9.5-gimkl-2020a/lib/python3.9/site-packages/distributed/comm/core.py\", line 323, in connect\n",
      "    raise IOError(\n",
      "OSError: Timed out during handshake while connecting to tcp://10.65.4.149:42225 after 10 s\n",
      "distributed.core - ERROR - Exception while handling op retire_workers\n",
      "Traceback (most recent call last):\n",
      "  File \"/opt/nesi/CS400_centos7_bdw/Python/3.9.5-gimkl-2020a/lib/python3.9/site-packages/distributed/comm/tcp.py\", line 196, in read\n",
      "    frames_nbytes = await stream.read_bytes(fmt_size)\n",
      "asyncio.exceptions.CancelledError\n",
      "\n",
      "During handling of the above exception, another exception occurred:\n",
      "\n",
      "Traceback (most recent call last):\n",
      "  File \"/opt/nesi/CS400_centos7_bdw/Python/3.9.5-gimkl-2020a/lib/python3.9/asyncio/tasks.py\", line 492, in wait_for\n",
      "    fut.result()\n",
      "asyncio.exceptions.CancelledError\n",
      "\n",
      "The above exception was the direct cause of the following exception:\n",
      "\n",
      "Traceback (most recent call last):\n",
      "  File \"/opt/nesi/CS400_centos7_bdw/Python/3.9.5-gimkl-2020a/lib/python3.9/site-packages/distributed/comm/core.py\", line 318, in connect\n",
      "    handshake = await asyncio.wait_for(comm.read(), time_left())\n",
      "  File \"/opt/nesi/CS400_centos7_bdw/Python/3.9.5-gimkl-2020a/lib/python3.9/asyncio/tasks.py\", line 494, in wait_for\n",
      "    raise exceptions.TimeoutError() from exc\n",
      "asyncio.exceptions.TimeoutError\n",
      "\n",
      "The above exception was the direct cause of the following exception:\n",
      "\n",
      "Traceback (most recent call last):\n",
      "  File \"/opt/nesi/CS400_centos7_bdw/Python/3.9.5-gimkl-2020a/lib/python3.9/site-packages/distributed/core.py\", line 501, in handle_comm\n",
      "    result = await result\n",
      "  File \"/opt/nesi/CS400_centos7_bdw/Python/3.9.5-gimkl-2020a/lib/python3.9/site-packages/distributed/scheduler.py\", line 5943, in retire_workers\n",
      "    await self.replicate(\n",
      "  File \"/opt/nesi/CS400_centos7_bdw/Python/3.9.5-gimkl-2020a/lib/python3.9/site-packages/distributed/scheduler.py\", line 5697, in replicate\n",
      "    results = await asyncio.gather(\n",
      "  File \"/opt/nesi/CS400_centos7_bdw/Python/3.9.5-gimkl-2020a/lib/python3.9/site-packages/distributed/utils_comm.py\", line 385, in retry_operation\n",
      "    return await retry(\n",
      "  File \"/opt/nesi/CS400_centos7_bdw/Python/3.9.5-gimkl-2020a/lib/python3.9/site-packages/distributed/utils_comm.py\", line 370, in retry\n",
      "    return await coro()\n",
      "  File \"/opt/nesi/CS400_centos7_bdw/Python/3.9.5-gimkl-2020a/lib/python3.9/site-packages/distributed/core.py\", line 859, in send_recv_from_rpc\n",
      "    comm = await self.pool.connect(self.addr)\n",
      "  File \"/opt/nesi/CS400_centos7_bdw/Python/3.9.5-gimkl-2020a/lib/python3.9/site-packages/distributed/core.py\", line 1010, in connect\n",
      "    comm = await connect(\n",
      "  File \"/opt/nesi/CS400_centos7_bdw/Python/3.9.5-gimkl-2020a/lib/python3.9/site-packages/distributed/comm/core.py\", line 323, in connect\n",
      "    raise IOError(\n",
      "OSError: Timed out during handshake while connecting to tcp://10.65.4.149:42225 after 10 s\n",
      "distributed.utils - ERROR - Timed out during handshake while connecting to tcp://10.65.4.149:42225 after 10 s\n",
      "Traceback (most recent call last):\n",
      "  File \"/opt/nesi/CS400_centos7_bdw/Python/3.9.5-gimkl-2020a/lib/python3.9/asyncio/tasks.py\", line 492, in wait_for\n",
      "    fut.result()\n",
      "asyncio.exceptions.CancelledError\n",
      "\n",
      "The above exception was the direct cause of the following exception:\n",
      "\n",
      "Traceback (most recent call last):\n",
      "  File \"/opt/nesi/CS400_centos7_bdw/Python/3.9.5-gimkl-2020a/lib/python3.9/site-packages/distributed/comm/core.py\", line 318, in connect\n",
      "    handshake = await asyncio.wait_for(comm.read(), time_left())\n",
      "  File \"/opt/nesi/CS400_centos7_bdw/Python/3.9.5-gimkl-2020a/lib/python3.9/asyncio/tasks.py\", line 494, in wait_for\n",
      "    raise exceptions.TimeoutError() from exc\n",
      "asyncio.exceptions.TimeoutError\n",
      "\n",
      "The above exception was the direct cause of the following exception:\n",
      "\n",
      "Traceback (most recent call last):\n",
      "  File \"/opt/nesi/CS400_centos7_bdw/Python/3.9.5-gimkl-2020a/lib/python3.9/site-packages/distributed/utils.py\", line 668, in log_errors\n",
      "    yield\n",
      "  File \"/opt/nesi/CS400_centos7_bdw/Python/3.9.5-gimkl-2020a/lib/python3.9/site-packages/distributed/deploy/adaptive.py\", line 188, in scale_down\n",
      "    await self.scheduler.retire_workers(\n",
      "  File \"/opt/nesi/CS400_centos7_bdw/Python/3.9.5-gimkl-2020a/lib/python3.9/site-packages/distributed/core.py\", line 791, in send_recv_from_rpc\n",
      "    result = await send_recv(comm=comm, op=key, **kwargs)\n",
      "  File \"/opt/nesi/CS400_centos7_bdw/Python/3.9.5-gimkl-2020a/lib/python3.9/site-packages/distributed/core.py\", line 661, in send_recv\n",
      "    raise exc.with_traceback(tb)\n",
      "  File \"/opt/nesi/CS400_centos7_bdw/Python/3.9.5-gimkl-2020a/lib/python3.9/site-packages/distributed/core.py\", line 501, in handle_comm\n",
      "    result = await result\n",
      "  File \"/opt/nesi/CS400_centos7_bdw/Python/3.9.5-gimkl-2020a/lib/python3.9/site-packages/distributed/scheduler.py\", line 5943, in retire_workers\n",
      "    await self.replicate(\n",
      "  File \"/opt/nesi/CS400_centos7_bdw/Python/3.9.5-gimkl-2020a/lib/python3.9/site-packages/distributed/scheduler.py\", line 5697, in replicate\n",
      "    results = await asyncio.gather(\n",
      "  File \"/opt/nesi/CS400_centos7_bdw/Python/3.9.5-gimkl-2020a/lib/python3.9/site-packages/distributed/utils_comm.py\", line 385, in retry_operation\n",
      "    return await retry(\n",
      "  File \"/opt/nesi/CS400_centos7_bdw/Python/3.9.5-gimkl-2020a/lib/python3.9/site-packages/distributed/utils_comm.py\", line 370, in retry\n",
      "    return await coro()\n",
      "  File \"/opt/nesi/CS400_centos7_bdw/Python/3.9.5-gimkl-2020a/lib/python3.9/site-packages/distributed/core.py\", line 859, in send_recv_from_rpc\n",
      "    comm = await self.pool.connect(self.addr)\n",
      "  File \"/opt/nesi/CS400_centos7_bdw/Python/3.9.5-gimkl-2020a/lib/python3.9/site-packages/distributed/core.py\", line 1010, in connect\n",
      "    comm = await connect(\n",
      "  File \"/opt/nesi/CS400_centos7_bdw/Python/3.9.5-gimkl-2020a/lib/python3.9/site-packages/distributed/comm/core.py\", line 323, in connect\n",
      "    raise IOError(\n",
      "OSError: Timed out during handshake while connecting to tcp://10.65.4.149:42225 after 10 s\n"
     ]
    },
    {
     "ename": "KilledWorker",
     "evalue": "(\"('bag-from-delayed-decode-filter-lambda-read-block-lambda-lambda-to_dataframe-3be0b6ad3c2f2cf32a8ba9bba69d9ad4', 550)\", <Worker 'tcp://10.65.4.96:44991', name: 211-0, memory: 0, processing: 8>)",
     "output_type": "error",
     "traceback": [
      "\u001b[0;31m---------------------------------------------------------------------------\u001b[0m",
      "\u001b[0;31mKilledWorker\u001b[0m                              Traceback (most recent call last)",
      "\u001b[0;32m<ipython-input-36-d7910e7f6048>\u001b[0m in \u001b[0;36m<module>\u001b[0;34m\u001b[0m\n\u001b[1;32m      2\u001b[0m \u001b[0mfilename\u001b[0m \u001b[0;34m=\u001b[0m \u001b[0;34m'pmdCodeSnippetsViolation'\u001b[0m\u001b[0;34m\u001b[0m\u001b[0;34m\u001b[0m\u001b[0m\n\u001b[1;32m      3\u001b[0m \u001b[0mfile\u001b[0m \u001b[0;34m=\u001b[0m \u001b[0;34m'{}/{}*.csv'\u001b[0m\u001b[0;34m.\u001b[0m\u001b[0mformat\u001b[0m\u001b[0;34m(\u001b[0m\u001b[0mfolder\u001b[0m\u001b[0;34m,\u001b[0m \u001b[0mfilename\u001b[0m\u001b[0;34m)\u001b[0m\u001b[0;34m\u001b[0m\u001b[0;34m\u001b[0m\u001b[0m\n\u001b[0;32m----> 4\u001b[0;31m \u001b[0m_\u001b[0m \u001b[0;34m=\u001b[0m \u001b[0mddf\u001b[0m\u001b[0;34m.\u001b[0m\u001b[0mto_csv\u001b[0m\u001b[0;34m(\u001b[0m\u001b[0mfile\u001b[0m\u001b[0;34m,\u001b[0m \u001b[0msep\u001b[0m\u001b[0;34m=\u001b[0m\u001b[0;34m','\u001b[0m\u001b[0;34m,\u001b[0m \u001b[0mindex\u001b[0m\u001b[0;34m=\u001b[0m\u001b[0;32mFalse\u001b[0m\u001b[0;34m)\u001b[0m\u001b[0;34m\u001b[0m\u001b[0;34m\u001b[0m\u001b[0m\n\u001b[0m",
      "\u001b[0;32m/opt/nesi/CS400_centos7_bdw/Python/3.9.5-gimkl-2020a/lib/python3.9/site-packages/dask/dataframe/core.py\u001b[0m in \u001b[0;36mto_csv\u001b[0;34m(self, filename, **kwargs)\u001b[0m\n\u001b[1;32m   1465\u001b[0m         \u001b[0;32mfrom\u001b[0m \u001b[0;34m.\u001b[0m\u001b[0mio\u001b[0m \u001b[0;32mimport\u001b[0m \u001b[0mto_csv\u001b[0m\u001b[0;34m\u001b[0m\u001b[0;34m\u001b[0m\u001b[0m\n\u001b[1;32m   1466\u001b[0m \u001b[0;34m\u001b[0m\u001b[0m\n\u001b[0;32m-> 1467\u001b[0;31m         \u001b[0;32mreturn\u001b[0m \u001b[0mto_csv\u001b[0m\u001b[0;34m(\u001b[0m\u001b[0mself\u001b[0m\u001b[0;34m,\u001b[0m \u001b[0mfilename\u001b[0m\u001b[0;34m,\u001b[0m \u001b[0;34m**\u001b[0m\u001b[0mkwargs\u001b[0m\u001b[0;34m)\u001b[0m\u001b[0;34m\u001b[0m\u001b[0;34m\u001b[0m\u001b[0m\n\u001b[0m\u001b[1;32m   1468\u001b[0m \u001b[0;34m\u001b[0m\u001b[0m\n\u001b[1;32m   1469\u001b[0m     def to_sql(\n",
      "\u001b[0;32m/opt/nesi/CS400_centos7_bdw/Python/3.9.5-gimkl-2020a/lib/python3.9/site-packages/dask/dataframe/io/csv.py\u001b[0m in \u001b[0;36mto_csv\u001b[0;34m(df, filename, single_file, encoding, mode, name_function, compression, compute, scheduler, storage_options, header_first_partition_only, compute_kwargs, **kwargs)\u001b[0m\n\u001b[1;32m    862\u001b[0m             \u001b[0mcompute_kwargs\u001b[0m\u001b[0;34m[\u001b[0m\u001b[0;34m\"scheduler\"\u001b[0m\u001b[0;34m]\u001b[0m \u001b[0;34m=\u001b[0m \u001b[0mscheduler\u001b[0m\u001b[0;34m\u001b[0m\u001b[0;34m\u001b[0m\u001b[0m\n\u001b[1;32m    863\u001b[0m \u001b[0;34m\u001b[0m\u001b[0m\n\u001b[0;32m--> 864\u001b[0;31m         \u001b[0mdelayed\u001b[0m\u001b[0;34m(\u001b[0m\u001b[0mvalues\u001b[0m\u001b[0;34m)\u001b[0m\u001b[0;34m.\u001b[0m\u001b[0mcompute\u001b[0m\u001b[0;34m(\u001b[0m\u001b[0;34m**\u001b[0m\u001b[0mcompute_kwargs\u001b[0m\u001b[0;34m)\u001b[0m\u001b[0;34m\u001b[0m\u001b[0;34m\u001b[0m\u001b[0m\n\u001b[0m\u001b[1;32m    865\u001b[0m         \u001b[0;32mreturn\u001b[0m \u001b[0;34m[\u001b[0m\u001b[0mf\u001b[0m\u001b[0;34m.\u001b[0m\u001b[0mpath\u001b[0m \u001b[0;32mfor\u001b[0m \u001b[0mf\u001b[0m \u001b[0;32min\u001b[0m \u001b[0mfiles\u001b[0m\u001b[0;34m]\u001b[0m\u001b[0;34m\u001b[0m\u001b[0;34m\u001b[0m\u001b[0m\n\u001b[1;32m    866\u001b[0m     \u001b[0;32melse\u001b[0m\u001b[0;34m:\u001b[0m\u001b[0;34m\u001b[0m\u001b[0;34m\u001b[0m\u001b[0m\n",
      "\u001b[0;32m/opt/nesi/CS400_centos7_bdw/Python/3.9.5-gimkl-2020a/lib/python3.9/site-packages/dask/base.py\u001b[0m in \u001b[0;36mcompute\u001b[0;34m(self, **kwargs)\u001b[0m\n\u001b[1;32m    283\u001b[0m         \u001b[0mdask\u001b[0m\u001b[0;34m.\u001b[0m\u001b[0mbase\u001b[0m\u001b[0;34m.\u001b[0m\u001b[0mcompute\u001b[0m\u001b[0;34m\u001b[0m\u001b[0;34m\u001b[0m\u001b[0m\n\u001b[1;32m    284\u001b[0m         \"\"\"\n\u001b[0;32m--> 285\u001b[0;31m         \u001b[0;34m(\u001b[0m\u001b[0mresult\u001b[0m\u001b[0;34m,\u001b[0m\u001b[0;34m)\u001b[0m \u001b[0;34m=\u001b[0m \u001b[0mcompute\u001b[0m\u001b[0;34m(\u001b[0m\u001b[0mself\u001b[0m\u001b[0;34m,\u001b[0m \u001b[0mtraverse\u001b[0m\u001b[0;34m=\u001b[0m\u001b[0;32mFalse\u001b[0m\u001b[0;34m,\u001b[0m \u001b[0;34m**\u001b[0m\u001b[0mkwargs\u001b[0m\u001b[0;34m)\u001b[0m\u001b[0;34m\u001b[0m\u001b[0;34m\u001b[0m\u001b[0m\n\u001b[0m\u001b[1;32m    286\u001b[0m         \u001b[0;32mreturn\u001b[0m \u001b[0mresult\u001b[0m\u001b[0;34m\u001b[0m\u001b[0;34m\u001b[0m\u001b[0m\n\u001b[1;32m    287\u001b[0m \u001b[0;34m\u001b[0m\u001b[0m\n",
      "\u001b[0;32m/opt/nesi/CS400_centos7_bdw/Python/3.9.5-gimkl-2020a/lib/python3.9/site-packages/dask/base.py\u001b[0m in \u001b[0;36mcompute\u001b[0;34m(*args, **kwargs)\u001b[0m\n\u001b[1;32m    565\u001b[0m         \u001b[0mpostcomputes\u001b[0m\u001b[0;34m.\u001b[0m\u001b[0mappend\u001b[0m\u001b[0;34m(\u001b[0m\u001b[0mx\u001b[0m\u001b[0;34m.\u001b[0m\u001b[0m__dask_postcompute__\u001b[0m\u001b[0;34m(\u001b[0m\u001b[0;34m)\u001b[0m\u001b[0;34m)\u001b[0m\u001b[0;34m\u001b[0m\u001b[0;34m\u001b[0m\u001b[0m\n\u001b[1;32m    566\u001b[0m \u001b[0;34m\u001b[0m\u001b[0m\n\u001b[0;32m--> 567\u001b[0;31m     \u001b[0mresults\u001b[0m \u001b[0;34m=\u001b[0m \u001b[0mschedule\u001b[0m\u001b[0;34m(\u001b[0m\u001b[0mdsk\u001b[0m\u001b[0;34m,\u001b[0m \u001b[0mkeys\u001b[0m\u001b[0;34m,\u001b[0m \u001b[0;34m**\u001b[0m\u001b[0mkwargs\u001b[0m\u001b[0;34m)\u001b[0m\u001b[0;34m\u001b[0m\u001b[0;34m\u001b[0m\u001b[0m\n\u001b[0m\u001b[1;32m    568\u001b[0m     \u001b[0;32mreturn\u001b[0m \u001b[0mrepack\u001b[0m\u001b[0;34m(\u001b[0m\u001b[0;34m[\u001b[0m\u001b[0mf\u001b[0m\u001b[0;34m(\u001b[0m\u001b[0mr\u001b[0m\u001b[0;34m,\u001b[0m \u001b[0;34m*\u001b[0m\u001b[0ma\u001b[0m\u001b[0;34m)\u001b[0m \u001b[0;32mfor\u001b[0m \u001b[0mr\u001b[0m\u001b[0;34m,\u001b[0m \u001b[0;34m(\u001b[0m\u001b[0mf\u001b[0m\u001b[0;34m,\u001b[0m \u001b[0ma\u001b[0m\u001b[0;34m)\u001b[0m \u001b[0;32min\u001b[0m \u001b[0mzip\u001b[0m\u001b[0;34m(\u001b[0m\u001b[0mresults\u001b[0m\u001b[0;34m,\u001b[0m \u001b[0mpostcomputes\u001b[0m\u001b[0;34m)\u001b[0m\u001b[0;34m]\u001b[0m\u001b[0;34m)\u001b[0m\u001b[0;34m\u001b[0m\u001b[0;34m\u001b[0m\u001b[0m\n\u001b[1;32m    569\u001b[0m \u001b[0;34m\u001b[0m\u001b[0m\n",
      "\u001b[0;32m/opt/nesi/CS400_centos7_bdw/Python/3.9.5-gimkl-2020a/lib/python3.9/site-packages/distributed/client.py\u001b[0m in \u001b[0;36mget\u001b[0;34m(self, dsk, keys, workers, allow_other_workers, resources, sync, asynchronous, direct, retries, priority, fifo_timeout, actors, **kwargs)\u001b[0m\n\u001b[1;32m   2664\u001b[0m                     \u001b[0mshould_rejoin\u001b[0m \u001b[0;34m=\u001b[0m \u001b[0;32mFalse\u001b[0m\u001b[0;34m\u001b[0m\u001b[0;34m\u001b[0m\u001b[0m\n\u001b[1;32m   2665\u001b[0m             \u001b[0;32mtry\u001b[0m\u001b[0;34m:\u001b[0m\u001b[0;34m\u001b[0m\u001b[0;34m\u001b[0m\u001b[0m\n\u001b[0;32m-> 2666\u001b[0;31m                 \u001b[0mresults\u001b[0m \u001b[0;34m=\u001b[0m \u001b[0mself\u001b[0m\u001b[0;34m.\u001b[0m\u001b[0mgather\u001b[0m\u001b[0;34m(\u001b[0m\u001b[0mpacked\u001b[0m\u001b[0;34m,\u001b[0m \u001b[0masynchronous\u001b[0m\u001b[0;34m=\u001b[0m\u001b[0masynchronous\u001b[0m\u001b[0;34m,\u001b[0m \u001b[0mdirect\u001b[0m\u001b[0;34m=\u001b[0m\u001b[0mdirect\u001b[0m\u001b[0;34m)\u001b[0m\u001b[0;34m\u001b[0m\u001b[0;34m\u001b[0m\u001b[0m\n\u001b[0m\u001b[1;32m   2667\u001b[0m             \u001b[0;32mfinally\u001b[0m\u001b[0;34m:\u001b[0m\u001b[0;34m\u001b[0m\u001b[0;34m\u001b[0m\u001b[0m\n\u001b[1;32m   2668\u001b[0m                 \u001b[0;32mfor\u001b[0m \u001b[0mf\u001b[0m \u001b[0;32min\u001b[0m \u001b[0mfutures\u001b[0m\u001b[0;34m.\u001b[0m\u001b[0mvalues\u001b[0m\u001b[0;34m(\u001b[0m\u001b[0;34m)\u001b[0m\u001b[0;34m:\u001b[0m\u001b[0;34m\u001b[0m\u001b[0;34m\u001b[0m\u001b[0m\n",
      "\u001b[0;32m/opt/nesi/CS400_centos7_bdw/Python/3.9.5-gimkl-2020a/lib/python3.9/site-packages/distributed/client.py\u001b[0m in \u001b[0;36mgather\u001b[0;34m(self, futures, errors, direct, asynchronous)\u001b[0m\n\u001b[1;32m   1973\u001b[0m             \u001b[0;32melse\u001b[0m\u001b[0;34m:\u001b[0m\u001b[0;34m\u001b[0m\u001b[0;34m\u001b[0m\u001b[0m\n\u001b[1;32m   1974\u001b[0m                 \u001b[0mlocal_worker\u001b[0m \u001b[0;34m=\u001b[0m \u001b[0;32mNone\u001b[0m\u001b[0;34m\u001b[0m\u001b[0;34m\u001b[0m\u001b[0m\n\u001b[0;32m-> 1975\u001b[0;31m             return self.sync(\n\u001b[0m\u001b[1;32m   1976\u001b[0m                 \u001b[0mself\u001b[0m\u001b[0;34m.\u001b[0m\u001b[0m_gather\u001b[0m\u001b[0;34m,\u001b[0m\u001b[0;34m\u001b[0m\u001b[0;34m\u001b[0m\u001b[0m\n\u001b[1;32m   1977\u001b[0m                 \u001b[0mfutures\u001b[0m\u001b[0;34m,\u001b[0m\u001b[0;34m\u001b[0m\u001b[0;34m\u001b[0m\u001b[0m\n",
      "\u001b[0;32m/opt/nesi/CS400_centos7_bdw/Python/3.9.5-gimkl-2020a/lib/python3.9/site-packages/distributed/client.py\u001b[0m in \u001b[0;36msync\u001b[0;34m(self, func, asynchronous, callback_timeout, *args, **kwargs)\u001b[0m\n\u001b[1;32m    841\u001b[0m             \u001b[0;32mreturn\u001b[0m \u001b[0mfuture\u001b[0m\u001b[0;34m\u001b[0m\u001b[0;34m\u001b[0m\u001b[0m\n\u001b[1;32m    842\u001b[0m         \u001b[0;32melse\u001b[0m\u001b[0;34m:\u001b[0m\u001b[0;34m\u001b[0m\u001b[0;34m\u001b[0m\u001b[0m\n\u001b[0;32m--> 843\u001b[0;31m             return sync(\n\u001b[0m\u001b[1;32m    844\u001b[0m                 \u001b[0mself\u001b[0m\u001b[0;34m.\u001b[0m\u001b[0mloop\u001b[0m\u001b[0;34m,\u001b[0m \u001b[0mfunc\u001b[0m\u001b[0;34m,\u001b[0m \u001b[0;34m*\u001b[0m\u001b[0margs\u001b[0m\u001b[0;34m,\u001b[0m \u001b[0mcallback_timeout\u001b[0m\u001b[0;34m=\u001b[0m\u001b[0mcallback_timeout\u001b[0m\u001b[0;34m,\u001b[0m \u001b[0;34m**\u001b[0m\u001b[0mkwargs\u001b[0m\u001b[0;34m\u001b[0m\u001b[0;34m\u001b[0m\u001b[0m\n\u001b[1;32m    845\u001b[0m             )\n",
      "\u001b[0;32m/opt/nesi/CS400_centos7_bdw/Python/3.9.5-gimkl-2020a/lib/python3.9/site-packages/distributed/utils.py\u001b[0m in \u001b[0;36msync\u001b[0;34m(loop, func, callback_timeout, *args, **kwargs)\u001b[0m\n\u001b[1;32m    351\u001b[0m     \u001b[0;32mif\u001b[0m \u001b[0merror\u001b[0m\u001b[0;34m[\u001b[0m\u001b[0;36m0\u001b[0m\u001b[0;34m]\u001b[0m\u001b[0;34m:\u001b[0m\u001b[0;34m\u001b[0m\u001b[0;34m\u001b[0m\u001b[0m\n\u001b[1;32m    352\u001b[0m         \u001b[0mtyp\u001b[0m\u001b[0;34m,\u001b[0m \u001b[0mexc\u001b[0m\u001b[0;34m,\u001b[0m \u001b[0mtb\u001b[0m \u001b[0;34m=\u001b[0m \u001b[0merror\u001b[0m\u001b[0;34m[\u001b[0m\u001b[0;36m0\u001b[0m\u001b[0;34m]\u001b[0m\u001b[0;34m\u001b[0m\u001b[0;34m\u001b[0m\u001b[0m\n\u001b[0;32m--> 353\u001b[0;31m         \u001b[0;32mraise\u001b[0m \u001b[0mexc\u001b[0m\u001b[0;34m.\u001b[0m\u001b[0mwith_traceback\u001b[0m\u001b[0;34m(\u001b[0m\u001b[0mtb\u001b[0m\u001b[0;34m)\u001b[0m\u001b[0;34m\u001b[0m\u001b[0;34m\u001b[0m\u001b[0m\n\u001b[0m\u001b[1;32m    354\u001b[0m     \u001b[0;32melse\u001b[0m\u001b[0;34m:\u001b[0m\u001b[0;34m\u001b[0m\u001b[0;34m\u001b[0m\u001b[0m\n\u001b[1;32m    355\u001b[0m         \u001b[0;32mreturn\u001b[0m \u001b[0mresult\u001b[0m\u001b[0;34m[\u001b[0m\u001b[0;36m0\u001b[0m\u001b[0;34m]\u001b[0m\u001b[0;34m\u001b[0m\u001b[0;34m\u001b[0m\u001b[0m\n",
      "\u001b[0;32m/opt/nesi/CS400_centos7_bdw/Python/3.9.5-gimkl-2020a/lib/python3.9/site-packages/distributed/utils.py\u001b[0m in \u001b[0;36mf\u001b[0;34m()\u001b[0m\n\u001b[1;32m    334\u001b[0m             \u001b[0;32mif\u001b[0m \u001b[0mcallback_timeout\u001b[0m \u001b[0;32mis\u001b[0m \u001b[0;32mnot\u001b[0m \u001b[0;32mNone\u001b[0m\u001b[0;34m:\u001b[0m\u001b[0;34m\u001b[0m\u001b[0;34m\u001b[0m\u001b[0m\n\u001b[1;32m    335\u001b[0m                 \u001b[0mfuture\u001b[0m \u001b[0;34m=\u001b[0m \u001b[0masyncio\u001b[0m\u001b[0;34m.\u001b[0m\u001b[0mwait_for\u001b[0m\u001b[0;34m(\u001b[0m\u001b[0mfuture\u001b[0m\u001b[0;34m,\u001b[0m \u001b[0mcallback_timeout\u001b[0m\u001b[0;34m)\u001b[0m\u001b[0;34m\u001b[0m\u001b[0;34m\u001b[0m\u001b[0m\n\u001b[0;32m--> 336\u001b[0;31m             \u001b[0mresult\u001b[0m\u001b[0;34m[\u001b[0m\u001b[0;36m0\u001b[0m\u001b[0;34m]\u001b[0m \u001b[0;34m=\u001b[0m \u001b[0;32myield\u001b[0m \u001b[0mfuture\u001b[0m\u001b[0;34m\u001b[0m\u001b[0;34m\u001b[0m\u001b[0m\n\u001b[0m\u001b[1;32m    337\u001b[0m         \u001b[0;32mexcept\u001b[0m \u001b[0mException\u001b[0m \u001b[0;32mas\u001b[0m \u001b[0mexc\u001b[0m\u001b[0;34m:\u001b[0m\u001b[0;34m\u001b[0m\u001b[0;34m\u001b[0m\u001b[0m\n\u001b[1;32m    338\u001b[0m             \u001b[0merror\u001b[0m\u001b[0;34m[\u001b[0m\u001b[0;36m0\u001b[0m\u001b[0;34m]\u001b[0m \u001b[0;34m=\u001b[0m \u001b[0msys\u001b[0m\u001b[0;34m.\u001b[0m\u001b[0mexc_info\u001b[0m\u001b[0;34m(\u001b[0m\u001b[0;34m)\u001b[0m\u001b[0;34m\u001b[0m\u001b[0;34m\u001b[0m\u001b[0m\n",
      "\u001b[0;32m/opt/nesi/CS400_centos7_bdw/Python/3.9.5-gimkl-2020a/lib/python3.9/site-packages/tornado/gen.py\u001b[0m in \u001b[0;36mrun\u001b[0;34m(self)\u001b[0m\n\u001b[1;32m    760\u001b[0m \u001b[0;34m\u001b[0m\u001b[0m\n\u001b[1;32m    761\u001b[0m                     \u001b[0;32mtry\u001b[0m\u001b[0;34m:\u001b[0m\u001b[0;34m\u001b[0m\u001b[0;34m\u001b[0m\u001b[0m\n\u001b[0;32m--> 762\u001b[0;31m                         \u001b[0mvalue\u001b[0m \u001b[0;34m=\u001b[0m \u001b[0mfuture\u001b[0m\u001b[0;34m.\u001b[0m\u001b[0mresult\u001b[0m\u001b[0;34m(\u001b[0m\u001b[0;34m)\u001b[0m\u001b[0;34m\u001b[0m\u001b[0;34m\u001b[0m\u001b[0m\n\u001b[0m\u001b[1;32m    763\u001b[0m                     \u001b[0;32mexcept\u001b[0m \u001b[0mException\u001b[0m\u001b[0;34m:\u001b[0m\u001b[0;34m\u001b[0m\u001b[0;34m\u001b[0m\u001b[0m\n\u001b[1;32m    764\u001b[0m                         \u001b[0mexc_info\u001b[0m \u001b[0;34m=\u001b[0m \u001b[0msys\u001b[0m\u001b[0;34m.\u001b[0m\u001b[0mexc_info\u001b[0m\u001b[0;34m(\u001b[0m\u001b[0;34m)\u001b[0m\u001b[0;34m\u001b[0m\u001b[0;34m\u001b[0m\u001b[0m\n",
      "\u001b[0;32m/opt/nesi/CS400_centos7_bdw/Python/3.9.5-gimkl-2020a/lib/python3.9/site-packages/distributed/client.py\u001b[0m in \u001b[0;36m_gather\u001b[0;34m(self, futures, errors, direct, local_worker)\u001b[0m\n\u001b[1;32m   1838\u001b[0m                             \u001b[0mexc\u001b[0m \u001b[0;34m=\u001b[0m \u001b[0mCancelledError\u001b[0m\u001b[0;34m(\u001b[0m\u001b[0mkey\u001b[0m\u001b[0;34m)\u001b[0m\u001b[0;34m\u001b[0m\u001b[0;34m\u001b[0m\u001b[0m\n\u001b[1;32m   1839\u001b[0m                         \u001b[0;32melse\u001b[0m\u001b[0;34m:\u001b[0m\u001b[0;34m\u001b[0m\u001b[0;34m\u001b[0m\u001b[0m\n\u001b[0;32m-> 1840\u001b[0;31m                             \u001b[0;32mraise\u001b[0m \u001b[0mexception\u001b[0m\u001b[0;34m.\u001b[0m\u001b[0mwith_traceback\u001b[0m\u001b[0;34m(\u001b[0m\u001b[0mtraceback\u001b[0m\u001b[0;34m)\u001b[0m\u001b[0;34m\u001b[0m\u001b[0;34m\u001b[0m\u001b[0m\n\u001b[0m\u001b[1;32m   1841\u001b[0m                         \u001b[0;32mraise\u001b[0m \u001b[0mexc\u001b[0m\u001b[0;34m\u001b[0m\u001b[0;34m\u001b[0m\u001b[0m\n\u001b[1;32m   1842\u001b[0m                     \u001b[0;32mif\u001b[0m \u001b[0merrors\u001b[0m \u001b[0;34m==\u001b[0m \u001b[0;34m\"skip\"\u001b[0m\u001b[0;34m:\u001b[0m\u001b[0;34m\u001b[0m\u001b[0;34m\u001b[0m\u001b[0m\n",
      "\u001b[0;31mKilledWorker\u001b[0m: (\"('bag-from-delayed-decode-filter-lambda-read-block-lambda-lambda-to_dataframe-3be0b6ad3c2f2cf32a8ba9bba69d9ad4', 550)\", <Worker 'tcp://10.65.4.96:44991', name: 211-0, memory: 0, processing: 8>)"
     ]
    }
   ],
   "source": [
    "## Save files in that directory\n",
    "filename = 'pmdCodeSnippetsViolation'\n",
    "file = '{}/{}*.csv'.format(folder, filename)\n",
    "_ = ddf.to_csv(file, sep=',', index=False)"
   ]
  },
  {
   "cell_type": "code",
   "execution_count": null,
   "id": "99f44ba5-24bd-484c-a066-d242942ac7be",
   "metadata": {},
   "outputs": [],
   "source": []
  }
 ],
 "metadata": {
  "kernelspec": {
   "display_name": "Python 3.9.5 (gimkl-2020a)",
   "language": "python",
   "name": "python395-gimkl-2020a"
  },
  "language_info": {
   "codemirror_mode": {
    "name": "ipython",
    "version": 3
   },
   "file_extension": ".py",
   "mimetype": "text/x-python",
   "name": "python",
   "nbconvert_exporter": "python",
   "pygments_lexer": "ipython3",
   "version": "3.9.5"
  }
 },
 "nbformat": 4,
 "nbformat_minor": 5
}
