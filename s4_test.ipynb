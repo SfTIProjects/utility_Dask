{
 "cells": [
  {
   "cell_type": "code",
   "execution_count": 1,
   "id": "e12474cb-b690-474e-9ecb-8b6b51f83781",
   "metadata": {},
   "outputs": [],
   "source": [
    "import time\n",
    "from datetime import timedelta\n",
    "\n",
    "import html\n",
    "import re\n",
    "\n",
    "import os\n",
    "import ntpath\n",
    "\n",
    "import subprocess as sp\n",
    "\n",
    "import numpy as np\n",
    "import pandas as pd\n",
    "import xml.etree.ElementTree as et\n",
    "\n",
    "import dask\n",
    "import dask.dataframe as dd\n",
    "import dask.bag as bd\n",
    "from dask.distributed import Client\n",
    "from dask_jobqueue import SLURMCluster"
   ]
  },
  {
   "cell_type": "markdown",
   "id": "855fe347-3519-4315-be3c-e410594a12b8",
   "metadata": {},
   "source": [
    "## Enter full path to CSV file"
   ]
  },
  {
   "cell_type": "code",
   "execution_count": 2,
   "id": "14a61883-cbfe-4915-96f5-30261cb7be31",
   "metadata": {},
   "outputs": [],
   "source": [
    "## Enter full path to CSV file\n",
    "\n",
    "#common_path = '../../../../stackexchange_v2/workspace/input'\n",
    "common_path = '../SO_data_dump'\n",
    "\n",
    "## Enter Relative Path to csv file\n",
    "relative_path = 'javaanswers_csv/JavaAnswers*.csv'\n",
    "\n",
    "filepath_javaanswers = '{}/{}'.format(common_path, relative_path)"
   ]
  },
  {
   "cell_type": "markdown",
   "id": "7753b15d-f3fc-4699-af17-3160432cd7f8",
   "metadata": {},
   "source": [
    "## Read Java Answers csv files "
   ]
  },
  {
   "cell_type": "code",
   "execution_count": 3,
   "id": "fad013fb-151e-4f30-bb9a-ede5564db415",
   "metadata": {},
   "outputs": [],
   "source": [
    "ddf_javaanswers = dd.read_csv(filepath_javaanswers, engine='python', error_bad_lines=False, warn_bad_lines=False, dtype=object)"
   ]
  },
  {
   "cell_type": "markdown",
   "id": "0af16c4b-33d7-4b51-8ae4-501c104434b1",
   "metadata": {},
   "source": [
    "## Explore Posts and Java Posts"
   ]
  },
  {
   "cell_type": "code",
   "execution_count": 4,
   "id": "cc1f46d5-ab09-48b3-8d48-a613cb2aa100",
   "metadata": {},
   "outputs": [
    {
     "data": {
      "text/html": [
       "<div><strong>Dask DataFrame Structure:</strong></div>\n",
       "<div>\n",
       "<style scoped>\n",
       "    .dataframe tbody tr th:only-of-type {\n",
       "        vertical-align: middle;\n",
       "    }\n",
       "\n",
       "    .dataframe tbody tr th {\n",
       "        vertical-align: top;\n",
       "    }\n",
       "\n",
       "    .dataframe thead th {\n",
       "        text-align: right;\n",
       "    }\n",
       "</style>\n",
       "<table border=\"1\" class=\"dataframe\">\n",
       "  <thead>\n",
       "    <tr style=\"text-align: right;\">\n",
       "      <th></th>\n",
       "      <th>Id</th>\n",
       "      <th>PostTypeId</th>\n",
       "      <th>AcceptedAnswerId</th>\n",
       "      <th>CreationDate</th>\n",
       "      <th>Score</th>\n",
       "      <th>ViewCount</th>\n",
       "      <th>Body</th>\n",
       "      <th>OwnerUserId</th>\n",
       "      <th>LastEditorUserId</th>\n",
       "      <th>LastEditorDisplayName</th>\n",
       "      <th>LastEditDate</th>\n",
       "      <th>LastActivityDate</th>\n",
       "      <th>Title</th>\n",
       "      <th>Tags</th>\n",
       "      <th>AnswerCount</th>\n",
       "      <th>CommentCount</th>\n",
       "      <th>FavoriteCount</th>\n",
       "      <th>CommunityOwnedDate</th>\n",
       "      <th>ContentLicense</th>\n",
       "      <th>ParentId</th>\n",
       "      <th>DeletionDate</th>\n",
       "      <th>OwnerDisplayName</th>\n",
       "      <th>ClosedDate</th>\n",
       "    </tr>\n",
       "    <tr>\n",
       "      <th>npartitions=9354</th>\n",
       "      <th></th>\n",
       "      <th></th>\n",
       "      <th></th>\n",
       "      <th></th>\n",
       "      <th></th>\n",
       "      <th></th>\n",
       "      <th></th>\n",
       "      <th></th>\n",
       "      <th></th>\n",
       "      <th></th>\n",
       "      <th></th>\n",
       "      <th></th>\n",
       "      <th></th>\n",
       "      <th></th>\n",
       "      <th></th>\n",
       "      <th></th>\n",
       "      <th></th>\n",
       "      <th></th>\n",
       "      <th></th>\n",
       "      <th></th>\n",
       "      <th></th>\n",
       "      <th></th>\n",
       "      <th></th>\n",
       "    </tr>\n",
       "  </thead>\n",
       "  <tbody>\n",
       "    <tr>\n",
       "      <th></th>\n",
       "      <td>object</td>\n",
       "      <td>object</td>\n",
       "      <td>object</td>\n",
       "      <td>object</td>\n",
       "      <td>object</td>\n",
       "      <td>object</td>\n",
       "      <td>object</td>\n",
       "      <td>object</td>\n",
       "      <td>object</td>\n",
       "      <td>object</td>\n",
       "      <td>object</td>\n",
       "      <td>object</td>\n",
       "      <td>object</td>\n",
       "      <td>object</td>\n",
       "      <td>object</td>\n",
       "      <td>object</td>\n",
       "      <td>object</td>\n",
       "      <td>object</td>\n",
       "      <td>object</td>\n",
       "      <td>object</td>\n",
       "      <td>object</td>\n",
       "      <td>object</td>\n",
       "      <td>object</td>\n",
       "    </tr>\n",
       "    <tr>\n",
       "      <th></th>\n",
       "      <td>...</td>\n",
       "      <td>...</td>\n",
       "      <td>...</td>\n",
       "      <td>...</td>\n",
       "      <td>...</td>\n",
       "      <td>...</td>\n",
       "      <td>...</td>\n",
       "      <td>...</td>\n",
       "      <td>...</td>\n",
       "      <td>...</td>\n",
       "      <td>...</td>\n",
       "      <td>...</td>\n",
       "      <td>...</td>\n",
       "      <td>...</td>\n",
       "      <td>...</td>\n",
       "      <td>...</td>\n",
       "      <td>...</td>\n",
       "      <td>...</td>\n",
       "      <td>...</td>\n",
       "      <td>...</td>\n",
       "      <td>...</td>\n",
       "      <td>...</td>\n",
       "      <td>...</td>\n",
       "    </tr>\n",
       "    <tr>\n",
       "      <th>...</th>\n",
       "      <td>...</td>\n",
       "      <td>...</td>\n",
       "      <td>...</td>\n",
       "      <td>...</td>\n",
       "      <td>...</td>\n",
       "      <td>...</td>\n",
       "      <td>...</td>\n",
       "      <td>...</td>\n",
       "      <td>...</td>\n",
       "      <td>...</td>\n",
       "      <td>...</td>\n",
       "      <td>...</td>\n",
       "      <td>...</td>\n",
       "      <td>...</td>\n",
       "      <td>...</td>\n",
       "      <td>...</td>\n",
       "      <td>...</td>\n",
       "      <td>...</td>\n",
       "      <td>...</td>\n",
       "      <td>...</td>\n",
       "      <td>...</td>\n",
       "      <td>...</td>\n",
       "      <td>...</td>\n",
       "    </tr>\n",
       "    <tr>\n",
       "      <th></th>\n",
       "      <td>...</td>\n",
       "      <td>...</td>\n",
       "      <td>...</td>\n",
       "      <td>...</td>\n",
       "      <td>...</td>\n",
       "      <td>...</td>\n",
       "      <td>...</td>\n",
       "      <td>...</td>\n",
       "      <td>...</td>\n",
       "      <td>...</td>\n",
       "      <td>...</td>\n",
       "      <td>...</td>\n",
       "      <td>...</td>\n",
       "      <td>...</td>\n",
       "      <td>...</td>\n",
       "      <td>...</td>\n",
       "      <td>...</td>\n",
       "      <td>...</td>\n",
       "      <td>...</td>\n",
       "      <td>...</td>\n",
       "      <td>...</td>\n",
       "      <td>...</td>\n",
       "      <td>...</td>\n",
       "    </tr>\n",
       "    <tr>\n",
       "      <th></th>\n",
       "      <td>...</td>\n",
       "      <td>...</td>\n",
       "      <td>...</td>\n",
       "      <td>...</td>\n",
       "      <td>...</td>\n",
       "      <td>...</td>\n",
       "      <td>...</td>\n",
       "      <td>...</td>\n",
       "      <td>...</td>\n",
       "      <td>...</td>\n",
       "      <td>...</td>\n",
       "      <td>...</td>\n",
       "      <td>...</td>\n",
       "      <td>...</td>\n",
       "      <td>...</td>\n",
       "      <td>...</td>\n",
       "      <td>...</td>\n",
       "      <td>...</td>\n",
       "      <td>...</td>\n",
       "      <td>...</td>\n",
       "      <td>...</td>\n",
       "      <td>...</td>\n",
       "      <td>...</td>\n",
       "    </tr>\n",
       "  </tbody>\n",
       "</table>\n",
       "</div>\n",
       "<div>Dask Name: read-csv, 9354 tasks</div>"
      ],
      "text/plain": [
       "Dask DataFrame Structure:\n",
       "                      Id PostTypeId AcceptedAnswerId CreationDate   Score ViewCount    Body OwnerUserId LastEditorUserId LastEditorDisplayName LastEditDate LastActivityDate   Title    Tags AnswerCount CommentCount FavoriteCount CommunityOwnedDate ContentLicense ParentId DeletionDate OwnerDisplayName ClosedDate\n",
       "npartitions=9354                                                                                                                                                                                                                                                                                                       \n",
       "                  object     object           object       object  object    object  object      object           object                object       object           object  object  object      object       object        object             object         object   object       object           object     object\n",
       "                     ...        ...              ...          ...     ...       ...     ...         ...              ...                   ...          ...              ...     ...     ...         ...          ...           ...                ...            ...      ...          ...              ...        ...\n",
       "...                  ...        ...              ...          ...     ...       ...     ...         ...              ...                   ...          ...              ...     ...     ...         ...          ...           ...                ...            ...      ...          ...              ...        ...\n",
       "                     ...        ...              ...          ...     ...       ...     ...         ...              ...                   ...          ...              ...     ...     ...         ...          ...           ...                ...            ...      ...          ...              ...        ...\n",
       "                     ...        ...              ...          ...     ...       ...     ...         ...              ...                   ...          ...              ...     ...     ...         ...          ...           ...                ...            ...      ...          ...              ...        ...\n",
       "Dask Name: read-csv, 9354 tasks"
      ]
     },
     "execution_count": 4,
     "metadata": {},
     "output_type": "execute_result"
    }
   ],
   "source": [
    "ddf_javaanswers"
   ]
  },
  {
   "cell_type": "code",
   "execution_count": 5,
   "id": "df9ad1f2-ead3-463f-b825-41b0ea50d1f4",
   "metadata": {},
   "outputs": [
    {
     "data": {
      "text/plain": [
       "9354"
      ]
     },
     "execution_count": 5,
     "metadata": {},
     "output_type": "execute_result"
    }
   ],
   "source": [
    "# Chech the number of partitions\n",
    "ddf_javaanswers.npartitions"
   ]
  },
  {
   "cell_type": "code",
   "execution_count": 6,
   "id": "5e1b7a3f-edea-427f-a0b9-9d7ba58a8fb6",
   "metadata": {},
   "outputs": [
    {
     "data": {
      "text/plain": [
       "Index(['Id', 'PostTypeId', 'AcceptedAnswerId', 'CreationDate', 'Score',\n",
       "       'ViewCount', 'Body', 'OwnerUserId', 'LastEditorUserId',\n",
       "       'LastEditorDisplayName', 'LastEditDate', 'LastActivityDate', 'Title',\n",
       "       'Tags', 'AnswerCount', 'CommentCount', 'FavoriteCount',\n",
       "       'CommunityOwnedDate', 'ContentLicense', 'ParentId', 'DeletionDate',\n",
       "       'OwnerDisplayName', 'ClosedDate'],\n",
       "      dtype='object')"
      ]
     },
     "execution_count": 6,
     "metadata": {},
     "output_type": "execute_result"
    }
   ],
   "source": [
    "ddf_javaanswers.columns"
   ]
  },
  {
   "cell_type": "code",
   "execution_count": 7,
   "id": "33f40076-683f-4eb0-b4e2-a25cf0ffcf0e",
   "metadata": {},
   "outputs": [],
   "source": [
    "ddf_javaanswers = ddf_javaanswers.partitions[0:10]"
   ]
  },
  {
   "cell_type": "code",
   "execution_count": 8,
   "id": "879dfb11-6869-4947-aa2d-069b828da1fc",
   "metadata": {},
   "outputs": [],
   "source": [
    "#ddf_javaanswers.head(2)"
   ]
  },
  {
   "cell_type": "markdown",
   "id": "f9354180-aa9b-4ce7-abec-6e45cabeb117",
   "metadata": {},
   "source": [
    "## Start a Dask cluster using SLURM jobs as workers."
   ]
  },
  {
   "cell_type": "code",
   "execution_count": 9,
   "id": "670f332c-3b70-453f-a582-a1c7c02cb86a",
   "metadata": {},
   "outputs": [],
   "source": [
    "#http://jobqueue.dask.org/en/latest/generated/dask_jobqueue.SLURMCluster.html\n",
    "dask.config.set(\n",
    "    {\n",
    "        \"distributed.worker.memory.target\": False,  # avoid spilling to disk\n",
    "        \"distributed.worker.memory.spill\": False,  # avoid spilling to disk\n",
    "    }\n",
    ")\n",
    "cluster = SLURMCluster(\n",
    "    cores=10, #cores=24, # we set each job to have 1 Worker, each using 10 cores (threads) and 8 GB of memory\n",
    "    processes=2,\n",
    "    memory=\"8GiB\",\n",
    "    walltime=\"0-30:30\",# walltime=\"0-00:30\",\n",
    "    log_directory=\"../dask/logs\",  # folder for SLURM logs for each worker\n",
    "    local_directory=\"../dask\",  # folder for workers data\n",
    ")"
   ]
  },
  {
   "cell_type": "markdown",
   "id": "4ed9112a-59a7-4ba9-b751-24f469dcc489",
   "metadata": {},
   "source": [
    "Spawn between 20 to 100 workers and connect a client to be able use them."
   ]
  },
  {
   "cell_type": "code",
   "execution_count": 10,
   "id": "77ad1dc0-d683-479c-9860-feceff5fb113",
   "metadata": {},
   "outputs": [
    {
     "data": {
      "text/html": [
       "<table style=\"border: 2px solid white;\">\n",
       "<tr>\n",
       "<td style=\"vertical-align: top; border: 0px solid white\">\n",
       "<h3 style=\"text-align: left;\">Client</h3>\n",
       "<ul style=\"text-align: left; list-style: none; margin: 0; padding: 0;\">\n",
       "  <li><b>Scheduler: </b>tcp://192.168.94.154:38114</li>\n",
       "  <li><b>Dashboard: </b><a href='http://192.168.94.154:8787/status' target='_blank'>http://192.168.94.154:8787/status</a></li>\n",
       "</ul>\n",
       "</td>\n",
       "<td style=\"vertical-align: top; border: 0px solid white\">\n",
       "<h3 style=\"text-align: left;\">Cluster</h3>\n",
       "<ul style=\"text-align: left; list-style:none; margin: 0; padding: 0;\">\n",
       "  <li><b>Workers: </b>0</li>\n",
       "  <li><b>Cores: </b>0</li>\n",
       "  <li><b>Memory: </b>0 B</li>\n",
       "</ul>\n",
       "</td>\n",
       "</tr>\n",
       "</table>"
      ],
      "text/plain": [
       "<Client: 'tcp://192.168.94.154:38114' processes=0 threads=0, memory=0 B>"
      ]
     },
     "execution_count": 10,
     "metadata": {},
     "output_type": "execute_result"
    }
   ],
   "source": [
    "#cluster.scale(n=20) # ask for 20 jobs or workers\n",
    "# This also works with adaptive clusters. This automatically launches and kill workers based on load.\n",
    "# we tell our cluster to autoscale between 10 and 20 workers depending on the load\n",
    "cluster.adapt(minimum_jobs=50, maximum_jobs=200)\n",
    "#cluster.adapt(maximum_jobs=20)\n",
    "client = Client(cluster)\n",
    "client"
   ]
  },
  {
   "cell_type": "markdown",
   "id": "70fce5e2-caa0-453c-b2ef-21a9c3fd33ed",
   "metadata": {},
   "source": [
    "## 1st Phase Computation \n",
    "- Join two columns Post 'Id' and 'ParentId' to PIdx\n",
    "- Set 'PIdx' as the new index"
   ]
  },
  {
   "cell_type": "code",
   "execution_count": 11,
   "id": "8cc21e90-d071-4d6d-9760-d311ef2d2431",
   "metadata": {},
   "outputs": [],
   "source": [
    "ddf_javaanswers = ddf_javaanswers.reset_index()\n",
    "ddf_javaanswers['PIdx'] = ddf_javaanswers['Id'].str.cat(ddf_javaanswers['ParentId'],sep=\"_\")\n",
    "#Join two columns 'index' to 'Id' and 'ParentId' \n",
    "ddf_javaanswers['Idx'] = ddf_javaanswers['PIdx'].str.cat(ddf_javaanswers['index'].astype(str),sep=\"_\")\n",
    "ddf_javaanswers = ddf_javaanswers.set_index('Idx')"
   ]
  },
  {
   "cell_type": "markdown",
   "id": "c5a20fce-23f0-46da-b32b-526815972564",
   "metadata": {},
   "source": [
    "## 2nd Phase Computation \n",
    "- Extract all the code form the answers\n",
    "- result gives two options\n",
    "    - 1st is enclsed in the code tags\n",
    "    - 2nd collets the code from the code tags"
   ]
  },
  {
   "cell_type": "code",
   "execution_count": 12,
   "id": "bcacc593-470c-4366-a541-754314b6828f",
   "metadata": {},
   "outputs": [],
   "source": [
    "ddf_javarawcode = ddf_javaanswers.Body.str.extractall(r'(<code>(.|\\n|\\r\\n)*?<\\/code>)')\n",
    "#ddf_javarawcode = ddf_javaanswers.Body.str.extractall(r'(<code[^>]*>((?:.|\\s)*?)</code>)')\n",
    "#https://stackoverflow.com/questions/51212480/regex-for-mask-function-in-dask\n",
    "\n",
    "#triggers the compute job but it will keep it on the works without retrieving resulte\n",
    "#ddf_javarawcode = ddf_javarawcode.persist()"
   ]
  },
  {
   "cell_type": "code",
   "execution_count": 13,
   "id": "3363ec10-e94b-426e-a083-0de0dcfa4950",
   "metadata": {},
   "outputs": [],
   "source": [
    "# rename column 0 to 'code_in_tags' and column 1 to 'Code'\n",
    "ddf_javarawcode = ddf_javarawcode.rename(columns={0: 'Code', 1: 'Others'}) "
   ]
  },
  {
   "cell_type": "code",
   "execution_count": 14,
   "id": "27976c79-cec3-4012-860c-40503a0a6c91",
   "metadata": {},
   "outputs": [
    {
     "data": {
      "text/plain": [
       "Index(['Code', 'Others'], dtype='object')"
      ]
     },
     "execution_count": 14,
     "metadata": {},
     "output_type": "execute_result"
    }
   ],
   "source": [
    "ddf_javarawcode.columns"
   ]
  },
  {
   "cell_type": "code",
   "execution_count": 15,
   "id": "3d237133-b709-4f80-a766-297bd9f9936f",
   "metadata": {},
   "outputs": [],
   "source": [
    "# retrieve just the column 1 in a form of dataferam\n",
    "ddf_javarawcode = ddf_javarawcode[['Code']].astype(str)"
   ]
  },
  {
   "cell_type": "code",
   "execution_count": 16,
   "id": "3fca9d6b-d05f-48b3-ad78-b151d7941fee",
   "metadata": {},
   "outputs": [],
   "source": [
    "#https://stackoverflow.com/questions/60088353/convert-html-characters-to-strings-in-pandas-dataframe\n",
    "#ddf_javarawcode = ddf_javarawcode.applymap(html.unescape)"
   ]
  },
  {
   "cell_type": "code",
   "execution_count": 17,
   "id": "857330b5-7968-4160-94d5-2533f2d56d99",
   "metadata": {},
   "outputs": [],
   "source": [
    "ddf_javarawcode = ddf_javarawcode.reset_index() # to unstack the group by"
   ]
  },
  {
   "cell_type": "code",
   "execution_count": 18,
   "id": "70a06625-3c38-4ae8-a725-694ba6b43146",
   "metadata": {},
   "outputs": [
    {
     "name": "stderr",
     "output_type": "stream",
     "text": [
      "/opt/nesi/CS400_centos7_bdw/Python/3.9.5-gimkl-2020a/lib/python3.9/site-packages/dask/dataframe/accessor.py:49: FutureWarning: The default value of regex will change from True to False in a future version.\n",
      "  out = getattr(getattr(obj, accessor, obj), attr)(*args, **kwargs)\n"
     ]
    }
   ],
   "source": [
    "#replace the <code> </code> Tags in the code column with empty string\n",
    "ddf_javarawcode['Code'] = ddf_javarawcode.Code.str.replace(r'(<code>)|(<\\/code>)', r'')"
   ]
  },
  {
   "cell_type": "markdown",
   "id": "9fb9d5b6-e6f6-43a3-b6b9-c1a61148bde1",
   "metadata": {},
   "source": [
    "## 4th Phase Computation \n",
    "- Check Lengths"
   ]
  },
  {
   "cell_type": "code",
   "execution_count": 19,
   "id": "81332ba4-077b-4376-a3b4-75f9f80ba882",
   "metadata": {},
   "outputs": [],
   "source": [
    "#Get the Length of initial java answers\n",
    "init_javaanswers_len = len(ddf_javaanswers.index) #####"
   ]
  },
  {
   "cell_type": "code",
   "execution_count": 20,
   "id": "d8882ce3-7cde-404b-9459-6367cc8edf02",
   "metadata": {},
   "outputs": [],
   "source": [
    "#Get the Length after raw codes are extracted\n",
    "javarawcode_len = len(ddf_javarawcode.index)"
   ]
  },
  {
   "cell_type": "code",
   "execution_count": 21,
   "id": "927ff682-b92f-4514-825f-e891ef99cd48",
   "metadata": {},
   "outputs": [
    {
     "name": "stdout",
     "output_type": "stream",
     "text": [
      "Initial Number of Java Post: 5800\n"
     ]
    }
   ],
   "source": [
    "#Get the Number of Answers related to Java Post\n",
    "print(\"Initial Number of Java Post: {}\".format(init_javaanswers_len))"
   ]
  },
  {
   "cell_type": "code",
   "execution_count": 22,
   "id": "e5ebd4aa-ea67-4f71-9ce4-b632f752b622",
   "metadata": {},
   "outputs": [
    {
     "name": "stdout",
     "output_type": "stream",
     "text": [
      "Number after Java code after extraction: 4284\n"
     ]
    }
   ],
   "source": [
    "#Get the Length after raw codes are extracted \n",
    "# because the regex extractall() gets multiple <code>...<\\code> matches in just one post\n",
    "# the javarawcode_len is expected to be more\n",
    "print(\"Number after Java code after extraction: {}\".format(javarawcode_len))"
   ]
  },
  {
   "cell_type": "markdown",
   "id": "96aa354c-9aca-404a-bb78-4a8e1a9be381",
   "metadata": {
    "tags": []
   },
   "source": [
    "## 5th Phase Computation \n",
    "- Save ddf_javarawcode into a csv file"
   ]
  },
  {
   "cell_type": "markdown",
   "id": "0da73c3d-a8a1-41c9-9eab-ee041011f544",
   "metadata": {},
   "source": [
    "### Make a folder in that directory"
   ]
  },
  {
   "cell_type": "raw",
   "id": "0558abc4-c89c-42fa-af6a-f8ff25b29c61",
   "metadata": {},
   "source": [
    "## Make a folder in that directory\n",
    "folder = '{}/javarawcodes_csv'.format(common_path)\n",
    "# output: path/to/Post.csv => path/to\n",
    "mkdir_cmd = 'mkdir {}'.format(folder)\n",
    "cmd = sp.run(\n",
    "    mkdir_cmd, # command\n",
    "    capture_output=True,\n",
    "    text=True,\n",
    "    shell=True\n",
    ")"
   ]
  },
  {
   "cell_type": "code",
   "execution_count": 23,
   "id": "c68472e3-5e53-4ec2-9565-ce20ed035089",
   "metadata": {},
   "outputs": [
    {
     "ename": "NameError",
     "evalue": "name 'folder' is not defined",
     "output_type": "error",
     "traceback": [
      "\u001b[0;31m---------------------------------------------------------------------------\u001b[0m",
      "\u001b[0;31mNameError\u001b[0m                                 Traceback (most recent call last)",
      "\u001b[0;32m<ipython-input-23-393843865080>\u001b[0m in \u001b[0;36m<module>\u001b[0;34m\u001b[0m\n\u001b[0;32m----> 1\u001b[0;31m \u001b[0mprint\u001b[0m\u001b[0;34m(\u001b[0m\u001b[0mfolder\u001b[0m\u001b[0;34m)\u001b[0m\u001b[0;34m\u001b[0m\u001b[0;34m\u001b[0m\u001b[0m\n\u001b[0m",
      "\u001b[0;31mNameError\u001b[0m: name 'folder' is not defined"
     ]
    }
   ],
   "source": [
    "print(folder)"
   ]
  },
  {
   "cell_type": "markdown",
   "id": "82e9bec6-6396-4507-ad8e-0b605248340b",
   "metadata": {},
   "source": [
    "### Save files in that directory"
   ]
  },
  {
   "cell_type": "raw",
   "id": "0efa1126-c29d-480e-b21e-b8f2316d1610",
   "metadata": {},
   "source": [
    "## Save files in that directory\n",
    "filename = 'JavaRawCodes'\n",
    "file = '{}/{}*.csv'.format(folder, filename)\n",
    "_ = ddf_javarawcode.to_csv(file, sep=',', index=False)"
   ]
  },
  {
   "cell_type": "markdown",
   "id": "b0cfff94-a02c-42d2-8ce1-1357f0a6e851",
   "metadata": {
    "tags": []
   },
   "source": [
    "## Write the java codes into saparate files, and name each file according to the public class"
   ]
  },
  {
   "cell_type": "code",
   "execution_count": null,
   "id": "1eb5277f-4881-4bfd-8e27-204a2a745caa",
   "metadata": {},
   "outputs": [],
   "source": []
  }
 ],
 "metadata": {
  "kernelspec": {
   "display_name": "Python 3.9.5 (gimkl-2020a)",
   "language": "python",
   "name": "python395-gimkl-2020a"
  },
  "language_info": {
   "codemirror_mode": {
    "name": "ipython",
    "version": 3
   },
   "file_extension": ".py",
   "mimetype": "text/x-python",
   "name": "python",
   "nbconvert_exporter": "python",
   "pygments_lexer": "ipython3",
   "version": "3.9.5"
  }
 },
 "nbformat": 4,
 "nbformat_minor": 5
}
