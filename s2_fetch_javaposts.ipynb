{
 "cells": [
  {
   "cell_type": "code",
   "execution_count": 1,
   "id": "6973d500-b558-49ca-8915-194011e487c6",
   "metadata": {},
   "outputs": [],
   "source": [
    "import time\n",
    "from datetime import timedelta\n",
    "\n",
    "import html\n",
    "import re\n",
    "\n",
    "import os\n",
    "import ntpath\n",
    "\n",
    "import subprocess as sp\n",
    "\n",
    "import numpy as np\n",
    "import pandas as pd\n",
    "import xml.etree.ElementTree as et\n",
    "\n",
    "import dask\n",
    "import dask.dataframe as dd\n",
    "import dask.bag as bd\n",
    "from dask.distributed import Client\n",
    "from dask_jobqueue import SLURMCluster"
   ]
  },
  {
   "cell_type": "code",
   "execution_count": 2,
   "id": "1ca4fb27-6c90-4160-aab2-624356efbd05",
   "metadata": {},
   "outputs": [],
   "source": [
    "def get_filepath_wtout_ext(file_wt_full_path):\n",
    "    #/a/b/c.csv => /a/b/c\n",
    "    return os.path.splitext(file_wt_full_path)[0]"
   ]
  },
  {
   "cell_type": "code",
   "execution_count": 3,
   "id": "410911c3-a3e8-43e2-a168-2840dd5165b3",
   "metadata": {},
   "outputs": [],
   "source": [
    "def get_filename(file_wt_full_path):\n",
    "    filepath_wout_ext = get_filepath_wtout_ext(file_wt_full_path)\n",
    "    #/a/b/c => c\n",
    "    return ntpath.basename(filepath_wout_ext)\n"
   ]
  },
  {
   "cell_type": "code",
   "execution_count": 4,
   "id": "621b2a08-4d5a-4253-9f6d-3f25ddbd7061",
   "metadata": {},
   "outputs": [],
   "source": [
    "def get_filepath(file_wt_full_path):\n",
    "    #/a/b/c.csv => /a/b\n",
    "    return os.path.dirname(file_wt_full_path)"
   ]
  },
  {
   "cell_type": "code",
   "execution_count": 5,
   "id": "8c4bbada-1d72-4460-8f87-fbaf566480c5",
   "metadata": {},
   "outputs": [],
   "source": [
    "def get_file(file_wt_full_path):\n",
    "    #/a/b/c.csv => c.csv\n",
    "    return os.path.basename(file_wt_full_path)"
   ]
  },
  {
   "cell_type": "markdown",
   "id": "5fd92652-38a3-433a-9818-89a7e508b8dd",
   "metadata": {},
   "source": [
    "## Enter full path to xml file"
   ]
  },
  {
   "cell_type": "code",
   "execution_count": 6,
   "id": "745fdf46-a4e7-4597-a855-e9c21373a6b0",
   "metadata": {},
   "outputs": [],
   "source": [
    "## Enter full path to xml file\n",
    "#xml_file = 'Posts*.xml'\n",
    "\n",
    "#common_path = '../../../../stackexchange_v2/workspace/input'\n",
    "common_path = '../SO_data_dump'\n",
    "relative_path = 'posts/Posts*.csv'\n",
    "\n",
    "filepath = '{}/{}'.format(common_path, relative_path)"
   ]
  },
  {
   "cell_type": "code",
   "execution_count": 7,
   "id": "ffc7e613-2782-4f9a-ad0e-cf5a6216e169",
   "metadata": {},
   "outputs": [],
   "source": [
    "#filepath=input()"
   ]
  },
  {
   "cell_type": "markdown",
   "id": "6d1e17f2-94ec-4527-ad05-43dc6675e4e8",
   "metadata": {},
   "source": [
    "## Read csv file"
   ]
  },
  {
   "cell_type": "code",
   "execution_count": 8,
   "id": "21cacf20-7bf2-4d05-8e3d-995623e72d5c",
   "metadata": {},
   "outputs": [],
   "source": [
    "ddf = dd.read_csv(filepath, engine='python', error_bad_lines=False, warn_bad_lines=False, dtype=object)"
   ]
  },
  {
   "cell_type": "code",
   "execution_count": 9,
   "id": "c9000ce1-3d53-4c2b-aac3-dc25219e6a3e",
   "metadata": {},
   "outputs": [
    {
     "data": {
      "text/html": [
       "<div><strong>Dask DataFrame Structure:</strong></div>\n",
       "<div>\n",
       "<style scoped>\n",
       "    .dataframe tbody tr th:only-of-type {\n",
       "        vertical-align: middle;\n",
       "    }\n",
       "\n",
       "    .dataframe tbody tr th {\n",
       "        vertical-align: top;\n",
       "    }\n",
       "\n",
       "    .dataframe thead th {\n",
       "        text-align: right;\n",
       "    }\n",
       "</style>\n",
       "<table border=\"1\" class=\"dataframe\">\n",
       "  <thead>\n",
       "    <tr style=\"text-align: right;\">\n",
       "      <th></th>\n",
       "      <th>Id</th>\n",
       "      <th>PostTypeId</th>\n",
       "      <th>AcceptedAnswerId</th>\n",
       "      <th>CreationDate</th>\n",
       "      <th>Score</th>\n",
       "      <th>ViewCount</th>\n",
       "      <th>Body</th>\n",
       "      <th>OwnerUserId</th>\n",
       "      <th>LastEditorUserId</th>\n",
       "      <th>LastEditorDisplayName</th>\n",
       "      <th>LastEditDate</th>\n",
       "      <th>LastActivityDate</th>\n",
       "      <th>Title</th>\n",
       "      <th>Tags</th>\n",
       "      <th>AnswerCount</th>\n",
       "      <th>CommentCount</th>\n",
       "      <th>FavoriteCount</th>\n",
       "      <th>CommunityOwnedDate</th>\n",
       "      <th>ContentLicense</th>\n",
       "      <th>ParentId</th>\n",
       "      <th>DeletionDate</th>\n",
       "      <th>OwnerDisplayName</th>\n",
       "      <th>ClosedDate</th>\n",
       "    </tr>\n",
       "    <tr>\n",
       "      <th>npartitions=9354</th>\n",
       "      <th></th>\n",
       "      <th></th>\n",
       "      <th></th>\n",
       "      <th></th>\n",
       "      <th></th>\n",
       "      <th></th>\n",
       "      <th></th>\n",
       "      <th></th>\n",
       "      <th></th>\n",
       "      <th></th>\n",
       "      <th></th>\n",
       "      <th></th>\n",
       "      <th></th>\n",
       "      <th></th>\n",
       "      <th></th>\n",
       "      <th></th>\n",
       "      <th></th>\n",
       "      <th></th>\n",
       "      <th></th>\n",
       "      <th></th>\n",
       "      <th></th>\n",
       "      <th></th>\n",
       "      <th></th>\n",
       "    </tr>\n",
       "  </thead>\n",
       "  <tbody>\n",
       "    <tr>\n",
       "      <th></th>\n",
       "      <td>object</td>\n",
       "      <td>object</td>\n",
       "      <td>object</td>\n",
       "      <td>object</td>\n",
       "      <td>object</td>\n",
       "      <td>object</td>\n",
       "      <td>object</td>\n",
       "      <td>object</td>\n",
       "      <td>object</td>\n",
       "      <td>object</td>\n",
       "      <td>object</td>\n",
       "      <td>object</td>\n",
       "      <td>object</td>\n",
       "      <td>object</td>\n",
       "      <td>object</td>\n",
       "      <td>object</td>\n",
       "      <td>object</td>\n",
       "      <td>object</td>\n",
       "      <td>object</td>\n",
       "      <td>object</td>\n",
       "      <td>object</td>\n",
       "      <td>object</td>\n",
       "      <td>object</td>\n",
       "    </tr>\n",
       "    <tr>\n",
       "      <th></th>\n",
       "      <td>...</td>\n",
       "      <td>...</td>\n",
       "      <td>...</td>\n",
       "      <td>...</td>\n",
       "      <td>...</td>\n",
       "      <td>...</td>\n",
       "      <td>...</td>\n",
       "      <td>...</td>\n",
       "      <td>...</td>\n",
       "      <td>...</td>\n",
       "      <td>...</td>\n",
       "      <td>...</td>\n",
       "      <td>...</td>\n",
       "      <td>...</td>\n",
       "      <td>...</td>\n",
       "      <td>...</td>\n",
       "      <td>...</td>\n",
       "      <td>...</td>\n",
       "      <td>...</td>\n",
       "      <td>...</td>\n",
       "      <td>...</td>\n",
       "      <td>...</td>\n",
       "      <td>...</td>\n",
       "    </tr>\n",
       "    <tr>\n",
       "      <th>...</th>\n",
       "      <td>...</td>\n",
       "      <td>...</td>\n",
       "      <td>...</td>\n",
       "      <td>...</td>\n",
       "      <td>...</td>\n",
       "      <td>...</td>\n",
       "      <td>...</td>\n",
       "      <td>...</td>\n",
       "      <td>...</td>\n",
       "      <td>...</td>\n",
       "      <td>...</td>\n",
       "      <td>...</td>\n",
       "      <td>...</td>\n",
       "      <td>...</td>\n",
       "      <td>...</td>\n",
       "      <td>...</td>\n",
       "      <td>...</td>\n",
       "      <td>...</td>\n",
       "      <td>...</td>\n",
       "      <td>...</td>\n",
       "      <td>...</td>\n",
       "      <td>...</td>\n",
       "      <td>...</td>\n",
       "    </tr>\n",
       "    <tr>\n",
       "      <th></th>\n",
       "      <td>...</td>\n",
       "      <td>...</td>\n",
       "      <td>...</td>\n",
       "      <td>...</td>\n",
       "      <td>...</td>\n",
       "      <td>...</td>\n",
       "      <td>...</td>\n",
       "      <td>...</td>\n",
       "      <td>...</td>\n",
       "      <td>...</td>\n",
       "      <td>...</td>\n",
       "      <td>...</td>\n",
       "      <td>...</td>\n",
       "      <td>...</td>\n",
       "      <td>...</td>\n",
       "      <td>...</td>\n",
       "      <td>...</td>\n",
       "      <td>...</td>\n",
       "      <td>...</td>\n",
       "      <td>...</td>\n",
       "      <td>...</td>\n",
       "      <td>...</td>\n",
       "      <td>...</td>\n",
       "    </tr>\n",
       "    <tr>\n",
       "      <th></th>\n",
       "      <td>...</td>\n",
       "      <td>...</td>\n",
       "      <td>...</td>\n",
       "      <td>...</td>\n",
       "      <td>...</td>\n",
       "      <td>...</td>\n",
       "      <td>...</td>\n",
       "      <td>...</td>\n",
       "      <td>...</td>\n",
       "      <td>...</td>\n",
       "      <td>...</td>\n",
       "      <td>...</td>\n",
       "      <td>...</td>\n",
       "      <td>...</td>\n",
       "      <td>...</td>\n",
       "      <td>...</td>\n",
       "      <td>...</td>\n",
       "      <td>...</td>\n",
       "      <td>...</td>\n",
       "      <td>...</td>\n",
       "      <td>...</td>\n",
       "      <td>...</td>\n",
       "      <td>...</td>\n",
       "    </tr>\n",
       "  </tbody>\n",
       "</table>\n",
       "</div>\n",
       "<div>Dask Name: read-csv, 9354 tasks</div>"
      ],
      "text/plain": [
       "Dask DataFrame Structure:\n",
       "                      Id PostTypeId AcceptedAnswerId CreationDate   Score ViewCount    Body OwnerUserId LastEditorUserId LastEditorDisplayName LastEditDate LastActivityDate   Title    Tags AnswerCount CommentCount FavoriteCount CommunityOwnedDate ContentLicense ParentId DeletionDate OwnerDisplayName ClosedDate\n",
       "npartitions=9354                                                                                                                                                                                                                                                                                                       \n",
       "                  object     object           object       object  object    object  object      object           object                object       object           object  object  object      object       object        object             object         object   object       object           object     object\n",
       "                     ...        ...              ...          ...     ...       ...     ...         ...              ...                   ...          ...              ...     ...     ...         ...          ...           ...                ...            ...      ...          ...              ...        ...\n",
       "...                  ...        ...              ...          ...     ...       ...     ...         ...              ...                   ...          ...              ...     ...     ...         ...          ...           ...                ...            ...      ...          ...              ...        ...\n",
       "                     ...        ...              ...          ...     ...       ...     ...         ...              ...                   ...          ...              ...     ...     ...         ...          ...           ...                ...            ...      ...          ...              ...        ...\n",
       "                     ...        ...              ...          ...     ...       ...     ...         ...              ...                   ...          ...              ...     ...     ...         ...          ...           ...                ...            ...      ...          ...              ...        ...\n",
       "Dask Name: read-csv, 9354 tasks"
      ]
     },
     "execution_count": 9,
     "metadata": {},
     "output_type": "execute_result"
    }
   ],
   "source": [
    "ddf"
   ]
  },
  {
   "cell_type": "code",
   "execution_count": 10,
   "id": "42608a0e-6161-40a6-9897-41482a9dd9d3",
   "metadata": {},
   "outputs": [
    {
     "data": {
      "text/plain": [
       "Index(['Id', 'PostTypeId', 'AcceptedAnswerId', 'CreationDate', 'Score',\n",
       "       'ViewCount', 'Body', 'OwnerUserId', 'LastEditorUserId',\n",
       "       'LastEditorDisplayName', 'LastEditDate', 'LastActivityDate', 'Title',\n",
       "       'Tags', 'AnswerCount', 'CommentCount', 'FavoriteCount',\n",
       "       'CommunityOwnedDate', 'ContentLicense', 'ParentId', 'DeletionDate',\n",
       "       'OwnerDisplayName', 'ClosedDate'],\n",
       "      dtype='object')"
      ]
     },
     "execution_count": 10,
     "metadata": {},
     "output_type": "execute_result"
    }
   ],
   "source": [
    "ddf.columns"
   ]
  },
  {
   "cell_type": "code",
   "execution_count": 11,
   "id": "cd9523cc-726a-4a20-8167-e093a5ff6168",
   "metadata": {},
   "outputs": [
    {
     "data": {
      "text/plain": [
       "9354"
      ]
     },
     "execution_count": 11,
     "metadata": {},
     "output_type": "execute_result"
    }
   ],
   "source": [
    "ddf.npartitions"
   ]
  },
  {
   "cell_type": "markdown",
   "id": "ffbe2870-a849-444b-a09d-db523bdd6ca4",
   "metadata": {},
   "source": [
    "## Start a Dask cluster using SLURM jobs as workers.\n",
    "\n",
    "There are a couple of things we need to configure here:\n",
    "\n",
    "disabling the mechanism to write on disk when workers run out of memory,\n",
    "memory, CPUs, maximum time and number of workers per SLURM job,\n",
    "dask folders for log files and workers data.\n",
    "We recommend putting the log folder and workers data folders in your /nesi/nobackup/<project_code> folder, most indicated for temporary files (see NeSI File Systems and Quotas).\n",
    "\n",
    "All of these options can be set in configuration files, see Dask configuration and Dask jobqueue configuration for more information."
   ]
  },
  {
   "cell_type": "code",
   "execution_count": 12,
   "id": "823e240c-b3a6-4cf6-9c8c-3f457f86c210",
   "metadata": {},
   "outputs": [],
   "source": [
    "#http://jobqueue.dask.org/en/latest/generated/dask_jobqueue.SLURMCluster.html\n",
    "dask.config.set(\n",
    "    {\n",
    "        \"distributed.worker.memory.target\": False,  # avoid spilling to disk\n",
    "        \"distributed.worker.memory.spill\": False,  # avoid spilling to disk\n",
    "    }\n",
    ")\n",
    "cluster = SLURMCluster(\n",
    "    cores=10, #cores=24, # we set each job to have 1 Worker, each using 10 cores (threads) and 8 GB of memory\n",
    "    processes=2,\n",
    "    memory=\"8GiB\",\n",
    "    walltime=\"0-30:30\",# walltime=\"0-00:30\",\n",
    "    log_directory=\"../dask/logs\",  # folder for SLURM logs for each worker\n",
    "    local_directory=\"../dask\",  # folder for workers data\n",
    ")"
   ]
  },
  {
   "cell_type": "code",
   "execution_count": 13,
   "id": "5161be2c-3c73-4029-80a7-41f2396cf825",
   "metadata": {},
   "outputs": [
    {
     "data": {
      "text/html": [
       "<table style=\"border: 2px solid white;\">\n",
       "<tr>\n",
       "<td style=\"vertical-align: top; border: 0px solid white\">\n",
       "<h3 style=\"text-align: left;\">Client</h3>\n",
       "<ul style=\"text-align: left; list-style: none; margin: 0; padding: 0;\">\n",
       "  <li><b>Scheduler: </b>tcp://192.168.94.166:37768</li>\n",
       "  <li><b>Dashboard: </b><a href='http://192.168.94.166:8787/status' target='_blank'>http://192.168.94.166:8787/status</a></li>\n",
       "</ul>\n",
       "</td>\n",
       "<td style=\"vertical-align: top; border: 0px solid white\">\n",
       "<h3 style=\"text-align: left;\">Cluster</h3>\n",
       "<ul style=\"text-align: left; list-style:none; margin: 0; padding: 0;\">\n",
       "  <li><b>Workers: </b>0</li>\n",
       "  <li><b>Cores: </b>0</li>\n",
       "  <li><b>Memory: </b>0 B</li>\n",
       "</ul>\n",
       "</td>\n",
       "</tr>\n",
       "</table>"
      ],
      "text/plain": [
       "<Client: 'tcp://192.168.94.166:37768' processes=0 threads=0, memory=0 B>"
      ]
     },
     "execution_count": 13,
     "metadata": {},
     "output_type": "execute_result"
    }
   ],
   "source": [
    "#cluster.adapt(minimum_jobs=20, maximum_jobs=200)\n",
    "cluster.adapt(minimum_jobs=10, maximum_jobs=200)\n",
    "client = Client(cluster)\n",
    "client"
   ]
  },
  {
   "cell_type": "code",
   "execution_count": 14,
   "id": "1f2b52f3-a3ac-4992-a51a-af3a1d59009b",
   "metadata": {},
   "outputs": [
    {
     "data": {
      "text/plain": [
       "{'scheduler': {'host': {'python': '3.9.5.final.0',\n",
       "   'python-bits': 64,\n",
       "   'OS': 'Linux',\n",
       "   'OS-release': '3.10.0-693.2.2.el7.x86_64',\n",
       "   'machine': 'x86_64',\n",
       "   'processor': 'x86_64',\n",
       "   'byteorder': 'little',\n",
       "   'LC_ALL': 'None',\n",
       "   'LANG': 'en_US.UTF-8'},\n",
       "  'packages': {'python': '3.9.5.final.0',\n",
       "   'dask': '2021.04.1',\n",
       "   'distributed': '2021.04.1',\n",
       "   'msgpack': '1.0.2',\n",
       "   'cloudpickle': '1.6.0',\n",
       "   'tornado': '6.1',\n",
       "   'toolz': '0.11.1',\n",
       "   'numpy': '1.20.2',\n",
       "   'lz4': None,\n",
       "   'blosc': None}},\n",
       " 'workers': {},\n",
       " 'client': {'host': {'python': '3.9.5.final.0',\n",
       "   'python-bits': 64,\n",
       "   'OS': 'Linux',\n",
       "   'OS-release': '3.10.0-693.2.2.el7.x86_64',\n",
       "   'machine': 'x86_64',\n",
       "   'processor': 'x86_64',\n",
       "   'byteorder': 'little',\n",
       "   'LC_ALL': 'None',\n",
       "   'LANG': 'en_US.UTF-8'},\n",
       "  'packages': {'python': '3.9.5.final.0',\n",
       "   'dask': '2021.04.1',\n",
       "   'distributed': '2021.04.1',\n",
       "   'msgpack': '1.0.2',\n",
       "   'cloudpickle': '1.6.0',\n",
       "   'tornado': '6.1',\n",
       "   'toolz': '0.11.1',\n",
       "   'numpy': '1.20.2',\n",
       "   'lz4': None,\n",
       "   'blosc': None}}}"
      ]
     },
     "execution_count": 14,
     "metadata": {},
     "output_type": "execute_result"
    }
   ],
   "source": [
    "client.get_versions(check=True)"
   ]
  },
  {
   "cell_type": "markdown",
   "id": "9dfea7be-fa47-4e20-9c9f-2d1c327aaf9e",
   "metadata": {},
   "source": [
    "### Get the total number of posts"
   ]
  },
  {
   "cell_type": "code",
   "execution_count": 15,
   "id": "4ab49e4f-1f6c-46ea-b5cc-0b081a0b6805",
   "metadata": {},
   "outputs": [
    {
     "name": "stdout",
     "output_type": "stream",
     "text": [
      "54741615\n"
     ]
    }
   ],
   "source": [
    "init_posts_len = ddf.index.shape[0].compute() # compute length of posts_df\n",
    "print('Total number of posts {}'.format(init_posts_len))"
   ]
  },
  {
   "cell_type": "markdown",
   "id": "5b7bac5d-c703-4e54-9223-b1629edb7666",
   "metadata": {},
   "source": [
    "### Get length of each partition and sum them up\n",
    "- faster way to compute length"
   ]
  },
  {
   "cell_type": "code",
   "execution_count": 16,
   "id": "d36f720a-36e7-4c75-876c-60bb33732168",
   "metadata": {},
   "outputs": [],
   "source": [
    "#returns a Series of the length of each partition\n",
    "#len_of_ppt_ser=ddf.map_partitions(len).compute()"
   ]
  },
  {
   "cell_type": "markdown",
   "id": "40ffddfc-7e33-4636-aded-04a214ca2c1d",
   "metadata": {},
   "source": [
    "### Sum up each partition"
   ]
  },
  {
   "cell_type": "code",
   "execution_count": 17,
   "id": "4bbfb708-1e3f-48a2-81fc-ceb45f91facf",
   "metadata": {},
   "outputs": [],
   "source": [
    "#sum up the Series of length\n",
    "#init_posts_len = pd.Series(len_of_ppt_ser, dtype=\"int64\").sum()"
   ]
  },
  {
   "cell_type": "markdown",
   "id": "e53038b4-3def-435e-8352-8467a679eb52",
   "metadata": {},
   "source": [
    "## Drop the rows with NaN in the Tag column "
   ]
  },
  {
   "cell_type": "code",
   "execution_count": 18,
   "id": "a6c27d7d-b652-48fc-98f7-70274dc9191a",
   "metadata": {},
   "outputs": [],
   "source": [
    "ddf = ddf.dropna(subset=['Tags']) # drop the nan in 'Tags' column"
   ]
  },
  {
   "cell_type": "markdown",
   "id": "b5114469-6dff-4da6-b956-92e8aa273389",
   "metadata": {},
   "source": [
    "## Get the total number of posts with Tags"
   ]
  },
  {
   "cell_type": "code",
   "execution_count": 19,
   "id": "1c6260cd-5150-4d40-a430-5445161fcaa2",
   "metadata": {},
   "outputs": [
    {
     "name": "stdout",
     "output_type": "stream",
     "text": [
      "21978328\n"
     ]
    }
   ],
   "source": [
    "posts_drp_nan_len = ddf.index.shape[0].compute() # compute length of posts_df\n",
    "print('Total number of posts with Tags {}'.format(posts_drp_nan_len))"
   ]
  },
  {
   "cell_type": "markdown",
   "id": "446c983d-5429-477f-879d-bb3b12b22beb",
   "metadata": {},
   "source": [
    "## Get the total number of posts droped"
   ]
  },
  {
   "cell_type": "code",
   "execution_count": 20,
   "id": "49a17cc9-d257-4f17-8cc2-dcfd5b45a2cb",
   "metadata": {},
   "outputs": [
    {
     "name": "stdout",
     "output_type": "stream",
     "text": [
      "32763287\n"
     ]
    }
   ],
   "source": [
    "print(init_posts_len - posts_drp_nan_len)"
   ]
  },
  {
   "cell_type": "markdown",
   "id": "a674d1b4-d97b-46dd-9c89-87eb43fceff9",
   "metadata": {},
   "source": [
    "## Get the posts with java tags"
   ]
  },
  {
   "cell_type": "code",
   "execution_count": 21,
   "id": "67b56d22-c370-427c-a515-c05e3acab1e6",
   "metadata": {},
   "outputs": [],
   "source": [
    "ddf = ddf[ddf['Tags'].str.contains('<java>', case=False, regex=True)]"
   ]
  },
  {
   "cell_type": "markdown",
   "id": "884e0ca9-9bb9-4082-9f01-9d2511dfd2b0",
   "metadata": {},
   "source": [
    "### Get the total number of the posts with the java tags"
   ]
  },
  {
   "cell_type": "code",
   "execution_count": 22,
   "id": "8a44113e-9d04-4c19-84a4-f17223e9e381",
   "metadata": {},
   "outputs": [
    {
     "name": "stdout",
     "output_type": "stream",
     "text": [
      "1813938\n"
     ]
    }
   ],
   "source": [
    "posts_len_java_tags = ddf.index.shape[0].compute()\n",
    "print('Total number of java posts {}'.format(posts_len_java_tags))"
   ]
  },
  {
   "cell_type": "markdown",
   "id": "f9245ad2-8c8c-43bb-84ae-c3f42f50d3d0",
   "metadata": {},
   "source": [
    "## Make a folder in that directory"
   ]
  },
  {
   "cell_type": "code",
   "execution_count": 23,
   "id": "da408618-55df-4131-a7b1-675353e1c295",
   "metadata": {},
   "outputs": [],
   "source": [
    "## Make a folder in that directory\n",
    "folder = '{}/javaposts_csv'.format(common_path)\n",
    "# output: path/to/Post.csv => path/to\n",
    "mkdir_cmd = 'mkdir {}'.format(folder)\n",
    "cmd = sp.run(\n",
    "    mkdir_cmd, # command\n",
    "    capture_output=True,\n",
    "    text=True,\n",
    "    shell=True\n",
    ")"
   ]
  },
  {
   "cell_type": "code",
   "execution_count": 24,
   "id": "cb28f728-35ea-4731-a37e-63ebe3f7863d",
   "metadata": {},
   "outputs": [
    {
     "name": "stdout",
     "output_type": "stream",
     "text": [
      "../SO_data_dump/javaposts_csv\n"
     ]
    }
   ],
   "source": [
    "print(folder)"
   ]
  },
  {
   "cell_type": "markdown",
   "id": "b88f8682-2027-4eab-bec1-320b2b06e243",
   "metadata": {},
   "source": [
    "## Save files in that directory"
   ]
  },
  {
   "cell_type": "code",
   "execution_count": 25,
   "id": "36a7c3cb-1a7e-48b2-be7f-77f396940efe",
   "metadata": {},
   "outputs": [
    {
     "name": "stderr",
     "output_type": "stream",
     "text": [
      "distributed.scheduler - ERROR - Couldn't gather keys {'list-6b65ee73-2ea0-44d3-acb7-393ae330de21': ['tcp://10.65.4.92:39166']} state: ['waiting'] workers: ['tcp://10.65.4.92:39166']\n",
      "NoneType: None\n",
      "distributed.scheduler - ERROR - Workers don't have promised key: ['tcp://10.65.4.92:39166'], list-6b65ee73-2ea0-44d3-acb7-393ae330de21\n",
      "NoneType: None\n"
     ]
    }
   ],
   "source": [
    "## Save files in that directory\n",
    "file = 'JavaPosts'\n",
    "_ = ddf.to_csv('{}/{}*.csv'.format(folder, file), sep=',', index=False)"
   ]
  },
  {
   "cell_type": "code",
   "execution_count": null,
   "id": "cd43f007-d9fd-4954-b135-ede77b91d5c9",
   "metadata": {},
   "outputs": [],
   "source": []
  },
  {
   "cell_type": "code",
   "execution_count": null,
   "id": "8ad3d98d-d5ff-44d3-8a5e-55f6d5683f6d",
   "metadata": {},
   "outputs": [],
   "source": []
  }
 ],
 "metadata": {
  "kernelspec": {
   "display_name": "Python 3.9.5 (gimkl-2020a)",
   "language": "python",
   "name": "python395-gimkl-2020a"
  },
  "language_info": {
   "codemirror_mode": {
    "name": "ipython",
    "version": 3
   },
   "file_extension": ".py",
   "mimetype": "text/x-python",
   "name": "python",
   "nbconvert_exporter": "python",
   "pygments_lexer": "ipython3",
   "version": "3.9.5"
  }
 },
 "nbformat": 4,
 "nbformat_minor": 5
}
